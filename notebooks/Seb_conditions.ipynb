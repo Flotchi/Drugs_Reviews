{
 "cells": [
  {
   "cell_type": "code",
   "execution_count": 1,
   "id": "a0b7303c",
   "metadata": {
    "ExecuteTime": {
     "end_time": "2024-12-02T16:06:57.115677Z",
     "start_time": "2024-12-02T16:06:55.839248Z"
    }
   },
   "outputs": [
    {
     "name": "stderr",
     "output_type": "stream",
     "text": [
      "[nltk_data] Downloading package stopwords to\n",
      "[nltk_data]     /home/speroulakis/nltk_data...\n",
      "[nltk_data]   Package stopwords is already up-to-date!\n",
      "[nltk_data] Downloading package punkt to\n",
      "[nltk_data]     /home/speroulakis/nltk_data...\n",
      "[nltk_data]   Package punkt is already up-to-date!\n",
      "[nltk_data] Downloading package wordnet to\n",
      "[nltk_data]     /home/speroulakis/nltk_data...\n",
      "[nltk_data]   Package wordnet is already up-to-date!\n",
      "[nltk_data] Downloading package omw-1.4 to\n",
      "[nltk_data]     /home/speroulakis/nltk_data...\n",
      "[nltk_data]   Package omw-1.4 is already up-to-date!\n",
      "[nltk_data] Downloading package punkt_tab to\n",
      "[nltk_data]     /home/speroulakis/nltk_data...\n",
      "[nltk_data]   Package punkt_tab is already up-to-date!\n"
     ]
    }
   ],
   "source": [
    "import pandas as pd\n",
    "import numpy as np\n",
    "import logic.processing as lp"
   ]
  },
  {
   "cell_type": "code",
   "execution_count": 2,
   "id": "7f3b7302",
   "metadata": {
    "ExecuteTime": {
     "end_time": "2024-12-02T16:06:57.871213Z",
     "start_time": "2024-12-02T16:06:57.120566Z"
    }
   },
   "outputs": [],
   "source": [
    "df = lp.load_data('drugsComTrain_raw.csv')"
   ]
  },
  {
   "cell_type": "code",
   "execution_count": 3,
   "id": "ebb2f1c7",
   "metadata": {
    "ExecuteTime": {
     "end_time": "2024-12-02T16:06:57.902752Z",
     "start_time": "2024-12-02T16:06:57.876427Z"
    }
   },
   "outputs": [
    {
     "data": {
      "text/html": [
       "<div>\n",
       "<style scoped>\n",
       "    .dataframe tbody tr th:only-of-type {\n",
       "        vertical-align: middle;\n",
       "    }\n",
       "\n",
       "    .dataframe tbody tr th {\n",
       "        vertical-align: top;\n",
       "    }\n",
       "\n",
       "    .dataframe thead th {\n",
       "        text-align: right;\n",
       "    }\n",
       "</style>\n",
       "<table border=\"1\" class=\"dataframe\">\n",
       "  <thead>\n",
       "    <tr style=\"text-align: right;\">\n",
       "      <th></th>\n",
       "      <th>uniqueID</th>\n",
       "      <th>drugName</th>\n",
       "      <th>condition</th>\n",
       "      <th>review</th>\n",
       "      <th>rating</th>\n",
       "      <th>date</th>\n",
       "      <th>usefulCount</th>\n",
       "    </tr>\n",
       "  </thead>\n",
       "  <tbody>\n",
       "    <tr>\n",
       "      <th>0</th>\n",
       "      <td>206461</td>\n",
       "      <td>Valsartan</td>\n",
       "      <td>Left Ventricular Dysfunction</td>\n",
       "      <td>\"It has no side effect, I take it in combinati...</td>\n",
       "      <td>9</td>\n",
       "      <td>20-May-12</td>\n",
       "      <td>27</td>\n",
       "    </tr>\n",
       "    <tr>\n",
       "      <th>1</th>\n",
       "      <td>95260</td>\n",
       "      <td>Guanfacine</td>\n",
       "      <td>ADHD</td>\n",
       "      <td>\"My son is halfway through his fourth week of ...</td>\n",
       "      <td>8</td>\n",
       "      <td>27-Apr-10</td>\n",
       "      <td>192</td>\n",
       "    </tr>\n",
       "    <tr>\n",
       "      <th>2</th>\n",
       "      <td>92703</td>\n",
       "      <td>Lybrel</td>\n",
       "      <td>Birth Control</td>\n",
       "      <td>\"I used to take another oral contraceptive, wh...</td>\n",
       "      <td>5</td>\n",
       "      <td>14-Dec-09</td>\n",
       "      <td>17</td>\n",
       "    </tr>\n",
       "    <tr>\n",
       "      <th>3</th>\n",
       "      <td>138000</td>\n",
       "      <td>Ortho Evra</td>\n",
       "      <td>Birth Control</td>\n",
       "      <td>\"This is my first time using any form of birth...</td>\n",
       "      <td>8</td>\n",
       "      <td>3-Nov-15</td>\n",
       "      <td>10</td>\n",
       "    </tr>\n",
       "    <tr>\n",
       "      <th>4</th>\n",
       "      <td>35696</td>\n",
       "      <td>Buprenorphine / naloxone</td>\n",
       "      <td>Opiate Dependence</td>\n",
       "      <td>\"Suboxone has completely turned my life around...</td>\n",
       "      <td>9</td>\n",
       "      <td>27-Nov-16</td>\n",
       "      <td>37</td>\n",
       "    </tr>\n",
       "    <tr>\n",
       "      <th>...</th>\n",
       "      <td>...</td>\n",
       "      <td>...</td>\n",
       "      <td>...</td>\n",
       "      <td>...</td>\n",
       "      <td>...</td>\n",
       "      <td>...</td>\n",
       "      <td>...</td>\n",
       "    </tr>\n",
       "    <tr>\n",
       "      <th>161292</th>\n",
       "      <td>191035</td>\n",
       "      <td>Campral</td>\n",
       "      <td>Alcohol Dependence</td>\n",
       "      <td>\"I wrote my first report in Mid-October of 201...</td>\n",
       "      <td>10</td>\n",
       "      <td>31-May-15</td>\n",
       "      <td>125</td>\n",
       "    </tr>\n",
       "    <tr>\n",
       "      <th>161293</th>\n",
       "      <td>127085</td>\n",
       "      <td>Metoclopramide</td>\n",
       "      <td>Nausea/Vomiting</td>\n",
       "      <td>\"I was given this in IV before surgey. I immed...</td>\n",
       "      <td>1</td>\n",
       "      <td>1-Nov-11</td>\n",
       "      <td>34</td>\n",
       "    </tr>\n",
       "    <tr>\n",
       "      <th>161294</th>\n",
       "      <td>187382</td>\n",
       "      <td>Orencia</td>\n",
       "      <td>Rheumatoid Arthritis</td>\n",
       "      <td>\"Limited improvement after 4 months, developed...</td>\n",
       "      <td>2</td>\n",
       "      <td>15-Mar-14</td>\n",
       "      <td>35</td>\n",
       "    </tr>\n",
       "    <tr>\n",
       "      <th>161295</th>\n",
       "      <td>47128</td>\n",
       "      <td>Thyroid desiccated</td>\n",
       "      <td>Underactive Thyroid</td>\n",
       "      <td>\"I&amp;#039;ve been on thyroid medication 49 years...</td>\n",
       "      <td>10</td>\n",
       "      <td>19-Sep-15</td>\n",
       "      <td>79</td>\n",
       "    </tr>\n",
       "    <tr>\n",
       "      <th>161296</th>\n",
       "      <td>215220</td>\n",
       "      <td>Lubiprostone</td>\n",
       "      <td>Constipation, Chronic</td>\n",
       "      <td>\"I&amp;#039;ve had chronic constipation all my adu...</td>\n",
       "      <td>9</td>\n",
       "      <td>13-Dec-14</td>\n",
       "      <td>116</td>\n",
       "    </tr>\n",
       "  </tbody>\n",
       "</table>\n",
       "<p>161297 rows × 7 columns</p>\n",
       "</div>"
      ],
      "text/plain": [
       "        uniqueID                  drugName                     condition  \\\n",
       "0         206461                 Valsartan  Left Ventricular Dysfunction   \n",
       "1          95260                Guanfacine                          ADHD   \n",
       "2          92703                    Lybrel                 Birth Control   \n",
       "3         138000                Ortho Evra                 Birth Control   \n",
       "4          35696  Buprenorphine / naloxone             Opiate Dependence   \n",
       "...          ...                       ...                           ...   \n",
       "161292    191035                   Campral            Alcohol Dependence   \n",
       "161293    127085            Metoclopramide               Nausea/Vomiting   \n",
       "161294    187382                   Orencia          Rheumatoid Arthritis   \n",
       "161295     47128        Thyroid desiccated           Underactive Thyroid   \n",
       "161296    215220              Lubiprostone         Constipation, Chronic   \n",
       "\n",
       "                                                   review  rating       date  \\\n",
       "0       \"It has no side effect, I take it in combinati...       9  20-May-12   \n",
       "1       \"My son is halfway through his fourth week of ...       8  27-Apr-10   \n",
       "2       \"I used to take another oral contraceptive, wh...       5  14-Dec-09   \n",
       "3       \"This is my first time using any form of birth...       8   3-Nov-15   \n",
       "4       \"Suboxone has completely turned my life around...       9  27-Nov-16   \n",
       "...                                                   ...     ...        ...   \n",
       "161292  \"I wrote my first report in Mid-October of 201...      10  31-May-15   \n",
       "161293  \"I was given this in IV before surgey. I immed...       1   1-Nov-11   \n",
       "161294  \"Limited improvement after 4 months, developed...       2  15-Mar-14   \n",
       "161295  \"I&#039;ve been on thyroid medication 49 years...      10  19-Sep-15   \n",
       "161296  \"I&#039;ve had chronic constipation all my adu...       9  13-Dec-14   \n",
       "\n",
       "        usefulCount  \n",
       "0                27  \n",
       "1               192  \n",
       "2                17  \n",
       "3                10  \n",
       "4                37  \n",
       "...             ...  \n",
       "161292          125  \n",
       "161293           34  \n",
       "161294           35  \n",
       "161295           79  \n",
       "161296          116  \n",
       "\n",
       "[161297 rows x 7 columns]"
      ]
     },
     "execution_count": 3,
     "metadata": {},
     "output_type": "execute_result"
    }
   ],
   "source": [
    "df"
   ]
  },
  {
   "cell_type": "code",
   "execution_count": 4,
   "id": "127dfd45",
   "metadata": {
    "ExecuteTime": {
     "end_time": "2024-12-02T16:06:57.918339Z",
     "start_time": "2024-12-02T16:06:57.907165Z"
    }
   },
   "outputs": [],
   "source": [
    "def data_filter(df,uselfCount=0,min_length=30):\n",
    "\n",
    "    df = df.dropna()\n",
    "#     condition_distribution = df['condition'].value_counts()\n",
    "#     best_conditions = condition_distribution.head(top_conditions)\n",
    "#     top_conditions_list = best_conditions.index.tolist()\n",
    "#     df = df[df['condition'].isin(top_conditions_list)]\n",
    "    df = df[df['rating'].isin([1,2,3,8,9,10])]\n",
    "    df['sentiment'] = 0\n",
    "    df['sentiment'] = (df['rating'].isin([8,9,10])).astype(int)\n",
    "    df = df[df['usefulCount']>uselfCount]\n",
    "    df['review_length'] = df['review'].apply(lambda x: len(str(x).split()))\n",
    "    df = df[df.review_length>=min_length]\n",
    "\n",
    "    return df\n"
   ]
  },
  {
   "cell_type": "code",
   "execution_count": 5,
   "id": "7727e6e8",
   "metadata": {
    "ExecuteTime": {
     "end_time": "2024-12-02T16:06:58.619769Z",
     "start_time": "2024-12-02T16:06:57.922471Z"
    }
   },
   "outputs": [],
   "source": [
    "df1 = data_filter(df)"
   ]
  },
  {
   "cell_type": "code",
   "execution_count": 6,
   "id": "2de103dc",
   "metadata": {
    "ExecuteTime": {
     "end_time": "2024-12-02T16:06:58.646551Z",
     "start_time": "2024-12-02T16:06:58.624171Z"
    },
    "scrolled": true
   },
   "outputs": [
    {
     "data": {
      "text/html": [
       "<div>\n",
       "<style scoped>\n",
       "    .dataframe tbody tr th:only-of-type {\n",
       "        vertical-align: middle;\n",
       "    }\n",
       "\n",
       "    .dataframe tbody tr th {\n",
       "        vertical-align: top;\n",
       "    }\n",
       "\n",
       "    .dataframe thead th {\n",
       "        text-align: right;\n",
       "    }\n",
       "</style>\n",
       "<table border=\"1\" class=\"dataframe\">\n",
       "  <thead>\n",
       "    <tr style=\"text-align: right;\">\n",
       "      <th></th>\n",
       "      <th>uniqueID</th>\n",
       "      <th>drugName</th>\n",
       "      <th>condition</th>\n",
       "      <th>review</th>\n",
       "      <th>rating</th>\n",
       "      <th>date</th>\n",
       "      <th>usefulCount</th>\n",
       "      <th>sentiment</th>\n",
       "      <th>review_length</th>\n",
       "    </tr>\n",
       "  </thead>\n",
       "  <tbody>\n",
       "    <tr>\n",
       "      <th>1</th>\n",
       "      <td>95260</td>\n",
       "      <td>Guanfacine</td>\n",
       "      <td>ADHD</td>\n",
       "      <td>\"My son is halfway through his fourth week of ...</td>\n",
       "      <td>8</td>\n",
       "      <td>27-Apr-10</td>\n",
       "      <td>192</td>\n",
       "      <td>1</td>\n",
       "      <td>141</td>\n",
       "    </tr>\n",
       "    <tr>\n",
       "      <th>3</th>\n",
       "      <td>138000</td>\n",
       "      <td>Ortho Evra</td>\n",
       "      <td>Birth Control</td>\n",
       "      <td>\"This is my first time using any form of birth...</td>\n",
       "      <td>8</td>\n",
       "      <td>3-Nov-15</td>\n",
       "      <td>10</td>\n",
       "      <td>1</td>\n",
       "      <td>89</td>\n",
       "    </tr>\n",
       "    <tr>\n",
       "      <th>4</th>\n",
       "      <td>35696</td>\n",
       "      <td>Buprenorphine / naloxone</td>\n",
       "      <td>Opiate Dependence</td>\n",
       "      <td>\"Suboxone has completely turned my life around...</td>\n",
       "      <td>9</td>\n",
       "      <td>27-Nov-16</td>\n",
       "      <td>37</td>\n",
       "      <td>1</td>\n",
       "      <td>124</td>\n",
       "    </tr>\n",
       "    <tr>\n",
       "      <th>5</th>\n",
       "      <td>155963</td>\n",
       "      <td>Cialis</td>\n",
       "      <td>Benign Prostatic Hyperplasia</td>\n",
       "      <td>\"2nd day on 5mg started to work with rock hard...</td>\n",
       "      <td>2</td>\n",
       "      <td>28-Nov-15</td>\n",
       "      <td>43</td>\n",
       "      <td>0</td>\n",
       "      <td>68</td>\n",
       "    </tr>\n",
       "    <tr>\n",
       "      <th>6</th>\n",
       "      <td>165907</td>\n",
       "      <td>Levonorgestrel</td>\n",
       "      <td>Emergency Contraception</td>\n",
       "      <td>\"He pulled out, but he cummed a bit in me. I t...</td>\n",
       "      <td>1</td>\n",
       "      <td>7-Mar-17</td>\n",
       "      <td>5</td>\n",
       "      <td>0</td>\n",
       "      <td>30</td>\n",
       "    </tr>\n",
       "    <tr>\n",
       "      <th>...</th>\n",
       "      <td>...</td>\n",
       "      <td>...</td>\n",
       "      <td>...</td>\n",
       "      <td>...</td>\n",
       "      <td>...</td>\n",
       "      <td>...</td>\n",
       "      <td>...</td>\n",
       "      <td>...</td>\n",
       "      <td>...</td>\n",
       "    </tr>\n",
       "    <tr>\n",
       "      <th>161288</th>\n",
       "      <td>45410</td>\n",
       "      <td>Fluoxetine</td>\n",
       "      <td>Obsessive Compulsive Disorde</td>\n",
       "      <td>\"I have been off Prozac for about 4 weeks now....</td>\n",
       "      <td>8</td>\n",
       "      <td>21-Jan-15</td>\n",
       "      <td>22</td>\n",
       "      <td>1</td>\n",
       "      <td>133</td>\n",
       "    </tr>\n",
       "    <tr>\n",
       "      <th>161292</th>\n",
       "      <td>191035</td>\n",
       "      <td>Campral</td>\n",
       "      <td>Alcohol Dependence</td>\n",
       "      <td>\"I wrote my first report in Mid-October of 201...</td>\n",
       "      <td>10</td>\n",
       "      <td>31-May-15</td>\n",
       "      <td>125</td>\n",
       "      <td>1</td>\n",
       "      <td>127</td>\n",
       "    </tr>\n",
       "    <tr>\n",
       "      <th>161293</th>\n",
       "      <td>127085</td>\n",
       "      <td>Metoclopramide</td>\n",
       "      <td>Nausea/Vomiting</td>\n",
       "      <td>\"I was given this in IV before surgey. I immed...</td>\n",
       "      <td>1</td>\n",
       "      <td>1-Nov-11</td>\n",
       "      <td>34</td>\n",
       "      <td>0</td>\n",
       "      <td>50</td>\n",
       "    </tr>\n",
       "    <tr>\n",
       "      <th>161295</th>\n",
       "      <td>47128</td>\n",
       "      <td>Thyroid desiccated</td>\n",
       "      <td>Underactive Thyroid</td>\n",
       "      <td>\"I&amp;#039;ve been on thyroid medication 49 years...</td>\n",
       "      <td>10</td>\n",
       "      <td>19-Sep-15</td>\n",
       "      <td>79</td>\n",
       "      <td>1</td>\n",
       "      <td>136</td>\n",
       "    </tr>\n",
       "    <tr>\n",
       "      <th>161296</th>\n",
       "      <td>215220</td>\n",
       "      <td>Lubiprostone</td>\n",
       "      <td>Constipation, Chronic</td>\n",
       "      <td>\"I&amp;#039;ve had chronic constipation all my adu...</td>\n",
       "      <td>9</td>\n",
       "      <td>13-Dec-14</td>\n",
       "      <td>116</td>\n",
       "      <td>1</td>\n",
       "      <td>63</td>\n",
       "    </tr>\n",
       "  </tbody>\n",
       "</table>\n",
       "<p>110436 rows × 9 columns</p>\n",
       "</div>"
      ],
      "text/plain": [
       "        uniqueID                  drugName                     condition  \\\n",
       "1          95260                Guanfacine                          ADHD   \n",
       "3         138000                Ortho Evra                 Birth Control   \n",
       "4          35696  Buprenorphine / naloxone             Opiate Dependence   \n",
       "5         155963                    Cialis  Benign Prostatic Hyperplasia   \n",
       "6         165907            Levonorgestrel       Emergency Contraception   \n",
       "...          ...                       ...                           ...   \n",
       "161288     45410                Fluoxetine  Obsessive Compulsive Disorde   \n",
       "161292    191035                   Campral            Alcohol Dependence   \n",
       "161293    127085            Metoclopramide               Nausea/Vomiting   \n",
       "161295     47128        Thyroid desiccated           Underactive Thyroid   \n",
       "161296    215220              Lubiprostone         Constipation, Chronic   \n",
       "\n",
       "                                                   review  rating       date  \\\n",
       "1       \"My son is halfway through his fourth week of ...       8  27-Apr-10   \n",
       "3       \"This is my first time using any form of birth...       8   3-Nov-15   \n",
       "4       \"Suboxone has completely turned my life around...       9  27-Nov-16   \n",
       "5       \"2nd day on 5mg started to work with rock hard...       2  28-Nov-15   \n",
       "6       \"He pulled out, but he cummed a bit in me. I t...       1   7-Mar-17   \n",
       "...                                                   ...     ...        ...   \n",
       "161288  \"I have been off Prozac for about 4 weeks now....       8  21-Jan-15   \n",
       "161292  \"I wrote my first report in Mid-October of 201...      10  31-May-15   \n",
       "161293  \"I was given this in IV before surgey. I immed...       1   1-Nov-11   \n",
       "161295  \"I&#039;ve been on thyroid medication 49 years...      10  19-Sep-15   \n",
       "161296  \"I&#039;ve had chronic constipation all my adu...       9  13-Dec-14   \n",
       "\n",
       "        usefulCount  sentiment  review_length  \n",
       "1               192          1            141  \n",
       "3                10          1             89  \n",
       "4                37          1            124  \n",
       "5                43          0             68  \n",
       "6                 5          0             30  \n",
       "...             ...        ...            ...  \n",
       "161288           22          1            133  \n",
       "161292          125          1            127  \n",
       "161293           34          0             50  \n",
       "161295           79          1            136  \n",
       "161296          116          1             63  \n",
       "\n",
       "[110436 rows x 9 columns]"
      ]
     },
     "execution_count": 6,
     "metadata": {},
     "output_type": "execute_result"
    }
   ],
   "source": [
    "df1"
   ]
  },
  {
   "cell_type": "code",
   "execution_count": 7,
   "id": "a2daed6a",
   "metadata": {
    "ExecuteTime": {
     "end_time": "2024-12-02T16:09:22.405227Z",
     "start_time": "2024-12-02T16:06:58.651765Z"
    }
   },
   "outputs": [],
   "source": [
    "df2 = lp.preproc(df1)"
   ]
  },
  {
   "cell_type": "code",
   "execution_count": 8,
   "id": "734ba66f",
   "metadata": {
    "ExecuteTime": {
     "end_time": "2024-12-02T16:09:22.427444Z",
     "start_time": "2024-12-02T16:09:22.408317Z"
    },
    "scrolled": true
   },
   "outputs": [
    {
     "data": {
      "text/html": [
       "<div>\n",
       "<style scoped>\n",
       "    .dataframe tbody tr th:only-of-type {\n",
       "        vertical-align: middle;\n",
       "    }\n",
       "\n",
       "    .dataframe tbody tr th {\n",
       "        vertical-align: top;\n",
       "    }\n",
       "\n",
       "    .dataframe thead th {\n",
       "        text-align: right;\n",
       "    }\n",
       "</style>\n",
       "<table border=\"1\" class=\"dataframe\">\n",
       "  <thead>\n",
       "    <tr style=\"text-align: right;\">\n",
       "      <th></th>\n",
       "      <th>uniqueID</th>\n",
       "      <th>drugName</th>\n",
       "      <th>condition</th>\n",
       "      <th>review</th>\n",
       "      <th>rating</th>\n",
       "      <th>date</th>\n",
       "      <th>usefulCount</th>\n",
       "      <th>sentiment</th>\n",
       "      <th>review_length</th>\n",
       "      <th>clean</th>\n",
       "    </tr>\n",
       "  </thead>\n",
       "  <tbody>\n",
       "    <tr>\n",
       "      <th>1</th>\n",
       "      <td>95260</td>\n",
       "      <td>Guanfacine</td>\n",
       "      <td>ADHD</td>\n",
       "      <td>\"My son is halfway through his fourth week of ...</td>\n",
       "      <td>8</td>\n",
       "      <td>27-Apr-10</td>\n",
       "      <td>192</td>\n",
       "      <td>1</td>\n",
       "      <td>141</td>\n",
       "      <td>my son be halfway through his fourth week of i...</td>\n",
       "    </tr>\n",
       "    <tr>\n",
       "      <th>3</th>\n",
       "      <td>138000</td>\n",
       "      <td>Ortho Evra</td>\n",
       "      <td>Birth Control</td>\n",
       "      <td>\"This is my first time using any form of birth...</td>\n",
       "      <td>8</td>\n",
       "      <td>3-Nov-15</td>\n",
       "      <td>10</td>\n",
       "      <td>1</td>\n",
       "      <td>89</td>\n",
       "      <td>this be my first time use any form of birth co...</td>\n",
       "    </tr>\n",
       "    <tr>\n",
       "      <th>4</th>\n",
       "      <td>35696</td>\n",
       "      <td>Buprenorphine / naloxone</td>\n",
       "      <td>Opiate Dependence</td>\n",
       "      <td>\"Suboxone has completely turned my life around...</td>\n",
       "      <td>9</td>\n",
       "      <td>27-Nov-16</td>\n",
       "      <td>37</td>\n",
       "      <td>1</td>\n",
       "      <td>124</td>\n",
       "      <td>suboxone have completely turn my life around i...</td>\n",
       "    </tr>\n",
       "    <tr>\n",
       "      <th>5</th>\n",
       "      <td>155963</td>\n",
       "      <td>Cialis</td>\n",
       "      <td>Benign Prostatic Hyperplasia</td>\n",
       "      <td>\"2nd day on 5mg started to work with rock hard...</td>\n",
       "      <td>2</td>\n",
       "      <td>28-Nov-15</td>\n",
       "      <td>43</td>\n",
       "      <td>0</td>\n",
       "      <td>68</td>\n",
       "      <td>nd day on mg start to work with rock hard erec...</td>\n",
       "    </tr>\n",
       "    <tr>\n",
       "      <th>6</th>\n",
       "      <td>165907</td>\n",
       "      <td>Levonorgestrel</td>\n",
       "      <td>Emergency Contraception</td>\n",
       "      <td>\"He pulled out, but he cummed a bit in me. I t...</td>\n",
       "      <td>1</td>\n",
       "      <td>7-Mar-17</td>\n",
       "      <td>5</td>\n",
       "      <td>0</td>\n",
       "      <td>30</td>\n",
       "      <td>he pull out but he cummed a bite in me i take ...</td>\n",
       "    </tr>\n",
       "    <tr>\n",
       "      <th>...</th>\n",
       "      <td>...</td>\n",
       "      <td>...</td>\n",
       "      <td>...</td>\n",
       "      <td>...</td>\n",
       "      <td>...</td>\n",
       "      <td>...</td>\n",
       "      <td>...</td>\n",
       "      <td>...</td>\n",
       "      <td>...</td>\n",
       "      <td>...</td>\n",
       "    </tr>\n",
       "    <tr>\n",
       "      <th>161288</th>\n",
       "      <td>45410</td>\n",
       "      <td>Fluoxetine</td>\n",
       "      <td>Obsessive Compulsive Disorde</td>\n",
       "      <td>\"I have been off Prozac for about 4 weeks now....</td>\n",
       "      <td>8</td>\n",
       "      <td>21-Jan-15</td>\n",
       "      <td>22</td>\n",
       "      <td>1</td>\n",
       "      <td>133</td>\n",
       "      <td>i have be off prozac for about week nowafter s...</td>\n",
       "    </tr>\n",
       "    <tr>\n",
       "      <th>161292</th>\n",
       "      <td>191035</td>\n",
       "      <td>Campral</td>\n",
       "      <td>Alcohol Dependence</td>\n",
       "      <td>\"I wrote my first report in Mid-October of 201...</td>\n",
       "      <td>10</td>\n",
       "      <td>31-May-15</td>\n",
       "      <td>125</td>\n",
       "      <td>1</td>\n",
       "      <td>127</td>\n",
       "      <td>i write my first report in midoctober of i hav...</td>\n",
       "    </tr>\n",
       "    <tr>\n",
       "      <th>161293</th>\n",
       "      <td>127085</td>\n",
       "      <td>Metoclopramide</td>\n",
       "      <td>Nausea/Vomiting</td>\n",
       "      <td>\"I was given this in IV before surgey. I immed...</td>\n",
       "      <td>1</td>\n",
       "      <td>1-Nov-11</td>\n",
       "      <td>34</td>\n",
       "      <td>0</td>\n",
       "      <td>50</td>\n",
       "      <td>i be give this in iv before surgey i immediate...</td>\n",
       "    </tr>\n",
       "    <tr>\n",
       "      <th>161295</th>\n",
       "      <td>47128</td>\n",
       "      <td>Thyroid desiccated</td>\n",
       "      <td>Underactive Thyroid</td>\n",
       "      <td>\"I&amp;#039;ve been on thyroid medication 49 years...</td>\n",
       "      <td>10</td>\n",
       "      <td>19-Sep-15</td>\n",
       "      <td>79</td>\n",
       "      <td>1</td>\n",
       "      <td>136</td>\n",
       "      <td>ive be on thyroid medication year i spend my f...</td>\n",
       "    </tr>\n",
       "    <tr>\n",
       "      <th>161296</th>\n",
       "      <td>215220</td>\n",
       "      <td>Lubiprostone</td>\n",
       "      <td>Constipation, Chronic</td>\n",
       "      <td>\"I&amp;#039;ve had chronic constipation all my adu...</td>\n",
       "      <td>9</td>\n",
       "      <td>13-Dec-14</td>\n",
       "      <td>116</td>\n",
       "      <td>1</td>\n",
       "      <td>63</td>\n",
       "      <td>ive have chronic constipation all my adult lif...</td>\n",
       "    </tr>\n",
       "  </tbody>\n",
       "</table>\n",
       "<p>110436 rows × 10 columns</p>\n",
       "</div>"
      ],
      "text/plain": [
       "        uniqueID                  drugName                     condition  \\\n",
       "1          95260                Guanfacine                          ADHD   \n",
       "3         138000                Ortho Evra                 Birth Control   \n",
       "4          35696  Buprenorphine / naloxone             Opiate Dependence   \n",
       "5         155963                    Cialis  Benign Prostatic Hyperplasia   \n",
       "6         165907            Levonorgestrel       Emergency Contraception   \n",
       "...          ...                       ...                           ...   \n",
       "161288     45410                Fluoxetine  Obsessive Compulsive Disorde   \n",
       "161292    191035                   Campral            Alcohol Dependence   \n",
       "161293    127085            Metoclopramide               Nausea/Vomiting   \n",
       "161295     47128        Thyroid desiccated           Underactive Thyroid   \n",
       "161296    215220              Lubiprostone         Constipation, Chronic   \n",
       "\n",
       "                                                   review  rating       date  \\\n",
       "1       \"My son is halfway through his fourth week of ...       8  27-Apr-10   \n",
       "3       \"This is my first time using any form of birth...       8   3-Nov-15   \n",
       "4       \"Suboxone has completely turned my life around...       9  27-Nov-16   \n",
       "5       \"2nd day on 5mg started to work with rock hard...       2  28-Nov-15   \n",
       "6       \"He pulled out, but he cummed a bit in me. I t...       1   7-Mar-17   \n",
       "...                                                   ...     ...        ...   \n",
       "161288  \"I have been off Prozac for about 4 weeks now....       8  21-Jan-15   \n",
       "161292  \"I wrote my first report in Mid-October of 201...      10  31-May-15   \n",
       "161293  \"I was given this in IV before surgey. I immed...       1   1-Nov-11   \n",
       "161295  \"I&#039;ve been on thyroid medication 49 years...      10  19-Sep-15   \n",
       "161296  \"I&#039;ve had chronic constipation all my adu...       9  13-Dec-14   \n",
       "\n",
       "        usefulCount  sentiment  review_length  \\\n",
       "1               192          1            141   \n",
       "3                10          1             89   \n",
       "4                37          1            124   \n",
       "5                43          0             68   \n",
       "6                 5          0             30   \n",
       "...             ...        ...            ...   \n",
       "161288           22          1            133   \n",
       "161292          125          1            127   \n",
       "161293           34          0             50   \n",
       "161295           79          1            136   \n",
       "161296          116          1             63   \n",
       "\n",
       "                                                    clean  \n",
       "1       my son be halfway through his fourth week of i...  \n",
       "3       this be my first time use any form of birth co...  \n",
       "4       suboxone have completely turn my life around i...  \n",
       "5       nd day on mg start to work with rock hard erec...  \n",
       "6       he pull out but he cummed a bite in me i take ...  \n",
       "...                                                   ...  \n",
       "161288  i have be off prozac for about week nowafter s...  \n",
       "161292  i write my first report in midoctober of i hav...  \n",
       "161293  i be give this in iv before surgey i immediate...  \n",
       "161295  ive be on thyroid medication year i spend my f...  \n",
       "161296  ive have chronic constipation all my adult lif...  \n",
       "\n",
       "[110436 rows x 10 columns]"
      ]
     },
     "execution_count": 8,
     "metadata": {},
     "output_type": "execute_result"
    }
   ],
   "source": [
    "df2"
   ]
  },
  {
   "cell_type": "code",
   "execution_count": 9,
   "id": "26bd96ef",
   "metadata": {
    "ExecuteTime": {
     "end_time": "2024-12-02T16:09:22.447299Z",
     "start_time": "2024-12-02T16:09:22.434283Z"
    }
   },
   "outputs": [],
   "source": [
    "df3 = df2.drop(columns=['drugName', 'condition', 'review', 'date', 'review_length' ])"
   ]
  },
  {
   "cell_type": "code",
   "execution_count": 10,
   "id": "df5f4b32",
   "metadata": {
    "ExecuteTime": {
     "end_time": "2024-12-02T16:09:22.467831Z",
     "start_time": "2024-12-02T16:09:22.451340Z"
    },
    "scrolled": true
   },
   "outputs": [
    {
     "data": {
      "text/html": [
       "<div>\n",
       "<style scoped>\n",
       "    .dataframe tbody tr th:only-of-type {\n",
       "        vertical-align: middle;\n",
       "    }\n",
       "\n",
       "    .dataframe tbody tr th {\n",
       "        vertical-align: top;\n",
       "    }\n",
       "\n",
       "    .dataframe thead th {\n",
       "        text-align: right;\n",
       "    }\n",
       "</style>\n",
       "<table border=\"1\" class=\"dataframe\">\n",
       "  <thead>\n",
       "    <tr style=\"text-align: right;\">\n",
       "      <th></th>\n",
       "      <th>uniqueID</th>\n",
       "      <th>rating</th>\n",
       "      <th>usefulCount</th>\n",
       "      <th>sentiment</th>\n",
       "      <th>clean</th>\n",
       "    </tr>\n",
       "  </thead>\n",
       "  <tbody>\n",
       "    <tr>\n",
       "      <th>1</th>\n",
       "      <td>95260</td>\n",
       "      <td>8</td>\n",
       "      <td>192</td>\n",
       "      <td>1</td>\n",
       "      <td>my son be halfway through his fourth week of i...</td>\n",
       "    </tr>\n",
       "    <tr>\n",
       "      <th>3</th>\n",
       "      <td>138000</td>\n",
       "      <td>8</td>\n",
       "      <td>10</td>\n",
       "      <td>1</td>\n",
       "      <td>this be my first time use any form of birth co...</td>\n",
       "    </tr>\n",
       "    <tr>\n",
       "      <th>4</th>\n",
       "      <td>35696</td>\n",
       "      <td>9</td>\n",
       "      <td>37</td>\n",
       "      <td>1</td>\n",
       "      <td>suboxone have completely turn my life around i...</td>\n",
       "    </tr>\n",
       "    <tr>\n",
       "      <th>5</th>\n",
       "      <td>155963</td>\n",
       "      <td>2</td>\n",
       "      <td>43</td>\n",
       "      <td>0</td>\n",
       "      <td>nd day on mg start to work with rock hard erec...</td>\n",
       "    </tr>\n",
       "    <tr>\n",
       "      <th>6</th>\n",
       "      <td>165907</td>\n",
       "      <td>1</td>\n",
       "      <td>5</td>\n",
       "      <td>0</td>\n",
       "      <td>he pull out but he cummed a bite in me i take ...</td>\n",
       "    </tr>\n",
       "    <tr>\n",
       "      <th>...</th>\n",
       "      <td>...</td>\n",
       "      <td>...</td>\n",
       "      <td>...</td>\n",
       "      <td>...</td>\n",
       "      <td>...</td>\n",
       "    </tr>\n",
       "    <tr>\n",
       "      <th>161288</th>\n",
       "      <td>45410</td>\n",
       "      <td>8</td>\n",
       "      <td>22</td>\n",
       "      <td>1</td>\n",
       "      <td>i have be off prozac for about week nowafter s...</td>\n",
       "    </tr>\n",
       "    <tr>\n",
       "      <th>161292</th>\n",
       "      <td>191035</td>\n",
       "      <td>10</td>\n",
       "      <td>125</td>\n",
       "      <td>1</td>\n",
       "      <td>i write my first report in midoctober of i hav...</td>\n",
       "    </tr>\n",
       "    <tr>\n",
       "      <th>161293</th>\n",
       "      <td>127085</td>\n",
       "      <td>1</td>\n",
       "      <td>34</td>\n",
       "      <td>0</td>\n",
       "      <td>i be give this in iv before surgey i immediate...</td>\n",
       "    </tr>\n",
       "    <tr>\n",
       "      <th>161295</th>\n",
       "      <td>47128</td>\n",
       "      <td>10</td>\n",
       "      <td>79</td>\n",
       "      <td>1</td>\n",
       "      <td>ive be on thyroid medication year i spend my f...</td>\n",
       "    </tr>\n",
       "    <tr>\n",
       "      <th>161296</th>\n",
       "      <td>215220</td>\n",
       "      <td>9</td>\n",
       "      <td>116</td>\n",
       "      <td>1</td>\n",
       "      <td>ive have chronic constipation all my adult lif...</td>\n",
       "    </tr>\n",
       "  </tbody>\n",
       "</table>\n",
       "<p>110436 rows × 5 columns</p>\n",
       "</div>"
      ],
      "text/plain": [
       "        uniqueID  rating  usefulCount  sentiment  \\\n",
       "1          95260       8          192          1   \n",
       "3         138000       8           10          1   \n",
       "4          35696       9           37          1   \n",
       "5         155963       2           43          0   \n",
       "6         165907       1            5          0   \n",
       "...          ...     ...          ...        ...   \n",
       "161288     45410       8           22          1   \n",
       "161292    191035      10          125          1   \n",
       "161293    127085       1           34          0   \n",
       "161295     47128      10           79          1   \n",
       "161296    215220       9          116          1   \n",
       "\n",
       "                                                    clean  \n",
       "1       my son be halfway through his fourth week of i...  \n",
       "3       this be my first time use any form of birth co...  \n",
       "4       suboxone have completely turn my life around i...  \n",
       "5       nd day on mg start to work with rock hard erec...  \n",
       "6       he pull out but he cummed a bite in me i take ...  \n",
       "...                                                   ...  \n",
       "161288  i have be off prozac for about week nowafter s...  \n",
       "161292  i write my first report in midoctober of i hav...  \n",
       "161293  i be give this in iv before surgey i immediate...  \n",
       "161295  ive be on thyroid medication year i spend my f...  \n",
       "161296  ive have chronic constipation all my adult lif...  \n",
       "\n",
       "[110436 rows x 5 columns]"
      ]
     },
     "execution_count": 10,
     "metadata": {},
     "output_type": "execute_result"
    }
   ],
   "source": [
    "df3"
   ]
  },
  {
   "cell_type": "code",
   "execution_count": 39,
   "id": "b3246a04",
   "metadata": {
    "ExecuteTime": {
     "end_time": "2024-12-02T16:31:47.300976Z",
     "start_time": "2024-12-02T16:31:47.290579Z"
    }
   },
   "outputs": [
    {
     "data": {
      "text/plain": [
       "sentiment\n",
       "1    82279\n",
       "0    28157\n",
       "Name: count, dtype: int64"
      ]
     },
     "execution_count": 39,
     "metadata": {},
     "output_type": "execute_result"
    }
   ],
   "source": [
    "df3['sentiment'].value_counts()"
   ]
  },
  {
   "cell_type": "code",
   "execution_count": 46,
   "id": "3e581e39",
   "metadata": {
    "ExecuteTime": {
     "end_time": "2024-12-02T16:56:11.804296Z",
     "start_time": "2024-12-02T16:56:11.797605Z"
    }
   },
   "outputs": [],
   "source": [
    "from sklearn.model_selection import cross_validate\n",
    "from sklearn.pipeline import make_pipeline\n",
    "from sklearn.feature_extraction.text import TfidfVectorizer\n",
    "from sklearn.naive_bayes import MultinomialNB\n",
    "from sklearn.metrics import recall_score\n",
    "from sklearn.utils import resample"
   ]
  },
  {
   "cell_type": "code",
   "execution_count": null,
   "id": "cff00c3d",
   "metadata": {},
   "outputs": [],
   "source": [
    "new = resample(df3[df3['sentiment'] == 1])"
   ]
  },
  {
   "cell_type": "markdown",
   "id": "ed685c48",
   "metadata": {},
   "source": [
    "# NB"
   ]
  },
  {
   "cell_type": "code",
   "execution_count": 12,
   "id": "43594ac3",
   "metadata": {
    "ExecuteTime": {
     "end_time": "2024-12-02T16:09:22.507828Z",
     "start_time": "2024-12-02T16:09:22.495533Z"
    }
   },
   "outputs": [],
   "source": [
    "data = df3.copy()"
   ]
  },
  {
   "cell_type": "code",
   "execution_count": 13,
   "id": "bda23230",
   "metadata": {
    "ExecuteTime": {
     "end_time": "2024-12-02T16:09:22.518141Z",
     "start_time": "2024-12-02T16:09:22.512253Z"
    }
   },
   "outputs": [],
   "source": [
    "X = data['clean']\n",
    "y = data['sentiment']"
   ]
  },
  {
   "cell_type": "code",
   "execution_count": 14,
   "id": "a8ea46c9",
   "metadata": {
    "ExecuteTime": {
     "end_time": "2024-12-02T16:09:22.529668Z",
     "start_time": "2024-12-02T16:09:22.524403Z"
    }
   },
   "outputs": [],
   "source": [
    "pipe = make_pipeline(TfidfVectorizer(), \n",
    "                     MultinomialNB())"
   ]
  },
  {
   "cell_type": "code",
   "execution_count": 42,
   "id": "79184244",
   "metadata": {
    "ExecuteTime": {
     "end_time": "2024-12-02T16:43:03.967153Z",
     "start_time": "2024-12-02T16:42:35.199967Z"
    }
   },
   "outputs": [],
   "source": [
    "cv_res = cross_validate(pipe, X,y, scoring=['recall', 'precision', 'accuracy', 'f1'])"
   ]
  },
  {
   "cell_type": "code",
   "execution_count": 43,
   "id": "cfe74036",
   "metadata": {
    "ExecuteTime": {
     "end_time": "2024-12-02T16:43:03.979185Z",
     "start_time": "2024-12-02T16:43:03.971153Z"
    }
   },
   "outputs": [
    {
     "data": {
      "text/plain": [
       "{'fit_time': array([4.75164533, 5.04799533, 4.90279651, 3.25475073, 4.7749877 ]),\n",
       " 'score_time': array([1.16380453, 1.22394443, 1.18230152, 1.16021299, 1.24375653]),\n",
       " 'test_recall': array([0.99921001, 0.99854157, 0.99890617, 0.99963539, 0.99927074]),\n",
       " 'test_precision': array([0.75638254, 0.75639845, 0.75674431, 0.75593952, 0.75662617]),\n",
       " 'test_accuracy': array([0.75964325, 0.75931543, 0.75994929, 0.75927016, 0.75999457]),\n",
       " 'test_f1': array([0.86100275, 0.8607648 , 0.86112421, 0.86087343, 0.86118313])}"
      ]
     },
     "execution_count": 43,
     "metadata": {},
     "output_type": "execute_result"
    }
   ],
   "source": [
    "cv_res"
   ]
  },
  {
   "cell_type": "markdown",
   "id": "d2a7e499",
   "metadata": {},
   "source": [
    "# SVC"
   ]
  },
  {
   "cell_type": "code",
   "execution_count": 17,
   "id": "a8a31064",
   "metadata": {
    "ExecuteTime": {
     "end_time": "2024-12-02T16:09:52.061713Z",
     "start_time": "2024-12-02T16:09:52.036997Z"
    }
   },
   "outputs": [],
   "source": [
    "from sklearn.svm import SVC\n",
    "from sklearn.linear_model import SGDClassifier"
   ]
  },
  {
   "cell_type": "code",
   "execution_count": 36,
   "id": "d9cd66f4",
   "metadata": {
    "ExecuteTime": {
     "end_time": "2024-12-02T16:30:11.893138Z",
     "start_time": "2024-12-02T16:30:11.887792Z"
    }
   },
   "outputs": [],
   "source": [
    "pipe2 = make_pipeline(TfidfVectorizer(), \n",
    "                      SGDClassifier(loss='hinge', penalty='l2', alpha=1/10, max_iter=100))"
   ]
  },
  {
   "cell_type": "code",
   "execution_count": 44,
   "id": "6f698e00",
   "metadata": {
    "ExecuteTime": {
     "end_time": "2024-12-02T16:45:30.344109Z",
     "start_time": "2024-12-02T16:45:00.135378Z"
    }
   },
   "outputs": [],
   "source": [
    "cv_res2 = cross_validate(pipe2, X,y, scoring=['recall', 'precision', 'accuracy', 'f1'])"
   ]
  },
  {
   "cell_type": "code",
   "execution_count": 45,
   "id": "190fa007",
   "metadata": {
    "ExecuteTime": {
     "end_time": "2024-12-02T16:45:30.355104Z",
     "start_time": "2024-12-02T16:45:30.347911Z"
    }
   },
   "outputs": [
    {
     "data": {
      "text/plain": [
       "{'fit_time': array([3.69136834, 5.18239307, 5.13450313, 5.12031794, 5.22656965]),\n",
       " 'score_time': array([1.19977713, 1.1472683 , 1.16524386, 1.12485051, 1.15999103]),\n",
       " 'test_recall': array([1., 1., 1., 1., 1.]),\n",
       " 'test_precision': array([0.74501992, 0.74505365, 0.74505365, 0.74505365, 0.74500838]),\n",
       " 'test_accuracy': array([0.74501992, 0.74505365, 0.74505365, 0.74505365, 0.74500838]),\n",
       " 'test_f1': array([0.85388128, 0.85390343, 0.85390343, 0.85390343, 0.8538737 ])}"
      ]
     },
     "execution_count": 45,
     "metadata": {},
     "output_type": "execute_result"
    }
   ],
   "source": [
    "cv_res2"
   ]
  },
  {
   "cell_type": "markdown",
   "id": "7873fd35",
   "metadata": {},
   "source": [
    "# XGB"
   ]
  },
  {
   "cell_type": "code",
   "execution_count": null,
   "id": "618042c8",
   "metadata": {},
   "outputs": [],
   "source": []
  },
  {
   "cell_type": "code",
   "execution_count": null,
   "id": "1c52494b",
   "metadata": {},
   "outputs": [],
   "source": []
  }
 ],
 "metadata": {
  "kernelspec": {
   "display_name": "Python 3 (ipykernel)",
   "language": "python",
   "name": "python3"
  },
  "language_info": {
   "codemirror_mode": {
    "name": "ipython",
    "version": 3
   },
   "file_extension": ".py",
   "mimetype": "text/x-python",
   "name": "python",
   "nbconvert_exporter": "python",
   "pygments_lexer": "ipython3",
   "version": "3.10.6"
  },
  "toc": {
   "base_numbering": 1,
   "nav_menu": {},
   "number_sections": true,
   "sideBar": true,
   "skip_h1_title": false,
   "title_cell": "Table of Contents",
   "title_sidebar": "Contents",
   "toc_cell": false,
   "toc_position": {},
   "toc_section_display": true,
   "toc_window_display": false
  }
 },
 "nbformat": 4,
 "nbformat_minor": 5
}
