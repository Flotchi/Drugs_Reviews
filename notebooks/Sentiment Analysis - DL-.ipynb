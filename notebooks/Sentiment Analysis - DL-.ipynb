{
 "cells": [
  {
   "cell_type": "code",
   "execution_count": 1,
   "id": "e59f0aab",
   "metadata": {
    "ExecuteTime": {
     "end_time": "2024-12-03T08:31:23.644176Z",
     "start_time": "2024-12-03T08:31:23.489585Z"
    }
   },
   "outputs": [],
   "source": [
    "from sklearn.linear_model import LogisticRegression\n",
    "from sklearn.metrics import classification_report, confusion_matrix\n",
    "from logic.processing import load_data, preproc, balance_dataset\n",
    "from sklearn.pipeline import make_pipeline\n",
    "from sklearn.model_selection import cross_validate\n",
    "from sklearn.feature_extraction.text import TfidfVectorizer\n",
    "from sklearn.linear_model import LogisticRegression\n",
    "from sklearn.ensemble import RandomForestClassifier"
   ]
  },
  {
   "cell_type": "code",
   "execution_count": 2,
   "id": "89152a06",
   "metadata": {
    "ExecuteTime": {
     "end_time": "2024-12-02T15:35:17.195931Z",
     "start_time": "2024-12-02T15:35:17.183514Z"
    }
   },
   "outputs": [],
   "source": [
    "def data_filter2(df,uselfCount=0,min_length=20):\n",
    "    df = df.dropna()\n",
    "    df['sentiment'] = df['rating'].apply(lambda x: 1 if x >= 4 else 0)\n",
    "    df = df[df['usefulCount']>uselfCount]\n",
    "    df['review_length'] = df['review'].apply(lambda x: len(str(x).split()))\n",
    "    df = df[df.review_length>=min_length]\n",
    "    X = df[['review']] \n",
    "    y = df['sentiment'] \n",
    "\n",
    "    \n",
    "    df_resampled = pd.DataFrame(X_resampled, columns=['review'])\n",
    "    df_resampled['sentiment'] = y_resampled\n",
    "    \n",
    "    return df_resampled\n",
    "    return df"
   ]
  },
  {
   "cell_type": "code",
   "execution_count": 3,
   "id": "ec9afa2c",
   "metadata": {
    "ExecuteTime": {
     "end_time": "2024-12-02T15:35:20.184124Z",
     "start_time": "2024-12-02T15:35:19.185588Z"
    }
   },
   "outputs": [],
   "source": [
    "df_train = load_data('drugsComTrain_raw.csv')\n",
    "df_test = load_data('drugsComTest_raw.csv')"
   ]
  },
  {
   "cell_type": "code",
   "execution_count": null,
   "id": "ae1391a7",
   "metadata": {},
   "outputs": [],
   "source": [
    "df_train_filter = data_filter(df_train)\n",
    "df_test_filter = data_filter(df_test)"
   ]
  },
  {
   "cell_type": "code",
   "execution_count": 4,
   "id": "a5c13b81",
   "metadata": {
    "ExecuteTime": {
     "end_time": "2024-12-02T15:39:33.785673Z",
     "start_time": "2024-12-02T15:35:22.881807Z"
    }
   },
   "outputs": [],
   "source": [
    "df_train_prep = preproc(df_train_filter)\n",
    "df_test_prep = preproc(df_test_filter)"
   ]
  },
  {
   "cell_type": "code",
   "execution_count": 6,
   "id": "87e0f187",
   "metadata": {
    "ExecuteTime": {
     "end_time": "2024-12-02T15:40:39.703864Z",
     "start_time": "2024-12-02T15:40:39.697634Z"
    }
   },
   "outputs": [],
   "source": [
    "X_train = df_train_prep['clean']\n",
    "y_train = df_train_prep['rating']"
   ]
  },
  {
   "cell_type": "code",
   "execution_count": null,
   "id": "27910e7d",
   "metadata": {},
   "outputs": [],
   "source": [
    "X_test = df_test_prep['clean']\n",
    "y_test = df_test_prep['rating']"
   ]
  }
 ],
 "metadata": {
  "kernelspec": {
   "display_name": "Python 3 (ipykernel)",
   "language": "python",
   "name": "python3"
  },
  "language_info": {
   "codemirror_mode": {
    "name": "ipython",
    "version": 3
   },
   "file_extension": ".py",
   "mimetype": "text/x-python",
   "name": "python",
   "nbconvert_exporter": "python",
   "pygments_lexer": "ipython3",
   "version": "3.10.6"
  },
  "toc": {
   "base_numbering": 1,
   "nav_menu": {},
   "number_sections": true,
   "sideBar": true,
   "skip_h1_title": false,
   "title_cell": "Table of Contents",
   "title_sidebar": "Contents",
   "toc_cell": false,
   "toc_position": {},
   "toc_section_display": true,
   "toc_window_display": false
  }
 },
 "nbformat": 4,
 "nbformat_minor": 5
}
