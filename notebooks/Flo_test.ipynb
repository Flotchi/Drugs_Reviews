{
 "cells": [
  {
   "cell_type": "code",
   "execution_count": 2,
   "id": "47070e27-9bcd-429e-9a27-c9dd63ec2c3c",
   "metadata": {
    "ExecuteTime": {
     "end_time": "2024-11-25T13:28:42.998632Z",
     "start_time": "2024-11-25T13:28:42.024319Z"
    }
   },
   "outputs": [],
   "source": [
    "import pandas as pd\n",
    "import numpy as np\n",
    "import os\n",
    "import string\n",
    "import nltk"
   ]
  },
  {
   "cell_type": "code",
   "execution_count": 3,
   "id": "96151b67",
   "metadata": {
    "ExecuteTime": {
     "end_time": "2024-11-25T13:38:48.079188Z",
     "start_time": "2024-11-25T13:38:47.455910Z"
    }
   },
   "outputs": [
    {
     "name": "stderr",
     "output_type": "stream",
     "text": [
      "[nltk_data] Downloading package stopwords to\n",
      "[nltk_data]     /Users/Flotchi/nltk_data...\n",
      "[nltk_data]   Package stopwords is already up-to-date!\n",
      "[nltk_data] Downloading package punkt to /Users/Flotchi/nltk_data...\n",
      "[nltk_data]   Package punkt is already up-to-date!\n",
      "[nltk_data] Downloading package wordnet to /Users/Flotchi/nltk_data...\n",
      "[nltk_data]   Package wordnet is already up-to-date!\n",
      "[nltk_data] Downloading package omw-1.4 to /Users/Flotchi/nltk_data...\n",
      "[nltk_data]   Package omw-1.4 is already up-to-date!\n",
      "[nltk_data] Downloading package punkt_tab to\n",
      "[nltk_data]     /Users/Flotchi/nltk_data...\n",
      "[nltk_data]   Unzipping tokenizers/punkt_tab.zip.\n"
     ]
    },
    {
     "data": {
      "text/plain": [
       "True"
      ]
     },
     "execution_count": 3,
     "metadata": {},
     "output_type": "execute_result"
    }
   ],
   "source": [
    "nltk.download('stopwords')\n",
    "nltk.download('punkt')\n",
    "nltk.download('wordnet')\n",
    "nltk.download('omw-1.4')\n",
    "nltk.download('punkt_tab')"
   ]
  },
  {
   "cell_type": "code",
   "execution_count": 10,
   "id": "bb779277",
   "metadata": {
    "ExecuteTime": {
     "end_time": "2024-11-25T13:28:43.233614Z",
     "start_time": "2024-11-25T13:28:43.227382Z"
    }
   },
   "outputs": [
    {
     "data": {
      "text/plain": [
       "'/Users/Flotchi/code/Flotchi/Mental_Health_Risks/notebooks'"
      ]
     },
     "execution_count": 10,
     "metadata": {},
     "output_type": "execute_result"
    }
   ],
   "source": [
    "path = os.getcwd()\n",
    "path\n",
    "# a remplacer par __file__ apres"
   ]
  },
  {
   "cell_type": "code",
   "execution_count": 12,
   "id": "af18f8aa",
   "metadata": {
    "ExecuteTime": {
     "end_time": "2024-11-25T13:28:43.252217Z",
     "start_time": "2024-11-25T13:28:43.239692Z"
    }
   },
   "outputs": [
    {
     "data": {
      "text/plain": [
       "'/Users/Flotchi/code/Flotchi/Mental_Health_Risks/raw_data/Combined Data.csv'"
      ]
     },
     "execution_count": 12,
     "metadata": {},
     "output_type": "execute_result"
    }
   ],
   "source": [
    "rpath = os.path.join(os.path.dirname(path),'raw_data', 'Combined Data.csv') \n",
    "rpath"
   ]
  },
  {
   "cell_type": "code",
   "execution_count": 14,
   "id": "1b8e4a8d-f745-42df-8ac9-ed94433f872c",
   "metadata": {
    "ExecuteTime": {
     "end_time": "2024-11-25T13:28:43.619538Z",
     "start_time": "2024-11-25T13:28:43.255820Z"
    },
    "scrolled": true
   },
   "outputs": [],
   "source": [
    "df = pd.read_csv(rpath)"
   ]
  },
  {
   "cell_type": "code",
   "execution_count": 15,
   "id": "5d718dbb",
   "metadata": {
    "ExecuteTime": {
     "end_time": "2024-11-25T13:28:43.646967Z",
     "start_time": "2024-11-25T13:28:43.623590Z"
    },
    "scrolled": true
   },
   "outputs": [
    {
     "data": {
      "text/html": [
       "<div>\n",
       "<style scoped>\n",
       "    .dataframe tbody tr th:only-of-type {\n",
       "        vertical-align: middle;\n",
       "    }\n",
       "\n",
       "    .dataframe tbody tr th {\n",
       "        vertical-align: top;\n",
       "    }\n",
       "\n",
       "    .dataframe thead th {\n",
       "        text-align: right;\n",
       "    }\n",
       "</style>\n",
       "<table border=\"1\" class=\"dataframe\">\n",
       "  <thead>\n",
       "    <tr style=\"text-align: right;\">\n",
       "      <th></th>\n",
       "      <th>Unnamed: 0</th>\n",
       "      <th>statement</th>\n",
       "      <th>status</th>\n",
       "    </tr>\n",
       "  </thead>\n",
       "  <tbody>\n",
       "    <tr>\n",
       "      <th>0</th>\n",
       "      <td>0</td>\n",
       "      <td>oh my gosh</td>\n",
       "      <td>Anxiety</td>\n",
       "    </tr>\n",
       "    <tr>\n",
       "      <th>1</th>\n",
       "      <td>1</td>\n",
       "      <td>trouble sleeping, confused mind, restless hear...</td>\n",
       "      <td>Anxiety</td>\n",
       "    </tr>\n",
       "    <tr>\n",
       "      <th>2</th>\n",
       "      <td>2</td>\n",
       "      <td>All wrong, back off dear, forward doubt. Stay ...</td>\n",
       "      <td>Anxiety</td>\n",
       "    </tr>\n",
       "    <tr>\n",
       "      <th>3</th>\n",
       "      <td>3</td>\n",
       "      <td>I've shifted my focus to something else but I'...</td>\n",
       "      <td>Anxiety</td>\n",
       "    </tr>\n",
       "    <tr>\n",
       "      <th>4</th>\n",
       "      <td>4</td>\n",
       "      <td>I'm restless and restless, it's been a month n...</td>\n",
       "      <td>Anxiety</td>\n",
       "    </tr>\n",
       "    <tr>\n",
       "      <th>...</th>\n",
       "      <td>...</td>\n",
       "      <td>...</td>\n",
       "      <td>...</td>\n",
       "    </tr>\n",
       "    <tr>\n",
       "      <th>53038</th>\n",
       "      <td>53038</td>\n",
       "      <td>Nobody takes me seriously I’ve (24M) dealt wit...</td>\n",
       "      <td>Anxiety</td>\n",
       "    </tr>\n",
       "    <tr>\n",
       "      <th>53039</th>\n",
       "      <td>53039</td>\n",
       "      <td>selfishness  \"I don't feel very good, it's lik...</td>\n",
       "      <td>Anxiety</td>\n",
       "    </tr>\n",
       "    <tr>\n",
       "      <th>53040</th>\n",
       "      <td>53040</td>\n",
       "      <td>Is there any way to sleep better? I can't slee...</td>\n",
       "      <td>Anxiety</td>\n",
       "    </tr>\n",
       "    <tr>\n",
       "      <th>53041</th>\n",
       "      <td>53041</td>\n",
       "      <td>Public speaking tips? Hi, all. I have to give ...</td>\n",
       "      <td>Anxiety</td>\n",
       "    </tr>\n",
       "    <tr>\n",
       "      <th>53042</th>\n",
       "      <td>53042</td>\n",
       "      <td>I have really bad door anxiety! It's not about...</td>\n",
       "      <td>Anxiety</td>\n",
       "    </tr>\n",
       "  </tbody>\n",
       "</table>\n",
       "<p>53043 rows × 3 columns</p>\n",
       "</div>"
      ],
      "text/plain": [
       "       Unnamed: 0                                          statement   status\n",
       "0               0                                         oh my gosh  Anxiety\n",
       "1               1  trouble sleeping, confused mind, restless hear...  Anxiety\n",
       "2               2  All wrong, back off dear, forward doubt. Stay ...  Anxiety\n",
       "3               3  I've shifted my focus to something else but I'...  Anxiety\n",
       "4               4  I'm restless and restless, it's been a month n...  Anxiety\n",
       "...           ...                                                ...      ...\n",
       "53038       53038  Nobody takes me seriously I’ve (24M) dealt wit...  Anxiety\n",
       "53039       53039  selfishness  \"I don't feel very good, it's lik...  Anxiety\n",
       "53040       53040  Is there any way to sleep better? I can't slee...  Anxiety\n",
       "53041       53041  Public speaking tips? Hi, all. I have to give ...  Anxiety\n",
       "53042       53042  I have really bad door anxiety! It's not about...  Anxiety\n",
       "\n",
       "[53043 rows x 3 columns]"
      ]
     },
     "execution_count": 15,
     "metadata": {},
     "output_type": "execute_result"
    }
   ],
   "source": [
    "df"
   ]
  },
  {
   "cell_type": "code",
   "execution_count": 24,
   "id": "5be5116d-7c5f-4a11-abc4-066577e387b0",
   "metadata": {},
   "outputs": [],
   "source": [
    "df = df[(df.status == 'Normal') | (df.status == 'Depression')]"
   ]
  },
  {
   "cell_type": "code",
   "execution_count": 26,
   "id": "d14bda9c-8eed-40a9-a30f-42a7a0d603f0",
   "metadata": {},
   "outputs": [
    {
     "data": {
      "text/plain": [
       "status\n",
       "Normal        16343\n",
       "Depression    15404\n",
       "Name: count, dtype: int64"
      ]
     },
     "execution_count": 26,
     "metadata": {},
     "output_type": "execute_result"
    }
   ],
   "source": [
    "df['status'].value_counts()"
   ]
  },
  {
   "cell_type": "code",
   "execution_count": 16,
   "id": "6ab8cf7a",
   "metadata": {
    "ExecuteTime": {
     "end_time": "2024-11-25T13:28:43.656920Z",
     "start_time": "2024-11-25T13:28:43.651600Z"
    }
   },
   "outputs": [],
   "source": [
    "from nltk.tokenize import word_tokenize\n",
    "from nltk.corpus import stopwords\n",
    "from nltk.stem import WordNetLemmatizer"
   ]
  },
  {
   "cell_type": "code",
   "execution_count": 17,
   "id": "17772654",
   "metadata": {
    "ExecuteTime": {
     "end_time": "2024-11-25T13:53:10.442006Z",
     "start_time": "2024-11-25T13:53:10.409674Z"
    }
   },
   "outputs": [],
   "source": [
    "df.dropna(inplace=True)"
   ]
  },
  {
   "cell_type": "code",
   "execution_count": 18,
   "id": "5e32dd9f",
   "metadata": {
    "ExecuteTime": {
     "end_time": "2024-11-25T13:28:43.668292Z",
     "start_time": "2024-11-25T13:28:43.660871Z"
    }
   },
   "outputs": [],
   "source": [
    "def process(st):\n",
    "    for punc in string.punctuation:\n",
    "        st = st.replace(punc, '')\n",
    "    ans = st.casefold()\n",
    "    ansd = ''.join(x for x in ans if not x.isdigit())\n",
    "    stop = set(stopwords.words('english'))\n",
    "    tokens = word_tokenize(ansd)\n",
    "    ansdd = [y for y in tokens if y not in stop]\n",
    "    lemmaverb = [WordNetLemmatizer().lemmatize(word, pos='v') for word in ansdd]\n",
    "    lemmanouns = [WordNetLemmatizer().lemmatize(word, pos='n') for word in lemmaverb]\n",
    "    nans = ' '.join(lemmanouns)\n",
    "    return nans"
   ]
  },
  {
   "cell_type": "code",
   "execution_count": 19,
   "id": "d7ceac62",
   "metadata": {
    "ExecuteTime": {
     "end_time": "2024-11-25T13:39:43.907897Z",
     "start_time": "2024-11-25T13:39:40.404465Z"
    }
   },
   "outputs": [
    {
     "data": {
      "text/plain": [
       "'oh gosh'"
      ]
     },
     "execution_count": 19,
     "metadata": {},
     "output_type": "execute_result"
    }
   ],
   "source": [
    "process(df['statement'][0])"
   ]
  },
  {
   "cell_type": "code",
   "execution_count": 20,
   "id": "b1bbfa13",
   "metadata": {
    "ExecuteTime": {
     "end_time": "2024-11-25T13:54:28.513535Z",
     "start_time": "2024-11-25T13:53:37.391456Z"
    }
   },
   "outputs": [],
   "source": [
    "df['clean'] = df['statement'].apply(process)"
   ]
  },
  {
   "cell_type": "code",
   "execution_count": 21,
   "id": "9ac80141",
   "metadata": {
    "ExecuteTime": {
     "end_time": "2024-11-25T13:56:21.644392Z",
     "start_time": "2024-11-25T13:56:21.628789Z"
    },
    "scrolled": true
   },
   "outputs": [
    {
     "data": {
      "text/html": [
       "<div>\n",
       "<style scoped>\n",
       "    .dataframe tbody tr th:only-of-type {\n",
       "        vertical-align: middle;\n",
       "    }\n",
       "\n",
       "    .dataframe tbody tr th {\n",
       "        vertical-align: top;\n",
       "    }\n",
       "\n",
       "    .dataframe thead th {\n",
       "        text-align: right;\n",
       "    }\n",
       "</style>\n",
       "<table border=\"1\" class=\"dataframe\">\n",
       "  <thead>\n",
       "    <tr style=\"text-align: right;\">\n",
       "      <th></th>\n",
       "      <th>Unnamed: 0</th>\n",
       "      <th>statement</th>\n",
       "      <th>status</th>\n",
       "      <th>clean</th>\n",
       "    </tr>\n",
       "  </thead>\n",
       "  <tbody>\n",
       "    <tr>\n",
       "      <th>0</th>\n",
       "      <td>0</td>\n",
       "      <td>oh my gosh</td>\n",
       "      <td>Anxiety</td>\n",
       "      <td>oh gosh</td>\n",
       "    </tr>\n",
       "    <tr>\n",
       "      <th>1</th>\n",
       "      <td>1</td>\n",
       "      <td>trouble sleeping, confused mind, restless hear...</td>\n",
       "      <td>Anxiety</td>\n",
       "      <td>trouble sleep confuse mind restless heart tune</td>\n",
       "    </tr>\n",
       "    <tr>\n",
       "      <th>2</th>\n",
       "      <td>2</td>\n",
       "      <td>All wrong, back off dear, forward doubt. Stay ...</td>\n",
       "      <td>Anxiety</td>\n",
       "      <td>wrong back dear forward doubt stay restless re...</td>\n",
       "    </tr>\n",
       "    <tr>\n",
       "      <th>3</th>\n",
       "      <td>3</td>\n",
       "      <td>I've shifted my focus to something else but I'...</td>\n",
       "      <td>Anxiety</td>\n",
       "      <td>ive shift focus something else im still worry</td>\n",
       "    </tr>\n",
       "    <tr>\n",
       "      <th>4</th>\n",
       "      <td>4</td>\n",
       "      <td>I'm restless and restless, it's been a month n...</td>\n",
       "      <td>Anxiety</td>\n",
       "      <td>im restless restless month boy mean</td>\n",
       "    </tr>\n",
       "    <tr>\n",
       "      <th>...</th>\n",
       "      <td>...</td>\n",
       "      <td>...</td>\n",
       "      <td>...</td>\n",
       "      <td>...</td>\n",
       "    </tr>\n",
       "    <tr>\n",
       "      <th>53038</th>\n",
       "      <td>53038</td>\n",
       "      <td>Nobody takes me seriously I’ve (24M) dealt wit...</td>\n",
       "      <td>Anxiety</td>\n",
       "      <td>nobody take seriously ’ deal depressionanxiety...</td>\n",
       "    </tr>\n",
       "    <tr>\n",
       "      <th>53039</th>\n",
       "      <td>53039</td>\n",
       "      <td>selfishness  \"I don't feel very good, it's lik...</td>\n",
       "      <td>Anxiety</td>\n",
       "      <td>selfishness dont feel good like dont belong wo...</td>\n",
       "    </tr>\n",
       "    <tr>\n",
       "      <th>53040</th>\n",
       "      <td>53040</td>\n",
       "      <td>Is there any way to sleep better? I can't slee...</td>\n",
       "      <td>Anxiety</td>\n",
       "      <td>way sleep better cant sleep night med didnt help</td>\n",
       "    </tr>\n",
       "    <tr>\n",
       "      <th>53041</th>\n",
       "      <td>53041</td>\n",
       "      <td>Public speaking tips? Hi, all. I have to give ...</td>\n",
       "      <td>Anxiety</td>\n",
       "      <td>public speak tip hi give presentation work nex...</td>\n",
       "    </tr>\n",
       "    <tr>\n",
       "      <th>53042</th>\n",
       "      <td>53042</td>\n",
       "      <td>I have really bad door anxiety! It's not about...</td>\n",
       "      <td>Anxiety</td>\n",
       "      <td>really bad door anxiety scar didnt lock door s...</td>\n",
       "    </tr>\n",
       "  </tbody>\n",
       "</table>\n",
       "<p>52681 rows × 4 columns</p>\n",
       "</div>"
      ],
      "text/plain": [
       "       Unnamed: 0                                          statement   status  \\\n",
       "0               0                                         oh my gosh  Anxiety   \n",
       "1               1  trouble sleeping, confused mind, restless hear...  Anxiety   \n",
       "2               2  All wrong, back off dear, forward doubt. Stay ...  Anxiety   \n",
       "3               3  I've shifted my focus to something else but I'...  Anxiety   \n",
       "4               4  I'm restless and restless, it's been a month n...  Anxiety   \n",
       "...           ...                                                ...      ...   \n",
       "53038       53038  Nobody takes me seriously I’ve (24M) dealt wit...  Anxiety   \n",
       "53039       53039  selfishness  \"I don't feel very good, it's lik...  Anxiety   \n",
       "53040       53040  Is there any way to sleep better? I can't slee...  Anxiety   \n",
       "53041       53041  Public speaking tips? Hi, all. I have to give ...  Anxiety   \n",
       "53042       53042  I have really bad door anxiety! It's not about...  Anxiety   \n",
       "\n",
       "                                                   clean  \n",
       "0                                                oh gosh  \n",
       "1         trouble sleep confuse mind restless heart tune  \n",
       "2      wrong back dear forward doubt stay restless re...  \n",
       "3          ive shift focus something else im still worry  \n",
       "4                    im restless restless month boy mean  \n",
       "...                                                  ...  \n",
       "53038  nobody take seriously ’ deal depressionanxiety...  \n",
       "53039  selfishness dont feel good like dont belong wo...  \n",
       "53040   way sleep better cant sleep night med didnt help  \n",
       "53041  public speak tip hi give presentation work nex...  \n",
       "53042  really bad door anxiety scar didnt lock door s...  \n",
       "\n",
       "[52681 rows x 4 columns]"
      ]
     },
     "execution_count": 21,
     "metadata": {},
     "output_type": "execute_result"
    }
   ],
   "source": [
    "df"
   ]
  },
  {
   "cell_type": "code",
   "execution_count": 22,
   "id": "7c62d4f3",
   "metadata": {
    "ExecuteTime": {
     "end_time": "2024-11-25T14:59:09.141799Z",
     "start_time": "2024-11-25T14:59:09.114999Z"
    }
   },
   "outputs": [
    {
     "data": {
      "text/plain": [
       "status              \n",
       "Normal                  16343\n",
       "Depression              15404\n",
       "Suicidal                10652\n",
       "Anxiety                  3841\n",
       "Bipolar                  2777\n",
       "Stress                   2587\n",
       "Personality disorder     1077\n",
       "Name: count, dtype: int64"
      ]
     },
     "execution_count": 22,
     "metadata": {},
     "output_type": "execute_result"
    }
   ],
   "source": [
    "df[['status']].value_counts()"
   ]
  },
  {
   "cell_type": "code",
   "execution_count": 55,
   "id": "c6c6f04a",
   "metadata": {
    "ExecuteTime": {
     "end_time": "2024-11-25T15:01:23.708599Z",
     "start_time": "2024-11-25T15:01:23.704416Z"
    }
   },
   "outputs": [],
   "source": [
    "def encode_bi(st):\n",
    "    return int(st == 'Normal')"
   ]
  },
  {
   "cell_type": "code",
   "execution_count": 57,
   "id": "e226af14",
   "metadata": {
    "ExecuteTime": {
     "end_time": "2024-11-25T15:02:12.419833Z",
     "start_time": "2024-11-25T15:02:12.386742Z"
    }
   },
   "outputs": [],
   "source": [
    "df['label'] = df['status'].apply(encode_bi)"
   ]
  },
  {
   "cell_type": "code",
   "execution_count": 63,
   "id": "f8a6f325",
   "metadata": {
    "ExecuteTime": {
     "end_time": "2024-11-25T15:07:06.476563Z",
     "start_time": "2024-11-25T15:07:06.449872Z"
    }
   },
   "outputs": [
    {
     "data": {
      "text/html": [
       "<div>\n",
       "<style scoped>\n",
       "    .dataframe tbody tr th:only-of-type {\n",
       "        vertical-align: middle;\n",
       "    }\n",
       "\n",
       "    .dataframe tbody tr th {\n",
       "        vertical-align: top;\n",
       "    }\n",
       "\n",
       "    .dataframe thead th {\n",
       "        text-align: right;\n",
       "    }\n",
       "</style>\n",
       "<table border=\"1\" class=\"dataframe\">\n",
       "  <thead>\n",
       "    <tr style=\"text-align: right;\">\n",
       "      <th></th>\n",
       "      <th>Unnamed: 0</th>\n",
       "      <th>statement</th>\n",
       "      <th>status</th>\n",
       "      <th>clean</th>\n",
       "      <th>label</th>\n",
       "    </tr>\n",
       "  </thead>\n",
       "  <tbody>\n",
       "    <tr>\n",
       "      <th>48227</th>\n",
       "      <td>48227</td>\n",
       "      <td>im so exhausted of everyone in my life everyon...</td>\n",
       "      <td>Depression</td>\n",
       "      <td>im exhaust everyone life everyone frustrate al...</td>\n",
       "      <td>0</td>\n",
       "    </tr>\n",
       "    <tr>\n",
       "      <th>12652</th>\n",
       "      <td>12652</td>\n",
       "      <td>have 200% of the symptoms and it destroyed my...</td>\n",
       "      <td>Suicidal</td>\n",
       "      <td>symptom destroy relation friend girlfriendits ...</td>\n",
       "      <td>0</td>\n",
       "    </tr>\n",
       "    <tr>\n",
       "      <th>45998</th>\n",
       "      <td>45998</td>\n",
       "      <td>Two week long depressive episode I have been d...</td>\n",
       "      <td>Bipolar</td>\n",
       "      <td>two week long depressive episode deeply depres...</td>\n",
       "      <td>0</td>\n",
       "    </tr>\n",
       "    <tr>\n",
       "      <th>36676</th>\n",
       "      <td>36676</td>\n",
       "      <td>@rustyrockets you are a big piece of the rainb...</td>\n",
       "      <td>Normal</td>\n",
       "      <td>rustyrockets big piece rainbowshine big shine ...</td>\n",
       "      <td>1</td>\n",
       "    </tr>\n",
       "    <tr>\n",
       "      <th>20258</th>\n",
       "      <td>20258</td>\n",
       "      <td>Does anyone know where I can get a lethal inje...</td>\n",
       "      <td>Suicidal</td>\n",
       "      <td>anyone know get lethal injection lose spark life</td>\n",
       "      <td>0</td>\n",
       "    </tr>\n",
       "    <tr>\n",
       "      <th>12181</th>\n",
       "      <td>12181</td>\n",
       "      <td>I really just need to shut the fuck up next ti...</td>\n",
       "      <td>Depression</td>\n",
       "      <td>really need shut fuck next time really need ye...</td>\n",
       "      <td>0</td>\n",
       "    </tr>\n",
       "    <tr>\n",
       "      <th>10977</th>\n",
       "      <td>10977</td>\n",
       "      <td>I do not know why I feel like I need to please...</td>\n",
       "      <td>Depression</td>\n",
       "      <td>know feel like need please almost everyone lif...</td>\n",
       "      <td>0</td>\n",
       "    </tr>\n",
       "    <tr>\n",
       "      <th>45870</th>\n",
       "      <td>45870</td>\n",
       "      <td>Meds and memory Hi everyone, I'm new to this f...</td>\n",
       "      <td>Bipolar</td>\n",
       "      <td>med memory hi everyone im new forum diagnose b...</td>\n",
       "      <td>0</td>\n",
       "    </tr>\n",
       "    <tr>\n",
       "      <th>46911</th>\n",
       "      <td>46911</td>\n",
       "      <td>To depressed to shower? We all know to hit the...</td>\n",
       "      <td>Bipolar</td>\n",
       "      <td>depress shower know hit hotspot baby wipe reap...</td>\n",
       "      <td>0</td>\n",
       "    </tr>\n",
       "    <tr>\n",
       "      <th>937</th>\n",
       "      <td>937</td>\n",
       "      <td>Stomach :(</td>\n",
       "      <td>Normal</td>\n",
       "      <td>stomach</td>\n",
       "      <td>1</td>\n",
       "    </tr>\n",
       "    <tr>\n",
       "      <th>33769</th>\n",
       "      <td>33769</td>\n",
       "      <td>you shouldn't lie in the sun for too long.</td>\n",
       "      <td>Normal</td>\n",
       "      <td>shouldnt lie sun long</td>\n",
       "      <td>1</td>\n",
       "    </tr>\n",
       "    <tr>\n",
       "      <th>49972</th>\n",
       "      <td>49972</td>\n",
       "      <td>Staying positive? Hi everyone!\\n\\nSo this week...</td>\n",
       "      <td>Bipolar</td>\n",
       "      <td>stay positive hi everyone week im go start per...</td>\n",
       "      <td>0</td>\n",
       "    </tr>\n",
       "    <tr>\n",
       "      <th>15710</th>\n",
       "      <td>15710</td>\n",
       "      <td>I just do not know what I can do anymore. I am...</td>\n",
       "      <td>Depression</td>\n",
       "      <td>know anymore completely alone always drop scho...</td>\n",
       "      <td>0</td>\n",
       "    </tr>\n",
       "    <tr>\n",
       "      <th>5717</th>\n",
       "      <td>5717</td>\n",
       "      <td>the connection is working but why is my tweet ...</td>\n",
       "      <td>Normal</td>\n",
       "      <td>connection work tweet work</td>\n",
       "      <td>1</td>\n",
       "    </tr>\n",
       "    <tr>\n",
       "      <th>32829</th>\n",
       "      <td>32829</td>\n",
       "      <td>we should stand here till the clean-up person ...</td>\n",
       "      <td>Normal</td>\n",
       "      <td>stand till cleanup person get</td>\n",
       "      <td>1</td>\n",
       "    </tr>\n",
       "    <tr>\n",
       "      <th>10705</th>\n",
       "      <td>10705</td>\n",
       "      <td>I have been struggling with these thoughts my ...</td>\n",
       "      <td>Suicidal</td>\n",
       "      <td>struggle thought whole life year old female be...</td>\n",
       "      <td>0</td>\n",
       "    </tr>\n",
       "    <tr>\n",
       "      <th>51261</th>\n",
       "      <td>51261</td>\n",
       "      <td>Affronting the world (edit : I'm not native, I...</td>\n",
       "      <td>Personality disorder</td>\n",
       "      <td>affront world edit im native directly translat...</td>\n",
       "      <td>0</td>\n",
       "    </tr>\n",
       "    <tr>\n",
       "      <th>53018</th>\n",
       "      <td>53018</td>\n",
       "      <td>Zoloft side effects Took 50mg of Zoloft for th...</td>\n",
       "      <td>Anxiety</td>\n",
       "      <td>zoloft side effect take mg zoloft first time h...</td>\n",
       "      <td>0</td>\n",
       "    </tr>\n",
       "    <tr>\n",
       "      <th>6461</th>\n",
       "      <td>6461</td>\n",
       "      <td>I really want to buy twice album :( btw is the...</td>\n",
       "      <td>Normal</td>\n",
       "      <td>really want buy twice album btw special base s...</td>\n",
       "      <td>1</td>\n",
       "    </tr>\n",
       "    <tr>\n",
       "      <th>40883</th>\n",
       "      <td>40883</td>\n",
       "      <td>0 supplement to help fight depression http t c...</td>\n",
       "      <td>Depression</td>\n",
       "      <td>supplement help fight depression http co tc tk...</td>\n",
       "      <td>0</td>\n",
       "    </tr>\n",
       "  </tbody>\n",
       "</table>\n",
       "</div>"
      ],
      "text/plain": [
       "       Unnamed: 0                                          statement  \\\n",
       "48227       48227  im so exhausted of everyone in my life everyon...   \n",
       "12652       12652   have 200% of the symptoms and it destroyed my...   \n",
       "45998       45998  Two week long depressive episode I have been d...   \n",
       "36676       36676  @rustyrockets you are a big piece of the rainb...   \n",
       "20258       20258  Does anyone know where I can get a lethal inje...   \n",
       "12181       12181  I really just need to shut the fuck up next ti...   \n",
       "10977       10977  I do not know why I feel like I need to please...   \n",
       "45870       45870  Meds and memory Hi everyone, I'm new to this f...   \n",
       "46911       46911  To depressed to shower? We all know to hit the...   \n",
       "937           937                                         Stomach :(   \n",
       "33769       33769         you shouldn't lie in the sun for too long.   \n",
       "49972       49972  Staying positive? Hi everyone!\\n\\nSo this week...   \n",
       "15710       15710  I just do not know what I can do anymore. I am...   \n",
       "5717         5717  the connection is working but why is my tweet ...   \n",
       "32829       32829  we should stand here till the clean-up person ...   \n",
       "10705       10705  I have been struggling with these thoughts my ...   \n",
       "51261       51261  Affronting the world (edit : I'm not native, I...   \n",
       "53018       53018  Zoloft side effects Took 50mg of Zoloft for th...   \n",
       "6461         6461  I really want to buy twice album :( btw is the...   \n",
       "40883       40883  0 supplement to help fight depression http t c...   \n",
       "\n",
       "                     status  \\\n",
       "48227            Depression   \n",
       "12652              Suicidal   \n",
       "45998               Bipolar   \n",
       "36676                Normal   \n",
       "20258              Suicidal   \n",
       "12181            Depression   \n",
       "10977            Depression   \n",
       "45870               Bipolar   \n",
       "46911               Bipolar   \n",
       "937                  Normal   \n",
       "33769                Normal   \n",
       "49972               Bipolar   \n",
       "15710            Depression   \n",
       "5717                 Normal   \n",
       "32829                Normal   \n",
       "10705              Suicidal   \n",
       "51261  Personality disorder   \n",
       "53018               Anxiety   \n",
       "6461                 Normal   \n",
       "40883            Depression   \n",
       "\n",
       "                                                   clean  label  \n",
       "48227  im exhaust everyone life everyone frustrate al...      0  \n",
       "12652  symptom destroy relation friend girlfriendits ...      0  \n",
       "45998  two week long depressive episode deeply depres...      0  \n",
       "36676  rustyrockets big piece rainbowshine big shine ...      1  \n",
       "20258   anyone know get lethal injection lose spark life      0  \n",
       "12181  really need shut fuck next time really need ye...      0  \n",
       "10977  know feel like need please almost everyone lif...      0  \n",
       "45870  med memory hi everyone im new forum diagnose b...      0  \n",
       "46911  depress shower know hit hotspot baby wipe reap...      0  \n",
       "937                                              stomach      1  \n",
       "33769                              shouldnt lie sun long      1  \n",
       "49972  stay positive hi everyone week im go start per...      0  \n",
       "15710  know anymore completely alone always drop scho...      0  \n",
       "5717                          connection work tweet work      1  \n",
       "32829                      stand till cleanup person get      1  \n",
       "10705  struggle thought whole life year old female be...      0  \n",
       "51261  affront world edit im native directly translat...      0  \n",
       "53018  zoloft side effect take mg zoloft first time h...      0  \n",
       "6461   really want buy twice album btw special base s...      1  \n",
       "40883  supplement help fight depression http co tc tk...      0  "
      ]
     },
     "execution_count": 63,
     "metadata": {},
     "output_type": "execute_result"
    }
   ],
   "source": [
    "df.sample(20)"
   ]
  },
  {
   "cell_type": "markdown",
   "id": "acaf2dbd",
   "metadata": {},
   "source": [
    "## Partie Vecto/predi"
   ]
  },
  {
   "cell_type": "code",
   "execution_count": 40,
   "id": "bdd5c103",
   "metadata": {
    "ExecuteTime": {
     "end_time": "2024-11-25T14:53:05.858088Z",
     "start_time": "2024-11-25T14:53:05.852549Z"
    }
   },
   "outputs": [],
   "source": [
    "from sklearn.model_selection import cross_validate\n",
    "from sklearn.pipeline import make_pipeline\n",
    "from sklearn.feature_extraction.text import TfidfVectorizer\n",
    "from sklearn.naive_bayes import MultinomialNB\n",
    "from sklearn.metrics import recall_score\n",
    "from sklearn.decomposition import LatentDirichletAllocation\n",
    "from sklearn.naive_bayes import MultinomialNB\n",
    "from sklearn.pipeline import make_pipeline\n",
    "from sklearn.model_selection import cross_validate\n"
   ]
  },
  {
   "cell_type": "code",
   "execution_count": 30,
   "id": "b7f9abde",
   "metadata": {
    "ExecuteTime": {
     "end_time": "2024-11-25T14:37:29.782033Z",
     "start_time": "2024-11-25T14:37:29.776788Z"
    }
   },
   "outputs": [],
   "source": [
    "vecto = TfidfVectorizer()"
   ]
  },
  {
   "cell_type": "code",
   "execution_count": 47,
   "id": "2093e7b6",
   "metadata": {
    "ExecuteTime": {
     "end_time": "2024-11-25T14:56:47.645192Z",
     "start_time": "2024-11-25T14:56:47.640185Z"
    }
   },
   "outputs": [],
   "source": [
    "X = (df['clean'])"
   ]
  },
  {
   "cell_type": "code",
   "execution_count": 59,
   "id": "45287591",
   "metadata": {
    "ExecuteTime": {
     "end_time": "2024-11-25T15:02:24.719274Z",
     "start_time": "2024-11-25T15:02:24.713347Z"
    }
   },
   "outputs": [],
   "source": [
    "y = df['label']"
   ]
  },
  {
   "cell_type": "code",
   "execution_count": 41,
   "id": "9ae6fa8c",
   "metadata": {
    "ExecuteTime": {
     "end_time": "2024-11-25T14:53:32.853874Z",
     "start_time": "2024-11-25T14:53:32.848703Z"
    }
   },
   "outputs": [],
   "source": [
    "model = MultinomialNB()"
   ]
  },
  {
   "cell_type": "code",
   "execution_count": 43,
   "id": "a42ff6d0",
   "metadata": {
    "ExecuteTime": {
     "end_time": "2024-11-25T14:54:08.787306Z",
     "start_time": "2024-11-25T14:54:08.782060Z"
    }
   },
   "outputs": [],
   "source": [
    "pipe = make_pipeline(\n",
    "    vecto,\n",
    "    model)"
   ]
  },
  {
   "cell_type": "code",
   "execution_count": 64,
   "id": "3b41644b",
   "metadata": {
    "ExecuteTime": {
     "end_time": "2024-11-25T15:09:40.105769Z",
     "start_time": "2024-11-25T15:09:29.926826Z"
    },
    "scrolled": true
   },
   "outputs": [],
   "source": [
    "cv_res = cross_validate(pipe,X,y, scoring = ['accuracy'])"
   ]
  },
  {
   "cell_type": "code",
   "execution_count": 62,
   "id": "d560b083",
   "metadata": {
    "ExecuteTime": {
     "end_time": "2024-11-25T15:02:51.395157Z",
     "start_time": "2024-11-25T15:02:51.387850Z"
    }
   },
   "outputs": [
    {
     "data": {
      "text/plain": [
       "0.22327228858461576"
      ]
     },
     "execution_count": 62,
     "metadata": {},
     "output_type": "execute_result"
    }
   ],
   "source": [
    "cv_res.get('test_recall').mean()"
   ]
  },
  {
   "cell_type": "code",
   "execution_count": 42,
   "id": "bbd77e95",
   "metadata": {
    "ExecuteTime": {
     "end_time": "2024-11-25T14:53:34.884807Z",
     "start_time": "2024-11-25T14:53:34.878510Z"
    }
   },
   "outputs": [],
   "source": [
    "def print_topics(model, vectorizer):\n",
    "    for idx, topic in enumerate(model.components_):\n",
    "        print(\"Topic %d:\" % (idx))\n",
    "        print([(vectorizer.get_feature_names_out()[i], topic[i])\n",
    "                        for i in topic.argsort()[:-10 - 1:-1]])"
   ]
  },
  {
   "cell_type": "code",
   "execution_count": null,
   "id": "e6c3d9e0",
   "metadata": {},
   "outputs": [],
   "source": [
    "print_topics(model,vecto)"
   ]
  }
 ],
 "metadata": {
  "kernelspec": {
   "display_name": "Python 3 (ipykernel)",
   "language": "python",
   "name": "python3"
  },
  "language_info": {
   "codemirror_mode": {
    "name": "ipython",
    "version": 3
   },
   "file_extension": ".py",
   "mimetype": "text/x-python",
   "name": "python",
   "nbconvert_exporter": "python",
   "pygments_lexer": "ipython3",
   "version": "3.10.6"
  },
  "toc": {
   "base_numbering": 1,
   "nav_menu": {},
   "number_sections": true,
   "sideBar": true,
   "skip_h1_title": false,
   "title_cell": "Table of Contents",
   "title_sidebar": "Contents",
   "toc_cell": false,
   "toc_position": {},
   "toc_section_display": true,
   "toc_window_display": false
  }
 },
 "nbformat": 4,
 "nbformat_minor": 5
}
