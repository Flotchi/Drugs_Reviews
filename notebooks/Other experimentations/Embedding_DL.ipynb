{
 "cells": [
  {
   "cell_type": "code",
   "execution_count": 3,
   "id": "f5737142",
   "metadata": {
    "ExecuteTime": {
     "end_time": "2024-11-27T14:15:21.402574Z",
     "start_time": "2024-11-27T14:15:10.672488Z"
    }
   },
   "outputs": [
    {
     "name": "stderr",
     "output_type": "stream",
     "text": [
      "2024-11-27 15:15:14.860641: I tensorflow/core/platform/cpu_feature_guard.cc:210] This TensorFlow binary is optimized to use available CPU instructions in performance-critical operations.\n",
      "To enable the following instructions: AVX2 FMA, in other operations, rebuild TensorFlow with the appropriate compiler flags.\n"
     ]
    }
   ],
   "source": [
    "from gensim.models import Word2Vec\n",
    "from tensorflow.keras.preprocessing.sequence import pad_sequences\n",
    "import numpy as np"
   ]
  },
  {
   "cell_type": "code",
   "execution_count": 4,
   "id": "fdfc6fc4",
   "metadata": {
    "ExecuteTime": {
     "end_time": "2024-11-27T14:15:21.415676Z",
     "start_time": "2024-11-27T14:15:21.411324Z"
    }
   },
   "outputs": [],
   "source": [
    "import gensim.downloader as api"
   ]
  },
  {
   "cell_type": "code",
   "execution_count": 16,
   "id": "dca25949",
   "metadata": {
    "ExecuteTime": {
     "end_time": "2024-11-27T16:12:21.265871Z",
     "start_time": "2024-11-27T16:12:21.260476Z"
    }
   },
   "outputs": [],
   "source": [
    "from logic import processing"
   ]
  },
  {
   "cell_type": "code",
   "execution_count": 17,
   "id": "70b0e090",
   "metadata": {
    "ExecuteTime": {
     "end_time": "2024-11-27T16:13:24.027856Z",
     "start_time": "2024-11-27T16:13:23.635645Z"
    }
   },
   "outputs": [],
   "source": [
    "data = processing.load_data('Combined Data.csv')"
   ]
  },
  {
   "cell_type": "code",
   "execution_count": 20,
   "id": "b5797569",
   "metadata": {
    "ExecuteTime": {
     "end_time": "2024-11-27T16:16:44.306455Z",
     "start_time": "2024-11-27T16:15:32.349507Z"
    }
   },
   "outputs": [],
   "source": [
    "df = processing.preproc(data,bi = True)"
   ]
  },
  {
   "cell_type": "code",
   "execution_count": 22,
   "id": "ec12e3cd",
   "metadata": {
    "ExecuteTime": {
     "end_time": "2024-11-27T16:17:25.659514Z",
     "start_time": "2024-11-27T16:17:25.636890Z"
    }
   },
   "outputs": [
    {
     "data": {
      "text/html": [
       "<div>\n",
       "<style scoped>\n",
       "    .dataframe tbody tr th:only-of-type {\n",
       "        vertical-align: middle;\n",
       "    }\n",
       "\n",
       "    .dataframe tbody tr th {\n",
       "        vertical-align: top;\n",
       "    }\n",
       "\n",
       "    .dataframe thead th {\n",
       "        text-align: right;\n",
       "    }\n",
       "</style>\n",
       "<table border=\"1\" class=\"dataframe\">\n",
       "  <thead>\n",
       "    <tr style=\"text-align: right;\">\n",
       "      <th></th>\n",
       "      <th>Unnamed: 0</th>\n",
       "      <th>statement</th>\n",
       "      <th>status</th>\n",
       "      <th>clean</th>\n",
       "      <th>label</th>\n",
       "    </tr>\n",
       "  </thead>\n",
       "  <tbody>\n",
       "    <tr>\n",
       "      <th>0</th>\n",
       "      <td>0</td>\n",
       "      <td>oh my gosh</td>\n",
       "      <td>Anxiety</td>\n",
       "      <td>oh gosh</td>\n",
       "      <td>0</td>\n",
       "    </tr>\n",
       "    <tr>\n",
       "      <th>1</th>\n",
       "      <td>1</td>\n",
       "      <td>trouble sleeping, confused mind, restless hear...</td>\n",
       "      <td>Anxiety</td>\n",
       "      <td>trouble sleep confuse mind restless heart tune</td>\n",
       "      <td>0</td>\n",
       "    </tr>\n",
       "    <tr>\n",
       "      <th>2</th>\n",
       "      <td>2</td>\n",
       "      <td>All wrong, back off dear, forward doubt. Stay ...</td>\n",
       "      <td>Anxiety</td>\n",
       "      <td>wrong back dear forward doubt stay restless re...</td>\n",
       "      <td>0</td>\n",
       "    </tr>\n",
       "    <tr>\n",
       "      <th>3</th>\n",
       "      <td>3</td>\n",
       "      <td>I've shifted my focus to something else but I'...</td>\n",
       "      <td>Anxiety</td>\n",
       "      <td>ive shift focus something else im still worry</td>\n",
       "      <td>0</td>\n",
       "    </tr>\n",
       "    <tr>\n",
       "      <th>4</th>\n",
       "      <td>4</td>\n",
       "      <td>I'm restless and restless, it's been a month n...</td>\n",
       "      <td>Anxiety</td>\n",
       "      <td>im restless restless month boy mean</td>\n",
       "      <td>0</td>\n",
       "    </tr>\n",
       "  </tbody>\n",
       "</table>\n",
       "</div>"
      ],
      "text/plain": [
       "   Unnamed: 0                                          statement   status  \\\n",
       "0           0                                         oh my gosh  Anxiety   \n",
       "1           1  trouble sleeping, confused mind, restless hear...  Anxiety   \n",
       "2           2  All wrong, back off dear, forward doubt. Stay ...  Anxiety   \n",
       "3           3  I've shifted my focus to something else but I'...  Anxiety   \n",
       "4           4  I'm restless and restless, it's been a month n...  Anxiety   \n",
       "\n",
       "                                               clean  label  \n",
       "0                                            oh gosh      0  \n",
       "1     trouble sleep confuse mind restless heart tune      0  \n",
       "2  wrong back dear forward doubt stay restless re...      0  \n",
       "3      ive shift focus something else im still worry      0  \n",
       "4                im restless restless month boy mean      0  "
      ]
     },
     "execution_count": 22,
     "metadata": {},
     "output_type": "execute_result"
    }
   ],
   "source": [
    "df.head()"
   ]
  },
  {
   "cell_type": "code",
   "execution_count": 39,
   "id": "7e9cafa1",
   "metadata": {
    "ExecuteTime": {
     "end_time": "2024-11-27T18:12:37.593985Z",
     "start_time": "2024-11-27T18:12:37.565371Z"
    }
   },
   "outputs": [],
   "source": [
    "X = df.clean\n",
    "y= df.label"
   ]
  },
  {
   "cell_type": "markdown",
   "id": "45d8a596",
   "metadata": {},
   "source": [
    "Either train a model --> Word2vec()\n",
    "Either load a pre-trained model --W api.load(model)"
   ]
  },
  {
   "cell_type": "code",
   "execution_count": 5,
   "id": "d9da71d1",
   "metadata": {
    "ExecuteTime": {
     "end_time": "2024-11-27T14:15:21.731516Z",
     "start_time": "2024-11-27T14:15:21.419053Z"
    }
   },
   "outputs": [
    {
     "name": "stdout",
     "output_type": "stream",
     "text": [
      "['fasttext-wiki-news-subwords-300', 'conceptnet-numberbatch-17-06-300', 'word2vec-ruscorpora-300', 'word2vec-google-news-300', 'glove-wiki-gigaword-50', 'glove-wiki-gigaword-100', 'glove-wiki-gigaword-200', 'glove-wiki-gigaword-300', 'glove-twitter-25', 'glove-twitter-50', 'glove-twitter-100', 'glove-twitter-200', '__testing_word2vec-matrix-synopsis']\n"
     ]
    }
   ],
   "source": [
    "#Choose a model embedding\n",
    "print(list(api.info()['models'].keys()))"
   ]
  },
  {
   "cell_type": "code",
   "execution_count": 6,
   "id": "8751d7b1",
   "metadata": {
    "ExecuteTime": {
     "end_time": "2024-11-27T14:16:12.979658Z",
     "start_time": "2024-11-27T14:15:24.356689Z"
    }
   },
   "outputs": [
    {
     "name": "stdout",
     "output_type": "stream",
     "text": [
      "[==================================================] 100.0% 66.0/66.0MB downloaded\n"
     ]
    }
   ],
   "source": [
    "word2vec_transfer = api.load(\"glove-wiki-gigaword-50\")"
   ]
  },
  {
   "cell_type": "code",
   "execution_count": 7,
   "id": "89be50e7",
   "metadata": {
    "ExecuteTime": {
     "end_time": "2024-11-27T14:16:13.062952Z",
     "start_time": "2024-11-27T14:16:12.985473Z"
    }
   },
   "outputs": [],
   "source": [
    "#Parameters\n",
    "vector_size=60\n",
    "min_count=10\n",
    "window=10\n",
    "maxlen=200"
   ]
  },
  {
   "cell_type": "code",
   "execution_count": 40,
   "id": "02c98086",
   "metadata": {
    "ExecuteTime": {
     "end_time": "2024-11-27T18:13:13.668951Z",
     "start_time": "2024-11-27T18:12:50.562468Z"
    }
   },
   "outputs": [],
   "source": [
    "word2vec = Word2Vec(sentences=X, vector_size=60, min_count=5, window=5)\n",
    "wv = word2vec.wv"
   ]
  },
  {
   "cell_type": "code",
   "execution_count": 24,
   "id": "c8616d99",
   "metadata": {
    "ExecuteTime": {
     "end_time": "2024-11-27T16:18:44.681433Z",
     "start_time": "2024-11-27T16:18:44.670794Z"
    }
   },
   "outputs": [],
   "source": [
    "#Sentence to list\n",
    "def embed_sentence(word2vec, sentence):\n",
    "    embedded_sentence = []\n",
    "    for word in sentence:\n",
    "        if word in word2vec.wv:\n",
    "            embedded_sentence.append(word2vec.wv[word])\n",
    "        \n",
    "    return np.array(embedded_sentence)"
   ]
  },
  {
   "cell_type": "code",
   "execution_count": 25,
   "id": "c9cc09d5",
   "metadata": {
    "ExecuteTime": {
     "end_time": "2024-11-27T16:18:45.455117Z",
     "start_time": "2024-11-27T16:18:45.444994Z"
    }
   },
   "outputs": [],
   "source": [
    "# Function that converts a list of sentences into a list of matrices\n",
    "def embedding(word2vec, sentences):\n",
    "    embed = []\n",
    "    \n",
    "    for sentence in sentences:\n",
    "        embedded_sentence = embed_sentence(word2vec, sentence)\n",
    "        embed.append(embedded_sentence)\n",
    "        \n",
    "    return embed"
   ]
  },
  {
   "cell_type": "code",
   "execution_count": 26,
   "id": "83ac30d2",
   "metadata": {
    "ExecuteTime": {
     "end_time": "2024-11-27T16:20:12.023574Z",
     "start_time": "2024-11-27T16:18:55.324697Z"
    }
   },
   "outputs": [],
   "source": [
    "# Embed the training and test sentences\n",
    "X_embed = embedding(word2vec, X)"
   ]
  },
  {
   "cell_type": "markdown",
   "id": "7126c9be",
   "metadata": {},
   "source": [
    "Padding"
   ]
  },
  {
   "cell_type": "code",
   "execution_count": null,
   "id": "88fce4f6",
   "metadata": {},
   "outputs": [],
   "source": []
  }
 ],
 "metadata": {
  "kernelspec": {
   "display_name": "Python 3 (ipykernel)",
   "language": "python",
   "name": "python3"
  },
  "language_info": {
   "codemirror_mode": {
    "name": "ipython",
    "version": 3
   },
   "file_extension": ".py",
   "mimetype": "text/x-python",
   "name": "python",
   "nbconvert_exporter": "python",
   "pygments_lexer": "ipython3",
   "version": "3.10.6"
  },
  "toc": {
   "base_numbering": 1,
   "nav_menu": {},
   "number_sections": true,
   "sideBar": true,
   "skip_h1_title": false,
   "title_cell": "Table of Contents",
   "title_sidebar": "Contents",
   "toc_cell": false,
   "toc_position": {},
   "toc_section_display": true,
   "toc_window_display": false
  }
 },
 "nbformat": 4,
 "nbformat_minor": 5
}
