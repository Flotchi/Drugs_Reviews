{
 "cells": [
  {
   "cell_type": "code",
   "execution_count": 34,
   "id": "f5737142",
   "metadata": {
    "ExecuteTime": {
     "end_time": "2024-11-27T19:34:26.505298Z",
     "start_time": "2024-11-27T19:34:26.499053Z"
    }
   },
   "outputs": [],
   "source": [
    "from gensim.models import Word2Vec\n",
    "import numpy as np\n",
    "import pandas as pd\n",
    "from sklearn.linear_model import LogisticRegression\n",
    "from sklearn.tree import DecisionTreeClassifier\n",
    "from sklearn.model_selection import cross_validate\n",
    "from imblearn.over_sampling import RandomOverSampler,SMOTE\n",
    "from sklearn.preprocessing import LabelEncoder"
   ]
  },
  {
   "cell_type": "code",
   "execution_count": 2,
   "id": "0491d9a9",
   "metadata": {
    "ExecuteTime": {
     "end_time": "2024-11-27T18:56:13.956573Z",
     "start_time": "2024-11-27T18:56:12.066262Z"
    }
   },
   "outputs": [
    {
     "name": "stderr",
     "output_type": "stream",
     "text": [
      "[nltk_data] Downloading package stopwords to\n",
      "[nltk_data]     /Users/Flotchi/nltk_data...\n",
      "[nltk_data]   Package stopwords is already up-to-date!\n",
      "[nltk_data] Downloading package punkt to /Users/Flotchi/nltk_data...\n",
      "[nltk_data]   Package punkt is already up-to-date!\n",
      "[nltk_data] Downloading package wordnet to /Users/Flotchi/nltk_data...\n",
      "[nltk_data]   Package wordnet is already up-to-date!\n",
      "[nltk_data] Downloading package omw-1.4 to /Users/Flotchi/nltk_data...\n",
      "[nltk_data]   Package omw-1.4 is already up-to-date!\n",
      "[nltk_data] Downloading package punkt_tab to\n",
      "[nltk_data]     /Users/Flotchi/nltk_data...\n",
      "[nltk_data]   Package punkt_tab is already up-to-date!\n"
     ]
    }
   ],
   "source": [
    "from logic import processing"
   ]
  },
  {
   "cell_type": "code",
   "execution_count": 3,
   "id": "73a7c596",
   "metadata": {
    "ExecuteTime": {
     "end_time": "2024-11-27T18:56:15.552625Z",
     "start_time": "2024-11-27T18:56:15.154068Z"
    }
   },
   "outputs": [],
   "source": [
    "data = processing.load_data('Combined Data.csv')"
   ]
  },
  {
   "cell_type": "code",
   "execution_count": 5,
   "id": "d3b14ed0",
   "metadata": {
    "ExecuteTime": {
     "end_time": "2024-11-27T18:57:43.298141Z",
     "start_time": "2024-11-27T18:56:25.519906Z"
    }
   },
   "outputs": [],
   "source": [
    "df = processing.preproc(data,bi = False)"
   ]
  },
  {
   "cell_type": "code",
   "execution_count": 7,
   "id": "353b957a",
   "metadata": {
    "ExecuteTime": {
     "end_time": "2024-11-27T18:58:16.866899Z",
     "start_time": "2024-11-27T18:58:16.830204Z"
    }
   },
   "outputs": [
    {
     "data": {
      "text/html": [
       "<div>\n",
       "<style scoped>\n",
       "    .dataframe tbody tr th:only-of-type {\n",
       "        vertical-align: middle;\n",
       "    }\n",
       "\n",
       "    .dataframe tbody tr th {\n",
       "        vertical-align: top;\n",
       "    }\n",
       "\n",
       "    .dataframe thead th {\n",
       "        text-align: right;\n",
       "    }\n",
       "</style>\n",
       "<table border=\"1\" class=\"dataframe\">\n",
       "  <thead>\n",
       "    <tr style=\"text-align: right;\">\n",
       "      <th></th>\n",
       "      <th>Unnamed: 0</th>\n",
       "      <th>statement</th>\n",
       "      <th>status</th>\n",
       "      <th>clean</th>\n",
       "    </tr>\n",
       "  </thead>\n",
       "  <tbody>\n",
       "    <tr>\n",
       "      <th>0</th>\n",
       "      <td>0</td>\n",
       "      <td>oh my gosh</td>\n",
       "      <td>Anxiety</td>\n",
       "      <td>oh gosh</td>\n",
       "    </tr>\n",
       "    <tr>\n",
       "      <th>1</th>\n",
       "      <td>1</td>\n",
       "      <td>trouble sleeping, confused mind, restless hear...</td>\n",
       "      <td>Anxiety</td>\n",
       "      <td>trouble sleep confuse mind restless heart tune</td>\n",
       "    </tr>\n",
       "    <tr>\n",
       "      <th>2</th>\n",
       "      <td>2</td>\n",
       "      <td>All wrong, back off dear, forward doubt. Stay ...</td>\n",
       "      <td>Anxiety</td>\n",
       "      <td>wrong back dear forward doubt stay restless re...</td>\n",
       "    </tr>\n",
       "    <tr>\n",
       "      <th>3</th>\n",
       "      <td>3</td>\n",
       "      <td>I've shifted my focus to something else but I'...</td>\n",
       "      <td>Anxiety</td>\n",
       "      <td>ive shift focus something else im still worry</td>\n",
       "    </tr>\n",
       "    <tr>\n",
       "      <th>4</th>\n",
       "      <td>4</td>\n",
       "      <td>I'm restless and restless, it's been a month n...</td>\n",
       "      <td>Anxiety</td>\n",
       "      <td>im restless restless month boy mean</td>\n",
       "    </tr>\n",
       "  </tbody>\n",
       "</table>\n",
       "</div>"
      ],
      "text/plain": [
       "   Unnamed: 0                                          statement   status  \\\n",
       "0           0                                         oh my gosh  Anxiety   \n",
       "1           1  trouble sleeping, confused mind, restless hear...  Anxiety   \n",
       "2           2  All wrong, back off dear, forward doubt. Stay ...  Anxiety   \n",
       "3           3  I've shifted my focus to something else but I'...  Anxiety   \n",
       "4           4  I'm restless and restless, it's been a month n...  Anxiety   \n",
       "\n",
       "                                               clean  \n",
       "0                                            oh gosh  \n",
       "1     trouble sleep confuse mind restless heart tune  \n",
       "2  wrong back dear forward doubt stay restless re...  \n",
       "3      ive shift focus something else im still worry  \n",
       "4                im restless restless month boy mean  "
      ]
     },
     "execution_count": 7,
     "metadata": {},
     "output_type": "execute_result"
    }
   ],
   "source": [
    "df.head()"
   ]
  },
  {
   "cell_type": "code",
   "execution_count": 8,
   "id": "a7458edd",
   "metadata": {
    "ExecuteTime": {
     "end_time": "2024-11-27T18:58:31.352536Z",
     "start_time": "2024-11-27T18:58:31.345519Z"
    }
   },
   "outputs": [],
   "source": [
    "X = df.clean\n",
    "y= df.status"
   ]
  },
  {
   "cell_type": "code",
   "execution_count": 10,
   "id": "c8616d99",
   "metadata": {
    "ExecuteTime": {
     "end_time": "2024-11-27T19:02:42.545633Z",
     "start_time": "2024-11-27T19:02:42.537361Z"
    }
   },
   "outputs": [],
   "source": [
    "def embed_sentence(word2vec, sentence):\n",
    "    \"\"\"Embed a sentence by averaging the embeddings of its words.\"\"\"\n",
    "    embedded_words = [word2vec.wv[word] for word in sentence if word in word2vec.wv]\n",
    "    if not embedded_words:\n",
    "        return np.zeros(word2vec.vector_size)  # Phrase sans mots connus -> vecteur nul\n",
    "    return np.mean(embedded_words, axis=0)\n",
    "\n",
    "def embedding(word2vec, sentences):\n",
    "    \"\"\"Embed a list of sentences.\"\"\"\n",
    "    return np.array([embed_sentence(word2vec, sentence.split()) for sentence in sentences])\n"
   ]
  },
  {
   "cell_type": "code",
   "execution_count": 13,
   "id": "0ed5c769",
   "metadata": {
    "ExecuteTime": {
     "end_time": "2024-11-27T19:04:24.570440Z",
     "start_time": "2024-11-27T19:04:02.800467Z"
    }
   },
   "outputs": [],
   "source": [
    "# Entraîner Word2Vec\n",
    "word2vec = Word2Vec(sentences=[sentence.split() for sentence in X], \n",
    "                    vector_size=60, \n",
    "                    min_count=5, \n",
    "                    window=5)\n",
    "\n",
    "# Embedding des données\n",
    "X_embed = embedding(word2vec, X)"
   ]
  },
  {
   "cell_type": "code",
   "execution_count": 14,
   "id": "22558d2c",
   "metadata": {
    "ExecuteTime": {
     "end_time": "2024-11-27T19:04:27.524767Z",
     "start_time": "2024-11-27T19:04:27.313026Z"
    }
   },
   "outputs": [],
   "source": [
    "ros = RandomOverSampler(random_state=101)\n",
    "X_resampled, y_resampled = ros.fit_resample(X_embed, y)"
   ]
  },
  {
   "cell_type": "code",
   "execution_count": 21,
   "id": "a3e16fbd",
   "metadata": {
    "ExecuteTime": {
     "end_time": "2024-11-27T19:11:31.646159Z",
     "start_time": "2024-11-27T19:11:31.603488Z"
    }
   },
   "outputs": [],
   "source": [
    "label_encoder = LabelEncoder()\n",
    "y_encoded = label_encoder.fit_transform(y_resampled)"
   ]
  },
  {
   "cell_type": "code",
   "execution_count": 22,
   "id": "56cc8423",
   "metadata": {
    "ExecuteTime": {
     "end_time": "2024-11-27T19:12:30.604373Z",
     "start_time": "2024-11-27T19:11:38.586291Z"
    }
   },
   "outputs": [
    {
     "name": "stdout",
     "output_type": "stream",
     "text": [
      "{'fit_time': array([ 8.72809196,  9.4235661 , 10.25048399, 13.70297027,  9.66559696]), 'score_time': array([0.02637792, 0.02825785, 0.02315712, 0.02392077, 0.02332616]), 'test_accuracy': array([0.61270313, 0.59658396, 0.5889651 , 0.57507317, 0.57070464]), 'test_precision_macro': array([0.61259926, 0.59685518, 0.58954285, 0.57140771, 0.56656844]), 'test_recall_macro': array([0.61269782, 0.59658165, 0.5889691 , 0.57507194, 0.57070873])}\n"
     ]
    }
   ],
   "source": [
    "model = LogisticRegression(max_iter=1000)\n",
    "\n",
    "# Cross-validation\n",
    "cv_results = cross_validate(\n",
    "    model,\n",
    "    X_resampled,\n",
    "    y_encoded,\n",
    "    scoring=['accuracy', 'precision_macro', 'recall_macro'],\n",
    "    cv=5,  # Par exemple, 5-fold cross-validation\n",
    ")\n",
    "\n",
    "print(cv_results)"
   ]
  },
  {
   "cell_type": "code",
   "execution_count": 23,
   "id": "0e955f21",
   "metadata": {
    "ExecuteTime": {
     "end_time": "2024-11-27T19:12:48.857636Z",
     "start_time": "2024-11-27T19:12:48.843682Z"
    }
   },
   "outputs": [
    {
     "data": {
      "text/plain": [
       "0.5888059998507081"
      ]
     },
     "execution_count": 23,
     "metadata": {},
     "output_type": "execute_result"
    }
   ],
   "source": [
    "cv_results['test_accuracy'].mean()"
   ]
  },
  {
   "cell_type": "code",
   "execution_count": 29,
   "id": "103dc50c",
   "metadata": {
    "ExecuteTime": {
     "end_time": "2024-11-27T19:23:58.162500Z",
     "start_time": "2024-11-27T19:23:28.639088Z"
    },
    "scrolled": true
   },
   "outputs": [
    {
     "name": "stdout",
     "output_type": "stream",
     "text": [
      "                      precision    recall  f1-score   support\n",
      "\n",
      "             Anxiety       0.64      0.62      0.63     16351\n",
      "             Bipolar       0.54      0.56      0.55     16351\n",
      "          Depression       0.35      0.21      0.26     16351\n",
      "              Normal       0.72      0.53      0.61     16351\n",
      "Personality disorder       0.53      0.76      0.63     16351\n",
      "              Stress       0.45      0.50      0.47     16351\n",
      "            Suicidal       0.54      0.60      0.57     16351\n",
      "\n",
      "            accuracy                           0.54    114457\n",
      "           macro avg       0.54      0.54      0.53    114457\n",
      "        weighted avg       0.54      0.54      0.53    114457\n",
      "\n"
     ]
    }
   ],
   "source": [
    "from sklearn.model_selection import cross_val_predict\n",
    "from sklearn.metrics import classification_report\n",
    "y_pred = cross_val_predict(model2, X_resampled, y_encoded, cv=5)\n",
    "\n",
    "# Rapport détaillé\n",
    "report = classification_report(y_encoded, y_pred, target_names=label_encoder.classes_)\n",
    "print(report)"
   ]
  },
  {
   "cell_type": "code",
   "execution_count": 26,
   "id": "b9782dda",
   "metadata": {
    "ExecuteTime": {
     "end_time": "2024-11-27T19:17:54.464378Z",
     "start_time": "2024-11-27T19:17:26.219043Z"
    }
   },
   "outputs": [
    {
     "name": "stdout",
     "output_type": "stream",
     "text": [
      "{'fit_time': array([6.06056905, 5.86930108, 5.12427402, 5.25986028, 5.71875   ]), 'score_time': array([0.04073095, 0.02344012, 0.0246911 , 0.03212285, 0.02347088]), 'test_accuracy': array([0.54857592, 0.5436397 , 0.53545061, 0.54008125, 0.53261107]), 'test_precision_macro': array([0.55433967, 0.54765892, 0.54024197, 0.53107546, 0.52554514]), 'test_recall_macro': array([0.54857186, 0.54363096, 0.53546324, 0.54007878, 0.53261648])}\n"
     ]
    }
   ],
   "source": [
    "model2 = DecisionTreeClassifier(max_depth=9, min_samples_split=5, random_state=101)\n",
    "\n",
    "cv_results = cross_validate(\n",
    "    model2,\n",
    "    X_resampled,\n",
    "    y_encoded,\n",
    "    scoring=['accuracy', 'precision_macro', 'recall_macro'],\n",
    "    cv=5,  # Par exemple, 5-fold cross-validation\n",
    ")\n",
    "\n",
    "print(cv_results)"
   ]
  },
  {
   "cell_type": "code",
   "execution_count": 27,
   "id": "827e9cdd",
   "metadata": {
    "ExecuteTime": {
     "end_time": "2024-11-27T19:18:13.697207Z",
     "start_time": "2024-11-27T19:18:13.685942Z"
    }
   },
   "outputs": [
    {
     "data": {
      "text/plain": [
       "0.5400717118900775"
      ]
     },
     "execution_count": 27,
     "metadata": {},
     "output_type": "execute_result"
    }
   ],
   "source": [
    "cv_results['test_accuracy'].mean()"
   ]
  }
 ],
 "metadata": {
  "kernelspec": {
   "display_name": "Python 3 (ipykernel)",
   "language": "python",
   "name": "python3"
  },
  "language_info": {
   "codemirror_mode": {
    "name": "ipython",
    "version": 3
   },
   "file_extension": ".py",
   "mimetype": "text/x-python",
   "name": "python",
   "nbconvert_exporter": "python",
   "pygments_lexer": "ipython3",
   "version": "3.10.6"
  },
  "toc": {
   "base_numbering": 1,
   "nav_menu": {},
   "number_sections": true,
   "sideBar": true,
   "skip_h1_title": false,
   "title_cell": "Table of Contents",
   "title_sidebar": "Contents",
   "toc_cell": false,
   "toc_position": {},
   "toc_section_display": true,
   "toc_window_display": false
  }
 },
 "nbformat": 4,
 "nbformat_minor": 5
}
