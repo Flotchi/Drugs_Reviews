{
 "cells": [
  {
   "cell_type": "markdown",
   "id": "496aafa9-23b0-4f5d-8996-af09bca763fd",
   "metadata": {},
   "source": [
    "##### Deep Learing ###"
   ]
  },
  {
   "cell_type": "markdown",
   "id": "9969e306-d0dc-40fd-922c-b1af9d728962",
   "metadata": {},
   "source": [
    "1) Data Cleaning"
   ]
  },
  {
   "cell_type": "code",
   "execution_count": 23,
   "id": "d8b6c5ae",
   "metadata": {
    "ExecuteTime": {
     "end_time": "2024-12-01T18:29:30.975168Z",
     "start_time": "2024-12-01T18:29:30.737404Z"
    }
   },
   "outputs": [],
   "source": [
    "from tensorflow.keras import backend as K\n",
    "K.clear_session()"
   ]
  },
  {
   "cell_type": "code",
   "execution_count": 27,
   "id": "ab1964dc-5921-48ce-b6f6-d39acd365bf1",
   "metadata": {
    "ExecuteTime": {
     "end_time": "2024-12-01T18:31:57.192371Z",
     "start_time": "2024-12-01T18:31:57.186139Z"
    },
    "scrolled": true
   },
   "outputs": [],
   "source": [
    "from logic.processing import load_data, preproc\n",
    "import os\n",
    "import string\n",
    "import nltk\n",
    "\n",
    "\n",
    "import pandas as pd\n",
    "import numpy as np\n",
    "from tensorflow.keras.preprocessing.text import Tokenizer\n",
    "from tensorflow.keras.preprocessing.sequence import pad_sequences\n",
    "from sklearn.preprocessing import LabelEncoder\n",
    "\n",
    "from keras.models import Sequential\n",
    "from keras.layers import Embedding, Flatten, Dense"
   ]
  },
  {
   "cell_type": "code",
   "execution_count": 2,
   "id": "5779221a",
   "metadata": {
    "ExecuteTime": {
     "end_time": "2024-12-01T18:25:45.244033Z",
     "start_time": "2024-12-01T18:25:45.219162Z"
    }
   },
   "outputs": [
    {
     "name": "stderr",
     "output_type": "stream",
     "text": [
      "[nltk_data] Downloading package stopwords to\n",
      "[nltk_data]     /Users/Flotchi/nltk_data...\n",
      "[nltk_data]   Package stopwords is already up-to-date!\n",
      "[nltk_data] Downloading package punkt to /Users/Flotchi/nltk_data...\n",
      "[nltk_data]   Package punkt is already up-to-date!\n",
      "[nltk_data] Downloading package wordnet to /Users/Flotchi/nltk_data...\n",
      "[nltk_data]   Package wordnet is already up-to-date!\n",
      "[nltk_data] Downloading package omw-1.4 to /Users/Flotchi/nltk_data...\n",
      "[nltk_data]   Package omw-1.4 is already up-to-date!\n",
      "[nltk_data] Downloading package punkt_tab to\n",
      "[nltk_data]     /Users/Flotchi/nltk_data...\n",
      "[nltk_data]   Package punkt_tab is already up-to-date!\n"
     ]
    },
    {
     "data": {
      "text/plain": [
       "True"
      ]
     },
     "execution_count": 2,
     "metadata": {},
     "output_type": "execute_result"
    }
   ],
   "source": [
    "nltk.download('stopwords')\n",
    "nltk.download('punkt')\n",
    "nltk.download('wordnet')\n",
    "nltk.download('omw-1.4')\n",
    "nltk.download('punkt_tab')"
   ]
  },
  {
   "cell_type": "code",
   "execution_count": 3,
   "id": "8f82a580",
   "metadata": {
    "ExecuteTime": {
     "end_time": "2024-12-01T18:25:45.269752Z",
     "start_time": "2024-12-01T18:25:45.253462Z"
    }
   },
   "outputs": [],
   "source": [
    "from nltk.tokenize import word_tokenize\n",
    "from nltk.corpus import stopwords\n",
    "from nltk.stem import WordNetLemmatizer"
   ]
  },
  {
   "cell_type": "code",
   "execution_count": 4,
   "id": "71d21053",
   "metadata": {
    "ExecuteTime": {
     "end_time": "2024-12-01T18:25:45.298632Z",
     "start_time": "2024-12-01T18:25:45.282289Z"
    }
   },
   "outputs": [],
   "source": [
    "path = os.getcwd()"
   ]
  },
  {
   "cell_type": "code",
   "execution_count": 5,
   "id": "6a9673f1-9bc2-48af-a7f8-445ac2095a32",
   "metadata": {
    "ExecuteTime": {
     "end_time": "2024-12-01T18:25:46.296173Z",
     "start_time": "2024-12-01T18:25:45.310028Z"
    }
   },
   "outputs": [],
   "source": [
    "rpath_train = os.path.join(os.path.dirname(path),'raw_data', 'drugsComTrain_raw.csv') \n",
    "df_train = pd.read_csv(rpath_train)"
   ]
  },
  {
   "cell_type": "code",
   "execution_count": 6,
   "id": "29a61c74",
   "metadata": {
    "ExecuteTime": {
     "end_time": "2024-12-01T18:25:46.646156Z",
     "start_time": "2024-12-01T18:25:46.298885Z"
    }
   },
   "outputs": [],
   "source": [
    "rpath_test = os.path.join(os.path.dirname(path),'raw_data', 'drugsComTest_raw.csv') \n",
    "df_test = pd.read_csv(rpath_test)"
   ]
  },
  {
   "cell_type": "code",
   "execution_count": 7,
   "id": "722c0512-e8bb-4e8e-9d82-35cba6aa0ba1",
   "metadata": {
    "ExecuteTime": {
     "end_time": "2024-12-01T18:25:46.657138Z",
     "start_time": "2024-12-01T18:25:46.648865Z"
    }
   },
   "outputs": [],
   "source": [
    "def data_filter(df,top_conditions=10,uselfCount=0,min_length=30):\n",
    "    \n",
    "    df = df.dropna()\n",
    "    condition_distribution = df['condition'].value_counts()\n",
    "    top_conditions = condition_distribution.head(top_conditions)\n",
    "    top_conditions_list = top_conditions.index.tolist()\n",
    "    df = df[df['condition'].isin(top_conditions_list)]\n",
    "    df = df[df['usefulCount']>uselfCount]\n",
    "    df['review_length'] = df['review'].apply(lambda x: len(str(x).split()))\n",
    "    df = df[df.review_length>=min_length]\n",
    "    \n",
    "    return df"
   ]
  },
  {
   "cell_type": "code",
   "execution_count": 8,
   "id": "8a72e703",
   "metadata": {
    "ExecuteTime": {
     "end_time": "2024-12-01T18:25:46.670679Z",
     "start_time": "2024-12-01T18:25:46.662749Z"
    }
   },
   "outputs": [],
   "source": [
    "def process(df):\n",
    "    def clean(st):\n",
    "        for punc in string.punctuation:\n",
    "            st = st.replace(punc, '')\n",
    "        ans = st.casefold().replace('\\n', ' ')\n",
    "        ansd = ''.join(x for x in ans if not x.isdigit())\n",
    "        stop = set(stopwords.words('english'))\n",
    "        tokens = word_tokenize(ansd)\n",
    "        ansdd = [y for y in tokens if y not in stop]\n",
    "        lemmaverb = [WordNetLemmatizer().lemmatize(word, pos='v') for word in ansdd]\n",
    "        lemmanouns = [WordNetLemmatizer().lemmatize(word, pos='n') for word in lemmaverb]\n",
    "        nans = ' '.join(lemmanouns)\n",
    "        return nans\n",
    "    df['review clean'] = df.review.apply(clean)\n",
    "    return df"
   ]
  },
  {
   "cell_type": "code",
   "execution_count": 9,
   "id": "1213b18e",
   "metadata": {
    "ExecuteTime": {
     "end_time": "2024-12-01T18:25:47.509123Z",
     "start_time": "2024-12-01T18:25:46.687066Z"
    }
   },
   "outputs": [],
   "source": [
    "df_filter_train = data_filter(df_train)\n",
    "df_filter_test = data_filter(df_test)"
   ]
  },
  {
   "cell_type": "code",
   "execution_count": 10,
   "id": "c618da67",
   "metadata": {
    "ExecuteTime": {
     "end_time": "2024-12-01T18:27:48.392072Z",
     "start_time": "2024-12-01T18:25:47.512206Z"
    }
   },
   "outputs": [],
   "source": [
    "df_proc_train = process(df_filter_train)\n",
    "df_proc_test = process(df_filter_test)"
   ]
  },
  {
   "cell_type": "code",
   "execution_count": 11,
   "id": "8791b790",
   "metadata": {
    "ExecuteTime": {
     "end_time": "2024-12-01T18:27:48.451485Z",
     "start_time": "2024-12-01T18:27:48.395227Z"
    }
   },
   "outputs": [],
   "source": [
    "X_train = df_proc_train['review clean']\n",
    "X_test = df_proc_test['review clean']\n",
    "y_train = df_proc_train['condition']\n",
    "y_test = df_proc_test['condition']"
   ]
  },
  {
   "cell_type": "markdown",
   "id": "bae7311a",
   "metadata": {},
   "source": [
    "3) Tokenizer"
   ]
  },
  {
   "cell_type": "code",
   "execution_count": 12,
   "id": "633b3a4b",
   "metadata": {
    "ExecuteTime": {
     "end_time": "2024-12-01T18:27:55.747811Z",
     "start_time": "2024-12-01T18:27:48.470404Z"
    }
   },
   "outputs": [],
   "source": [
    "tokenizer = Tokenizer()\n",
    "tokenizer.fit_on_texts(X_train)\n",
    "X_train_token = tokenizer.texts_to_sequences(X_train)\n",
    "X_test_token = tokenizer.texts_to_sequences(X_test)"
   ]
  },
  {
   "cell_type": "markdown",
   "id": "56f7295e-d1ae-46f5-bb07-c78b2d150f35",
   "metadata": {},
   "source": [
    "5) Label encoding"
   ]
  },
  {
   "cell_type": "code",
   "execution_count": 13,
   "id": "b1d6b3fc-fb6a-4736-960d-b48990f0e8fb",
   "metadata": {
    "ExecuteTime": {
     "end_time": "2024-12-01T18:27:55.777598Z",
     "start_time": "2024-12-01T18:27:55.759566Z"
    }
   },
   "outputs": [],
   "source": [
    "label_encoder = LabelEncoder()\n",
    "y_train_encoded = label_encoder.fit_transform(y_train)\n",
    "y_test_encoded = label_encoder.transform(y_test)"
   ]
  },
  {
   "cell_type": "markdown",
   "id": "73eb8d14-3215-4919-aa53-8b797d4b2cc9",
   "metadata": {},
   "source": [
    "5) Padding"
   ]
  },
  {
   "cell_type": "code",
   "execution_count": 14,
   "id": "47aec75f-90cb-4395-9efe-92e10aef72e5",
   "metadata": {
    "ExecuteTime": {
     "end_time": "2024-12-01T18:27:55.787141Z",
     "start_time": "2024-12-01T18:27:55.781109Z"
    }
   },
   "outputs": [],
   "source": [
    "max_len = 200"
   ]
  },
  {
   "cell_type": "code",
   "execution_count": 15,
   "id": "32fd4022-7ef6-4c0f-b5ab-360a9b7ea92a",
   "metadata": {
    "ExecuteTime": {
     "end_time": "2024-12-01T18:27:56.240078Z",
     "start_time": "2024-12-01T18:27:55.791018Z"
    }
   },
   "outputs": [],
   "source": [
    "X_train_pad = pad_sequences(X_train_token, padding='post',maxlen=max_len)\n",
    "X_test_pad = pad_sequences(X_test_token, padding='post',maxlen=max_len)"
   ]
  },
  {
   "cell_type": "markdown",
   "id": "d2e3a097-bc00-4a77-bfcd-8fa59723039f",
   "metadata": {},
   "source": [
    "6.1) Model A"
   ]
  },
  {
   "cell_type": "code",
   "execution_count": 28,
   "id": "c08e61d0",
   "metadata": {
    "ExecuteTime": {
     "end_time": "2024-12-01T18:32:07.647909Z",
     "start_time": "2024-12-01T18:32:07.621914Z"
    }
   },
   "outputs": [],
   "source": [
    "m1 = Sequential()\n",
    "m1.add(Embedding(input_dim=10000, output_dim=128, input_length=200)) \n",
    "m1.add(Flatten())\n",
    "m1.add(Dense(32, activation = 'relu'))\n",
    "m1.add(Dense(len(y_train_encoded), activation = 'softmax'))\n",
    "\n",
    "m1.compile(optimizer = 'rmsprop', loss = 'categorical_crossentropy', metrics = ['acc'])"
   ]
  },
  {
   "cell_type": "code",
   "execution_count": 29,
   "id": "ab8e1986",
   "metadata": {
    "ExecuteTime": {
     "end_time": "2024-12-01T18:32:08.185845Z",
     "start_time": "2024-12-01T18:32:08.138253Z"
    }
   },
   "outputs": [
    {
     "data": {
      "text/html": [
       "<pre style=\"white-space:pre;overflow-x:auto;line-height:normal;font-family:Menlo,'DejaVu Sans Mono',consolas,'Courier New',monospace\"><span style=\"font-weight: bold\">Model: \"sequential_1\"</span>\n",
       "</pre>\n"
      ],
      "text/plain": [
       "\u001b[1mModel: \"sequential_1\"\u001b[0m\n"
      ]
     },
     "metadata": {},
     "output_type": "display_data"
    },
    {
     "data": {
      "text/html": [
       "<pre style=\"white-space:pre;overflow-x:auto;line-height:normal;font-family:Menlo,'DejaVu Sans Mono',consolas,'Courier New',monospace\">┏━━━━━━━━━━━━━━━━━━━━━━━━━━━━━━━━━┳━━━━━━━━━━━━━━━━━━━━━━━━┳━━━━━━━━━━━━━━━┓\n",
       "┃<span style=\"font-weight: bold\"> Layer (type)                    </span>┃<span style=\"font-weight: bold\"> Output Shape           </span>┃<span style=\"font-weight: bold\">       Param # </span>┃\n",
       "┡━━━━━━━━━━━━━━━━━━━━━━━━━━━━━━━━━╇━━━━━━━━━━━━━━━━━━━━━━━━╇━━━━━━━━━━━━━━━┩\n",
       "│ embedding_1 (<span style=\"color: #0087ff; text-decoration-color: #0087ff\">Embedding</span>)         │ ?                      │   <span style=\"color: #00af00; text-decoration-color: #00af00\">0</span> (unbuilt) │\n",
       "├─────────────────────────────────┼────────────────────────┼───────────────┤\n",
       "│ flatten_1 (<span style=\"color: #0087ff; text-decoration-color: #0087ff\">Flatten</span>)             │ ?                      │   <span style=\"color: #00af00; text-decoration-color: #00af00\">0</span> (unbuilt) │\n",
       "├─────────────────────────────────┼────────────────────────┼───────────────┤\n",
       "│ dense_2 (<span style=\"color: #0087ff; text-decoration-color: #0087ff\">Dense</span>)                 │ ?                      │   <span style=\"color: #00af00; text-decoration-color: #00af00\">0</span> (unbuilt) │\n",
       "├─────────────────────────────────┼────────────────────────┼───────────────┤\n",
       "│ dense_3 (<span style=\"color: #0087ff; text-decoration-color: #0087ff\">Dense</span>)                 │ ?                      │   <span style=\"color: #00af00; text-decoration-color: #00af00\">0</span> (unbuilt) │\n",
       "└─────────────────────────────────┴────────────────────────┴───────────────┘\n",
       "</pre>\n"
      ],
      "text/plain": [
       "┏━━━━━━━━━━━━━━━━━━━━━━━━━━━━━━━━━┳━━━━━━━━━━━━━━━━━━━━━━━━┳━━━━━━━━━━━━━━━┓\n",
       "┃\u001b[1m \u001b[0m\u001b[1mLayer (type)                   \u001b[0m\u001b[1m \u001b[0m┃\u001b[1m \u001b[0m\u001b[1mOutput Shape          \u001b[0m\u001b[1m \u001b[0m┃\u001b[1m \u001b[0m\u001b[1m      Param #\u001b[0m\u001b[1m \u001b[0m┃\n",
       "┡━━━━━━━━━━━━━━━━━━━━━━━━━━━━━━━━━╇━━━━━━━━━━━━━━━━━━━━━━━━╇━━━━━━━━━━━━━━━┩\n",
       "│ embedding_1 (\u001b[38;5;33mEmbedding\u001b[0m)         │ ?                      │   \u001b[38;5;34m0\u001b[0m (unbuilt) │\n",
       "├─────────────────────────────────┼────────────────────────┼───────────────┤\n",
       "│ flatten_1 (\u001b[38;5;33mFlatten\u001b[0m)             │ ?                      │   \u001b[38;5;34m0\u001b[0m (unbuilt) │\n",
       "├─────────────────────────────────┼────────────────────────┼───────────────┤\n",
       "│ dense_2 (\u001b[38;5;33mDense\u001b[0m)                 │ ?                      │   \u001b[38;5;34m0\u001b[0m (unbuilt) │\n",
       "├─────────────────────────────────┼────────────────────────┼───────────────┤\n",
       "│ dense_3 (\u001b[38;5;33mDense\u001b[0m)                 │ ?                      │   \u001b[38;5;34m0\u001b[0m (unbuilt) │\n",
       "└─────────────────────────────────┴────────────────────────┴───────────────┘\n"
      ]
     },
     "metadata": {},
     "output_type": "display_data"
    },
    {
     "data": {
      "text/html": [
       "<pre style=\"white-space:pre;overflow-x:auto;line-height:normal;font-family:Menlo,'DejaVu Sans Mono',consolas,'Courier New',monospace\"><span style=\"font-weight: bold\"> Total params: </span><span style=\"color: #00af00; text-decoration-color: #00af00\">0</span> (0.00 B)\n",
       "</pre>\n"
      ],
      "text/plain": [
       "\u001b[1m Total params: \u001b[0m\u001b[38;5;34m0\u001b[0m (0.00 B)\n"
      ]
     },
     "metadata": {},
     "output_type": "display_data"
    },
    {
     "data": {
      "text/html": [
       "<pre style=\"white-space:pre;overflow-x:auto;line-height:normal;font-family:Menlo,'DejaVu Sans Mono',consolas,'Courier New',monospace\"><span style=\"font-weight: bold\"> Trainable params: </span><span style=\"color: #00af00; text-decoration-color: #00af00\">0</span> (0.00 B)\n",
       "</pre>\n"
      ],
      "text/plain": [
       "\u001b[1m Trainable params: \u001b[0m\u001b[38;5;34m0\u001b[0m (0.00 B)\n"
      ]
     },
     "metadata": {},
     "output_type": "display_data"
    },
    {
     "data": {
      "text/html": [
       "<pre style=\"white-space:pre;overflow-x:auto;line-height:normal;font-family:Menlo,'DejaVu Sans Mono',consolas,'Courier New',monospace\"><span style=\"font-weight: bold\"> Non-trainable params: </span><span style=\"color: #00af00; text-decoration-color: #00af00\">0</span> (0.00 B)\n",
       "</pre>\n"
      ],
      "text/plain": [
       "\u001b[1m Non-trainable params: \u001b[0m\u001b[38;5;34m0\u001b[0m (0.00 B)\n"
      ]
     },
     "metadata": {},
     "output_type": "display_data"
    }
   ],
   "source": [
    "m1.summary()"
   ]
  },
  {
   "cell_type": "code",
   "execution_count": 26,
   "id": "c7f283f0",
   "metadata": {
    "ExecuteTime": {
     "end_time": "2024-12-01T18:30:06.308641Z",
     "start_time": "2024-12-01T18:30:05.740121Z"
    }
   },
   "outputs": [
    {
     "name": "stdout",
     "output_type": "stream",
     "text": [
      "Epoch 1/5\n"
     ]
    },
    {
     "ename": "ValueError",
     "evalue": "Arguments `target` and `output` must have the same rank (ndim). Received: target.shape=(None,), output.shape=(None, 63888)",
     "output_type": "error",
     "traceback": [
      "\u001b[0;31m---------------------------------------------------------------------------\u001b[0m",
      "\u001b[0;31mValueError\u001b[0m                                Traceback (most recent call last)",
      "Cell \u001b[0;32mIn[26], line 1\u001b[0m\n\u001b[0;32m----> 1\u001b[0m history \u001b[38;5;241m=\u001b[39m \u001b[43mm1\u001b[49m\u001b[38;5;241;43m.\u001b[39;49m\u001b[43mfit\u001b[49m\u001b[43m(\u001b[49m\u001b[43mX_train_pad\u001b[49m\u001b[43m,\u001b[49m\u001b[43m \u001b[49m\u001b[43my_train_encoded\u001b[49m\u001b[43m,\u001b[49m\u001b[43m \u001b[49m\u001b[43mvalidation_split\u001b[49m\u001b[38;5;241;43m=\u001b[39;49m\u001b[38;5;241;43m0.2\u001b[39;49m\u001b[43m,\u001b[49m\u001b[43m \u001b[49m\u001b[43mepochs\u001b[49m\u001b[38;5;241;43m=\u001b[39;49m\u001b[38;5;241;43m5\u001b[39;49m\u001b[43m,\u001b[49m\u001b[43m \u001b[49m\u001b[43mbatch_size\u001b[49m\u001b[38;5;241;43m=\u001b[39;49m\u001b[38;5;241;43m64\u001b[39;49m\u001b[43m)\u001b[49m\n",
      "File \u001b[0;32m~/.pyenv/versions/3.10.6/envs/Mental_Health_Risks/lib/python3.10/site-packages/keras/src/utils/traceback_utils.py:122\u001b[0m, in \u001b[0;36mfilter_traceback.<locals>.error_handler\u001b[0;34m(*args, **kwargs)\u001b[0m\n\u001b[1;32m    119\u001b[0m     filtered_tb \u001b[38;5;241m=\u001b[39m _process_traceback_frames(e\u001b[38;5;241m.\u001b[39m__traceback__)\n\u001b[1;32m    120\u001b[0m     \u001b[38;5;66;03m# To get the full stack trace, call:\u001b[39;00m\n\u001b[1;32m    121\u001b[0m     \u001b[38;5;66;03m# `keras.config.disable_traceback_filtering()`\u001b[39;00m\n\u001b[0;32m--> 122\u001b[0m     \u001b[38;5;28;01mraise\u001b[39;00m e\u001b[38;5;241m.\u001b[39mwith_traceback(filtered_tb) \u001b[38;5;28;01mfrom\u001b[39;00m \u001b[38;5;28;01mNone\u001b[39;00m\n\u001b[1;32m    123\u001b[0m \u001b[38;5;28;01mfinally\u001b[39;00m:\n\u001b[1;32m    124\u001b[0m     \u001b[38;5;28;01mdel\u001b[39;00m filtered_tb\n",
      "File \u001b[0;32m~/.pyenv/versions/3.10.6/envs/Mental_Health_Risks/lib/python3.10/site-packages/keras/src/backend/tensorflow/nn.py:580\u001b[0m, in \u001b[0;36mcategorical_crossentropy\u001b[0;34m(target, output, from_logits, axis)\u001b[0m\n\u001b[1;32m    574\u001b[0m     \u001b[38;5;28;01mraise\u001b[39;00m \u001b[38;5;167;01mValueError\u001b[39;00m(\n\u001b[1;32m    575\u001b[0m         \u001b[38;5;124m\"\u001b[39m\u001b[38;5;124mArguments `target` and `output` must be at least rank 1. \u001b[39m\u001b[38;5;124m\"\u001b[39m\n\u001b[1;32m    576\u001b[0m         \u001b[38;5;124m\"\u001b[39m\u001b[38;5;124mReceived: \u001b[39m\u001b[38;5;124m\"\u001b[39m\n\u001b[1;32m    577\u001b[0m         \u001b[38;5;124mf\u001b[39m\u001b[38;5;124m\"\u001b[39m\u001b[38;5;124mtarget.shape=\u001b[39m\u001b[38;5;132;01m{\u001b[39;00mtarget\u001b[38;5;241m.\u001b[39mshape\u001b[38;5;132;01m}\u001b[39;00m\u001b[38;5;124m, output.shape=\u001b[39m\u001b[38;5;132;01m{\u001b[39;00moutput\u001b[38;5;241m.\u001b[39mshape\u001b[38;5;132;01m}\u001b[39;00m\u001b[38;5;124m\"\u001b[39m\n\u001b[1;32m    578\u001b[0m     )\n\u001b[1;32m    579\u001b[0m \u001b[38;5;28;01mif\u001b[39;00m \u001b[38;5;28mlen\u001b[39m(target\u001b[38;5;241m.\u001b[39mshape) \u001b[38;5;241m!=\u001b[39m \u001b[38;5;28mlen\u001b[39m(output\u001b[38;5;241m.\u001b[39mshape):\n\u001b[0;32m--> 580\u001b[0m     \u001b[38;5;28;01mraise\u001b[39;00m \u001b[38;5;167;01mValueError\u001b[39;00m(\n\u001b[1;32m    581\u001b[0m         \u001b[38;5;124m\"\u001b[39m\u001b[38;5;124mArguments `target` and `output` must have the same rank \u001b[39m\u001b[38;5;124m\"\u001b[39m\n\u001b[1;32m    582\u001b[0m         \u001b[38;5;124m\"\u001b[39m\u001b[38;5;124m(ndim). Received: \u001b[39m\u001b[38;5;124m\"\u001b[39m\n\u001b[1;32m    583\u001b[0m         \u001b[38;5;124mf\u001b[39m\u001b[38;5;124m\"\u001b[39m\u001b[38;5;124mtarget.shape=\u001b[39m\u001b[38;5;132;01m{\u001b[39;00mtarget\u001b[38;5;241m.\u001b[39mshape\u001b[38;5;132;01m}\u001b[39;00m\u001b[38;5;124m, output.shape=\u001b[39m\u001b[38;5;132;01m{\u001b[39;00moutput\u001b[38;5;241m.\u001b[39mshape\u001b[38;5;132;01m}\u001b[39;00m\u001b[38;5;124m\"\u001b[39m\n\u001b[1;32m    584\u001b[0m     )\n\u001b[1;32m    585\u001b[0m \u001b[38;5;28;01mfor\u001b[39;00m e1, e2 \u001b[38;5;129;01min\u001b[39;00m \u001b[38;5;28mzip\u001b[39m(target\u001b[38;5;241m.\u001b[39mshape, output\u001b[38;5;241m.\u001b[39mshape):\n\u001b[1;32m    586\u001b[0m     \u001b[38;5;28;01mif\u001b[39;00m e1 \u001b[38;5;129;01mis\u001b[39;00m \u001b[38;5;129;01mnot\u001b[39;00m \u001b[38;5;28;01mNone\u001b[39;00m \u001b[38;5;129;01mand\u001b[39;00m e2 \u001b[38;5;129;01mis\u001b[39;00m \u001b[38;5;129;01mnot\u001b[39;00m \u001b[38;5;28;01mNone\u001b[39;00m \u001b[38;5;129;01mand\u001b[39;00m e1 \u001b[38;5;241m!=\u001b[39m e2:\n",
      "\u001b[0;31mValueError\u001b[0m: Arguments `target` and `output` must have the same rank (ndim). Received: target.shape=(None,), output.shape=(None, 63888)"
     ]
    }
   ],
   "source": [
    "history = m1.fit(X_train_pad, y_train_encoded, validation_split=0.2, epochs=5, batch_size=64)"
   ]
  },
  {
   "cell_type": "code",
   "execution_count": null,
   "id": "3eb68114",
   "metadata": {
    "ExecuteTime": {
     "end_time": "2024-12-01T18:27:57.128393Z",
     "start_time": "2024-12-01T18:27:57.128367Z"
    }
   },
   "outputs": [],
   "source": [
    "predictions = model.predict(X_test_pad)"
   ]
  },
  {
   "cell_type": "code",
   "execution_count": null,
   "id": "84f046bc",
   "metadata": {
    "ExecuteTime": {
     "end_time": "2024-12-01T18:27:57.130458Z",
     "start_time": "2024-12-01T18:27:57.130436Z"
    }
   },
   "outputs": [],
   "source": [
    "cm = confusion_matrix(y_test_encoded, predictions)"
   ]
  },
  {
   "cell_type": "code",
   "execution_count": null,
   "id": "8bcee4b1",
   "metadata": {
    "ExecuteTime": {
     "end_time": "2024-12-01T18:27:57.132787Z",
     "start_time": "2024-12-01T18:27:57.132768Z"
    }
   },
   "outputs": [],
   "source": [
    "plt.figure(figsize=(10, 8))\n",
    "cm_display = ConfusionMatrixDisplay(confusion_matrix=cm, display_labels=np.unique(y_train))\n",
    "cm_display.plot(cmap='Blues', xticks_rotation=45)\n",
    "plt.title('Confusion Matrix')\n",
    "plt.show()"
   ]
  }
 ],
 "metadata": {
  "kernelspec": {
   "display_name": "Python 3 (ipykernel)",
   "language": "python",
   "name": "python3"
  },
  "language_info": {
   "codemirror_mode": {
    "name": "ipython",
    "version": 3
   },
   "file_extension": ".py",
   "mimetype": "text/x-python",
   "name": "python",
   "nbconvert_exporter": "python",
   "pygments_lexer": "ipython3",
   "version": "3.10.6"
  },
  "toc": {
   "base_numbering": 1,
   "nav_menu": {},
   "number_sections": true,
   "sideBar": true,
   "skip_h1_title": false,
   "title_cell": "Table of Contents",
   "title_sidebar": "Contents",
   "toc_cell": false,
   "toc_position": {},
   "toc_section_display": true,
   "toc_window_display": false
  }
 },
 "nbformat": 4,
 "nbformat_minor": 5
}
