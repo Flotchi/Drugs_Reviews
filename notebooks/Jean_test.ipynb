{
 "cells": [
  {
   "cell_type": "code",
   "execution_count": 5,
   "id": "47070e27-9bcd-429e-9a27-c9dd63ec2c3c",
   "metadata": {
    "ExecuteTime": {
     "end_time": "2024-11-25T13:28:42.998632Z",
     "start_time": "2024-11-25T13:28:42.024319Z"
    }
   },
   "outputs": [],
   "source": [
    "import pandas as pd\n",
    "import numpy as np\n",
    "import os\n",
    "import string\n",
    "import nltk\n"
   ]
  },
  {
   "cell_type": "code",
   "execution_count": 6,
   "id": "96151b67",
   "metadata": {
    "ExecuteTime": {
     "end_time": "2024-11-25T13:38:48.079188Z",
     "start_time": "2024-11-25T13:38:47.455910Z"
    }
   },
   "outputs": [
    {
     "name": "stderr",
     "output_type": "stream",
     "text": [
      "[nltk_data] Downloading package stopwords to\n",
      "[nltk_data]     /Users/jeangregoire/nltk_data...\n",
      "[nltk_data]   Package stopwords is already up-to-date!\n",
      "[nltk_data] Downloading package punkt to\n",
      "[nltk_data]     /Users/jeangregoire/nltk_data...\n",
      "[nltk_data]   Package punkt is already up-to-date!\n",
      "[nltk_data] Downloading package wordnet to\n",
      "[nltk_data]     /Users/jeangregoire/nltk_data...\n",
      "[nltk_data]   Package wordnet is already up-to-date!\n",
      "[nltk_data] Downloading package omw-1.4 to\n",
      "[nltk_data]     /Users/jeangregoire/nltk_data...\n",
      "[nltk_data]   Package omw-1.4 is already up-to-date!\n",
      "[nltk_data] Downloading package punkt_tab to\n",
      "[nltk_data]     /Users/jeangregoire/nltk_data...\n",
      "[nltk_data]   Unzipping tokenizers/punkt_tab.zip.\n"
     ]
    },
    {
     "data": {
      "text/plain": [
       "True"
      ]
     },
     "execution_count": 6,
     "metadata": {},
     "output_type": "execute_result"
    }
   ],
   "source": [
    "nltk.download('stopwords')\n",
    "nltk.download('punkt')\n",
    "nltk.download('wordnet')\n",
    "nltk.download('omw-1.4')\n",
    "nltk.download('punkt_tab')"
   ]
  },
  {
   "cell_type": "code",
   "execution_count": 7,
   "id": "bb779277",
   "metadata": {
    "ExecuteTime": {
     "end_time": "2024-11-25T13:28:43.233614Z",
     "start_time": "2024-11-25T13:28:43.227382Z"
    }
   },
   "outputs": [
    {
     "data": {
      "text/plain": [
       "'/Users/jeangregoire/code/Flotchi/Mental_Health_Risks/notebooks'"
      ]
     },
     "execution_count": 7,
     "metadata": {},
     "output_type": "execute_result"
    }
   ],
   "source": [
    "path = os.getcwd()\n",
    "path\n",
    "# a remplacer par __file__ apres"
   ]
  },
  {
   "cell_type": "code",
   "execution_count": 8,
   "id": "af18f8aa",
   "metadata": {
    "ExecuteTime": {
     "end_time": "2024-11-25T13:28:43.252217Z",
     "start_time": "2024-11-25T13:28:43.239692Z"
    }
   },
   "outputs": [
    {
     "data": {
      "text/plain": [
       "'/Users/jeangregoire/code/Flotchi/Mental_Health_Risks/raw_data/Combined_Data.csv'"
      ]
     },
     "execution_count": 8,
     "metadata": {},
     "output_type": "execute_result"
    }
   ],
   "source": [
    "rpath = os.path.join(os.path.dirname(path),'raw_data', 'Combined_Data.csv') \n",
    "rpath"
   ]
  },
  {
   "cell_type": "code",
   "execution_count": 14,
   "id": "1b8e4a8d-f745-42df-8ac9-ed94433f872c",
   "metadata": {
    "ExecuteTime": {
     "end_time": "2024-11-25T13:28:43.619538Z",
     "start_time": "2024-11-25T13:28:43.255820Z"
    },
    "scrolled": true
   },
   "outputs": [],
   "source": [
    "df = pd.read_csv('/Users/jeangregoire/code/Flotchi/Mental_Health_Risks/raw_data/Combined Data.csv')"
   ]
  },
  {
   "cell_type": "code",
   "execution_count": 15,
   "id": "5d718dbb",
   "metadata": {
    "ExecuteTime": {
     "end_time": "2024-11-25T13:28:43.646967Z",
     "start_time": "2024-11-25T13:28:43.623590Z"
    },
    "scrolled": true
   },
   "outputs": [
    {
     "data": {
      "text/html": [
       "<div>\n",
       "<style scoped>\n",
       "    .dataframe tbody tr th:only-of-type {\n",
       "        vertical-align: middle;\n",
       "    }\n",
       "\n",
       "    .dataframe tbody tr th {\n",
       "        vertical-align: top;\n",
       "    }\n",
       "\n",
       "    .dataframe thead th {\n",
       "        text-align: right;\n",
       "    }\n",
       "</style>\n",
       "<table border=\"1\" class=\"dataframe\">\n",
       "  <thead>\n",
       "    <tr style=\"text-align: right;\">\n",
       "      <th></th>\n",
       "      <th>Unnamed: 0</th>\n",
       "      <th>statement</th>\n",
       "      <th>status</th>\n",
       "    </tr>\n",
       "  </thead>\n",
       "  <tbody>\n",
       "    <tr>\n",
       "      <th>0</th>\n",
       "      <td>0</td>\n",
       "      <td>oh my gosh</td>\n",
       "      <td>Anxiety</td>\n",
       "    </tr>\n",
       "    <tr>\n",
       "      <th>1</th>\n",
       "      <td>1</td>\n",
       "      <td>trouble sleeping, confused mind, restless hear...</td>\n",
       "      <td>Anxiety</td>\n",
       "    </tr>\n",
       "    <tr>\n",
       "      <th>2</th>\n",
       "      <td>2</td>\n",
       "      <td>All wrong, back off dear, forward doubt. Stay ...</td>\n",
       "      <td>Anxiety</td>\n",
       "    </tr>\n",
       "    <tr>\n",
       "      <th>3</th>\n",
       "      <td>3</td>\n",
       "      <td>I've shifted my focus to something else but I'...</td>\n",
       "      <td>Anxiety</td>\n",
       "    </tr>\n",
       "    <tr>\n",
       "      <th>4</th>\n",
       "      <td>4</td>\n",
       "      <td>I'm restless and restless, it's been a month n...</td>\n",
       "      <td>Anxiety</td>\n",
       "    </tr>\n",
       "    <tr>\n",
       "      <th>...</th>\n",
       "      <td>...</td>\n",
       "      <td>...</td>\n",
       "      <td>...</td>\n",
       "    </tr>\n",
       "    <tr>\n",
       "      <th>53038</th>\n",
       "      <td>53038</td>\n",
       "      <td>Nobody takes me seriously I’ve (24M) dealt wit...</td>\n",
       "      <td>Anxiety</td>\n",
       "    </tr>\n",
       "    <tr>\n",
       "      <th>53039</th>\n",
       "      <td>53039</td>\n",
       "      <td>selfishness  \"I don't feel very good, it's lik...</td>\n",
       "      <td>Anxiety</td>\n",
       "    </tr>\n",
       "    <tr>\n",
       "      <th>53040</th>\n",
       "      <td>53040</td>\n",
       "      <td>Is there any way to sleep better? I can't slee...</td>\n",
       "      <td>Anxiety</td>\n",
       "    </tr>\n",
       "    <tr>\n",
       "      <th>53041</th>\n",
       "      <td>53041</td>\n",
       "      <td>Public speaking tips? Hi, all. I have to give ...</td>\n",
       "      <td>Anxiety</td>\n",
       "    </tr>\n",
       "    <tr>\n",
       "      <th>53042</th>\n",
       "      <td>53042</td>\n",
       "      <td>I have really bad door anxiety! It's not about...</td>\n",
       "      <td>Anxiety</td>\n",
       "    </tr>\n",
       "  </tbody>\n",
       "</table>\n",
       "<p>53043 rows × 3 columns</p>\n",
       "</div>"
      ],
      "text/plain": [
       "       Unnamed: 0                                          statement   status\n",
       "0               0                                         oh my gosh  Anxiety\n",
       "1               1  trouble sleeping, confused mind, restless hear...  Anxiety\n",
       "2               2  All wrong, back off dear, forward doubt. Stay ...  Anxiety\n",
       "3               3  I've shifted my focus to something else but I'...  Anxiety\n",
       "4               4  I'm restless and restless, it's been a month n...  Anxiety\n",
       "...           ...                                                ...      ...\n",
       "53038       53038  Nobody takes me seriously I’ve (24M) dealt wit...  Anxiety\n",
       "53039       53039  selfishness  \"I don't feel very good, it's lik...  Anxiety\n",
       "53040       53040  Is there any way to sleep better? I can't slee...  Anxiety\n",
       "53041       53041  Public speaking tips? Hi, all. I have to give ...  Anxiety\n",
       "53042       53042  I have really bad door anxiety! It's not about...  Anxiety\n",
       "\n",
       "[53043 rows x 3 columns]"
      ]
     },
     "execution_count": 15,
     "metadata": {},
     "output_type": "execute_result"
    }
   ],
   "source": [
    "df"
   ]
  },
  {
   "cell_type": "code",
   "execution_count": 16,
   "id": "6ab8cf7a",
   "metadata": {
    "ExecuteTime": {
     "end_time": "2024-11-25T13:28:43.656920Z",
     "start_time": "2024-11-25T13:28:43.651600Z"
    }
   },
   "outputs": [],
   "source": [
    "from nltk.tokenize import word_tokenize\n",
    "from nltk.corpus import stopwords\n",
    "from nltk.stem import WordNetLemmatizer"
   ]
  },
  {
   "cell_type": "code",
   "execution_count": 17,
   "id": "17772654",
   "metadata": {
    "ExecuteTime": {
     "end_time": "2024-11-25T13:53:10.442006Z",
     "start_time": "2024-11-25T13:53:10.409674Z"
    }
   },
   "outputs": [],
   "source": [
    "df.dropna(inplace=True)"
   ]
  },
  {
   "cell_type": "code",
   "execution_count": 18,
   "id": "5e32dd9f",
   "metadata": {
    "ExecuteTime": {
     "end_time": "2024-11-25T13:28:43.668292Z",
     "start_time": "2024-11-25T13:28:43.660871Z"
    }
   },
   "outputs": [],
   "source": [
    "def process(st):\n",
    "    for punc in string.punctuation:\n",
    "        st = st.replace(punc, '')\n",
    "    ans = st.casefold()\n",
    "    ansd = ''.join(x for x in ans if not x.isdigit())\n",
    "    stop = set(stopwords.words('english'))\n",
    "    tokens = word_tokenize(ansd)\n",
    "    ansdd = [y for y in tokens if y not in stop]\n",
    "    lemmaverb = [WordNetLemmatizer().lemmatize(word, pos='v') for word in ansdd]\n",
    "    lemmanouns = [WordNetLemmatizer().lemmatize(word, pos='n') for word in lemmaverb]\n",
    "    nans = ' '.join(lemmanouns)\n",
    "    return nans"
   ]
  },
  {
   "cell_type": "code",
   "execution_count": 19,
   "id": "d7ceac62",
   "metadata": {
    "ExecuteTime": {
     "end_time": "2024-11-25T13:39:43.907897Z",
     "start_time": "2024-11-25T13:39:40.404465Z"
    }
   },
   "outputs": [
    {
     "data": {
      "text/plain": [
       "'oh gosh'"
      ]
     },
     "execution_count": 19,
     "metadata": {},
     "output_type": "execute_result"
    }
   ],
   "source": [
    "process(df['statement'][0])"
   ]
  },
  {
   "cell_type": "code",
   "execution_count": 20,
   "id": "b1bbfa13",
   "metadata": {
    "ExecuteTime": {
     "end_time": "2024-11-25T13:54:28.513535Z",
     "start_time": "2024-11-25T13:53:37.391456Z"
    }
   },
   "outputs": [],
   "source": [
    "df['clean'] = df['statement'].apply(process)"
   ]
  },
  {
   "cell_type": "code",
   "execution_count": 21,
   "id": "9ac80141",
   "metadata": {
    "ExecuteTime": {
     "end_time": "2024-11-25T13:56:21.644392Z",
     "start_time": "2024-11-25T13:56:21.628789Z"
    },
    "scrolled": true
   },
   "outputs": [
    {
     "data": {
      "text/html": [
       "<div>\n",
       "<style scoped>\n",
       "    .dataframe tbody tr th:only-of-type {\n",
       "        vertical-align: middle;\n",
       "    }\n",
       "\n",
       "    .dataframe tbody tr th {\n",
       "        vertical-align: top;\n",
       "    }\n",
       "\n",
       "    .dataframe thead th {\n",
       "        text-align: right;\n",
       "    }\n",
       "</style>\n",
       "<table border=\"1\" class=\"dataframe\">\n",
       "  <thead>\n",
       "    <tr style=\"text-align: right;\">\n",
       "      <th></th>\n",
       "      <th>Unnamed: 0</th>\n",
       "      <th>statement</th>\n",
       "      <th>status</th>\n",
       "      <th>clean</th>\n",
       "    </tr>\n",
       "  </thead>\n",
       "  <tbody>\n",
       "    <tr>\n",
       "      <th>0</th>\n",
       "      <td>0</td>\n",
       "      <td>oh my gosh</td>\n",
       "      <td>Anxiety</td>\n",
       "      <td>oh gosh</td>\n",
       "    </tr>\n",
       "    <tr>\n",
       "      <th>1</th>\n",
       "      <td>1</td>\n",
       "      <td>trouble sleeping, confused mind, restless hear...</td>\n",
       "      <td>Anxiety</td>\n",
       "      <td>trouble sleep confuse mind restless heart tune</td>\n",
       "    </tr>\n",
       "    <tr>\n",
       "      <th>2</th>\n",
       "      <td>2</td>\n",
       "      <td>All wrong, back off dear, forward doubt. Stay ...</td>\n",
       "      <td>Anxiety</td>\n",
       "      <td>wrong back dear forward doubt stay restless re...</td>\n",
       "    </tr>\n",
       "    <tr>\n",
       "      <th>3</th>\n",
       "      <td>3</td>\n",
       "      <td>I've shifted my focus to something else but I'...</td>\n",
       "      <td>Anxiety</td>\n",
       "      <td>ive shift focus something else im still worry</td>\n",
       "    </tr>\n",
       "    <tr>\n",
       "      <th>4</th>\n",
       "      <td>4</td>\n",
       "      <td>I'm restless and restless, it's been a month n...</td>\n",
       "      <td>Anxiety</td>\n",
       "      <td>im restless restless month boy mean</td>\n",
       "    </tr>\n",
       "    <tr>\n",
       "      <th>...</th>\n",
       "      <td>...</td>\n",
       "      <td>...</td>\n",
       "      <td>...</td>\n",
       "      <td>...</td>\n",
       "    </tr>\n",
       "    <tr>\n",
       "      <th>53038</th>\n",
       "      <td>53038</td>\n",
       "      <td>Nobody takes me seriously I’ve (24M) dealt wit...</td>\n",
       "      <td>Anxiety</td>\n",
       "      <td>nobody take seriously ’ deal depressionanxiety...</td>\n",
       "    </tr>\n",
       "    <tr>\n",
       "      <th>53039</th>\n",
       "      <td>53039</td>\n",
       "      <td>selfishness  \"I don't feel very good, it's lik...</td>\n",
       "      <td>Anxiety</td>\n",
       "      <td>selfishness dont feel good like dont belong wo...</td>\n",
       "    </tr>\n",
       "    <tr>\n",
       "      <th>53040</th>\n",
       "      <td>53040</td>\n",
       "      <td>Is there any way to sleep better? I can't slee...</td>\n",
       "      <td>Anxiety</td>\n",
       "      <td>way sleep better cant sleep night med didnt help</td>\n",
       "    </tr>\n",
       "    <tr>\n",
       "      <th>53041</th>\n",
       "      <td>53041</td>\n",
       "      <td>Public speaking tips? Hi, all. I have to give ...</td>\n",
       "      <td>Anxiety</td>\n",
       "      <td>public speak tip hi give presentation work nex...</td>\n",
       "    </tr>\n",
       "    <tr>\n",
       "      <th>53042</th>\n",
       "      <td>53042</td>\n",
       "      <td>I have really bad door anxiety! It's not about...</td>\n",
       "      <td>Anxiety</td>\n",
       "      <td>really bad door anxiety scar didnt lock door s...</td>\n",
       "    </tr>\n",
       "  </tbody>\n",
       "</table>\n",
       "<p>52681 rows × 4 columns</p>\n",
       "</div>"
      ],
      "text/plain": [
       "       Unnamed: 0                                          statement   status  \\\n",
       "0               0                                         oh my gosh  Anxiety   \n",
       "1               1  trouble sleeping, confused mind, restless hear...  Anxiety   \n",
       "2               2  All wrong, back off dear, forward doubt. Stay ...  Anxiety   \n",
       "3               3  I've shifted my focus to something else but I'...  Anxiety   \n",
       "4               4  I'm restless and restless, it's been a month n...  Anxiety   \n",
       "...           ...                                                ...      ...   \n",
       "53038       53038  Nobody takes me seriously I’ve (24M) dealt wit...  Anxiety   \n",
       "53039       53039  selfishness  \"I don't feel very good, it's lik...  Anxiety   \n",
       "53040       53040  Is there any way to sleep better? I can't slee...  Anxiety   \n",
       "53041       53041  Public speaking tips? Hi, all. I have to give ...  Anxiety   \n",
       "53042       53042  I have really bad door anxiety! It's not about...  Anxiety   \n",
       "\n",
       "                                                   clean  \n",
       "0                                                oh gosh  \n",
       "1         trouble sleep confuse mind restless heart tune  \n",
       "2      wrong back dear forward doubt stay restless re...  \n",
       "3          ive shift focus something else im still worry  \n",
       "4                    im restless restless month boy mean  \n",
       "...                                                  ...  \n",
       "53038  nobody take seriously ’ deal depressionanxiety...  \n",
       "53039  selfishness dont feel good like dont belong wo...  \n",
       "53040   way sleep better cant sleep night med didnt help  \n",
       "53041  public speak tip hi give presentation work nex...  \n",
       "53042  really bad door anxiety scar didnt lock door s...  \n",
       "\n",
       "[52681 rows x 4 columns]"
      ]
     },
     "execution_count": 21,
     "metadata": {},
     "output_type": "execute_result"
    }
   ],
   "source": [
    "df"
   ]
  },
  {
   "cell_type": "code",
   "execution_count": 22,
   "id": "7c62d4f3",
   "metadata": {
    "ExecuteTime": {
     "end_time": "2024-11-25T14:59:09.141799Z",
     "start_time": "2024-11-25T14:59:09.114999Z"
    }
   },
   "outputs": [
    {
     "data": {
      "text/plain": [
       "status              \n",
       "Normal                  16343\n",
       "Depression              15404\n",
       "Suicidal                10652\n",
       "Anxiety                  3841\n",
       "Bipolar                  2777\n",
       "Stress                   2587\n",
       "Personality disorder     1077\n",
       "Name: count, dtype: int64"
      ]
     },
     "execution_count": 22,
     "metadata": {},
     "output_type": "execute_result"
    }
   ],
   "source": [
    "df[['status']].value_counts()"
   ]
  },
  {
   "cell_type": "code",
   "execution_count": 23,
   "id": "c6c6f04a",
   "metadata": {
    "ExecuteTime": {
     "end_time": "2024-11-25T15:01:23.708599Z",
     "start_time": "2024-11-25T15:01:23.704416Z"
    }
   },
   "outputs": [],
   "source": [
    "def encode_bi(st):\n",
    "    return int(st == 'Normal')"
   ]
  },
  {
   "cell_type": "code",
   "execution_count": 24,
   "id": "e226af14",
   "metadata": {
    "ExecuteTime": {
     "end_time": "2024-11-25T15:02:12.419833Z",
     "start_time": "2024-11-25T15:02:12.386742Z"
    }
   },
   "outputs": [],
   "source": [
    "df['label'] = df['status'].apply(encode_bi)"
   ]
  },
  {
   "cell_type": "code",
   "execution_count": 25,
   "id": "f8a6f325",
   "metadata": {
    "ExecuteTime": {
     "end_time": "2024-11-25T15:07:06.476563Z",
     "start_time": "2024-11-25T15:07:06.449872Z"
    }
   },
   "outputs": [
    {
     "data": {
      "text/html": [
       "<div>\n",
       "<style scoped>\n",
       "    .dataframe tbody tr th:only-of-type {\n",
       "        vertical-align: middle;\n",
       "    }\n",
       "\n",
       "    .dataframe tbody tr th {\n",
       "        vertical-align: top;\n",
       "    }\n",
       "\n",
       "    .dataframe thead th {\n",
       "        text-align: right;\n",
       "    }\n",
       "</style>\n",
       "<table border=\"1\" class=\"dataframe\">\n",
       "  <thead>\n",
       "    <tr style=\"text-align: right;\">\n",
       "      <th></th>\n",
       "      <th>Unnamed: 0</th>\n",
       "      <th>statement</th>\n",
       "      <th>status</th>\n",
       "      <th>clean</th>\n",
       "      <th>label</th>\n",
       "    </tr>\n",
       "  </thead>\n",
       "  <tbody>\n",
       "    <tr>\n",
       "      <th>40827</th>\n",
       "      <td>40827</td>\n",
       "      <td>hide depression</td>\n",
       "      <td>Depression</td>\n",
       "      <td>hide depression</td>\n",
       "      <td>0</td>\n",
       "    </tr>\n",
       "    <tr>\n",
       "      <th>22390</th>\n",
       "      <td>22390</td>\n",
       "      <td>i was so close to getting better from this dep...</td>\n",
       "      <td>Depression</td>\n",
       "      <td>close get better depression episode last febru...</td>\n",
       "      <td>0</td>\n",
       "    </tr>\n",
       "    <tr>\n",
       "      <th>755</th>\n",
       "      <td>755</td>\n",
       "      <td>Motorcycle again haha</td>\n",
       "      <td>Normal</td>\n",
       "      <td>motorcycle haha</td>\n",
       "      <td>1</td>\n",
       "    </tr>\n",
       "    <tr>\n",
       "      <th>12611</th>\n",
       "      <td>12611</td>\n",
       "      <td>I stopped self harming I stopped looking down ...</td>\n",
       "      <td>Depression</td>\n",
       "      <td>stop self harm stop look stop everybody want s...</td>\n",
       "      <td>0</td>\n",
       "    </tr>\n",
       "    <tr>\n",
       "      <th>19438</th>\n",
       "      <td>19438</td>\n",
       "      <td>I am trying to do it since I do not have any w...</td>\n",
       "      <td>Suicidal</td>\n",
       "      <td>try since way full hang tie rope like hook tow...</td>\n",
       "      <td>0</td>\n",
       "    </tr>\n",
       "    <tr>\n",
       "      <th>16676</th>\n",
       "      <td>16676</td>\n",
       "      <td>I was born to be called idiot, imbecile, pathe...</td>\n",
       "      <td>Suicidal</td>\n",
       "      <td>bear call idiot imbecile pathetic rip hair cra...</td>\n",
       "      <td>0</td>\n",
       "    </tr>\n",
       "    <tr>\n",
       "      <th>5304</th>\n",
       "      <td>5304</td>\n",
       "      <td>Otg for an iPhone for an album from yesterday,...</td>\n",
       "      <td>Normal</td>\n",
       "      <td>otg iphone album yesterday really hard try try...</td>\n",
       "      <td>1</td>\n",
       "    </tr>\n",
       "    <tr>\n",
       "      <th>33885</th>\n",
       "      <td>33885</td>\n",
       "      <td>and they couldn't fix your problem?</td>\n",
       "      <td>Normal</td>\n",
       "      <td>couldnt fix problem</td>\n",
       "      <td>1</td>\n",
       "    </tr>\n",
       "    <tr>\n",
       "      <th>13850</th>\n",
       "      <td>13850</td>\n",
       "      <td>I hate everything about me. I hate my looks, m...</td>\n",
       "      <td>Suicidal</td>\n",
       "      <td>hate everything hate look voice eye mouth ever...</td>\n",
       "      <td>0</td>\n",
       "    </tr>\n",
       "    <tr>\n",
       "      <th>36468</th>\n",
       "      <td>36468</td>\n",
       "      <td>HootSuite monetizing Twitter - shurely shum mi...</td>\n",
       "      <td>Normal</td>\n",
       "      <td>hootsuite monetize twitter shurely shum mishta...</td>\n",
       "      <td>1</td>\n",
       "    </tr>\n",
       "    <tr>\n",
       "      <th>3891</th>\n",
       "      <td>3891</td>\n",
       "      <td>the cake is sleeping well. no problem tross</td>\n",
       "      <td>Normal</td>\n",
       "      <td>cake sleep well problem tross</td>\n",
       "      <td>1</td>\n",
       "    </tr>\n",
       "    <tr>\n",
       "      <th>634</th>\n",
       "      <td>634</td>\n",
       "      <td>Anjir worried I was too much</td>\n",
       "      <td>Anxiety</td>\n",
       "      <td>anjir worry much</td>\n",
       "      <td>0</td>\n",
       "    </tr>\n",
       "    <tr>\n",
       "      <th>14115</th>\n",
       "      <td>14115</td>\n",
       "      <td>(If this is posted in the wrong place delete o...</td>\n",
       "      <td>Depression</td>\n",
       "      <td>post wrong place delete tell depression cptsd ...</td>\n",
       "      <td>0</td>\n",
       "    </tr>\n",
       "    <tr>\n",
       "      <th>9233</th>\n",
       "      <td>9233</td>\n",
       "      <td>Usually I can deal with my depression but now ...</td>\n",
       "      <td>Depression</td>\n",
       "      <td>usually deal depression hit harderearlier year...</td>\n",
       "      <td>0</td>\n",
       "    </tr>\n",
       "    <tr>\n",
       "      <th>49819</th>\n",
       "      <td>49819</td>\n",
       "      <td>Well it’s been a good run boys but the doctor ...</td>\n",
       "      <td>Bipolar</td>\n",
       "      <td>well ’ good run boy doctor think ’ actually bp...</td>\n",
       "      <td>0</td>\n",
       "    </tr>\n",
       "    <tr>\n",
       "      <th>39561</th>\n",
       "      <td>39561</td>\n",
       "      <td>i have a constant paranoia of having rabies no...</td>\n",
       "      <td>Depression</td>\n",
       "      <td>constant paranoia rabies normally distract thi...</td>\n",
       "      <td>0</td>\n",
       "    </tr>\n",
       "    <tr>\n",
       "      <th>44022</th>\n",
       "      <td>44022</td>\n",
       "      <td>accidentally listened to the new sugababes alb...</td>\n",
       "      <td>Normal</td>\n",
       "      <td>accidentally listen new sugababes album play f...</td>\n",
       "      <td>1</td>\n",
       "    </tr>\n",
       "    <tr>\n",
       "      <th>41558</th>\n",
       "      <td>41558</td>\n",
       "      <td>i had such a nice day too bad the rain come in...</td>\n",
       "      <td>Normal</td>\n",
       "      <td>nice day bad rain come tomorrow</td>\n",
       "      <td>1</td>\n",
       "    </tr>\n",
       "    <tr>\n",
       "      <th>8241</th>\n",
       "      <td>8241</td>\n",
       "      <td>I am sorry to everyone that I have hurt by doi...</td>\n",
       "      <td>Depression</td>\n",
       "      <td>sorry everyone hurt take anymore every day ble...</td>\n",
       "      <td>0</td>\n",
       "    </tr>\n",
       "    <tr>\n",
       "      <th>10057</th>\n",
       "      <td>10057</td>\n",
       "      <td>i cannot live on this earth anymore i just wan...</td>\n",
       "      <td>Suicidal</td>\n",
       "      <td>live earth anymore want end painless way die n...</td>\n",
       "      <td>0</td>\n",
       "    </tr>\n",
       "  </tbody>\n",
       "</table>\n",
       "</div>"
      ],
      "text/plain": [
       "       Unnamed: 0                                          statement  \\\n",
       "40827       40827                                    hide depression   \n",
       "22390       22390  i was so close to getting better from this dep...   \n",
       "755           755                              Motorcycle again haha   \n",
       "12611       12611  I stopped self harming I stopped looking down ...   \n",
       "19438       19438  I am trying to do it since I do not have any w...   \n",
       "16676       16676  I was born to be called idiot, imbecile, pathe...   \n",
       "5304         5304  Otg for an iPhone for an album from yesterday,...   \n",
       "33885       33885                and they couldn't fix your problem?   \n",
       "13850       13850  I hate everything about me. I hate my looks, m...   \n",
       "36468       36468  HootSuite monetizing Twitter - shurely shum mi...   \n",
       "3891         3891        the cake is sleeping well. no problem tross   \n",
       "634           634                       Anjir worried I was too much   \n",
       "14115       14115  (If this is posted in the wrong place delete o...   \n",
       "9233         9233  Usually I can deal with my depression but now ...   \n",
       "49819       49819  Well it’s been a good run boys but the doctor ...   \n",
       "39561       39561  i have a constant paranoia of having rabies no...   \n",
       "44022       44022  accidentally listened to the new sugababes alb...   \n",
       "41558       41558  i had such a nice day too bad the rain come in...   \n",
       "8241         8241  I am sorry to everyone that I have hurt by doi...   \n",
       "10057       10057  i cannot live on this earth anymore i just wan...   \n",
       "\n",
       "           status                                              clean  label  \n",
       "40827  Depression                                    hide depression      0  \n",
       "22390  Depression  close get better depression episode last febru...      0  \n",
       "755        Normal                                    motorcycle haha      1  \n",
       "12611  Depression  stop self harm stop look stop everybody want s...      0  \n",
       "19438    Suicidal  try since way full hang tie rope like hook tow...      0  \n",
       "16676    Suicidal  bear call idiot imbecile pathetic rip hair cra...      0  \n",
       "5304       Normal  otg iphone album yesterday really hard try try...      1  \n",
       "33885      Normal                                couldnt fix problem      1  \n",
       "13850    Suicidal  hate everything hate look voice eye mouth ever...      0  \n",
       "36468      Normal  hootsuite monetize twitter shurely shum mishta...      1  \n",
       "3891       Normal                      cake sleep well problem tross      1  \n",
       "634       Anxiety                                   anjir worry much      0  \n",
       "14115  Depression  post wrong place delete tell depression cptsd ...      0  \n",
       "9233   Depression  usually deal depression hit harderearlier year...      0  \n",
       "49819     Bipolar  well ’ good run boy doctor think ’ actually bp...      0  \n",
       "39561  Depression  constant paranoia rabies normally distract thi...      0  \n",
       "44022      Normal  accidentally listen new sugababes album play f...      1  \n",
       "41558      Normal                    nice day bad rain come tomorrow      1  \n",
       "8241   Depression  sorry everyone hurt take anymore every day ble...      0  \n",
       "10057    Suicidal  live earth anymore want end painless way die n...      0  "
      ]
     },
     "execution_count": 25,
     "metadata": {},
     "output_type": "execute_result"
    }
   ],
   "source": [
    "df.sample(20)"
   ]
  },
  {
   "cell_type": "markdown",
   "id": "acaf2dbd",
   "metadata": {},
   "source": [
    "## Partie Vecto/predi"
   ]
  },
  {
   "cell_type": "code",
   "execution_count": 26,
   "id": "bdd5c103",
   "metadata": {
    "ExecuteTime": {
     "end_time": "2024-11-25T14:53:05.858088Z",
     "start_time": "2024-11-25T14:53:05.852549Z"
    }
   },
   "outputs": [],
   "source": [
    "from sklearn.model_selection import cross_validate\n",
    "from sklearn.pipeline import make_pipeline\n",
    "from sklearn.feature_extraction.text import TfidfVectorizer\n",
    "from sklearn.naive_bayes import MultinomialNB\n",
    "from sklearn.metrics import recall_score\n",
    "from sklearn.decomposition import LatentDirichletAllocation\n",
    "from sklearn.naive_bayes import MultinomialNB\n",
    "from sklearn.pipeline import make_pipeline\n",
    "from sklearn.model_selection import cross_validate\n"
   ]
  },
  {
   "cell_type": "code",
   "execution_count": 30,
   "id": "b7f9abde",
   "metadata": {
    "ExecuteTime": {
     "end_time": "2024-11-25T14:37:29.782033Z",
     "start_time": "2024-11-25T14:37:29.776788Z"
    }
   },
   "outputs": [],
   "source": [
    "vecto = TfidfVectorizer()"
   ]
  },
  {
   "cell_type": "code",
   "execution_count": 47,
   "id": "2093e7b6",
   "metadata": {
    "ExecuteTime": {
     "end_time": "2024-11-25T14:56:47.645192Z",
     "start_time": "2024-11-25T14:56:47.640185Z"
    }
   },
   "outputs": [],
   "source": [
    "X = (df['clean'])"
   ]
  },
  {
   "cell_type": "code",
   "execution_count": 59,
   "id": "45287591",
   "metadata": {
    "ExecuteTime": {
     "end_time": "2024-11-25T15:02:24.719274Z",
     "start_time": "2024-11-25T15:02:24.713347Z"
    }
   },
   "outputs": [],
   "source": [
    "y = df['label']"
   ]
  },
  {
   "cell_type": "code",
   "execution_count": 41,
   "id": "9ae6fa8c",
   "metadata": {
    "ExecuteTime": {
     "end_time": "2024-11-25T14:53:32.853874Z",
     "start_time": "2024-11-25T14:53:32.848703Z"
    }
   },
   "outputs": [],
   "source": [
    "model = MultinomialNB()"
   ]
  },
  {
   "cell_type": "code",
   "execution_count": 43,
   "id": "a42ff6d0",
   "metadata": {
    "ExecuteTime": {
     "end_time": "2024-11-25T14:54:08.787306Z",
     "start_time": "2024-11-25T14:54:08.782060Z"
    }
   },
   "outputs": [],
   "source": [
    "pipe = make_pipeline(\n",
    "    vecto,\n",
    "    model)"
   ]
  },
  {
   "cell_type": "code",
   "execution_count": null,
   "id": "877d079c",
   "metadata": {},
   "outputs": [],
   "source": []
  },
  {
   "cell_type": "code",
   "execution_count": 64,
   "id": "3b41644b",
   "metadata": {
    "ExecuteTime": {
     "end_time": "2024-11-25T15:09:40.105769Z",
     "start_time": "2024-11-25T15:09:29.926826Z"
    },
    "scrolled": true
   },
   "outputs": [],
   "source": [
    "cv_res = cross_validate(pipe,X,y, scoring = ['accuracy'])"
   ]
  },
  {
   "cell_type": "code",
   "execution_count": 62,
   "id": "d560b083",
   "metadata": {
    "ExecuteTime": {
     "end_time": "2024-11-25T15:02:51.395157Z",
     "start_time": "2024-11-25T15:02:51.387850Z"
    }
   },
   "outputs": [
    {
     "data": {
      "text/plain": [
       "0.22327228858461576"
      ]
     },
     "execution_count": 62,
     "metadata": {},
     "output_type": "execute_result"
    }
   ],
   "source": [
    "cv_res.get('test_recall').mean()"
   ]
  },
  {
   "cell_type": "code",
   "execution_count": 42,
   "id": "bbd77e95",
   "metadata": {
    "ExecuteTime": {
     "end_time": "2024-11-25T14:53:34.884807Z",
     "start_time": "2024-11-25T14:53:34.878510Z"
    }
   },
   "outputs": [],
   "source": [
    "def print_topics(model, vectorizer):\n",
    "    for idx, topic in enumerate(model.components_):\n",
    "        print(\"Topic %d:\" % (idx))\n",
    "        print([(vectorizer.get_feature_names_out()[i], topic[i])\n",
    "                        for i in topic.argsort()[:-10 - 1:-1]])"
   ]
  },
  {
   "cell_type": "code",
   "execution_count": null,
   "id": "e6c3d9e0",
   "metadata": {},
   "outputs": [],
   "source": [
    "print_topics(model,vecto)"
   ]
  }
 ],
 "metadata": {
  "kernelspec": {
   "display_name": "Python 3 (ipykernel)",
   "language": "python",
   "name": "python3"
  },
  "language_info": {
   "codemirror_mode": {
    "name": "ipython",
    "version": 3
   },
   "file_extension": ".py",
   "mimetype": "text/x-python",
   "name": "python",
   "nbconvert_exporter": "python",
   "pygments_lexer": "ipython3",
   "version": "3.10.6"
  },
  "toc": {
   "base_numbering": 1,
   "nav_menu": {},
   "number_sections": true,
   "sideBar": true,
   "skip_h1_title": false,
   "title_cell": "Table of Contents",
   "title_sidebar": "Contents",
   "toc_cell": false,
   "toc_position": {},
   "toc_section_display": true,
   "toc_window_display": false
  }
 },
 "nbformat": 4,
 "nbformat_minor": 5
}
