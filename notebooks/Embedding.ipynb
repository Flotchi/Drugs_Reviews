{
 "cells": [
  {
   "cell_type": "code",
   "execution_count": 3,
   "id": "f5737142",
   "metadata": {
    "ExecuteTime": {
     "end_time": "2024-11-27T14:15:21.402574Z",
     "start_time": "2024-11-27T14:15:10.672488Z"
    }
   },
   "outputs": [
    {
     "name": "stderr",
     "output_type": "stream",
     "text": [
      "2024-11-27 15:15:14.860641: I tensorflow/core/platform/cpu_feature_guard.cc:210] This TensorFlow binary is optimized to use available CPU instructions in performance-critical operations.\n",
      "To enable the following instructions: AVX2 FMA, in other operations, rebuild TensorFlow with the appropriate compiler flags.\n"
     ]
    }
   ],
   "source": [
    "from gensim.models import Word2Vec\n",
    "from tensorflow.keras.preprocessing.sequence import pad_sequences\n",
    "import numpy as np"
   ]
  },
  {
   "cell_type": "code",
   "execution_count": 4,
   "id": "fdfc6fc4",
   "metadata": {
    "ExecuteTime": {
     "end_time": "2024-11-27T14:15:21.415676Z",
     "start_time": "2024-11-27T14:15:21.411324Z"
    }
   },
   "outputs": [],
   "source": [
    "import gensim.downloader as api"
   ]
  },
  {
   "cell_type": "markdown",
   "id": "45d8a596",
   "metadata": {},
   "source": [
    "Either train a model --> Word2vec()\n",
    "Either load a pre-trained model --W api.load(model)"
   ]
  },
  {
   "cell_type": "code",
   "execution_count": 5,
   "id": "d9da71d1",
   "metadata": {
    "ExecuteTime": {
     "end_time": "2024-11-27T14:15:21.731516Z",
     "start_time": "2024-11-27T14:15:21.419053Z"
    }
   },
   "outputs": [
    {
     "name": "stdout",
     "output_type": "stream",
     "text": [
      "['fasttext-wiki-news-subwords-300', 'conceptnet-numberbatch-17-06-300', 'word2vec-ruscorpora-300', 'word2vec-google-news-300', 'glove-wiki-gigaword-50', 'glove-wiki-gigaword-100', 'glove-wiki-gigaword-200', 'glove-wiki-gigaword-300', 'glove-twitter-25', 'glove-twitter-50', 'glove-twitter-100', 'glove-twitter-200', '__testing_word2vec-matrix-synopsis']\n"
     ]
    }
   ],
   "source": [
    "#Choose a model embedding\n",
    "print(list(api.info()['models'].keys()))"
   ]
  },
  {
   "cell_type": "code",
   "execution_count": 6,
   "id": "8751d7b1",
   "metadata": {
    "ExecuteTime": {
     "end_time": "2024-11-27T14:16:12.979658Z",
     "start_time": "2024-11-27T14:15:24.356689Z"
    }
   },
   "outputs": [
    {
     "name": "stdout",
     "output_type": "stream",
     "text": [
      "[==================================================] 100.0% 66.0/66.0MB downloaded\n"
     ]
    }
   ],
   "source": [
    "word2vec_transfer = api.load(\"glove-wiki-gigaword-50\")"
   ]
  },
  {
   "cell_type": "code",
   "execution_count": 7,
   "id": "89be50e7",
   "metadata": {
    "ExecuteTime": {
     "end_time": "2024-11-27T14:16:13.062952Z",
     "start_time": "2024-11-27T14:16:12.985473Z"
    }
   },
   "outputs": [],
   "source": [
    "#Parameters\n",
    "vector_size=60\n",
    "min_count=10\n",
    "window=10\n",
    "maxlen=200"
   ]
  },
  {
   "cell_type": "code",
   "execution_count": 8,
   "id": "02c98086",
   "metadata": {
    "ExecuteTime": {
     "end_time": "2024-11-27T14:16:16.666699Z",
     "start_time": "2024-11-27T14:16:15.867940Z"
    }
   },
   "outputs": [
    {
     "ename": "NameError",
     "evalue": "name 'X_train' is not defined",
     "output_type": "error",
     "traceback": [
      "\u001b[0;31m---------------------------------------------------------------------------\u001b[0m",
      "\u001b[0;31mNameError\u001b[0m                                 Traceback (most recent call last)",
      "Cell \u001b[0;32mIn[8], line 1\u001b[0m\n\u001b[0;32m----> 1\u001b[0m word2vec_transfer \u001b[38;5;241m=\u001b[39m Word2Vec(sentences\u001b[38;5;241m=\u001b[39m\u001b[43mX_train\u001b[49m, vector_size\u001b[38;5;241m=\u001b[39mvector_size, min_count\u001b[38;5;241m=\u001b[39mmin_count, window\u001b[38;5;241m=\u001b[39mwindow)\n\u001b[1;32m      2\u001b[0m wv \u001b[38;5;241m=\u001b[39m word2vec_transfer\u001b[38;5;241m.\u001b[39mwv\n",
      "\u001b[0;31mNameError\u001b[0m: name 'X_train' is not defined"
     ]
    }
   ],
   "source": [
    "word2vec = Word2Vec(sentences=X_train, vector_size=vector_size, min_count=min_count, window=window)\n",
    "wv = word2vec.wv"
   ]
  },
  {
   "cell_type": "code",
   "execution_count": null,
   "id": "c8616d99",
   "metadata": {},
   "outputs": [],
   "source": [
    "#Sentence to list\n",
    "def embed_sentence(word2vec, sentence):\n",
    "    embedded_sentence = []\n",
    "    for word in sentence:\n",
    "        if word in word2vec.wv:\n",
    "            embedded_sentence.append(word2vec.wv[word])\n",
    "        \n",
    "    return np.array(embedded_sentence)"
   ]
  },
  {
   "cell_type": "code",
   "execution_count": null,
   "id": "c9cc09d5",
   "metadata": {},
   "outputs": [],
   "source": [
    "# Function that converts a list of sentences into a list of matrices\n",
    "def embedding(word2vec, sentences):\n",
    "    embed = []\n",
    "    \n",
    "    for sentence in sentences:\n",
    "        embedded_sentence = embed_sentence(word2vec, sentence)\n",
    "        embed.append(embedded_sentence)\n",
    "        \n",
    "    return embed"
   ]
  },
  {
   "cell_type": "code",
   "execution_count": null,
   "id": "83ac30d2",
   "metadata": {},
   "outputs": [],
   "source": [
    "# Embed the training and test sentences\n",
    "X_train_embed = embedding(word2vec, X_train)\n",
    "X_test_embed = embedding(word2vec, X_test)"
   ]
  },
  {
   "cell_type": "code",
   "execution_count": null,
   "id": "d9b21bf1",
   "metadata": {},
   "outputs": [],
   "source": [
    "# Pad the training and test embedded sentences\n",
    "X_train_pad = pad_sequences(X_train_embed, dtype='float32', padding='post', maxlen=200)\n",
    "X_test_pad = pad_sequences(X_test_embed, dtype='float32', padding='post', maxlen=200)"
   ]
  }
 ],
 "metadata": {
  "kernelspec": {
   "display_name": "Python 3 (ipykernel)",
   "language": "python",
   "name": "python3"
  },
  "language_info": {
   "codemirror_mode": {
    "name": "ipython",
    "version": 3
   },
   "file_extension": ".py",
   "mimetype": "text/x-python",
   "name": "python",
   "nbconvert_exporter": "python",
   "pygments_lexer": "ipython3",
   "version": "3.10.6"
  },
  "toc": {
   "base_numbering": 1,
   "nav_menu": {},
   "number_sections": true,
   "sideBar": true,
   "skip_h1_title": false,
   "title_cell": "Table of Contents",
   "title_sidebar": "Contents",
   "toc_cell": false,
   "toc_position": {},
   "toc_section_display": true,
   "toc_window_display": false
  }
 },
 "nbformat": 4,
 "nbformat_minor": 5
}
