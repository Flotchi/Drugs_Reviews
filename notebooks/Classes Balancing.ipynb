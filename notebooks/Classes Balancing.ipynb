{
 "cells": [
  {
   "cell_type": "code",
   "execution_count": 4,
   "id": "5e6f26b7",
   "metadata": {
    "ExecuteTime": {
     "end_time": "2024-11-27T15:13:37.421927Z",
     "start_time": "2024-11-27T15:13:37.413806Z"
    }
   },
   "outputs": [],
   "source": [
    "from imblearn.over_sampling import RandomOverSampler,SMOTE"
   ]
  },
  {
   "cell_type": "markdown",
   "id": "980bcd45",
   "metadata": {
    "ExecuteTime": {
     "end_time": "2024-11-27T15:03:06.456118Z",
     "start_time": "2024-11-27T15:03:06.442399Z"
    }
   },
   "source": [
    "1) Random sampler"
   ]
  },
  {
   "cell_type": "code",
   "execution_count": null,
   "id": "eec53cb1",
   "metadata": {},
   "outputs": [],
   "source": [
    "# Apply Random Over-Sampling on the vectorized data\n",
    "def Random_Sampler(X_train,y_train):\n",
    "    ros = RandomOverSampler(random_state=101)\n",
    "    X_train_resampled, y_train_resampled = ros.fit_resample(X_train, y_train)\n",
    "    return X_train_resampled, y_train_resampled"
   ]
  },
  {
   "cell_type": "markdown",
   "id": "77db18e9",
   "metadata": {},
   "source": [
    "2) SMOTE sampler"
   ]
  },
  {
   "cell_type": "code",
   "execution_count": null,
   "id": "c208b520",
   "metadata": {},
   "outputs": [],
   "source": [
    "def SMOTE_Sampler(X_train,y_train):\n",
    "    smote = SMOTE(random_state=0)\n",
    "    X_train_resampled, y_train_resampled = smote.fit_resample(X_train, y_train)"
   ]
  }
 ],
 "metadata": {
  "kernelspec": {
   "display_name": "Python 3 (ipykernel)",
   "language": "python",
   "name": "python3"
  },
  "language_info": {
   "codemirror_mode": {
    "name": "ipython",
    "version": 3
   },
   "file_extension": ".py",
   "mimetype": "text/x-python",
   "name": "python",
   "nbconvert_exporter": "python",
   "pygments_lexer": "ipython3",
   "version": "3.10.6"
  },
  "toc": {
   "base_numbering": 1,
   "nav_menu": {},
   "number_sections": true,
   "sideBar": true,
   "skip_h1_title": false,
   "title_cell": "Table of Contents",
   "title_sidebar": "Contents",
   "toc_cell": false,
   "toc_position": {},
   "toc_section_display": true,
   "toc_window_display": false
  }
 },
 "nbformat": 4,
 "nbformat_minor": 5
}
