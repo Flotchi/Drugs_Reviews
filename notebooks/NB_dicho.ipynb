{
 "cells": [
  {
   "cell_type": "markdown",
   "id": "83d73a55",
   "metadata": {},
   "source": [
    "# Import and process"
   ]
  },
  {
   "cell_type": "code",
   "execution_count": null,
   "id": "4ad6cc26",
   "metadata": {
    "ExecuteTime": {
     "end_time": "2024-11-27T13:31:33.875503Z",
     "start_time": "2024-11-27T13:31:33.845380Z"
    }
   },
   "outputs": [
    {
     "name": "stdout",
     "output_type": "stream",
     "text": [
      "The autoreload extension is already loaded. To reload it, use:\n",
      "  %reload_ext autoreload\n"
     ]
    }
   ],
   "source": [
    "%load_ext autoreload\n",
    "%autoreload 2\n",
    "import logic.processing as lp\n",
    "import string"
   ]
  },
  {
   "cell_type": "code",
   "execution_count": 12,
   "id": "bdea80fb",
   "metadata": {
    "ExecuteTime": {
     "end_time": "2024-11-27T13:31:34.719653Z",
     "start_time": "2024-11-27T13:31:36.457376Z"
    }
   },
   "outputs": [
    {
     "data": {
      "text/plain": [
       "'!\"#$%&\\'()*+,-./:;<=>?@[\\\\]^_`{|}~'"
      ]
     },
     "execution_count": 12,
     "metadata": {},
     "output_type": "execute_result"
    }
   ],
   "source": [
    "string.punctuation"
   ]
  },
  {
   "cell_type": "code",
   "execution_count": 2,
   "id": "5f3e9204",
   "metadata": {
    "ExecuteTime": {
     "end_time": "2024-11-27T13:26:46.560344Z",
     "start_time": "2024-11-27T13:26:46.242422Z"
    }
   },
   "outputs": [],
   "source": [
    "data = lp.load_data('Combined Data.csv')"
   ]
  },
  {
   "cell_type": "code",
   "execution_count": 3,
   "id": "667d556f",
   "metadata": {
    "ExecuteTime": {
     "end_time": "2024-11-27T13:27:40.816726Z",
     "start_time": "2024-11-27T13:26:46.564057Z"
    }
   },
   "outputs": [],
   "source": [
    "df = lp.preproc(data, bi = True)"
   ]
  },
  {
   "cell_type": "code",
   "execution_count": 4,
   "id": "c22188cf",
   "metadata": {
    "ExecuteTime": {
     "end_time": "2024-11-27T13:27:40.860047Z",
     "start_time": "2024-11-27T13:27:40.822675Z"
    }
   },
   "outputs": [
    {
     "data": {
      "text/html": [
       "<div>\n",
       "<style scoped>\n",
       "    .dataframe tbody tr th:only-of-type {\n",
       "        vertical-align: middle;\n",
       "    }\n",
       "\n",
       "    .dataframe tbody tr th {\n",
       "        vertical-align: top;\n",
       "    }\n",
       "\n",
       "    .dataframe thead th {\n",
       "        text-align: right;\n",
       "    }\n",
       "</style>\n",
       "<table border=\"1\" class=\"dataframe\">\n",
       "  <thead>\n",
       "    <tr style=\"text-align: right;\">\n",
       "      <th></th>\n",
       "      <th>Unnamed: 0</th>\n",
       "      <th>statement</th>\n",
       "      <th>status</th>\n",
       "      <th>clean</th>\n",
       "      <th>label</th>\n",
       "    </tr>\n",
       "  </thead>\n",
       "  <tbody>\n",
       "    <tr>\n",
       "      <th>27785</th>\n",
       "      <td>27785</td>\n",
       "      <td>Grad school isn’t really the easiest place to ...</td>\n",
       "      <td>Stress</td>\n",
       "      <td>grad school ’ really easiest place parent alon...</td>\n",
       "      <td>0</td>\n",
       "    </tr>\n",
       "    <tr>\n",
       "      <th>2924</th>\n",
       "      <td>2924</td>\n",
       "      <td>Got a gift from fujifilm grgr video kmrn fypðŸ˜‚</td>\n",
       "      <td>Normal</td>\n",
       "      <td>get gift fujifilm grgr video kmrn fypðÿ˜‚</td>\n",
       "      <td>1</td>\n",
       "    </tr>\n",
       "    <tr>\n",
       "      <th>5447</th>\n",
       "      <td>5447</td>\n",
       "      <td>dream of being a kindergarten teacher, where a...</td>\n",
       "      <td>Normal</td>\n",
       "      <td>dream kindergarten teacher tell teach science ...</td>\n",
       "      <td>1</td>\n",
       "    </tr>\n",
       "    <tr>\n",
       "      <th>942</th>\n",
       "      <td>942</td>\n",
       "      <td>I should have wake up early today bro. Tomorro...</td>\n",
       "      <td>Normal</td>\n",
       "      <td>wake early today bro tomorrow play day</td>\n",
       "      <td>1</td>\n",
       "    </tr>\n",
       "    <tr>\n",
       "      <th>49843</th>\n",
       "      <td>49843</td>\n",
       "      <td>Dreadddd When the caffeine cravings, sleepless...</td>\n",
       "      <td>Bipolar</td>\n",
       "      <td>dreadddd caffeine craving sleeplessness though...</td>\n",
       "      <td>0</td>\n",
       "    </tr>\n",
       "    <tr>\n",
       "      <th>45212</th>\n",
       "      <td>45212</td>\n",
       "      <td>can t sleep how frustrating</td>\n",
       "      <td>Normal</td>\n",
       "      <td>sleep frustrate</td>\n",
       "      <td>1</td>\n",
       "    </tr>\n",
       "    <tr>\n",
       "      <th>9550</th>\n",
       "      <td>9550</td>\n",
       "      <td>...if you do not have a goal, life is a chore....</td>\n",
       "      <td>Depression</td>\n",
       "      <td>goal life choremy goal kill life suck courage ...</td>\n",
       "      <td>0</td>\n",
       "    </tr>\n",
       "    <tr>\n",
       "      <th>49764</th>\n",
       "      <td>49764</td>\n",
       "      <td>I’m new I’m very recently diagnosed (in conjun...</td>\n",
       "      <td>Bipolar</td>\n",
       "      <td>’ new ’ recently diagnose conjunction w asd ’ ...</td>\n",
       "      <td>0</td>\n",
       "    </tr>\n",
       "    <tr>\n",
       "      <th>51793</th>\n",
       "      <td>51793</td>\n",
       "      <td>So tired of everything  I am so goddamn tired ...</td>\n",
       "      <td>Personality disorder</td>\n",
       "      <td>tire everything goddamn tire everything look f...</td>\n",
       "      <td>0</td>\n",
       "    </tr>\n",
       "    <tr>\n",
       "      <th>12847</th>\n",
       "      <td>12847</td>\n",
       "      <td>I do not have a single person that actually ca...</td>\n",
       "      <td>Suicidal</td>\n",
       "      <td>single person actually care way accept fact lo...</td>\n",
       "      <td>0</td>\n",
       "    </tr>\n",
       "    <tr>\n",
       "      <th>32610</th>\n",
       "      <td>32610</td>\n",
       "      <td>well, there is one good table.</td>\n",
       "      <td>Normal</td>\n",
       "      <td>well one good table</td>\n",
       "      <td>1</td>\n",
       "    </tr>\n",
       "    <tr>\n",
       "      <th>19056</th>\n",
       "      <td>19056</td>\n",
       "      <td>does anyone else have generalized anxiety diso...</td>\n",
       "      <td>Suicidal</td>\n",
       "      <td>anyone else generalize anxiety disorder feel l...</td>\n",
       "      <td>0</td>\n",
       "    </tr>\n",
       "    <tr>\n",
       "      <th>6446</th>\n",
       "      <td>6446</td>\n",
       "      <td>Try to think about it, maybe the difficulties ...</td>\n",
       "      <td>Normal</td>\n",
       "      <td>try think maybe difficulty experience right wo...</td>\n",
       "      <td>1</td>\n",
       "    </tr>\n",
       "    <tr>\n",
       "      <th>43266</th>\n",
       "      <td>43266</td>\n",
       "      <td>tv w charley she is too cute and too sweet try...</td>\n",
       "      <td>Normal</td>\n",
       "      <td>tv w charley cute sweet try get blue cheer twe...</td>\n",
       "      <td>1</td>\n",
       "    </tr>\n",
       "    <tr>\n",
       "      <th>44257</th>\n",
       "      <td>44257</td>\n",
       "      <td>http twitpic com y z see where we ve been move...</td>\n",
       "      <td>Normal</td>\n",
       "      <td>http twitpic com z see move dwsr</td>\n",
       "      <td>1</td>\n",
       "    </tr>\n",
       "    <tr>\n",
       "      <th>4118</th>\n",
       "      <td>4118</td>\n",
       "      <td>Haha?? CB? Who is CB?</td>\n",
       "      <td>Normal</td>\n",
       "      <td>haha cb cb</td>\n",
       "      <td>1</td>\n",
       "    </tr>\n",
       "    <tr>\n",
       "      <th>27413</th>\n",
       "      <td>27413</td>\n",
       "      <td>I know this may seem like a small thing, but t...</td>\n",
       "      <td>Stress</td>\n",
       "      <td>know may seem like small thing someone problem...</td>\n",
       "      <td>0</td>\n",
       "    </tr>\n",
       "    <tr>\n",
       "      <th>25223</th>\n",
       "      <td>25223</td>\n",
       "      <td>Yes, I am posting this from my NSFW Burner acc...</td>\n",
       "      <td>Depression</td>\n",
       "      <td>yes post nsfw burner accountno want post tie m...</td>\n",
       "      <td>0</td>\n",
       "    </tr>\n",
       "    <tr>\n",
       "      <th>24992</th>\n",
       "      <td>24992</td>\n",
       "      <td>I think I scare my friends away and maybe they...</td>\n",
       "      <td>Suicidal</td>\n",
       "      <td>think scare friend away maybe think creepy get...</td>\n",
       "      <td>0</td>\n",
       "    </tr>\n",
       "    <tr>\n",
       "      <th>18633</th>\n",
       "      <td>18633</td>\n",
       "      <td>Have no reason not to anymore Hi world I am go...</td>\n",
       "      <td>Suicidal</td>\n",
       "      <td>reason anymore hi world go hang come week</td>\n",
       "      <td>0</td>\n",
       "    </tr>\n",
       "  </tbody>\n",
       "</table>\n",
       "</div>"
      ],
      "text/plain": [
       "       Unnamed: 0                                          statement  \\\n",
       "27785       27785  Grad school isn’t really the easiest place to ...   \n",
       "2924         2924   Got a gift from fujifilm grgr video kmrn fypðŸ˜‚   \n",
       "5447         5447  dream of being a kindergarten teacher, where a...   \n",
       "942           942  I should have wake up early today bro. Tomorro...   \n",
       "49843       49843  Dreadddd When the caffeine cravings, sleepless...   \n",
       "45212       45212                        can t sleep how frustrating   \n",
       "9550         9550  ...if you do not have a goal, life is a chore....   \n",
       "49764       49764  I’m new I’m very recently diagnosed (in conjun...   \n",
       "51793       51793  So tired of everything  I am so goddamn tired ...   \n",
       "12847       12847  I do not have a single person that actually ca...   \n",
       "32610       32610                     well, there is one good table.   \n",
       "19056       19056  does anyone else have generalized anxiety diso...   \n",
       "6446         6446  Try to think about it, maybe the difficulties ...   \n",
       "43266       43266  tv w charley she is too cute and too sweet try...   \n",
       "44257       44257  http twitpic com y z see where we ve been move...   \n",
       "4118         4118                              Haha?? CB? Who is CB?   \n",
       "27413       27413  I know this may seem like a small thing, but t...   \n",
       "25223       25223  Yes, I am posting this from my NSFW Burner acc...   \n",
       "24992       24992  I think I scare my friends away and maybe they...   \n",
       "18633       18633  Have no reason not to anymore Hi world I am go...   \n",
       "\n",
       "                     status  \\\n",
       "27785                Stress   \n",
       "2924                 Normal   \n",
       "5447                 Normal   \n",
       "942                  Normal   \n",
       "49843               Bipolar   \n",
       "45212                Normal   \n",
       "9550             Depression   \n",
       "49764               Bipolar   \n",
       "51793  Personality disorder   \n",
       "12847              Suicidal   \n",
       "32610                Normal   \n",
       "19056              Suicidal   \n",
       "6446                 Normal   \n",
       "43266                Normal   \n",
       "44257                Normal   \n",
       "4118                 Normal   \n",
       "27413                Stress   \n",
       "25223            Depression   \n",
       "24992              Suicidal   \n",
       "18633              Suicidal   \n",
       "\n",
       "                                                   clean  label  \n",
       "27785  grad school ’ really easiest place parent alon...      0  \n",
       "2924           get gift fujifilm grgr video kmrn fypðÿ˜‚      1  \n",
       "5447   dream kindergarten teacher tell teach science ...      1  \n",
       "942               wake early today bro tomorrow play day      1  \n",
       "49843  dreadddd caffeine craving sleeplessness though...      0  \n",
       "45212                                    sleep frustrate      1  \n",
       "9550   goal life choremy goal kill life suck courage ...      0  \n",
       "49764  ’ new ’ recently diagnose conjunction w asd ’ ...      0  \n",
       "51793  tire everything goddamn tire everything look f...      0  \n",
       "12847  single person actually care way accept fact lo...      0  \n",
       "32610                                well one good table      1  \n",
       "19056  anyone else generalize anxiety disorder feel l...      0  \n",
       "6446   try think maybe difficulty experience right wo...      1  \n",
       "43266  tv w charley cute sweet try get blue cheer twe...      1  \n",
       "44257                   http twitpic com z see move dwsr      1  \n",
       "4118                                          haha cb cb      1  \n",
       "27413  know may seem like small thing someone problem...      0  \n",
       "25223  yes post nsfw burner accountno want post tie m...      0  \n",
       "24992  think scare friend away maybe think creepy get...      0  \n",
       "18633          reason anymore hi world go hang come week      0  "
      ]
     },
     "execution_count": 4,
     "metadata": {},
     "output_type": "execute_result"
    }
   ],
   "source": [
    "df.sample(20)"
   ]
  },
  {
   "cell_type": "markdown",
   "id": "a79d0433",
   "metadata": {},
   "source": [
    "# Model : Naive Baysian"
   ]
  },
  {
   "cell_type": "code",
   "execution_count": 5,
   "id": "61b2b656",
   "metadata": {
    "ExecuteTime": {
     "end_time": "2024-11-27T13:28:01.599020Z",
     "start_time": "2024-11-27T13:28:02.979798Z"
    }
   },
   "outputs": [],
   "source": [
    "from sklearn.model_selection import cross_validate\n",
    "from sklearn.pipeline import make_pipeline\n",
    "from sklearn.feature_extraction.text import TfidfVectorizer\n",
    "from sklearn.naive_bayes import MultinomialNB\n",
    "from sklearn.metrics import recall_score\n",
    "from sklearn.decomposition import LatentDirichletAllocation\n",
    "from sklearn.naive_bayes import MultinomialNB\n",
    "from sklearn.pipeline import make_pipeline\n",
    "from sklearn.model_selection import cross_validate\n",
    "from sklearn.model_selection import cross_val_predict\n",
    "from sklearn.metrics import precision_recall_curve, precision_score, accuracy_score\n",
    "import matplotlib.pyplot as plt\n",
    "import pandas as pd\n",
    "import numpy as np"
   ]
  },
  {
   "cell_type": "code",
   "execution_count": 6,
   "id": "a1ca611d",
   "metadata": {
    "ExecuteTime": {
     "end_time": "2024-11-27T13:28:01.627425Z",
     "start_time": "2024-11-27T13:28:01.602371Z"
    }
   },
   "outputs": [],
   "source": [
    "# pipe1 = make_pipeline(TfidfVectorizer(ngram_range=(1,1)),\n",
    "#                      MultinomialNB(alpha=0.1))"
   ]
  },
  {
   "cell_type": "code",
   "execution_count": 7,
   "id": "26b8740b",
   "metadata": {
    "ExecuteTime": {
     "end_time": "2024-11-27T13:28:02.079737Z",
     "start_time": "2024-11-27T13:28:02.054003Z"
    }
   },
   "outputs": [],
   "source": [
    "pipe2 = make_pipeline(TfidfVectorizer(ngram_range=(1,1), max_df= 0.9),\n",
    "                     MultinomialNB(alpha=0.01))"
   ]
  },
  {
   "cell_type": "code",
   "execution_count": 8,
   "id": "c46c7b22",
   "metadata": {
    "ExecuteTime": {
     "end_time": "2024-11-27T13:28:02.468063Z",
     "start_time": "2024-11-27T13:28:02.443485Z"
    }
   },
   "outputs": [],
   "source": [
    "X = df['clean']\n",
    "y = df['label']"
   ]
  },
  {
   "cell_type": "code",
   "execution_count": 10,
   "id": "7fdaa841",
   "metadata": {
    "ExecuteTime": {
     "end_time": "2024-11-27T13:28:12.768900Z",
     "start_time": "2024-11-27T13:28:12.733902Z"
    }
   },
   "outputs": [
    {
     "data": {
      "text/plain": [
       "0"
      ]
     },
     "execution_count": 10,
     "metadata": {},
     "output_type": "execute_result"
    }
   ],
   "source": [
    "X.isna().sum()"
   ]
  },
  {
   "cell_type": "code",
   "execution_count": null,
   "id": "511f3bec",
   "metadata": {
    "ExecuteTime": {
     "end_time": "2024-11-27T13:26:30.133195Z",
     "start_time": "2024-11-27T13:26:25.886610Z"
    }
   },
   "outputs": [],
   "source": [
    "cv1 = cross_validate(pipe2, X,y, scoring = ['accuracy','precision','recall'])"
   ]
  },
  {
   "cell_type": "code",
   "execution_count": null,
   "id": "b5f40a10",
   "metadata": {
    "ExecuteTime": {
     "end_time": "2024-11-27T13:26:30.138082Z",
     "start_time": "2024-11-27T13:26:30.138042Z"
    }
   },
   "outputs": [],
   "source": [
    "cv1"
   ]
  },
  {
   "cell_type": "code",
   "execution_count": null,
   "id": "c24c16e1",
   "metadata": {
    "ExecuteTime": {
     "end_time": "2024-11-27T13:26:30.140062Z",
     "start_time": "2024-11-27T13:26:30.140041Z"
    }
   },
   "outputs": [],
   "source": [
    "cvp = cross_val_predict(pipe2,X,y,method='predict_proba')"
   ]
  },
  {
   "cell_type": "code",
   "execution_count": null,
   "id": "d8b9c495",
   "metadata": {
    "ExecuteTime": {
     "end_time": "2024-11-27T13:26:30.144061Z",
     "start_time": "2024-11-27T13:26:30.144042Z"
    }
   },
   "outputs": [],
   "source": [
    "cvp.T[1]"
   ]
  },
  {
   "cell_type": "code",
   "execution_count": null,
   "id": "83297c27",
   "metadata": {
    "ExecuteTime": {
     "end_time": "2024-11-27T13:26:30.147272Z",
     "start_time": "2024-11-27T13:26:30.147258Z"
    }
   },
   "outputs": [],
   "source": [
    "proba_norm = cvp.T[1]"
   ]
  },
  {
   "cell_type": "code",
   "execution_count": null,
   "id": "bc5a54cd",
   "metadata": {
    "ExecuteTime": {
     "end_time": "2024-11-27T13:26:30.150191Z",
     "start_time": "2024-11-27T13:26:30.150177Z"
    }
   },
   "outputs": [],
   "source": [
    "pre, rec, thresh = precision_recall_curve(y, proba_norm)"
   ]
  },
  {
   "cell_type": "code",
   "execution_count": null,
   "id": "a8d27cbb",
   "metadata": {
    "ExecuteTime": {
     "end_time": "2024-11-27T13:26:30.152679Z",
     "start_time": "2024-11-27T13:26:30.152652Z"
    }
   },
   "outputs": [],
   "source": [
    "scores = pd.DataFrame({'precision' : pre[:-1],\n",
    "                      'recall' : rec[:-1],\n",
    "                      'threshold' : thresh})"
   ]
  },
  {
   "cell_type": "code",
   "execution_count": null,
   "id": "229d8088",
   "metadata": {
    "ExecuteTime": {
     "end_time": "2024-11-27T13:26:30.154150Z",
     "start_time": "2024-11-27T13:26:30.154136Z"
    }
   },
   "outputs": [],
   "source": [
    "scores"
   ]
  },
  {
   "cell_type": "code",
   "execution_count": null,
   "id": "09d30247",
   "metadata": {
    "ExecuteTime": {
     "end_time": "2024-11-27T13:26:30.157775Z",
     "start_time": "2024-11-27T13:26:30.157760Z"
    }
   },
   "outputs": [],
   "source": [
    "plt.plot(scores['recall'], scores['precision']);"
   ]
  },
  {
   "cell_type": "code",
   "execution_count": null,
   "id": "3a2da727",
   "metadata": {
    "ExecuteTime": {
     "end_time": "2024-11-27T13:26:30.161036Z",
     "start_time": "2024-11-27T13:26:30.161020Z"
    }
   },
   "outputs": [],
   "source": [
    "seuil = scores[scores['recall'] >= 0.85].threshold.max()\n",
    "seuil"
   ]
  },
  {
   "cell_type": "code",
   "execution_count": null,
   "id": "75ecb141",
   "metadata": {
    "ExecuteTime": {
     "end_time": "2024-11-27T13:26:30.162882Z",
     "start_time": "2024-11-27T13:26:30.162868Z"
    }
   },
   "outputs": [],
   "source": [
    "def custom(proba,threshold):\n",
    "    return (proba > threshold).astype(int)"
   ]
  },
  {
   "cell_type": "code",
   "execution_count": null,
   "id": "8b0f08ef",
   "metadata": {
    "ExecuteTime": {
     "end_time": "2024-11-27T13:26:30.169706Z",
     "start_time": "2024-11-27T13:26:30.169659Z"
    }
   },
   "outputs": [],
   "source": [
    "updated = custom(proba_norm, seuil)"
   ]
  },
  {
   "cell_type": "code",
   "execution_count": null,
   "id": "478bdda8",
   "metadata": {
    "ExecuteTime": {
     "end_time": "2024-11-27T13:26:30.172807Z",
     "start_time": "2024-11-27T13:26:30.172779Z"
    }
   },
   "outputs": [],
   "source": [
    "updated"
   ]
  },
  {
   "cell_type": "code",
   "execution_count": null,
   "id": "aabe5fb0",
   "metadata": {
    "ExecuteTime": {
     "end_time": "2024-11-27T13:26:30.176594Z",
     "start_time": "2024-11-27T13:26:30.176566Z"
    }
   },
   "outputs": [],
   "source": [
    "recall_new = recall_score(y, updated)\n",
    "recall_new"
   ]
  },
  {
   "cell_type": "code",
   "execution_count": null,
   "id": "c737a499",
   "metadata": {
    "ExecuteTime": {
     "end_time": "2024-11-27T13:26:30.180591Z",
     "start_time": "2024-11-27T13:26:30.180568Z"
    }
   },
   "outputs": [],
   "source": [
    "precision_new = precision_score(y, updated)\n",
    "precision_new"
   ]
  },
  {
   "cell_type": "code",
   "execution_count": null,
   "id": "0af1dd4a",
   "metadata": {
    "ExecuteTime": {
     "end_time": "2024-11-27T13:26:30.186571Z",
     "start_time": "2024-11-27T13:26:30.186534Z"
    }
   },
   "outputs": [],
   "source": [
    "accuracy_score(y,updated)"
   ]
  },
  {
   "cell_type": "code",
   "execution_count": null,
   "id": "0749cbbf",
   "metadata": {
    "ExecuteTime": {
     "end_time": "2024-11-27T13:26:30.189518Z",
     "start_time": "2024-11-27T13:26:30.189498Z"
    }
   },
   "outputs": [],
   "source": [
    "from sklearn.metrics import roc_curve\n",
    "from sklearn.metrics import roc_auc_score"
   ]
  },
  {
   "cell_type": "code",
   "execution_count": null,
   "id": "8d7b201c",
   "metadata": {
    "ExecuteTime": {
     "end_time": "2024-11-27T13:26:30.194180Z",
     "start_time": "2024-11-27T13:26:30.194158Z"
    }
   },
   "outputs": [],
   "source": [
    "roc_auc_score(y, updated)"
   ]
  },
  {
   "cell_type": "markdown",
   "id": "07be0a30",
   "metadata": {},
   "source": [
    "## Grid searching"
   ]
  },
  {
   "cell_type": "code",
   "execution_count": null,
   "id": "2d728091",
   "metadata": {
    "ExecuteTime": {
     "end_time": "2024-11-27T13:26:30.196994Z",
     "start_time": "2024-11-27T13:26:30.196975Z"
    }
   },
   "outputs": [],
   "source": [
    "from sklearn.model_selection import GridSearchCV"
   ]
  },
  {
   "cell_type": "code",
   "execution_count": null,
   "id": "1b72d3cc",
   "metadata": {
    "ExecuteTime": {
     "end_time": "2024-11-27T13:26:30.198929Z",
     "start_time": "2024-11-27T13:26:30.198906Z"
    }
   },
   "outputs": [],
   "source": [
    "TfidfVectorizer()"
   ]
  },
  {
   "cell_type": "code",
   "execution_count": null,
   "id": "8df499fc",
   "metadata": {
    "ExecuteTime": {
     "end_time": "2024-11-27T13:26:30.202866Z",
     "start_time": "2024-11-27T13:26:30.202842Z"
    }
   },
   "outputs": [],
   "source": [
    "pipe1.get_params()"
   ]
  },
  {
   "cell_type": "code",
   "execution_count": null,
   "id": "137ff16c",
   "metadata": {
    "ExecuteTime": {
     "end_time": "2024-11-27T13:26:30.205964Z",
     "start_time": "2024-11-27T13:26:30.205948Z"
    }
   },
   "outputs": [],
   "source": [
    "TfidfVectorizer()"
   ]
  },
  {
   "cell_type": "code",
   "execution_count": null,
   "id": "b3220633",
   "metadata": {
    "ExecuteTime": {
     "end_time": "2024-11-27T13:26:30.209748Z",
     "start_time": "2024-11-27T13:26:30.209689Z"
    }
   },
   "outputs": [],
   "source": [
    "params = {'tfidfvectorizer__ngram_range' : ((1,1),(1,2),(2,2)),\n",
    "          'tfidfvectorizer__max_df' : [0.9, 0.95],\n",
    "          'multinomialnb__alpha' : [0.01, 0.1, 1]\n",
    "         }\n"
   ]
  },
  {
   "cell_type": "code",
   "execution_count": null,
   "id": "535219fa",
   "metadata": {
    "ExecuteTime": {
     "end_time": "2024-11-27T13:26:30.212560Z",
     "start_time": "2024-11-27T13:26:30.212543Z"
    }
   },
   "outputs": [],
   "source": [
    "grid = GridSearchCV(pipe2,\n",
    "                    params,\n",
    "                    scoring = 'recall',\n",
    "                    n_jobs=-1,\n",
    "                    verbose=2\n",
    "                   )"
   ]
  },
  {
   "cell_type": "code",
   "execution_count": null,
   "id": "c31cf7ce",
   "metadata": {
    "ExecuteTime": {
     "end_time": "2024-11-27T13:26:30.216919Z",
     "start_time": "2024-11-27T13:26:30.216898Z"
    },
    "scrolled": true
   },
   "outputs": [],
   "source": [
    "grid.fit(X,y)"
   ]
  },
  {
   "cell_type": "code",
   "execution_count": null,
   "id": "0f34f8b5",
   "metadata": {
    "ExecuteTime": {
     "end_time": "2024-11-27T13:26:30.220270Z",
     "start_time": "2024-11-27T13:26:30.220239Z"
    },
    "scrolled": true
   },
   "outputs": [],
   "source": [
    "grid.best_score_"
   ]
  },
  {
   "cell_type": "code",
   "execution_count": null,
   "id": "172369c3",
   "metadata": {
    "ExecuteTime": {
     "end_time": "2024-11-27T13:26:30.222314Z",
     "start_time": "2024-11-27T13:26:30.222296Z"
    }
   },
   "outputs": [],
   "source": [
    "grid.best_params_"
   ]
  },
  {
   "cell_type": "code",
   "execution_count": null,
   "id": "4cf0ab12",
   "metadata": {},
   "outputs": [],
   "source": []
  },
  {
   "cell_type": "code",
   "execution_count": null,
   "id": "b070aa2a",
   "metadata": {},
   "outputs": [],
   "source": []
  }
 ],
 "metadata": {
  "kernelspec": {
   "display_name": "Python 3 (ipykernel)",
   "language": "python",
   "name": "python3"
  },
  "language_info": {
   "codemirror_mode": {
    "name": "ipython",
    "version": 3
   },
   "file_extension": ".py",
   "mimetype": "text/x-python",
   "name": "python",
   "nbconvert_exporter": "python",
   "pygments_lexer": "ipython3",
   "version": "3.10.6"
  },
  "toc": {
   "base_numbering": 1,
   "nav_menu": {},
   "number_sections": true,
   "sideBar": true,
   "skip_h1_title": false,
   "title_cell": "Table of Contents",
   "title_sidebar": "Contents",
   "toc_cell": false,
   "toc_position": {},
   "toc_section_display": true,
   "toc_window_display": false
  }
 },
 "nbformat": 4,
 "nbformat_minor": 5
}
