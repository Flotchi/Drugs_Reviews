{
 "cells": [
  {
   "cell_type": "markdown",
   "id": "a361081c",
   "metadata": {},
   "source": [
    "# Transformers"
   ]
  },
  {
   "cell_type": "code",
   "execution_count": 1,
   "id": "946d292f",
   "metadata": {
    "ExecuteTime": {
     "end_time": "2024-12-03T10:34:41.357397Z",
     "start_time": "2024-12-03T10:34:37.494598Z"
    }
   },
   "outputs": [
    {
     "name": "stderr",
     "output_type": "stream",
     "text": [
      "[nltk_data] Downloading package stopwords to\n",
      "[nltk_data]     /home/speroulakis/nltk_data...\n",
      "[nltk_data]   Package stopwords is already up-to-date!\n",
      "[nltk_data] Downloading package punkt to\n",
      "[nltk_data]     /home/speroulakis/nltk_data...\n",
      "[nltk_data]   Package punkt is already up-to-date!\n",
      "[nltk_data] Downloading package wordnet to\n",
      "[nltk_data]     /home/speroulakis/nltk_data...\n",
      "[nltk_data]   Package wordnet is already up-to-date!\n",
      "[nltk_data] Downloading package omw-1.4 to\n",
      "[nltk_data]     /home/speroulakis/nltk_data...\n",
      "[nltk_data]   Package omw-1.4 is already up-to-date!\n",
      "[nltk_data] Downloading package punkt_tab to\n",
      "[nltk_data]     /home/speroulakis/nltk_data...\n",
      "[nltk_data]   Package punkt_tab is already up-to-date!\n"
     ]
    }
   ],
   "source": [
    "import pandas as pd\n",
    "import numpy as np\n",
    "import logic.processing as lp\n",
    "import seaborn as sns"
   ]
  },
  {
   "cell_type": "code",
   "execution_count": 2,
   "id": "ed782686",
   "metadata": {
    "ExecuteTime": {
     "end_time": "2024-12-03T10:34:42.298370Z",
     "start_time": "2024-12-03T10:34:41.361078Z"
    }
   },
   "outputs": [],
   "source": [
    "df = lp.load_data('drugsComTrain_raw.csv')"
   ]
  },
  {
   "cell_type": "code",
   "execution_count": 3,
   "id": "abc89357",
   "metadata": {
    "ExecuteTime": {
     "end_time": "2024-12-03T10:34:42.311849Z",
     "start_time": "2024-12-03T10:34:42.305123Z"
    }
   },
   "outputs": [],
   "source": [
    "def data_filter(df,uselfCount=0,min_length=30):\n",
    "\n",
    "    df = df.dropna()\n",
    "#     condition_distribution = df['condition'].value_counts()\n",
    "#     best_conditions = condition_distribution.head(top_conditions)\n",
    "#     top_conditions_list = best_conditions.index.tolist()\n",
    "#     df = df[df['condition'].isin(top_conditions_list)]\n",
    "    df = df[df['rating'].isin([1,2,3,8,9,10])]\n",
    "    df['sentiment'] = 0\n",
    "    df['sentiment'] = (df['rating'].isin([8,9,10])).astype(int)\n",
    "    df = df[df['usefulCount']>uselfCount]\n",
    "    df['review_length'] = df['review'].apply(lambda x: len(str(x).split()))\n",
    "    df = df[df.review_length>=min_length]\n",
    "\n",
    "    return df\n"
   ]
  },
  {
   "cell_type": "code",
   "execution_count": 4,
   "id": "af44d672",
   "metadata": {
    "ExecuteTime": {
     "end_time": "2024-12-03T10:34:43.087691Z",
     "start_time": "2024-12-03T10:34:42.315885Z"
    }
   },
   "outputs": [],
   "source": [
    "df1 = data_filter(df)"
   ]
  },
  {
   "cell_type": "code",
   "execution_count": 5,
   "id": "08940c05",
   "metadata": {
    "ExecuteTime": {
     "end_time": "2024-12-03T10:37:14.975396Z",
     "start_time": "2024-12-03T10:34:43.090890Z"
    }
   },
   "outputs": [],
   "source": [
    "df2 = lp.preproc(df1)"
   ]
  },
  {
   "cell_type": "code",
   "execution_count": 6,
   "id": "9051f26f",
   "metadata": {
    "ExecuteTime": {
     "end_time": "2024-12-03T10:37:15.008021Z",
     "start_time": "2024-12-03T10:37:14.978538Z"
    }
   },
   "outputs": [],
   "source": [
    "df3 = df2.drop(columns=['drugName', 'condition', 'date', 'review_length' ])"
   ]
  },
  {
   "cell_type": "code",
   "execution_count": 7,
   "id": "3d9cb89e",
   "metadata": {
    "ExecuteTime": {
     "end_time": "2024-12-03T10:37:15.043633Z",
     "start_time": "2024-12-03T10:37:15.012854Z"
    }
   },
   "outputs": [],
   "source": [
    "data = df3.copy()"
   ]
  },
  {
   "cell_type": "code",
   "execution_count": 8,
   "id": "48d22ec7",
   "metadata": {
    "ExecuteTime": {
     "end_time": "2024-12-03T10:37:15.053444Z",
     "start_time": "2024-12-03T10:37:15.047591Z"
    }
   },
   "outputs": [],
   "source": [
    "X = data['clean']\n",
    "y = data['sentiment']"
   ]
  },
  {
   "cell_type": "code",
   "execution_count": 9,
   "id": "405359e9",
   "metadata": {
    "ExecuteTime": {
     "end_time": "2024-12-03T10:37:15.083355Z",
     "start_time": "2024-12-03T10:37:15.059657Z"
    }
   },
   "outputs": [
    {
     "data": {
      "text/html": [
       "<div>\n",
       "<style scoped>\n",
       "    .dataframe tbody tr th:only-of-type {\n",
       "        vertical-align: middle;\n",
       "    }\n",
       "\n",
       "    .dataframe tbody tr th {\n",
       "        vertical-align: top;\n",
       "    }\n",
       "\n",
       "    .dataframe thead th {\n",
       "        text-align: right;\n",
       "    }\n",
       "</style>\n",
       "<table border=\"1\" class=\"dataframe\">\n",
       "  <thead>\n",
       "    <tr style=\"text-align: right;\">\n",
       "      <th></th>\n",
       "      <th>uniqueID</th>\n",
       "      <th>review</th>\n",
       "      <th>rating</th>\n",
       "      <th>usefulCount</th>\n",
       "      <th>sentiment</th>\n",
       "      <th>clean</th>\n",
       "    </tr>\n",
       "  </thead>\n",
       "  <tbody>\n",
       "    <tr>\n",
       "      <th>1</th>\n",
       "      <td>95260</td>\n",
       "      <td>\"My son is halfway through his fourth week of ...</td>\n",
       "      <td>8</td>\n",
       "      <td>192</td>\n",
       "      <td>1</td>\n",
       "      <td>my son be halfway through his fourth week of i...</td>\n",
       "    </tr>\n",
       "    <tr>\n",
       "      <th>3</th>\n",
       "      <td>138000</td>\n",
       "      <td>\"This is my first time using any form of birth...</td>\n",
       "      <td>8</td>\n",
       "      <td>10</td>\n",
       "      <td>1</td>\n",
       "      <td>this be my first time use any form of birth co...</td>\n",
       "    </tr>\n",
       "    <tr>\n",
       "      <th>4</th>\n",
       "      <td>35696</td>\n",
       "      <td>\"Suboxone has completely turned my life around...</td>\n",
       "      <td>9</td>\n",
       "      <td>37</td>\n",
       "      <td>1</td>\n",
       "      <td>suboxone have completely turn my life around i...</td>\n",
       "    </tr>\n",
       "    <tr>\n",
       "      <th>5</th>\n",
       "      <td>155963</td>\n",
       "      <td>\"2nd day on 5mg started to work with rock hard...</td>\n",
       "      <td>2</td>\n",
       "      <td>43</td>\n",
       "      <td>0</td>\n",
       "      <td>nd day on mg start to work with rock hard erec...</td>\n",
       "    </tr>\n",
       "    <tr>\n",
       "      <th>6</th>\n",
       "      <td>165907</td>\n",
       "      <td>\"He pulled out, but he cummed a bit in me. I t...</td>\n",
       "      <td>1</td>\n",
       "      <td>5</td>\n",
       "      <td>0</td>\n",
       "      <td>he pull out but he cummed a bite in me i take ...</td>\n",
       "    </tr>\n",
       "    <tr>\n",
       "      <th>...</th>\n",
       "      <td>...</td>\n",
       "      <td>...</td>\n",
       "      <td>...</td>\n",
       "      <td>...</td>\n",
       "      <td>...</td>\n",
       "      <td>...</td>\n",
       "    </tr>\n",
       "    <tr>\n",
       "      <th>161288</th>\n",
       "      <td>45410</td>\n",
       "      <td>\"I have been off Prozac for about 4 weeks now....</td>\n",
       "      <td>8</td>\n",
       "      <td>22</td>\n",
       "      <td>1</td>\n",
       "      <td>i have be off prozac for about week nowafter s...</td>\n",
       "    </tr>\n",
       "    <tr>\n",
       "      <th>161292</th>\n",
       "      <td>191035</td>\n",
       "      <td>\"I wrote my first report in Mid-October of 201...</td>\n",
       "      <td>10</td>\n",
       "      <td>125</td>\n",
       "      <td>1</td>\n",
       "      <td>i write my first report in midoctober of i hav...</td>\n",
       "    </tr>\n",
       "    <tr>\n",
       "      <th>161293</th>\n",
       "      <td>127085</td>\n",
       "      <td>\"I was given this in IV before surgey. I immed...</td>\n",
       "      <td>1</td>\n",
       "      <td>34</td>\n",
       "      <td>0</td>\n",
       "      <td>i be give this in iv before surgey i immediate...</td>\n",
       "    </tr>\n",
       "    <tr>\n",
       "      <th>161295</th>\n",
       "      <td>47128</td>\n",
       "      <td>\"I&amp;#039;ve been on thyroid medication 49 years...</td>\n",
       "      <td>10</td>\n",
       "      <td>79</td>\n",
       "      <td>1</td>\n",
       "      <td>ive be on thyroid medication year i spend my f...</td>\n",
       "    </tr>\n",
       "    <tr>\n",
       "      <th>161296</th>\n",
       "      <td>215220</td>\n",
       "      <td>\"I&amp;#039;ve had chronic constipation all my adu...</td>\n",
       "      <td>9</td>\n",
       "      <td>116</td>\n",
       "      <td>1</td>\n",
       "      <td>ive have chronic constipation all my adult lif...</td>\n",
       "    </tr>\n",
       "  </tbody>\n",
       "</table>\n",
       "<p>110436 rows × 6 columns</p>\n",
       "</div>"
      ],
      "text/plain": [
       "        uniqueID                                             review  rating  \\\n",
       "1          95260  \"My son is halfway through his fourth week of ...       8   \n",
       "3         138000  \"This is my first time using any form of birth...       8   \n",
       "4          35696  \"Suboxone has completely turned my life around...       9   \n",
       "5         155963  \"2nd day on 5mg started to work with rock hard...       2   \n",
       "6         165907  \"He pulled out, but he cummed a bit in me. I t...       1   \n",
       "...          ...                                                ...     ...   \n",
       "161288     45410  \"I have been off Prozac for about 4 weeks now....       8   \n",
       "161292    191035  \"I wrote my first report in Mid-October of 201...      10   \n",
       "161293    127085  \"I was given this in IV before surgey. I immed...       1   \n",
       "161295     47128  \"I&#039;ve been on thyroid medication 49 years...      10   \n",
       "161296    215220  \"I&#039;ve had chronic constipation all my adu...       9   \n",
       "\n",
       "        usefulCount  sentiment  \\\n",
       "1               192          1   \n",
       "3                10          1   \n",
       "4                37          1   \n",
       "5                43          0   \n",
       "6                 5          0   \n",
       "...             ...        ...   \n",
       "161288           22          1   \n",
       "161292          125          1   \n",
       "161293           34          0   \n",
       "161295           79          1   \n",
       "161296          116          1   \n",
       "\n",
       "                                                    clean  \n",
       "1       my son be halfway through his fourth week of i...  \n",
       "3       this be my first time use any form of birth co...  \n",
       "4       suboxone have completely turn my life around i...  \n",
       "5       nd day on mg start to work with rock hard erec...  \n",
       "6       he pull out but he cummed a bite in me i take ...  \n",
       "...                                                   ...  \n",
       "161288  i have be off prozac for about week nowafter s...  \n",
       "161292  i write my first report in midoctober of i hav...  \n",
       "161293  i be give this in iv before surgey i immediate...  \n",
       "161295  ive be on thyroid medication year i spend my f...  \n",
       "161296  ive have chronic constipation all my adult lif...  \n",
       "\n",
       "[110436 rows x 6 columns]"
      ]
     },
     "execution_count": 9,
     "metadata": {},
     "output_type": "execute_result"
    }
   ],
   "source": [
    "data"
   ]
  },
  {
   "cell_type": "code",
   "execution_count": 10,
   "id": "f33d6e57",
   "metadata": {
    "ExecuteTime": {
     "end_time": "2024-12-03T10:37:15.130951Z",
     "start_time": "2024-12-03T10:37:15.087582Z"
    }
   },
   "outputs": [],
   "source": [
    "Xb, yb = lp.balance_dataset(X,y)"
   ]
  },
  {
   "cell_type": "code",
   "execution_count": 11,
   "id": "7f3716d8",
   "metadata": {
    "ExecuteTime": {
     "end_time": "2024-12-03T10:37:19.269540Z",
     "start_time": "2024-12-03T10:37:15.134893Z"
    }
   },
   "outputs": [
    {
     "name": "stderr",
     "output_type": "stream",
     "text": [
      "/home/speroulakis/.pyenv/versions/3.10.6/envs/Mental_Health_Risks/lib/python3.10/site-packages/tqdm/auto.py:21: TqdmWarning: IProgress not found. Please update jupyter and ipywidgets. See https://ipywidgets.readthedocs.io/en/stable/user_install.html\n",
      "  from .autonotebook import tqdm as notebook_tqdm\n"
     ]
    }
   ],
   "source": [
    "from transformers import AutoTokenizer\n",
    "from transformers import TFAutoModel"
   ]
  },
  {
   "cell_type": "code",
   "execution_count": 12,
   "id": "1aefe97a",
   "metadata": {
    "ExecuteTime": {
     "end_time": "2024-12-03T10:37:19.870541Z",
     "start_time": "2024-12-03T10:37:19.273710Z"
    }
   },
   "outputs": [],
   "source": [
    "tokenizer = AutoTokenizer.from_pretrained(\"prajjwal1/bert-tiny\", padding_side = \"right\")"
   ]
  },
  {
   "cell_type": "code",
   "execution_count": 13,
   "id": "e7fd7502",
   "metadata": {
    "ExecuteTime": {
     "end_time": "2024-12-03T10:37:27.087876Z",
     "start_time": "2024-12-03T10:37:19.873689Z"
    }
   },
   "outputs": [
    {
     "name": "stderr",
     "output_type": "stream",
     "text": [
      "2024-12-03 11:37:21.169494: E external/local_xla/xla/stream_executor/cuda/cuda_fft.cc:477] Unable to register cuFFT factory: Attempting to register factory for plugin cuFFT when one has already been registered\n",
      "WARNING: All log messages before absl::InitializeLog() is called are written to STDERR\n",
      "E0000 00:00:1733222241.286505   44051 cuda_dnn.cc:8310] Unable to register cuDNN factory: Attempting to register factory for plugin cuDNN when one has already been registered\n",
      "E0000 00:00:1733222241.322569   44051 cuda_blas.cc:1418] Unable to register cuBLAS factory: Attempting to register factory for plugin cuBLAS when one has already been registered\n",
      "2024-12-03 11:37:21.614540: I tensorflow/core/platform/cpu_feature_guard.cc:210] This TensorFlow binary is optimized to use available CPU instructions in performance-critical operations.\n",
      "To enable the following instructions: AVX2 FMA, in other operations, rebuild TensorFlow with the appropriate compiler flags.\n",
      "2024-12-03 11:37:26.673566: E external/local_xla/xla/stream_executor/cuda/cuda_driver.cc:152] failed call to cuInit: INTERNAL: CUDA error: Failed call to cuInit: UNKNOWN ERROR (303)\n",
      "Some weights of the PyTorch model were not used when initializing the TF 2.0 model TFBertModel: ['cls.predictions.transform.LayerNorm.weight', 'cls.predictions.bias', 'cls.seq_relationship.weight', 'cls.predictions.transform.dense.weight', 'cls.seq_relationship.bias', 'cls.predictions.decoder.bias', 'cls.predictions.transform.LayerNorm.bias', 'bert.embeddings.position_ids', 'cls.predictions.decoder.weight', 'cls.predictions.transform.dense.bias']\n",
      "- This IS expected if you are initializing TFBertModel from a PyTorch model trained on another task or with another architecture (e.g. initializing a TFBertForSequenceClassification model from a BertForPreTraining model).\n",
      "- This IS NOT expected if you are initializing TFBertModel from a PyTorch model that you expect to be exactly identical (e.g. initializing a TFBertForSequenceClassification model from a BertForSequenceClassification model).\n",
      "All the weights of TFBertModel were initialized from the PyTorch model.\n",
      "If your task is similar to the task the model of the checkpoint was trained on, you can already use TFBertModel for predictions without further training.\n"
     ]
    }
   ],
   "source": [
    "model = TFAutoModel.from_pretrained(\"prajjwal1/bert-tiny\", from_pt = True)"
   ]
  },
  {
   "cell_type": "code",
   "execution_count": 14,
   "id": "04471b63",
   "metadata": {
    "ExecuteTime": {
     "end_time": "2024-12-03T10:38:06.572769Z",
     "start_time": "2024-12-03T10:37:27.091626Z"
    }
   },
   "outputs": [],
   "source": [
    "data[\"tokenized\"] = data[\"review\"].map(lambda x: tokenizer(x)[\"input_ids\"])\n",
    "\n",
    "data[\"len_tokenized\"] = data[\"tokenized\"].map(lambda x: len(x))"
   ]
  },
  {
   "cell_type": "code",
   "execution_count": 15,
   "id": "bbbf4257",
   "metadata": {
    "ExecuteTime": {
     "end_time": "2024-12-03T10:38:08.039691Z",
     "start_time": "2024-12-03T10:38:06.575805Z"
    }
   },
   "outputs": [
    {
     "data": {
      "image/png": "[encoded data removed]",
      "text/plain": [
       "<Figure size 640x480 with 1 Axes>"
      ]
     },
     "metadata": {},
     "output_type": "display_data"
    }
   ],
   "source": [
    "sns.histplot(data['len_tokenized']);"
   ]
  },
  {
   "cell_type": "code",
   "execution_count": 16,
   "id": "bb12cfa6",
   "metadata": {
    "ExecuteTime": {
     "end_time": "2024-12-03T10:38:08.052361Z",
     "start_time": "2024-12-03T10:38:08.043073Z"
    }
   },
   "outputs": [],
   "source": [
    "liszt = data['review'].tolist()"
   ]
  },
  {
   "cell_type": "code",
   "execution_count": 18,
   "id": "2814d685",
   "metadata": {
    "ExecuteTime": {
     "end_time": "2024-12-03T11:38:27.912985Z",
     "start_time": "2024-12-03T11:38:27.814859Z"
    }
   },
   "outputs": [],
   "source": [
    "tokenized = tokenizer(liszt[:100], max_length=300, padding='max_length', truncation=True, return_tensors='tf')"
   ]
  },
  {
   "cell_type": "code",
   "execution_count": 25,
   "id": "546d90fe",
   "metadata": {
    "ExecuteTime": {
     "end_time": "2024-12-03T11:46:36.348307Z",
     "start_time": "2024-12-03T11:46:36.338378Z"
    }
   },
   "outputs": [
    {
     "data": {
      "text/plain": [
       "<tf.Tensor: shape=(100, 300), dtype=int32, numpy=\n",
       "array([[ 101, 1000, 2026, ...,    0,    0,    0],\n",
       "       [ 101, 1000, 2023, ...,    0,    0,    0],\n",
       "       [ 101, 1000, 4942, ...,    0,    0,    0],\n",
       "       ...,\n",
       "       [ 101, 1000, 1045, ...,    0,    0,    0],\n",
       "       [ 101, 1000, 2307, ...,    0,    0,    0],\n",
       "       [ 101, 1000, 2026, ...,    0,    0,    0]], dtype=int32)>"
      ]
     },
     "execution_count": 25,
     "metadata": {},
     "output_type": "execute_result"
    }
   ],
   "source": [
    "tokenized.get('input_ids')"
   ]
  },
  {
   "cell_type": "code",
   "execution_count": 82,
   "id": "dfa83db1",
   "metadata": {
    "ExecuteTime": {
     "end_time": "2024-12-03T12:37:42.249377Z",
     "start_time": "2024-12-03T12:37:41.340918Z"
    }
   },
   "outputs": [
    {
     "name": "stdout",
     "output_type": "stream",
     "text": [
      "4/4 [==============================] - 1s 188ms/step\n"
     ]
    }
   ],
   "source": [
    "embed = model.predict(tokenized.get('input_ids'))"
   ]
  },
  {
   "cell_type": "code",
   "execution_count": 86,
   "id": "5e261746",
   "metadata": {
    "ExecuteTime": {
     "end_time": "2024-12-03T12:39:39.989780Z",
     "start_time": "2024-12-03T12:39:39.981374Z"
    }
   },
   "outputs": [
    {
     "data": {
      "text/plain": [
       "(100, 300, 128)"
      ]
     },
     "execution_count": 86,
     "metadata": {},
     "output_type": "execute_result"
    }
   ],
   "source": [
    "embed.last_hidden_state.shape"
   ]
  },
  {
   "cell_type": "code",
   "execution_count": 74,
   "id": "885d40e0",
   "metadata": {
    "ExecuteTime": {
     "end_time": "2024-12-03T12:33:51.223747Z",
     "start_time": "2024-12-03T12:33:50.447233Z"
    }
   },
   "outputs": [
    {
     "name": "stdout",
     "output_type": "stream",
     "text": [
      "1/1 [==============================] - 0s 31ms/step\n",
      "1/1 [==============================] - 0s 30ms/step\n",
      "1/1 [==============================] - 0s 30ms/step\n",
      "1/1 [==============================] - 0s 29ms/step\n",
      "1/1 [==============================] - 0s 30ms/step\n",
      "1/1 [==============================] - 0s 28ms/step\n",
      "1/1 [==============================] - 0s 31ms/step\n",
      "1/1 [==============================] - 0s 30ms/step\n",
      "1/1 [==============================] - 0s 30ms/step\n",
      "1/1 [==============================] - 0s 29ms/step\n"
     ]
    }
   ],
   "source": [
    "test = []\n",
    "for x in range(10):\n",
    "  unit = tokenized.get('input_ids')\n",
    "  emb = (model.predict(unit[x:x+1])).last_hidden_state[:, 0, :]\n",
    "  test.append(emb)"
   ]
  },
  {
   "cell_type": "code",
   "execution_count": 81,
   "id": "283dcf0e",
   "metadata": {
    "ExecuteTime": {
     "end_time": "2024-12-03T12:34:59.948432Z",
     "start_time": "2024-12-03T12:34:59.940257Z"
    }
   },
   "outputs": [
    {
     "data": {
      "text/plain": [
       "(1, 128)"
      ]
     },
     "execution_count": 81,
     "metadata": {},
     "output_type": "execute_result"
    }
   ],
   "source": [
    "test[0].shape"
   ]
  },
  {
   "cell_type": "code",
   "execution_count": 77,
   "id": "97b16b1b",
   "metadata": {
    "ExecuteTime": {
     "end_time": "2024-12-03T12:34:24.188454Z",
     "start_time": "2024-12-03T12:34:24.181931Z"
    }
   },
   "outputs": [],
   "source": [
    "seb = np.concatenate(test)"
   ]
  },
  {
   "cell_type": "code",
   "execution_count": 79,
   "id": "b79e3678",
   "metadata": {
    "ExecuteTime": {
     "end_time": "2024-12-03T12:34:29.383662Z",
     "start_time": "2024-12-03T12:34:29.375569Z"
    }
   },
   "outputs": [
    {
     "data": {
      "text/plain": [
       "(10, 128)"
      ]
     },
     "execution_count": 79,
     "metadata": {},
     "output_type": "execute_result"
    }
   ],
   "source": [
    "seb.shape"
   ]
  },
  {
   "cell_type": "code",
   "execution_count": null,
   "id": "bfb24ce1",
   "metadata": {},
   "outputs": [],
   "source": []
  }
 ],
 "metadata": {
  "kernelspec": {
   "display_name": "Python 3 (ipykernel)",
   "language": "python",
   "name": "python3"
  },
  "language_info": {
   "codemirror_mode": {
    "name": "ipython",
    "version": 3
   },
   "file_extension": ".py",
   "mimetype": "text/x-python",
   "name": "python",
   "nbconvert_exporter": "python",
   "pygments_lexer": "ipython3",
   "version": "3.10.6"
  },
  "toc": {
   "base_numbering": 1,
   "nav_menu": {},
   "number_sections": true,
   "sideBar": true,
   "skip_h1_title": false,
   "title_cell": "Table of Contents",
   "title_sidebar": "Contents",
   "toc_cell": false,
   "toc_position": {},
   "toc_section_display": true,
   "toc_window_display": false
  }
 },
 "nbformat": 4,
 "nbformat_minor": 5
}
