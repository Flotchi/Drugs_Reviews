{
 "cells": [
  {
   "cell_type": "markdown",
   "id": "a361081c",
   "metadata": {},
   "source": [
    "# Transformers"
   ]
  },
  {
   "cell_type": "code",
   "execution_count": 1,
   "id": "946d292f",
   "metadata": {
    "ExecuteTime": {
     "end_time": "2024-12-04T10:36:22.259318Z",
     "start_time": "2024-12-04T10:36:18.937284Z"
    }
   },
   "outputs": [
    {
     "name": "stderr",
     "output_type": "stream",
     "text": [
      "[nltk_data] Downloading package stopwords to\n",
      "[nltk_data]     /home/speroulakis/nltk_data...\n",
      "[nltk_data]   Package stopwords is already up-to-date!\n",
      "[nltk_data] Downloading package punkt to\n",
      "[nltk_data]     /home/speroulakis/nltk_data...\n",
      "[nltk_data]   Package punkt is already up-to-date!\n",
      "[nltk_data] Downloading package wordnet to\n",
      "[nltk_data]     /home/speroulakis/nltk_data...\n",
      "[nltk_data]   Package wordnet is already up-to-date!\n",
      "[nltk_data] Downloading package omw-1.4 to\n",
      "[nltk_data]     /home/speroulakis/nltk_data...\n",
      "[nltk_data]   Package omw-1.4 is already up-to-date!\n",
      "[nltk_data] Downloading package punkt_tab to\n",
      "[nltk_data]     /home/speroulakis/nltk_data...\n",
      "[nltk_data]   Package punkt_tab is already up-to-date!\n"
     ]
    }
   ],
   "source": [
    "import pandas as pd\n",
    "import numpy as np\n",
    "import logic.processing as lp\n",
    "import seaborn as sns"
   ]
  },
  {
   "cell_type": "code",
   "execution_count": 2,
   "id": "ed782686",
   "metadata": {
    "ExecuteTime": {
     "end_time": "2024-12-04T10:36:23.200643Z",
     "start_time": "2024-12-04T10:36:22.263898Z"
    }
   },
   "outputs": [],
   "source": [
    "df = lp.load_data('drugsComTrain_raw.csv')"
   ]
  },
  {
   "cell_type": "code",
   "execution_count": 3,
   "id": "abc89357",
   "metadata": {
    "ExecuteTime": {
     "end_time": "2024-12-04T10:36:23.214897Z",
     "start_time": "2024-12-04T10:36:23.207818Z"
    }
   },
   "outputs": [],
   "source": [
    "def data_filter(df,uselfCount=0,min_length=30):\n",
    "\n",
    "    df = df.dropna()\n",
    "#     condition_distribution = df['condition'].value_counts()\n",
    "#     best_conditions = condition_distribution.head(top_conditions)\n",
    "#     top_conditions_list = best_conditions.index.tolist()\n",
    "#     df = df[df['condition'].isin(top_conditions_list)]\n",
    "    df = df[df['rating'].isin([1,2,3,8,9,10])]\n",
    "    df['sentiment'] = 0\n",
    "    df['sentiment'] = (df['rating'].isin([8,9,10])).astype(int)\n",
    "    df = df[df['usefulCount']>uselfCount]\n",
    "    df['review_length'] = df['review'].apply(lambda x: len(str(x).split()))\n",
    "    df = df[df.review_length>=min_length]\n",
    "\n",
    "    return df\n"
   ]
  },
  {
   "cell_type": "code",
   "execution_count": 4,
   "id": "af44d672",
   "metadata": {
    "ExecuteTime": {
     "end_time": "2024-12-04T10:36:23.916913Z",
     "start_time": "2024-12-04T10:36:23.220518Z"
    }
   },
   "outputs": [],
   "source": [
    "df1 = data_filter(df)"
   ]
  },
  {
   "cell_type": "code",
   "execution_count": 5,
   "id": "08940c05",
   "metadata": {
    "ExecuteTime": {
     "end_time": "2024-12-04T10:36:42.436330Z",
     "start_time": "2024-12-04T10:36:23.920580Z"
    },
    "collapsed": true
   },
   "outputs": [
    {
     "ename": "KeyboardInterrupt",
     "evalue": "",
     "output_type": "error",
     "traceback": [
      "\u001b[0;31m---------------------------------------------------------------------------\u001b[0m",
      "\u001b[0;31mKeyboardInterrupt\u001b[0m                         Traceback (most recent call last)",
      "Cell \u001b[0;32mIn[5], line 1\u001b[0m\n\u001b[0;32m----> 1\u001b[0m df2 \u001b[38;5;241m=\u001b[39m \u001b[43mlp\u001b[49m\u001b[38;5;241;43m.\u001b[39;49m\u001b[43mpreproc\u001b[49m\u001b[43m(\u001b[49m\u001b[43mdf1\u001b[49m\u001b[43m)\u001b[49m\n",
      "File \u001b[0;32m~/code/Flotchi/Mental_Health_Risks/logic/processing.py:39\u001b[0m, in \u001b[0;36mpreproc\u001b[0;34m(df, bi)\u001b[0m\n\u001b[1;32m     36\u001b[0m     nans \u001b[38;5;241m=\u001b[39m \u001b[38;5;124m'\u001b[39m\u001b[38;5;124m \u001b[39m\u001b[38;5;124m'\u001b[39m\u001b[38;5;241m.\u001b[39mjoin(lemmanouns)\n\u001b[1;32m     37\u001b[0m     \u001b[38;5;28;01mreturn\u001b[39;00m nans\n\u001b[0;32m---> 39\u001b[0m df[\u001b[38;5;124m'\u001b[39m\u001b[38;5;124mclean\u001b[39m\u001b[38;5;124m'\u001b[39m] \u001b[38;5;241m=\u001b[39m \u001b[43mdf\u001b[49m\u001b[43m[\u001b[49m\u001b[38;5;124;43m'\u001b[39;49m\u001b[38;5;124;43mreview\u001b[39;49m\u001b[38;5;124;43m'\u001b[39;49m\u001b[43m]\u001b[49m\u001b[38;5;241;43m.\u001b[39;49m\u001b[43mapply\u001b[49m\u001b[43m(\u001b[49m\u001b[43mprocess\u001b[49m\u001b[43m)\u001b[49m\n\u001b[1;32m     42\u001b[0m \u001b[38;5;28;01mif\u001b[39;00m bi:\n\u001b[1;32m     43\u001b[0m     df[\u001b[38;5;124m'\u001b[39m\u001b[38;5;124mlabel\u001b[39m\u001b[38;5;124m'\u001b[39m] \u001b[38;5;241m=\u001b[39m df[\u001b[38;5;124m'\u001b[39m\u001b[38;5;124mstatus\u001b[39m\u001b[38;5;124m'\u001b[39m]\u001b[38;5;241m.\u001b[39mapply(\u001b[38;5;28;01mlambda\u001b[39;00m st: \u001b[38;5;28mint\u001b[39m(st \u001b[38;5;241m==\u001b[39m \u001b[38;5;124m'\u001b[39m\u001b[38;5;124mNormal\u001b[39m\u001b[38;5;124m'\u001b[39m))\n",
      "File \u001b[0;32m~/.pyenv/versions/3.10.6/envs/Mental_Health_Risks/lib/python3.10/site-packages/pandas/core/series.py:4764\u001b[0m, in \u001b[0;36mSeries.apply\u001b[0;34m(self, func, convert_dtype, args, by_row, **kwargs)\u001b[0m\n\u001b[1;32m   4629\u001b[0m \u001b[38;5;28;01mdef\u001b[39;00m \u001b[38;5;21mapply\u001b[39m(\n\u001b[1;32m   4630\u001b[0m     \u001b[38;5;28mself\u001b[39m,\n\u001b[1;32m   4631\u001b[0m     func: AggFuncType,\n\u001b[0;32m   (...)\u001b[0m\n\u001b[1;32m   4636\u001b[0m     \u001b[38;5;241m*\u001b[39m\u001b[38;5;241m*\u001b[39mkwargs,\n\u001b[1;32m   4637\u001b[0m ) \u001b[38;5;241m-\u001b[39m\u001b[38;5;241m>\u001b[39m DataFrame \u001b[38;5;241m|\u001b[39m Series:\n\u001b[1;32m   4638\u001b[0m \u001b[38;5;250m    \u001b[39m\u001b[38;5;124;03m\"\"\"\u001b[39;00m\n\u001b[1;32m   4639\u001b[0m \u001b[38;5;124;03m    Invoke function on values of Series.\u001b[39;00m\n\u001b[1;32m   4640\u001b[0m \n\u001b[0;32m   (...)\u001b[0m\n\u001b[1;32m   4755\u001b[0m \u001b[38;5;124;03m    dtype: float64\u001b[39;00m\n\u001b[1;32m   4756\u001b[0m \u001b[38;5;124;03m    \"\"\"\u001b[39;00m\n\u001b[1;32m   4757\u001b[0m     \u001b[38;5;28;01mreturn\u001b[39;00m \u001b[43mSeriesApply\u001b[49m\u001b[43m(\u001b[49m\n\u001b[1;32m   4758\u001b[0m \u001b[43m        \u001b[49m\u001b[38;5;28;43mself\u001b[39;49m\u001b[43m,\u001b[49m\n\u001b[1;32m   4759\u001b[0m \u001b[43m        \u001b[49m\u001b[43mfunc\u001b[49m\u001b[43m,\u001b[49m\n\u001b[1;32m   4760\u001b[0m \u001b[43m        \u001b[49m\u001b[43mconvert_dtype\u001b[49m\u001b[38;5;241;43m=\u001b[39;49m\u001b[43mconvert_dtype\u001b[49m\u001b[43m,\u001b[49m\n\u001b[1;32m   4761\u001b[0m \u001b[43m        \u001b[49m\u001b[43mby_row\u001b[49m\u001b[38;5;241;43m=\u001b[39;49m\u001b[43mby_row\u001b[49m\u001b[43m,\u001b[49m\n\u001b[1;32m   4762\u001b[0m \u001b[43m        \u001b[49m\u001b[43margs\u001b[49m\u001b[38;5;241;43m=\u001b[39;49m\u001b[43margs\u001b[49m\u001b[43m,\u001b[49m\n\u001b[1;32m   4763\u001b[0m \u001b[43m        \u001b[49m\u001b[43mkwargs\u001b[49m\u001b[38;5;241;43m=\u001b[39;49m\u001b[43mkwargs\u001b[49m\u001b[43m,\u001b[49m\n\u001b[0;32m-> 4764\u001b[0m \u001b[43m    \u001b[49m\u001b[43m)\u001b[49m\u001b[38;5;241;43m.\u001b[39;49m\u001b[43mapply\u001b[49m\u001b[43m(\u001b[49m\u001b[43m)\u001b[49m\n",
      "File \u001b[0;32m~/.pyenv/versions/3.10.6/envs/Mental_Health_Risks/lib/python3.10/site-packages/pandas/core/apply.py:1209\u001b[0m, in \u001b[0;36mSeriesApply.apply\u001b[0;34m(self)\u001b[0m\n\u001b[1;32m   1206\u001b[0m     \u001b[38;5;28;01mreturn\u001b[39;00m \u001b[38;5;28mself\u001b[39m\u001b[38;5;241m.\u001b[39mapply_compat()\n\u001b[1;32m   1208\u001b[0m \u001b[38;5;66;03m# self.func is Callable\u001b[39;00m\n\u001b[0;32m-> 1209\u001b[0m \u001b[38;5;28;01mreturn\u001b[39;00m \u001b[38;5;28;43mself\u001b[39;49m\u001b[38;5;241;43m.\u001b[39;49m\u001b[43mapply_standard\u001b[49m\u001b[43m(\u001b[49m\u001b[43m)\u001b[49m\n",
      "File \u001b[0;32m~/.pyenv/versions/3.10.6/envs/Mental_Health_Risks/lib/python3.10/site-packages/pandas/core/apply.py:1289\u001b[0m, in \u001b[0;36mSeriesApply.apply_standard\u001b[0;34m(self)\u001b[0m\n\u001b[1;32m   1283\u001b[0m \u001b[38;5;66;03m# row-wise access\u001b[39;00m\n\u001b[1;32m   1284\u001b[0m \u001b[38;5;66;03m# apply doesn't have a `na_action` keyword and for backward compat reasons\u001b[39;00m\n\u001b[1;32m   1285\u001b[0m \u001b[38;5;66;03m# we need to give `na_action=\"ignore\"` for categorical data.\u001b[39;00m\n\u001b[1;32m   1286\u001b[0m \u001b[38;5;66;03m# TODO: remove the `na_action=\"ignore\"` when that default has been changed in\u001b[39;00m\n\u001b[1;32m   1287\u001b[0m \u001b[38;5;66;03m#  Categorical (GH51645).\u001b[39;00m\n\u001b[1;32m   1288\u001b[0m action \u001b[38;5;241m=\u001b[39m \u001b[38;5;124m\"\u001b[39m\u001b[38;5;124mignore\u001b[39m\u001b[38;5;124m\"\u001b[39m \u001b[38;5;28;01mif\u001b[39;00m \u001b[38;5;28misinstance\u001b[39m(obj\u001b[38;5;241m.\u001b[39mdtype, CategoricalDtype) \u001b[38;5;28;01melse\u001b[39;00m \u001b[38;5;28;01mNone\u001b[39;00m\n\u001b[0;32m-> 1289\u001b[0m mapped \u001b[38;5;241m=\u001b[39m \u001b[43mobj\u001b[49m\u001b[38;5;241;43m.\u001b[39;49m\u001b[43m_map_values\u001b[49m\u001b[43m(\u001b[49m\n\u001b[1;32m   1290\u001b[0m \u001b[43m    \u001b[49m\u001b[43mmapper\u001b[49m\u001b[38;5;241;43m=\u001b[39;49m\u001b[43mcurried\u001b[49m\u001b[43m,\u001b[49m\u001b[43m \u001b[49m\u001b[43mna_action\u001b[49m\u001b[38;5;241;43m=\u001b[39;49m\u001b[43maction\u001b[49m\u001b[43m,\u001b[49m\u001b[43m \u001b[49m\u001b[43mconvert\u001b[49m\u001b[38;5;241;43m=\u001b[39;49m\u001b[38;5;28;43mself\u001b[39;49m\u001b[38;5;241;43m.\u001b[39;49m\u001b[43mconvert_dtype\u001b[49m\n\u001b[1;32m   1291\u001b[0m \u001b[43m\u001b[49m\u001b[43m)\u001b[49m\n\u001b[1;32m   1293\u001b[0m \u001b[38;5;28;01mif\u001b[39;00m \u001b[38;5;28mlen\u001b[39m(mapped) \u001b[38;5;129;01mand\u001b[39;00m \u001b[38;5;28misinstance\u001b[39m(mapped[\u001b[38;5;241m0\u001b[39m], ABCSeries):\n\u001b[1;32m   1294\u001b[0m     \u001b[38;5;66;03m# GH#43986 Need to do list(mapped) in order to get treated as nested\u001b[39;00m\n\u001b[1;32m   1295\u001b[0m     \u001b[38;5;66;03m#  See also GH#25959 regarding EA support\u001b[39;00m\n\u001b[1;32m   1296\u001b[0m     \u001b[38;5;28;01mreturn\u001b[39;00m obj\u001b[38;5;241m.\u001b[39m_constructor_expanddim(\u001b[38;5;28mlist\u001b[39m(mapped), index\u001b[38;5;241m=\u001b[39mobj\u001b[38;5;241m.\u001b[39mindex)\n",
      "File \u001b[0;32m~/.pyenv/versions/3.10.6/envs/Mental_Health_Risks/lib/python3.10/site-packages/pandas/core/base.py:921\u001b[0m, in \u001b[0;36mIndexOpsMixin._map_values\u001b[0;34m(self, mapper, na_action, convert)\u001b[0m\n\u001b[1;32m    918\u001b[0m \u001b[38;5;28;01mif\u001b[39;00m \u001b[38;5;28misinstance\u001b[39m(arr, ExtensionArray):\n\u001b[1;32m    919\u001b[0m     \u001b[38;5;28;01mreturn\u001b[39;00m arr\u001b[38;5;241m.\u001b[39mmap(mapper, na_action\u001b[38;5;241m=\u001b[39mna_action)\n\u001b[0;32m--> 921\u001b[0m \u001b[38;5;28;01mreturn\u001b[39;00m \u001b[43malgorithms\u001b[49m\u001b[38;5;241;43m.\u001b[39;49m\u001b[43mmap_array\u001b[49m\u001b[43m(\u001b[49m\u001b[43marr\u001b[49m\u001b[43m,\u001b[49m\u001b[43m \u001b[49m\u001b[43mmapper\u001b[49m\u001b[43m,\u001b[49m\u001b[43m \u001b[49m\u001b[43mna_action\u001b[49m\u001b[38;5;241;43m=\u001b[39;49m\u001b[43mna_action\u001b[49m\u001b[43m,\u001b[49m\u001b[43m \u001b[49m\u001b[43mconvert\u001b[49m\u001b[38;5;241;43m=\u001b[39;49m\u001b[43mconvert\u001b[49m\u001b[43m)\u001b[49m\n",
      "File \u001b[0;32m~/.pyenv/versions/3.10.6/envs/Mental_Health_Risks/lib/python3.10/site-packages/pandas/core/algorithms.py:1814\u001b[0m, in \u001b[0;36mmap_array\u001b[0;34m(arr, mapper, na_action, convert)\u001b[0m\n\u001b[1;32m   1812\u001b[0m values \u001b[38;5;241m=\u001b[39m arr\u001b[38;5;241m.\u001b[39mastype(\u001b[38;5;28mobject\u001b[39m, copy\u001b[38;5;241m=\u001b[39m\u001b[38;5;28;01mFalse\u001b[39;00m)\n\u001b[1;32m   1813\u001b[0m \u001b[38;5;28;01mif\u001b[39;00m na_action \u001b[38;5;129;01mis\u001b[39;00m \u001b[38;5;28;01mNone\u001b[39;00m:\n\u001b[0;32m-> 1814\u001b[0m     \u001b[38;5;28;01mreturn\u001b[39;00m \u001b[43mlib\u001b[49m\u001b[38;5;241;43m.\u001b[39;49m\u001b[43mmap_infer\u001b[49m\u001b[43m(\u001b[49m\u001b[43mvalues\u001b[49m\u001b[43m,\u001b[49m\u001b[43m \u001b[49m\u001b[43mmapper\u001b[49m\u001b[43m,\u001b[49m\u001b[43m \u001b[49m\u001b[43mconvert\u001b[49m\u001b[38;5;241;43m=\u001b[39;49m\u001b[43mconvert\u001b[49m\u001b[43m)\u001b[49m\n\u001b[1;32m   1815\u001b[0m \u001b[38;5;28;01melse\u001b[39;00m:\n\u001b[1;32m   1816\u001b[0m     \u001b[38;5;28;01mreturn\u001b[39;00m lib\u001b[38;5;241m.\u001b[39mmap_infer_mask(\n\u001b[1;32m   1817\u001b[0m         values, mapper, mask\u001b[38;5;241m=\u001b[39misna(values)\u001b[38;5;241m.\u001b[39mview(np\u001b[38;5;241m.\u001b[39muint8), convert\u001b[38;5;241m=\u001b[39mconvert\n\u001b[1;32m   1818\u001b[0m     )\n",
      "File \u001b[0;32mlib.pyx:2926\u001b[0m, in \u001b[0;36mpandas._libs.lib.map_infer\u001b[0;34m()\u001b[0m\n",
      "File \u001b[0;32m~/code/Flotchi/Mental_Health_Risks/logic/processing.py:34\u001b[0m, in \u001b[0;36mpreproc.<locals>.process\u001b[0;34m(st)\u001b[0m\n\u001b[1;32m     31\u001b[0m ans \u001b[38;5;241m=\u001b[39m st\u001b[38;5;241m.\u001b[39mcasefold()\u001b[38;5;241m.\u001b[39mreplace(\u001b[38;5;124m'\u001b[39m\u001b[38;5;130;01m\\n\u001b[39;00m\u001b[38;5;124m'\u001b[39m, \u001b[38;5;124m'\u001b[39m\u001b[38;5;124m \u001b[39m\u001b[38;5;124m'\u001b[39m)\n\u001b[1;32m     32\u001b[0m ansd \u001b[38;5;241m=\u001b[39m \u001b[38;5;124m'\u001b[39m\u001b[38;5;124m'\u001b[39m\u001b[38;5;241m.\u001b[39mjoin(x \u001b[38;5;28;01mfor\u001b[39;00m x \u001b[38;5;129;01min\u001b[39;00m ans \u001b[38;5;28;01mif\u001b[39;00m \u001b[38;5;129;01mnot\u001b[39;00m x\u001b[38;5;241m.\u001b[39misdigit())\n\u001b[0;32m---> 34\u001b[0m lemmaverb \u001b[38;5;241m=\u001b[39m [WordNetLemmatizer()\u001b[38;5;241m.\u001b[39mlemmatize(word, pos\u001b[38;5;241m=\u001b[39m\u001b[38;5;124m'\u001b[39m\u001b[38;5;124mv\u001b[39m\u001b[38;5;124m'\u001b[39m) \u001b[38;5;28;01mfor\u001b[39;00m word \u001b[38;5;129;01min\u001b[39;00m ansd\u001b[38;5;241m.\u001b[39msplit()]\n\u001b[1;32m     35\u001b[0m lemmanouns \u001b[38;5;241m=\u001b[39m [WordNetLemmatizer()\u001b[38;5;241m.\u001b[39mlemmatize(word, pos\u001b[38;5;241m=\u001b[39m\u001b[38;5;124m'\u001b[39m\u001b[38;5;124mn\u001b[39m\u001b[38;5;124m'\u001b[39m) \u001b[38;5;28;01mfor\u001b[39;00m word \u001b[38;5;129;01min\u001b[39;00m lemmaverb]\n\u001b[1;32m     36\u001b[0m nans \u001b[38;5;241m=\u001b[39m \u001b[38;5;124m'\u001b[39m\u001b[38;5;124m \u001b[39m\u001b[38;5;124m'\u001b[39m\u001b[38;5;241m.\u001b[39mjoin(lemmanouns)\n",
      "File \u001b[0;32m~/code/Flotchi/Mental_Health_Risks/logic/processing.py:34\u001b[0m, in \u001b[0;36m<listcomp>\u001b[0;34m(.0)\u001b[0m\n\u001b[1;32m     31\u001b[0m ans \u001b[38;5;241m=\u001b[39m st\u001b[38;5;241m.\u001b[39mcasefold()\u001b[38;5;241m.\u001b[39mreplace(\u001b[38;5;124m'\u001b[39m\u001b[38;5;130;01m\\n\u001b[39;00m\u001b[38;5;124m'\u001b[39m, \u001b[38;5;124m'\u001b[39m\u001b[38;5;124m \u001b[39m\u001b[38;5;124m'\u001b[39m)\n\u001b[1;32m     32\u001b[0m ansd \u001b[38;5;241m=\u001b[39m \u001b[38;5;124m'\u001b[39m\u001b[38;5;124m'\u001b[39m\u001b[38;5;241m.\u001b[39mjoin(x \u001b[38;5;28;01mfor\u001b[39;00m x \u001b[38;5;129;01min\u001b[39;00m ans \u001b[38;5;28;01mif\u001b[39;00m \u001b[38;5;129;01mnot\u001b[39;00m x\u001b[38;5;241m.\u001b[39misdigit())\n\u001b[0;32m---> 34\u001b[0m lemmaverb \u001b[38;5;241m=\u001b[39m [\u001b[43mWordNetLemmatizer\u001b[49m\u001b[43m(\u001b[49m\u001b[43m)\u001b[49m\u001b[38;5;241;43m.\u001b[39;49m\u001b[43mlemmatize\u001b[49m\u001b[43m(\u001b[49m\u001b[43mword\u001b[49m\u001b[43m,\u001b[49m\u001b[43m \u001b[49m\u001b[43mpos\u001b[49m\u001b[38;5;241;43m=\u001b[39;49m\u001b[38;5;124;43m'\u001b[39;49m\u001b[38;5;124;43mv\u001b[39;49m\u001b[38;5;124;43m'\u001b[39;49m\u001b[43m)\u001b[49m \u001b[38;5;28;01mfor\u001b[39;00m word \u001b[38;5;129;01min\u001b[39;00m ansd\u001b[38;5;241m.\u001b[39msplit()]\n\u001b[1;32m     35\u001b[0m lemmanouns \u001b[38;5;241m=\u001b[39m [WordNetLemmatizer()\u001b[38;5;241m.\u001b[39mlemmatize(word, pos\u001b[38;5;241m=\u001b[39m\u001b[38;5;124m'\u001b[39m\u001b[38;5;124mn\u001b[39m\u001b[38;5;124m'\u001b[39m) \u001b[38;5;28;01mfor\u001b[39;00m word \u001b[38;5;129;01min\u001b[39;00m lemmaverb]\n\u001b[1;32m     36\u001b[0m nans \u001b[38;5;241m=\u001b[39m \u001b[38;5;124m'\u001b[39m\u001b[38;5;124m \u001b[39m\u001b[38;5;124m'\u001b[39m\u001b[38;5;241m.\u001b[39mjoin(lemmanouns)\n",
      "File \u001b[0;32m~/.pyenv/versions/3.10.6/envs/Mental_Health_Risks/lib/python3.10/site-packages/nltk/stem/wordnet.py:85\u001b[0m, in \u001b[0;36mWordNetLemmatizer.lemmatize\u001b[0;34m(self, word, pos)\u001b[0m\n\u001b[1;32m     60\u001b[0m \u001b[38;5;28;01mdef\u001b[39;00m \u001b[38;5;21mlemmatize\u001b[39m(\u001b[38;5;28mself\u001b[39m, word: \u001b[38;5;28mstr\u001b[39m, pos: \u001b[38;5;28mstr\u001b[39m \u001b[38;5;241m=\u001b[39m \u001b[38;5;124m\"\u001b[39m\u001b[38;5;124mn\u001b[39m\u001b[38;5;124m\"\u001b[39m) \u001b[38;5;241m-\u001b[39m\u001b[38;5;241m>\u001b[39m \u001b[38;5;28mstr\u001b[39m:\n\u001b[1;32m     61\u001b[0m \u001b[38;5;250m    \u001b[39m\u001b[38;5;124;03m\"\"\"Lemmatize `word` by picking the shortest of the possible lemmas,\u001b[39;00m\n\u001b[1;32m     62\u001b[0m \u001b[38;5;124;03m    using the wordnet corpus reader's built-in _morphy function.\u001b[39;00m\n\u001b[1;32m     63\u001b[0m \u001b[38;5;124;03m    Returns the input word unchanged if it cannot be found in WordNet.\u001b[39;00m\n\u001b[0;32m   (...)\u001b[0m\n\u001b[1;32m     83\u001b[0m \u001b[38;5;124;03m    :return: The shortest lemma of `word`, for the given `pos`.\u001b[39;00m\n\u001b[1;32m     84\u001b[0m \u001b[38;5;124;03m    \"\"\"\u001b[39;00m\n\u001b[0;32m---> 85\u001b[0m     lemmas \u001b[38;5;241m=\u001b[39m \u001b[38;5;28;43mself\u001b[39;49m\u001b[38;5;241;43m.\u001b[39;49m\u001b[43m_morphy\u001b[49m\u001b[43m(\u001b[49m\u001b[43mword\u001b[49m\u001b[43m,\u001b[49m\u001b[43m \u001b[49m\u001b[43mpos\u001b[49m\u001b[43m)\u001b[49m\n\u001b[1;32m     86\u001b[0m     \u001b[38;5;28;01mreturn\u001b[39;00m \u001b[38;5;28mmin\u001b[39m(lemmas, key\u001b[38;5;241m=\u001b[39m\u001b[38;5;28mlen\u001b[39m) \u001b[38;5;28;01mif\u001b[39;00m lemmas \u001b[38;5;28;01melse\u001b[39;00m word\n",
      "File \u001b[0;32m~/.pyenv/versions/3.10.6/envs/Mental_Health_Risks/lib/python3.10/site-packages/nltk/stem/wordnet.py:41\u001b[0m, in \u001b[0;36mWordNetLemmatizer._morphy\u001b[0;34m(self, form, pos, check_exceptions)\u001b[0m\n\u001b[1;32m     31\u001b[0m \u001b[38;5;250m\u001b[39m\u001b[38;5;124;03m\"\"\"\u001b[39;00m\n\u001b[1;32m     32\u001b[0m \u001b[38;5;124;03m_morphy() is WordNet's _morphy lemmatizer.\u001b[39;00m\n\u001b[1;32m     33\u001b[0m \u001b[38;5;124;03mIt returns a list of all lemmas found in WordNet.\u001b[39;00m\n\u001b[0;32m   (...)\u001b[0m\n\u001b[1;32m     37\u001b[0m \u001b[38;5;124;03m['us', 'u']\u001b[39;00m\n\u001b[1;32m     38\u001b[0m \u001b[38;5;124;03m\"\"\"\u001b[39;00m\n\u001b[1;32m     39\u001b[0m \u001b[38;5;28;01mfrom\u001b[39;00m \u001b[38;5;21;01mnltk\u001b[39;00m\u001b[38;5;21;01m.\u001b[39;00m\u001b[38;5;21;01mcorpus\u001b[39;00m \u001b[38;5;28;01mimport\u001b[39;00m wordnet \u001b[38;5;28;01mas\u001b[39;00m wn\n\u001b[0;32m---> 41\u001b[0m \u001b[38;5;28;01mreturn\u001b[39;00m \u001b[43mwn\u001b[49m\u001b[38;5;241;43m.\u001b[39;49m\u001b[43m_morphy\u001b[49m\u001b[43m(\u001b[49m\u001b[43mform\u001b[49m\u001b[43m,\u001b[49m\u001b[43m \u001b[49m\u001b[43mpos\u001b[49m\u001b[43m,\u001b[49m\u001b[43m \u001b[49m\u001b[43mcheck_exceptions\u001b[49m\u001b[43m)\u001b[49m\n",
      "File \u001b[0;32m~/.pyenv/versions/3.10.6/envs/Mental_Health_Risks/lib/python3.10/site-packages/nltk/corpus/reader/wordnet.py:2101\u001b[0m, in \u001b[0;36mWordNetCorpusReader._morphy\u001b[0;34m(self, form, pos, check_exceptions)\u001b[0m\n\u001b[1;32m   2098\u001b[0m                     seen\u001b[38;5;241m.\u001b[39madd(form)\n\u001b[1;32m   2099\u001b[0m     \u001b[38;5;28;01mreturn\u001b[39;00m result\n\u001b[0;32m-> 2101\u001b[0m \u001b[38;5;28;01mif\u001b[39;00m check_exceptions \u001b[38;5;129;01mand\u001b[39;00m form \u001b[38;5;129;01min\u001b[39;00m exceptions:\n\u001b[1;32m   2102\u001b[0m     \u001b[38;5;66;03m# 0. Check the exception lists\u001b[39;00m\n\u001b[1;32m   2103\u001b[0m     forms \u001b[38;5;241m=\u001b[39m exceptions[form]\n\u001b[1;32m   2104\u001b[0m \u001b[38;5;28;01melse\u001b[39;00m:\n\u001b[1;32m   2105\u001b[0m     \u001b[38;5;66;03m# 1. Apply rules once to the input to get y1, y2, y3, etc.\u001b[39;00m\n",
      "\u001b[0;31mKeyboardInterrupt\u001b[0m: "
     ]
    }
   ],
   "source": [
    "df2 = lp.preproc(df1)"
   ]
  },
  {
   "cell_type": "code",
   "execution_count": null,
   "id": "9051f26f",
   "metadata": {
    "ExecuteTime": {
     "end_time": "2024-12-04T10:36:42.440309Z",
     "start_time": "2024-12-04T10:36:42.440296Z"
    }
   },
   "outputs": [],
   "source": [
    "df3 = df2.drop(columns=['drugName', 'condition', 'date', 'review_length' ])"
   ]
  },
  {
   "cell_type": "code",
   "execution_count": null,
   "id": "3d9cb89e",
   "metadata": {
    "ExecuteTime": {
     "end_time": "2024-12-04T10:36:42.442669Z",
     "start_time": "2024-12-04T10:36:42.442656Z"
    }
   },
   "outputs": [],
   "source": [
    "data = df3.copy()"
   ]
  },
  {
   "cell_type": "code",
   "execution_count": null,
   "id": "48d22ec7",
   "metadata": {
    "ExecuteTime": {
     "end_time": "2024-12-04T10:36:42.445105Z",
     "start_time": "2024-12-04T10:36:42.445091Z"
    }
   },
   "outputs": [],
   "source": [
    "X = data['clean']\n",
    "y = data['sentiment']"
   ]
  },
  {
   "cell_type": "code",
   "execution_count": null,
   "id": "405359e9",
   "metadata": {
    "ExecuteTime": {
     "end_time": "2024-12-04T10:36:42.447388Z",
     "start_time": "2024-12-04T10:36:42.447373Z"
    }
   },
   "outputs": [],
   "source": [
    "data"
   ]
  },
  {
   "cell_type": "code",
   "execution_count": null,
   "id": "f33d6e57",
   "metadata": {
    "ExecuteTime": {
     "end_time": "2024-12-04T10:36:42.449223Z",
     "start_time": "2024-12-04T10:36:42.449208Z"
    }
   },
   "outputs": [],
   "source": [
    "Xb, yb = lp.balance_dataset(X,y)"
   ]
  },
  {
   "cell_type": "code",
   "execution_count": 6,
   "id": "7f3716d8",
   "metadata": {
    "ExecuteTime": {
     "end_time": "2024-12-04T10:37:09.519045Z",
     "start_time": "2024-12-04T10:37:05.503104Z"
    }
   },
   "outputs": [
    {
     "name": "stderr",
     "output_type": "stream",
     "text": [
      "/home/speroulakis/.pyenv/versions/3.10.6/envs/Mental_Health_Risks/lib/python3.10/site-packages/tqdm/auto.py:21: TqdmWarning: IProgress not found. Please update jupyter and ipywidgets. See https://ipywidgets.readthedocs.io/en/stable/user_install.html\n",
      "  from .autonotebook import tqdm as notebook_tqdm\n"
     ]
    }
   ],
   "source": [
    "from transformers import AutoTokenizer\n",
    "from transformers import TFAutoModel"
   ]
  },
  {
   "cell_type": "code",
   "execution_count": null,
   "id": "1aefe97a",
   "metadata": {
    "ExecuteTime": {
     "end_time": "2024-12-04T10:36:42.454808Z",
     "start_time": "2024-12-04T10:36:42.454787Z"
    }
   },
   "outputs": [],
   "source": [
    "tokenizer = AutoTokenizer.from_pretrained(\"prajjwal1/bert-tiny\", padding_side = \"right\")"
   ]
  },
  {
   "cell_type": "code",
   "execution_count": null,
   "id": "e7fd7502",
   "metadata": {
    "ExecuteTime": {
     "end_time": "2024-12-04T10:36:42.457394Z",
     "start_time": "2024-12-04T10:36:42.457377Z"
    }
   },
   "outputs": [],
   "source": [
    "model = TFAutoModel.from_pretrained(\"prajjwal1/bert-tiny\", from_pt = True)"
   ]
  },
  {
   "cell_type": "code",
   "execution_count": null,
   "id": "04471b63",
   "metadata": {
    "ExecuteTime": {
     "end_time": "2024-12-04T10:36:42.460168Z",
     "start_time": "2024-12-04T10:36:42.460149Z"
    }
   },
   "outputs": [],
   "source": [
    "data[\"tokenized\"] = data[\"review\"].map(lambda x: tokenizer(x)[\"input_ids\"])\n",
    "\n",
    "data[\"len_tokenized\"] = data[\"tokenized\"].map(lambda x: len(x))"
   ]
  },
  {
   "cell_type": "code",
   "execution_count": null,
   "id": "bbbf4257",
   "metadata": {
    "ExecuteTime": {
     "end_time": "2024-12-04T10:36:42.462511Z",
     "start_time": "2024-12-04T10:36:42.462495Z"
    }
   },
   "outputs": [],
   "source": [
    "sns.histplot(data['len_tokenized']);"
   ]
  },
  {
   "cell_type": "code",
   "execution_count": null,
   "id": "bb12cfa6",
   "metadata": {
    "ExecuteTime": {
     "end_time": "2024-12-04T10:36:42.465962Z",
     "start_time": "2024-12-04T10:36:42.465948Z"
    }
   },
   "outputs": [],
   "source": [
    "liszt = data['review'].tolist()"
   ]
  },
  {
   "cell_type": "code",
   "execution_count": null,
   "id": "8807134f",
   "metadata": {
    "ExecuteTime": {
     "end_time": "2024-12-04T10:36:42.467877Z",
     "start_time": "2024-12-04T10:36:42.467862Z"
    }
   },
   "outputs": [],
   "source": [
    "sfg"
   ]
  },
  {
   "cell_type": "code",
   "execution_count": null,
   "id": "2814d685",
   "metadata": {
    "ExecuteTime": {
     "end_time": "2024-12-04T10:36:42.470274Z",
     "start_time": "2024-12-04T10:36:42.470258Z"
    }
   },
   "outputs": [],
   "source": [
    "tokenized = tokenizer(liszt[:100], max_length=300, padding='max_length', truncation=True, return_tensors='tf')"
   ]
  },
  {
   "cell_type": "code",
   "execution_count": null,
   "id": "546d90fe",
   "metadata": {
    "ExecuteTime": {
     "end_time": "2024-12-04T10:36:42.473114Z",
     "start_time": "2024-12-04T10:36:42.473077Z"
    },
    "scrolled": true
   },
   "outputs": [],
   "source": [
    "tokenized.get('input_ids')"
   ]
  },
  {
   "cell_type": "code",
   "execution_count": null,
   "id": "dfa83db1",
   "metadata": {
    "ExecuteTime": {
     "end_time": "2024-12-04T10:36:42.477186Z",
     "start_time": "2024-12-04T10:36:42.477152Z"
    }
   },
   "outputs": [],
   "source": [
    "embed = model.predict(tokenized.get('input_ids'))"
   ]
  },
  {
   "cell_type": "code",
   "execution_count": null,
   "id": "5e261746",
   "metadata": {
    "ExecuteTime": {
     "end_time": "2024-12-04T10:36:42.480769Z",
     "start_time": "2024-12-04T10:36:42.480750Z"
    }
   },
   "outputs": [],
   "source": [
    "embed.last_hidden_state.shape"
   ]
  },
  {
   "cell_type": "code",
   "execution_count": null,
   "id": "885d40e0",
   "metadata": {
    "ExecuteTime": {
     "end_time": "2024-12-04T10:36:42.482988Z",
     "start_time": "2024-12-04T10:36:42.482971Z"
    }
   },
   "outputs": [],
   "source": [
    "test = []\n",
    "for x in range(10):\n",
    "  unit = tokenized.get('input_ids')\n",
    "  emb = (model.predict(unit[x:x+1])).last_hidden_state[:, 0, :]\n",
    "  test.append(emb)"
   ]
  },
  {
   "cell_type": "code",
   "execution_count": null,
   "id": "283dcf0e",
   "metadata": {
    "ExecuteTime": {
     "end_time": "2024-12-04T10:36:42.486218Z",
     "start_time": "2024-12-04T10:36:42.486199Z"
    }
   },
   "outputs": [],
   "source": [
    "test[0].shape"
   ]
  },
  {
   "cell_type": "code",
   "execution_count": null,
   "id": "97b16b1b",
   "metadata": {
    "ExecuteTime": {
     "end_time": "2024-12-04T10:36:42.487975Z",
     "start_time": "2024-12-04T10:36:42.487960Z"
    }
   },
   "outputs": [],
   "source": [
    "seb = np.concatenate(test)"
   ]
  },
  {
   "cell_type": "code",
   "execution_count": null,
   "id": "b79e3678",
   "metadata": {
    "ExecuteTime": {
     "end_time": "2024-12-04T10:36:42.490740Z",
     "start_time": "2024-12-04T10:36:42.490719Z"
    }
   },
   "outputs": [],
   "source": [
    "seb.shape"
   ]
  },
  {
   "cell_type": "code",
   "execution_count": 8,
   "id": "bfb24ce1",
   "metadata": {
    "ExecuteTime": {
     "end_time": "2024-12-04T10:38:49.431926Z",
     "start_time": "2024-12-04T10:38:49.426750Z"
    }
   },
   "outputs": [],
   "source": [
    "import joblib\n",
    "import os"
   ]
  },
  {
   "cell_type": "code",
   "execution_count": 11,
   "id": "f47b70bd",
   "metadata": {
    "ExecuteTime": {
     "end_time": "2024-12-04T10:39:12.784592Z",
     "start_time": "2024-12-04T10:39:12.771521Z"
    }
   },
   "outputs": [
    {
     "data": {
      "text/plain": [
       "'/home/speroulakis/code/Flotchi/Mental_Health_Risks/notebooks'"
      ]
     },
     "execution_count": 11,
     "metadata": {},
     "output_type": "execute_result"
    }
   ],
   "source": [
    "os.getcwd()"
   ]
  },
  {
   "cell_type": "code",
   "execution_count": 17,
   "id": "8ec07560",
   "metadata": {
    "ExecuteTime": {
     "end_time": "2024-12-04T10:40:54.817964Z",
     "start_time": "2024-12-04T10:40:54.810095Z"
    }
   },
   "outputs": [
    {
     "data": {
      "text/plain": [
       "'/home/speroulakis/code/Flotchi/Mental_Health_Risks/raw_data/final2.npy'"
      ]
     },
     "execution_count": 17,
     "metadata": {},
     "output_type": "execute_result"
    }
   ],
   "source": [
    "path = os.path.join(os.path.dirname(os.getcwd()), 'raw_data', 'final2.npy')\n",
    "path"
   ]
  },
  {
   "cell_type": "code",
   "execution_count": 16,
   "id": "b3ed831f",
   "metadata": {
    "ExecuteTime": {
     "end_time": "2024-12-04T10:40:48.540099Z",
     "start_time": "2024-12-04T10:40:48.520622Z"
    }
   },
   "outputs": [],
   "source": [
    "f1 = np.load(path)"
   ]
  },
  {
   "cell_type": "code",
   "execution_count": 19,
   "id": "bf199dd6",
   "metadata": {
    "ExecuteTime": {
     "end_time": "2024-12-04T10:41:04.046822Z",
     "start_time": "2024-12-04T10:41:04.027244Z"
    }
   },
   "outputs": [],
   "source": [
    "f2 = np.load(path)"
   ]
  },
  {
   "cell_type": "code",
   "execution_count": 20,
   "id": "6d22803b",
   "metadata": {
    "ExecuteTime": {
     "end_time": "2024-12-04T10:41:10.000819Z",
     "start_time": "2024-12-04T10:41:09.992834Z"
    }
   },
   "outputs": [
    {
     "data": {
      "text/plain": [
       "48659"
      ]
     },
     "execution_count": 20,
     "metadata": {},
     "output_type": "execute_result"
    }
   ],
   "source": [
    "len(f1)"
   ]
  },
  {
   "cell_type": "code",
   "execution_count": 21,
   "id": "803dfcde",
   "metadata": {
    "ExecuteTime": {
     "end_time": "2024-12-04T10:41:13.284838Z",
     "start_time": "2024-12-04T10:41:13.276937Z"
    }
   },
   "outputs": [
    {
     "data": {
      "text/plain": [
       "61231"
      ]
     },
     "execution_count": 21,
     "metadata": {},
     "output_type": "execute_result"
    }
   ],
   "source": [
    "len(f2)"
   ]
  },
  {
   "cell_type": "code",
   "execution_count": 22,
   "id": "c0fc7f0a",
   "metadata": {
    "ExecuteTime": {
     "end_time": "2024-12-04T10:41:18.871264Z",
     "start_time": "2024-12-04T10:41:18.864272Z"
    }
   },
   "outputs": [
    {
     "data": {
      "text/plain": [
       "(48659, 128)"
      ]
     },
     "execution_count": 22,
     "metadata": {},
     "output_type": "execute_result"
    }
   ],
   "source": [
    "f1.shape"
   ]
  },
  {
   "cell_type": "code",
   "execution_count": 26,
   "id": "e5b6e769",
   "metadata": {
    "ExecuteTime": {
     "end_time": "2024-12-04T10:41:59.469660Z",
     "start_time": "2024-12-04T10:41:59.460457Z"
    },
    "scrolled": true
   },
   "outputs": [
    {
     "data": {
      "text/plain": [
       "array([-1.31323314e+00, -1.56276450e-01, -5.49429893e+00, -1.41454530e+00,\n",
       "        3.47821474e-01,  2.90152073e-01, -1.01280808e+00,  9.97111976e-01,\n",
       "       -3.82509023e-01,  5.60973644e-01,  1.66516066e+00,  6.11225963e-01,\n",
       "       -5.99867702e-01,  6.09384835e-01,  1.56300044e+00,  4.26805794e-01,\n",
       "        4.38231587e-01,  1.04514706e+00, -7.01745987e-01, -3.52468550e-01,\n",
       "        1.29967701e+00,  1.59639120e-03,  1.15911412e+00, -1.42135084e-01,\n",
       "        1.75610256e+00, -1.30988050e+00, -4.07941118e-02,  1.23661179e-02,\n",
       "       -4.01492089e-01, -1.15452290e+00, -7.39289165e-01, -2.05143124e-01,\n",
       "       -1.02219260e+00,  5.50258994e-01, -7.47083604e-01,  8.12264681e-02,\n",
       "       -4.80949581e-01, -4.69285071e-01, -2.43994999e+00,  8.12179893e-02,\n",
       "        1.02070260e+00,  2.53243864e-01,  2.08897781e+00, -1.02679729e+00,\n",
       "       -2.04473794e-01, -6.27262533e-01, -1.81331843e-01, -1.48347855e+00,\n",
       "        4.37108159e-01, -8.24031472e-01,  9.95616376e-01,  2.88108277e+00,\n",
       "        7.75416315e-01,  5.07758617e-01,  8.01886022e-01, -1.22951674e+00,\n",
       "        4.28724319e-01, -1.05446208e+00, -3.60382199e-01,  2.36728358e+00,\n",
       "        6.81314707e-01, -2.06897035e-01, -3.96451503e-02, -1.12165999e+00,\n",
       "       -7.63506413e-01,  2.33928156e+00,  1.16126561e+00,  4.50159848e-01,\n",
       "        7.89821088e-01,  9.83890772e-01,  2.31432110e-01, -1.23236883e+00,\n",
       "        1.10742204e-01, -6.41985953e-01, -5.27442813e-01, -4.94418740e-01,\n",
       "       -6.74334466e-01,  7.66809821e-01,  1.42767322e+00, -2.73134708e-01,\n",
       "        1.85988620e-01,  5.90217590e-01,  4.76123303e-01,  7.75041282e-01,\n",
       "        5.75644672e-02,  2.05422372e-01, -2.33952969e-01, -1.03838056e-01,\n",
       "        1.06614363e+00, -2.44579053e+00,  9.88851964e-01, -2.57535130e-01,\n",
       "       -2.04294252e+00, -3.65946174e-01,  4.72159505e-01,  9.55290735e-01,\n",
       "       -6.77415252e-01, -1.77986115e-01, -3.38181645e-01, -3.88786197e-04,\n",
       "       -9.41577256e-01, -1.54088581e+00, -6.53723598e-01, -1.19929087e+00,\n",
       "        1.18722939e+00, -2.84927338e-01, -5.59322774e-01, -1.16751027e+00,\n",
       "       -1.24931324e+00,  9.02272761e-02, -2.78365761e-01,  1.15081716e+00,\n",
       "        1.23375094e+00, -1.07162881e+00, -1.36673594e+00,  1.55961835e+00,\n",
       "        4.68310207e-01, -1.41731989e+00, -1.42841482e+00, -4.64621514e-01,\n",
       "       -1.16120839e+00,  1.02159417e+00,  8.30314159e-01, -1.19044054e+00,\n",
       "       -7.45109916e-01, -9.49430287e-01,  1.47185564e+00,  1.51356506e+00],\n",
       "      dtype=float32)"
      ]
     },
     "execution_count": 26,
     "metadata": {},
     "output_type": "execute_result"
    }
   ],
   "source": [
    "f1[48658]"
   ]
  },
  {
   "cell_type": "code",
   "execution_count": 27,
   "id": "12cd9c0b",
   "metadata": {
    "ExecuteTime": {
     "end_time": "2024-12-04T10:42:09.522453Z",
     "start_time": "2024-12-04T10:42:09.513375Z"
    }
   },
   "outputs": [
    {
     "data": {
      "text/plain": [
       "array([-1.8982012 , -0.02150285, -5.4516816 , -1.7456636 ,  0.1411807 ,\n",
       "        0.7573541 , -0.09095369,  0.27087227, -0.33391035, -0.15553443,\n",
       "        1.2944244 ,  0.828934  ,  0.10348731,  0.33818257,  0.5690639 ,\n",
       "       -0.6652243 ,  0.65383774,  0.955618  , -0.7278547 , -0.24123156,\n",
       "       -0.05187121, -0.24900521,  1.5895029 ,  0.7506902 ,  2.487144  ,\n",
       "       -0.96608233, -0.26743144,  0.78383416,  0.17195567, -1.4315997 ,\n",
       "       -1.2832544 , -0.29915208, -1.598495  ,  0.4562462 ,  1.0463309 ,\n",
       "       -1.2440773 ,  0.6342277 , -0.65271413, -1.3652346 ,  0.49837655,\n",
       "        1.0855684 ,  0.08695886,  1.655322  , -1.3780081 , -0.8027005 ,\n",
       "       -2.059182  ,  0.6260929 , -0.84614265,  0.13312736,  0.6490854 ,\n",
       "       -0.67646563,  0.80985713, -0.0330135 ,  0.20151088,  0.97935516,\n",
       "       -0.60600275, -0.3889074 , -1.3103526 , -0.19551806,  2.2284958 ,\n",
       "       -0.55838263, -1.1078739 , -0.21577987, -1.0664712 , -0.46111995,\n",
       "        1.5780134 ,  1.0427811 ,  0.25998017, -0.95374906,  0.5778275 ,\n",
       "        0.53336906, -1.237007  ,  0.66635025, -0.24692085, -1.4713724 ,\n",
       "        0.05810473, -0.9497986 ,  1.1115799 ,  2.4477737 , -1.1319085 ,\n",
       "        0.09170568, -0.05310553,  0.17191264,  1.8221825 ,  0.2650696 ,\n",
       "       -0.76199234, -0.31125253,  0.03613293,  1.3552179 , -0.8446189 ,\n",
       "        1.1206399 ,  1.296302  , -1.0957267 ,  0.5362484 ,  0.801535  ,\n",
       "        0.9815417 , -1.2856593 , -0.791286  , -0.9147498 , -0.09754493,\n",
       "        0.25403297, -1.6824632 , -0.2916772 , -1.5699967 ,  0.8235122 ,\n",
       "       -0.35550192,  0.28795448,  0.19848946, -0.8353504 ,  0.8841676 ,\n",
       "        0.47909313,  2.1586075 ,  0.5900062 , -1.0594127 , -0.7622768 ,\n",
       "       -0.06701435,  0.6234667 , -0.838325  , -1.1476808 , -0.30666327,\n",
       "       -0.87896276,  1.0048147 ,  0.5476998 , -0.4654302 , -1.483455  ,\n",
       "       -0.9974741 ,  0.18394268,  2.6124327 ], dtype=float32)"
      ]
     },
     "execution_count": 27,
     "metadata": {},
     "output_type": "execute_result"
    }
   ],
   "source": [
    "f2[0]"
   ]
  },
  {
   "cell_type": "code",
   "execution_count": 30,
   "id": "c09fd776",
   "metadata": {
    "ExecuteTime": {
     "end_time": "2024-12-04T10:44:40.206158Z",
     "start_time": "2024-12-04T10:44:40.181700Z"
    }
   },
   "outputs": [],
   "source": [
    "merged = np.vstack((f1, f2))"
   ]
  },
  {
   "cell_type": "code",
   "execution_count": 31,
   "id": "15bb2ccb",
   "metadata": {
    "ExecuteTime": {
     "end_time": "2024-12-04T10:44:44.635313Z",
     "start_time": "2024-12-04T10:44:44.627492Z"
    }
   },
   "outputs": [
    {
     "data": {
      "text/plain": [
       "(109890, 128)"
      ]
     },
     "execution_count": 31,
     "metadata": {},
     "output_type": "execute_result"
    }
   ],
   "source": [
    "merged.shape"
   ]
  },
  {
   "cell_type": "code",
   "execution_count": 32,
   "id": "c30e3594",
   "metadata": {
    "ExecuteTime": {
     "end_time": "2024-12-04T10:46:07.781104Z",
     "start_time": "2024-12-04T10:46:07.722956Z"
    }
   },
   "outputs": [],
   "source": [
    "np.save('merged.npy', merged)"
   ]
  },
  {
   "cell_type": "code",
   "execution_count": null,
   "id": "470da8c4",
   "metadata": {},
   "outputs": [],
   "source": []
  }
 ],
 "metadata": {
  "kernelspec": {
   "display_name": "Python 3 (ipykernel)",
   "language": "python",
   "name": "python3"
  },
  "language_info": {
   "codemirror_mode": {
    "name": "ipython",
    "version": 3
   },
   "file_extension": ".py",
   "mimetype": "text/x-python",
   "name": "python",
   "nbconvert_exporter": "python",
   "pygments_lexer": "ipython3",
   "version": "3.10.6"
  },
  "toc": {
   "base_numbering": 1,
   "nav_menu": {},
   "number_sections": true,
   "sideBar": true,
   "skip_h1_title": false,
   "title_cell": "Table of Contents",
   "title_sidebar": "Contents",
   "toc_cell": false,
   "toc_position": {},
   "toc_section_display": true,
   "toc_window_display": false
  }
 },
 "nbformat": 4,
 "nbformat_minor": 5
}
