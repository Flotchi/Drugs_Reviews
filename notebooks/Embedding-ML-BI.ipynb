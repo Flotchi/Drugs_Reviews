{
 "cells": [
  {
   "cell_type": "code",
   "execution_count": 2,
   "id": "f5737142",
   "metadata": {
    "ExecuteTime": {
     "end_time": "2024-11-27T18:21:45.904154Z",
     "start_time": "2024-11-27T18:21:26.973905Z"
    }
   },
   "outputs": [
    {
     "name": "stderr",
     "output_type": "stream",
     "text": [
      "2024-11-27 19:21:38.123812: I tensorflow/core/platform/cpu_feature_guard.cc:210] This TensorFlow binary is optimized to use available CPU instructions in performance-critical operations.\n",
      "To enable the following instructions: AVX2 FMA, in other operations, rebuild TensorFlow with the appropriate compiler flags.\n"
     ]
    }
   ],
   "source": [
    "from gensim.models import Word2Vec\n",
    "from tensorflow.keras.preprocessing.sequence import pad_sequences\n",
    "import numpy as np"
   ]
  },
  {
   "cell_type": "code",
   "execution_count": 4,
   "id": "fdfc6fc4",
   "metadata": {
    "ExecuteTime": {
     "end_time": "2024-11-27T14:15:21.415676Z",
     "start_time": "2024-11-27T14:15:21.411324Z"
    }
   },
   "outputs": [],
   "source": [
    "import gensim.downloader as api"
   ]
  },
  {
   "cell_type": "code",
   "execution_count": 4,
   "id": "0491d9a9",
   "metadata": {
    "ExecuteTime": {
     "end_time": "2024-11-27T18:21:54.860343Z",
     "start_time": "2024-11-27T18:21:52.953043Z"
    }
   },
   "outputs": [
    {
     "name": "stderr",
     "output_type": "stream",
     "text": [
      "[nltk_data] Downloading package stopwords to\n",
      "[nltk_data]     /Users/Flotchi/nltk_data...\n",
      "[nltk_data]   Package stopwords is already up-to-date!\n",
      "[nltk_data] Downloading package punkt to /Users/Flotchi/nltk_data...\n",
      "[nltk_data]   Package punkt is already up-to-date!\n",
      "[nltk_data] Downloading package wordnet to /Users/Flotchi/nltk_data...\n",
      "[nltk_data]   Package wordnet is already up-to-date!\n",
      "[nltk_data] Downloading package omw-1.4 to /Users/Flotchi/nltk_data...\n",
      "[nltk_data]   Package omw-1.4 is already up-to-date!\n",
      "[nltk_data] Downloading package punkt_tab to\n",
      "[nltk_data]     /Users/Flotchi/nltk_data...\n",
      "[nltk_data]   Package punkt_tab is already up-to-date!\n"
     ]
    }
   ],
   "source": [
    "from logic import processing"
   ]
  },
  {
   "cell_type": "code",
   "execution_count": 5,
   "id": "73a7c596",
   "metadata": {
    "ExecuteTime": {
     "end_time": "2024-11-27T18:21:55.348834Z",
     "start_time": "2024-11-27T18:21:54.866328Z"
    }
   },
   "outputs": [],
   "source": [
    "data = processing.load_data('Combined Data.csv')"
   ]
  },
  {
   "cell_type": "code",
   "execution_count": 6,
   "id": "d3b14ed0",
   "metadata": {
    "ExecuteTime": {
     "end_time": "2024-11-27T18:23:16.745019Z",
     "start_time": "2024-11-27T18:21:57.722204Z"
    }
   },
   "outputs": [],
   "source": [
    "df = processing.preproc(data,bi = True)"
   ]
  },
  {
   "cell_type": "code",
   "execution_count": 7,
   "id": "d29d39f4",
   "metadata": {
    "ExecuteTime": {
     "end_time": "2024-11-27T18:24:19.657948Z",
     "start_time": "2024-11-27T18:24:19.620943Z"
    }
   },
   "outputs": [
    {
     "data": {
      "text/html": [
       "<div>\n",
       "<style scoped>\n",
       "    .dataframe tbody tr th:only-of-type {\n",
       "        vertical-align: middle;\n",
       "    }\n",
       "\n",
       "    .dataframe tbody tr th {\n",
       "        vertical-align: top;\n",
       "    }\n",
       "\n",
       "    .dataframe thead th {\n",
       "        text-align: right;\n",
       "    }\n",
       "</style>\n",
       "<table border=\"1\" class=\"dataframe\">\n",
       "  <thead>\n",
       "    <tr style=\"text-align: right;\">\n",
       "      <th></th>\n",
       "      <th>Unnamed: 0</th>\n",
       "      <th>statement</th>\n",
       "      <th>status</th>\n",
       "      <th>clean</th>\n",
       "      <th>label</th>\n",
       "    </tr>\n",
       "  </thead>\n",
       "  <tbody>\n",
       "    <tr>\n",
       "      <th>0</th>\n",
       "      <td>0</td>\n",
       "      <td>oh my gosh</td>\n",
       "      <td>Anxiety</td>\n",
       "      <td>oh gosh</td>\n",
       "      <td>0</td>\n",
       "    </tr>\n",
       "    <tr>\n",
       "      <th>1</th>\n",
       "      <td>1</td>\n",
       "      <td>trouble sleeping, confused mind, restless hear...</td>\n",
       "      <td>Anxiety</td>\n",
       "      <td>trouble sleep confuse mind restless heart tune</td>\n",
       "      <td>0</td>\n",
       "    </tr>\n",
       "    <tr>\n",
       "      <th>2</th>\n",
       "      <td>2</td>\n",
       "      <td>All wrong, back off dear, forward doubt. Stay ...</td>\n",
       "      <td>Anxiety</td>\n",
       "      <td>wrong back dear forward doubt stay restless re...</td>\n",
       "      <td>0</td>\n",
       "    </tr>\n",
       "    <tr>\n",
       "      <th>3</th>\n",
       "      <td>3</td>\n",
       "      <td>I've shifted my focus to something else but I'...</td>\n",
       "      <td>Anxiety</td>\n",
       "      <td>ive shift focus something else im still worry</td>\n",
       "      <td>0</td>\n",
       "    </tr>\n",
       "    <tr>\n",
       "      <th>4</th>\n",
       "      <td>4</td>\n",
       "      <td>I'm restless and restless, it's been a month n...</td>\n",
       "      <td>Anxiety</td>\n",
       "      <td>im restless restless month boy mean</td>\n",
       "      <td>0</td>\n",
       "    </tr>\n",
       "  </tbody>\n",
       "</table>\n",
       "</div>"
      ],
      "text/plain": [
       "   Unnamed: 0                                          statement   status  \\\n",
       "0           0                                         oh my gosh  Anxiety   \n",
       "1           1  trouble sleeping, confused mind, restless hear...  Anxiety   \n",
       "2           2  All wrong, back off dear, forward doubt. Stay ...  Anxiety   \n",
       "3           3  I've shifted my focus to something else but I'...  Anxiety   \n",
       "4           4  I'm restless and restless, it's been a month n...  Anxiety   \n",
       "\n",
       "                                               clean  label  \n",
       "0                                            oh gosh      0  \n",
       "1     trouble sleep confuse mind restless heart tune      0  \n",
       "2  wrong back dear forward doubt stay restless re...      0  \n",
       "3      ive shift focus something else im still worry      0  \n",
       "4                im restless restless month boy mean      0  "
      ]
     },
     "execution_count": 7,
     "metadata": {},
     "output_type": "execute_result"
    }
   ],
   "source": [
    "df.head()"
   ]
  },
  {
   "cell_type": "code",
   "execution_count": 8,
   "id": "a7458edd",
   "metadata": {
    "ExecuteTime": {
     "end_time": "2024-11-27T18:24:22.028234Z",
     "start_time": "2024-11-27T18:24:22.021662Z"
    }
   },
   "outputs": [],
   "source": [
    "X = df.clean\n",
    "y= df.label"
   ]
  },
  {
   "cell_type": "markdown",
   "id": "45d8a596",
   "metadata": {},
   "source": [
    "Either train a model --> Word2vec()\n",
    "Either load a pre-trained model --W api.load(model)"
   ]
  },
  {
   "cell_type": "code",
   "execution_count": 5,
   "id": "d9da71d1",
   "metadata": {
    "ExecuteTime": {
     "end_time": "2024-11-27T14:15:21.731516Z",
     "start_time": "2024-11-27T14:15:21.419053Z"
    },
    "collapsed": true
   },
   "outputs": [
    {
     "name": "stdout",
     "output_type": "stream",
     "text": [
      "['fasttext-wiki-news-subwords-300', 'conceptnet-numberbatch-17-06-300', 'word2vec-ruscorpora-300', 'word2vec-google-news-300', 'glove-wiki-gigaword-50', 'glove-wiki-gigaword-100', 'glove-wiki-gigaword-200', 'glove-wiki-gigaword-300', 'glove-twitter-25', 'glove-twitter-50', 'glove-twitter-100', 'glove-twitter-200', '__testing_word2vec-matrix-synopsis']\n"
     ]
    }
   ],
   "source": [
    "#Choose a model embedding\n",
    "print(list(api.info()['models'].keys()))"
   ]
  },
  {
   "cell_type": "code",
   "execution_count": 6,
   "id": "8751d7b1",
   "metadata": {
    "ExecuteTime": {
     "end_time": "2024-11-27T14:16:12.979658Z",
     "start_time": "2024-11-27T14:15:24.356689Z"
    }
   },
   "outputs": [
    {
     "name": "stdout",
     "output_type": "stream",
     "text": [
      "[==================================================] 100.0% 66.0/66.0MB downloaded\n"
     ]
    }
   ],
   "source": [
    "word2vec_transfer = api.load(\"glove-wiki-gigaword-50\")"
   ]
  },
  {
   "cell_type": "code",
   "execution_count": 7,
   "id": "89be50e7",
   "metadata": {
    "ExecuteTime": {
     "end_time": "2024-11-27T14:16:13.062952Z",
     "start_time": "2024-11-27T14:16:12.985473Z"
    }
   },
   "outputs": [],
   "source": [
    "#Parameters\n",
    "vector_size=60\n",
    "min_count=10\n",
    "window=10\n",
    "maxlen=200"
   ]
  },
  {
   "cell_type": "code",
   "execution_count": 9,
   "id": "c8616d99",
   "metadata": {
    "ExecuteTime": {
     "end_time": "2024-11-27T18:27:55.850378Z",
     "start_time": "2024-11-27T18:27:55.841000Z"
    }
   },
   "outputs": [],
   "source": [
    "def embed_sentence(word2vec, sentence):\n",
    "    \"\"\"Embed a sentence by averaging the embeddings of its words.\"\"\"\n",
    "    embedded_words = [word2vec.wv[word] for word in sentence if word in word2vec.wv]\n",
    "    if not embedded_words:\n",
    "        return np.zeros(word2vec.vector_size)  # Phrase sans mots connus -> vecteur nul\n",
    "    return np.mean(embedded_words, axis=0)\n",
    "\n",
    "def embedding(word2vec, sentences):\n",
    "    \"\"\"Embed a list of sentences.\"\"\"\n",
    "    return np.array([embed_sentence(word2vec, sentence.split()) for sentence in sentences])\n"
   ]
  },
  {
   "cell_type": "code",
   "execution_count": 12,
   "id": "2691a2a5",
   "metadata": {
    "ExecuteTime": {
     "end_time": "2024-11-27T18:32:53.060718Z",
     "start_time": "2024-11-27T18:32:53.054664Z"
    }
   },
   "outputs": [],
   "source": [
    "from sklearn.pipeline import make_pipeline\n",
    "from sklearn.naive_bayes import MultinomialNB\n",
    "from sklearn.linear_model import LogisticRegression\n",
    "from sklearn.model_selection import GridSearchCV\n",
    "from sklearn.model_selection import cross_validate"
   ]
  },
  {
   "cell_type": "code",
   "execution_count": 13,
   "id": "0ed5c769",
   "metadata": {
    "ExecuteTime": {
     "end_time": "2024-11-27T18:33:19.553669Z",
     "start_time": "2024-11-27T18:32:57.321228Z"
    }
   },
   "outputs": [
    {
     "name": "stdout",
     "output_type": "stream",
     "text": [
      "{'fit_time': array([0.26083589, 0.39997792, 0.2699008 , 0.30358815, 0.35250974]), 'score_time': array([0.01820731, 0.01452804, 0.01770592, 0.01406384, 0.01313019]), 'test_accuracy': array([0.8712414 , 0.87274955, 0.84400038, 0.84040347, 0.8280543 ]), 'test_precision_macro': array([0.85376249, 0.87621042, 0.85012056, 0.81258978, 0.80269558]), 'test_recall_macro': array([0.83945383, 0.81850213, 0.7734519 , 0.81411566, 0.78450644])}\n"
     ]
    }
   ],
   "source": [
    "# Entraîner Word2Vec\n",
    "word2vec = Word2Vec(sentences=[sentence.split() for sentence in X], \n",
    "                    vector_size=60, \n",
    "                    min_count=5, \n",
    "                    window=5)\n",
    "\n",
    "# Embedding des données\n",
    "X_embed = embedding(word2vec, X)\n",
    "\n",
    "# Modèle Naïve Bayes\n",
    "model = LogisticRegression(max_iter=1000)\n",
    "\n",
    "# Cross-validation\n",
    "cv_results = cross_validate(\n",
    "    model,\n",
    "    X_embed,\n",
    "    y,\n",
    "    scoring=['accuracy', 'precision_macro', 'recall_macro'],\n",
    "    cv=5,  # Par exemple, 5-fold cross-validation\n",
    ")\n",
    "\n",
    "print(cv_results)\n"
   ]
  },
  {
   "cell_type": "code",
   "execution_count": 14,
   "id": "c782a4db",
   "metadata": {
    "ExecuteTime": {
     "end_time": "2024-11-27T18:34:54.217881Z",
     "start_time": "2024-11-27T18:34:54.208121Z"
    }
   },
   "outputs": [
    {
     "data": {
      "text/plain": [
       "0.8512898191680218"
      ]
     },
     "execution_count": 14,
     "metadata": {},
     "output_type": "execute_result"
    }
   ],
   "source": [
    "cv_results['test_accuracy'].mean()"
   ]
  },
  {
   "cell_type": "code",
   "execution_count": null,
   "id": "9f9e12e1",
   "metadata": {},
   "outputs": [],
   "source": []
  }
 ],
 "metadata": {
  "kernelspec": {
   "display_name": "Python 3 (ipykernel)",
   "language": "python",
   "name": "python3"
  },
  "language_info": {
   "codemirror_mode": {
    "name": "ipython",
    "version": 3
   },
   "file_extension": ".py",
   "mimetype": "text/x-python",
   "name": "python",
   "nbconvert_exporter": "python",
   "pygments_lexer": "ipython3",
   "version": "3.10.6"
  },
  "toc": {
   "base_numbering": 1,
   "nav_menu": {},
   "number_sections": true,
   "sideBar": true,
   "skip_h1_title": false,
   "title_cell": "Table of Contents",
   "title_sidebar": "Contents",
   "toc_cell": false,
   "toc_position": {},
   "toc_section_display": true,
   "toc_window_display": false
  }
 },
 "nbformat": 4,
 "nbformat_minor": 5
}
