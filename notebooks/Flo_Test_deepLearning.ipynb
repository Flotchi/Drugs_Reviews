{
 "cells": [
  {
   "cell_type": "markdown",
   "id": "496aafa9-23b0-4f5d-8996-af09bca763fd",
   "metadata": {},
   "source": [
    "##### Deep Learing ###"
   ]
  },
  {
   "cell_type": "markdown",
   "id": "9969e306-d0dc-40fd-922c-b1af9d728962",
   "metadata": {},
   "source": [
    "1) Data Cleaning"
   ]
  },
  {
   "cell_type": "code",
   "execution_count": 5,
   "id": "ab1964dc-5921-48ce-b6f6-d39acd365bf1",
   "metadata": {
    "ExecuteTime": {
     "end_time": "2024-11-27T11:41:34.206201Z",
     "start_time": "2024-11-27T11:41:34.197712Z"
    },
    "scrolled": true
   },
   "outputs": [],
   "source": [
    "from logic.processing import load_data, preproc\n",
    "\n",
    "import re\n",
    "\n",
    "from sklearn.model_selection import train_test_split\n",
    "\n",
    "import pandas as pd\n",
    "\n",
    "from tensorflow.keras.preprocessing.text import Tokenizer\n",
    "from tensorflow.keras.preprocessing.sequence import pad_sequences\n",
    "from tensorflow.keras.models import Sequential\n",
    "from tensorflow.keras.layers import Embedding, LSTM, Dense\n",
    "from tensorflow.keras.callbacks import EarlyStopping"
   ]
  },
  {
   "cell_type": "code",
   "execution_count": 10,
   "id": "6a9673f1-9bc2-48af-a7f8-445ac2095a32",
   "metadata": {
    "ExecuteTime": {
     "end_time": "2024-11-27T11:43:18.505566Z",
     "start_time": "2024-11-27T11:43:18.098837Z"
    }
   },
   "outputs": [],
   "source": [
    "data = load_data('Combined Data.csv')"
   ]
  },
  {
   "cell_type": "code",
   "execution_count": 11,
   "id": "722c0512-e8bb-4e8e-9d82-35cba6aa0ba1",
   "metadata": {
    "ExecuteTime": {
     "end_time": "2024-11-27T11:44:34.316959Z",
     "start_time": "2024-11-27T11:43:18.511143Z"
    }
   },
   "outputs": [],
   "source": [
    "data = preproc(data)"
   ]
  },
  {
   "cell_type": "code",
   "execution_count": 12,
   "id": "c42ba63e-2d10-40df-a1c8-d0b79a247f9f",
   "metadata": {
    "ExecuteTime": {
     "end_time": "2024-11-27T11:44:35.276480Z",
     "start_time": "2024-11-27T11:44:34.331332Z"
    }
   },
   "outputs": [],
   "source": [
    "def remove_unicode(s):\n",
    "    \"\"\"Remove unicode characters from a string.\"\"\"\n",
    "    if isinstance(s, str):\n",
    "        return re.sub(r'[^\\x00-\\x7F]+', '', s)\n",
    "    return s\n",
    "\n",
    "data['clean'] = data['clean'].apply(remove_unicode)"
   ]
  },
  {
   "cell_type": "code",
   "execution_count": 13,
   "id": "618a2924-66ad-45d2-b42b-6666c3e1fa68",
   "metadata": {
    "ExecuteTime": {
     "end_time": "2024-11-27T11:44:35.327721Z",
     "start_time": "2024-11-27T11:44:35.281121Z"
    },
    "scrolled": true
   },
   "outputs": [],
   "source": [
    "def clean_text(s):\n",
    "    \"\"\"Clean the input text by removing URLs, markdown links, mentions, and punctuation.\"\"\"\n",
    "    if isinstance(s, str):\n",
    "        s = re.sub(r\"http[s]?://\\S+\", \"\", s)\n",
    "        s = re.sub(r\"\\[.*?\\]\\(.*?\\)\", \"\", s)\n",
    "        s = re.sub(r\"@\\w+\", \"\", s)  \n",
    "        s = re.sub(r\"[^\\w\\s]\", \"\", s)\n",
    "        s = s.strip() \n",
    "        return s\n",
    "    return s\n",
    "\n"
   ]
  },
  {
   "cell_type": "code",
   "execution_count": 14,
   "id": "bb28f1d7-405c-4171-b2d1-37bd002c0f53",
   "metadata": {
    "ExecuteTime": {
     "end_time": "2024-11-27T11:44:36.537062Z",
     "start_time": "2024-11-27T11:44:35.345942Z"
    }
   },
   "outputs": [],
   "source": [
    "data['clean'] = data['clean'].apply(clean_text)"
   ]
  },
  {
   "cell_type": "markdown",
   "id": "1cf7000e-94c2-4fa0-830c-992384ec7f90",
   "metadata": {},
   "source": [
    "2) Split train/test"
   ]
  },
  {
   "cell_type": "code",
   "execution_count": 15,
   "id": "f50fc7e2-9095-4083-8fda-08d23d1b950c",
   "metadata": {
    "ExecuteTime": {
     "end_time": "2024-11-27T11:44:36.558641Z",
     "start_time": "2024-11-27T11:44:36.540658Z"
    }
   },
   "outputs": [],
   "source": [
    "X = data['clean']\n",
    "y = data['status']"
   ]
  },
  {
   "cell_type": "code",
   "execution_count": 16,
   "id": "14ec5592-f36c-4b9d-ba0f-e26c521e6ec5",
   "metadata": {
    "ExecuteTime": {
     "end_time": "2024-11-27T11:44:36.634793Z",
     "start_time": "2024-11-27T11:44:36.568411Z"
    }
   },
   "outputs": [
    {
     "data": {
      "text/plain": [
       "((52681,), (52681,))"
      ]
     },
     "execution_count": 16,
     "metadata": {},
     "output_type": "execute_result"
    }
   ],
   "source": [
    "X.shape,y.shape"
   ]
  },
  {
   "cell_type": "code",
   "execution_count": 17,
   "id": "2064a274-2bdb-4942-8e19-2cd22bc79721",
   "metadata": {
    "ExecuteTime": {
     "end_time": "2024-11-27T11:44:36.740320Z",
     "start_time": "2024-11-27T11:44:36.673029Z"
    },
    "scrolled": true
   },
   "outputs": [],
   "source": [
    "X_train, X_test, y_train, y_test = train_test_split(X, y, test_size=0.2, random_state=42)"
   ]
  },
  {
   "cell_type": "markdown",
   "id": "56f7295e-d1ae-46f5-bb07-c78b2d150f35",
   "metadata": {},
   "source": [
    "3) Label encoding"
   ]
  },
  {
   "cell_type": "code",
   "execution_count": 18,
   "id": "b1d6b3fc-fb6a-4736-960d-b48990f0e8fb",
   "metadata": {
    "ExecuteTime": {
     "end_time": "2024-11-27T11:44:36.800677Z",
     "start_time": "2024-11-27T11:44:36.750121Z"
    }
   },
   "outputs": [],
   "source": [
    "y_train_encoded = pd.get_dummies(y_train).values\n",
    "y_test_encoded = pd.get_dummies(y_test).values"
   ]
  },
  {
   "cell_type": "markdown",
   "id": "fbb80a52-02c3-4d60-a3fc-2e444f041016",
   "metadata": {},
   "source": [
    "4) Tokenisation"
   ]
  },
  {
   "cell_type": "code",
   "execution_count": 19,
   "id": "743650d4-6b1c-4171-9739-30cd072e0ae2",
   "metadata": {
    "ExecuteTime": {
     "end_time": "2024-11-27T11:44:42.078210Z",
     "start_time": "2024-11-27T11:44:36.814678Z"
    }
   },
   "outputs": [],
   "source": [
    "tokenizer = Tokenizer()\n",
    "tokenizer.fit_on_texts(X_train)\n",
    "X_train_token = tokenizer.texts_to_sequences(X_train)\n",
    "X_test_token = tokenizer.texts_to_sequences(X_test)"
   ]
  },
  {
   "cell_type": "code",
   "execution_count": 114,
   "id": "4de309df-c92d-47af-bc53-be2b6cb5fdf6",
   "metadata": {},
   "outputs": [],
   "source": [
    "vocab_size = len(tokenizer.word_index)"
   ]
  },
  {
   "cell_type": "markdown",
   "id": "73eb8d14-3215-4919-aa53-8b797d4b2cc9",
   "metadata": {},
   "source": [
    "5) Padding"
   ]
  },
  {
   "cell_type": "code",
   "execution_count": 83,
   "id": "47aec75f-90cb-4395-9efe-92e10aef72e5",
   "metadata": {},
   "outputs": [],
   "source": [
    "max_len = 500"
   ]
  },
  {
   "cell_type": "code",
   "execution_count": 84,
   "id": "32fd4022-7ef6-4c0f-b5ab-360a9b7ea92a",
   "metadata": {},
   "outputs": [],
   "source": [
    "X_train_pad = pad_sequences(X_train_token, padding='post',maxlen=max_len)\n",
    "X_test_pad = pad_sequences(X_test_token, padding='post',maxlen=max_len)"
   ]
  },
  {
   "cell_type": "markdown",
   "id": "d2e3a097-bc00-4a77-bfcd-8fa59723039f",
   "metadata": {},
   "source": [
    "6.1) Model A"
   ]
  },
  {
   "cell_type": "code",
   "execution_count": 100,
   "id": "b1de9c7d-3edb-4863-9d79-cfe294cef424",
   "metadata": {
    "scrolled": true
   },
   "outputs": [
    {
     "data": {
      "text/plain": [
       "7"
      ]
     },
     "execution_count": 100,
     "metadata": {},
     "output_type": "execute_result"
    }
   ],
   "source": [
    "output_dim = y_train_encoded.shape[1]\n",
    "output_dim"
   ]
  },
  {
   "cell_type": "code",
   "execution_count": 143,
   "id": "cf1b41a9-ee01-4117-b9dc-ecd78e89198c",
   "metadata": {},
   "outputs": [
    {
     "data": {
      "text/html": [
       "<pre style=\"white-space:pre;overflow-x:auto;line-height:normal;font-family:Menlo,'DejaVu Sans Mono',consolas,'Courier New',monospace\"><span style=\"font-weight: bold\">Model: \"sequential_21\"</span>\n",
       "</pre>\n"
      ],
      "text/plain": [
       "\u001b[1mModel: \"sequential_21\"\u001b[0m\n"
      ]
     },
     "metadata": {},
     "output_type": "display_data"
    },
    {
     "data": {
      "text/html": [
       "<pre style=\"white-space:pre;overflow-x:auto;line-height:normal;font-family:Menlo,'DejaVu Sans Mono',consolas,'Courier New',monospace\">┏━━━━━━━━━━━━━━━━━━━━━━━━━━━━━━━━━┳━━━━━━━━━━━━━━━━━━━━━━━━┳━━━━━━━━━━━━━━━┓\n",
       "┃<span style=\"font-weight: bold\"> Layer (type)                    </span>┃<span style=\"font-weight: bold\"> Output Shape           </span>┃<span style=\"font-weight: bold\">       Param # </span>┃\n",
       "┡━━━━━━━━━━━━━━━━━━━━━━━━━━━━━━━━━╇━━━━━━━━━━━━━━━━━━━━━━━━╇━━━━━━━━━━━━━━━┩\n",
       "│ embedding_21 (<span style=\"color: #0087ff; text-decoration-color: #0087ff\">Embedding</span>)        │ (<span style=\"color: #00d7ff; text-decoration-color: #00d7ff\">None</span>, <span style=\"color: #00af00; text-decoration-color: #00af00\">500</span>, <span style=\"color: #00af00; text-decoration-color: #00af00\">50</span>)        │     <span style=\"color: #00af00; text-decoration-color: #00af00\">2,802,650</span> │\n",
       "├─────────────────────────────────┼────────────────────────┼───────────────┤\n",
       "│ lstm_22 (<span style=\"color: #0087ff; text-decoration-color: #0087ff\">LSTM</span>)                  │ (<span style=\"color: #00d7ff; text-decoration-color: #00d7ff\">None</span>, <span style=\"color: #00af00; text-decoration-color: #00af00\">20</span>)             │         <span style=\"color: #00af00; text-decoration-color: #00af00\">5,680</span> │\n",
       "├─────────────────────────────────┼────────────────────────┼───────────────┤\n",
       "│ dense_35 (<span style=\"color: #0087ff; text-decoration-color: #0087ff\">Dense</span>)                │ (<span style=\"color: #00d7ff; text-decoration-color: #00d7ff\">None</span>, <span style=\"color: #00af00; text-decoration-color: #00af00\">7</span>)              │           <span style=\"color: #00af00; text-decoration-color: #00af00\">147</span> │\n",
       "└─────────────────────────────────┴────────────────────────┴───────────────┘\n",
       "</pre>\n"
      ],
      "text/plain": [
       "┏━━━━━━━━━━━━━━━━━━━━━━━━━━━━━━━━━┳━━━━━━━━━━━━━━━━━━━━━━━━┳━━━━━━━━━━━━━━━┓\n",
       "┃\u001b[1m \u001b[0m\u001b[1mLayer (type)                   \u001b[0m\u001b[1m \u001b[0m┃\u001b[1m \u001b[0m\u001b[1mOutput Shape          \u001b[0m\u001b[1m \u001b[0m┃\u001b[1m \u001b[0m\u001b[1m      Param #\u001b[0m\u001b[1m \u001b[0m┃\n",
       "┡━━━━━━━━━━━━━━━━━━━━━━━━━━━━━━━━━╇━━━━━━━━━━━━━━━━━━━━━━━━╇━━━━━━━━━━━━━━━┩\n",
       "│ embedding_21 (\u001b[38;5;33mEmbedding\u001b[0m)        │ (\u001b[38;5;45mNone\u001b[0m, \u001b[38;5;34m500\u001b[0m, \u001b[38;5;34m50\u001b[0m)        │     \u001b[38;5;34m2,802,650\u001b[0m │\n",
       "├─────────────────────────────────┼────────────────────────┼───────────────┤\n",
       "│ lstm_22 (\u001b[38;5;33mLSTM\u001b[0m)                  │ (\u001b[38;5;45mNone\u001b[0m, \u001b[38;5;34m20\u001b[0m)             │         \u001b[38;5;34m5,680\u001b[0m │\n",
       "├─────────────────────────────────┼────────────────────────┼───────────────┤\n",
       "│ dense_35 (\u001b[38;5;33mDense\u001b[0m)                │ (\u001b[38;5;45mNone\u001b[0m, \u001b[38;5;34m7\u001b[0m)              │           \u001b[38;5;34m147\u001b[0m │\n",
       "└─────────────────────────────────┴────────────────────────┴───────────────┘\n"
      ]
     },
     "metadata": {},
     "output_type": "display_data"
    },
    {
     "data": {
      "text/html": [
       "<pre style=\"white-space:pre;overflow-x:auto;line-height:normal;font-family:Menlo,'DejaVu Sans Mono',consolas,'Courier New',monospace\"><span style=\"font-weight: bold\"> Total params: </span><span style=\"color: #00af00; text-decoration-color: #00af00\">2,808,477</span> (10.71 MB)\n",
       "</pre>\n"
      ],
      "text/plain": [
       "\u001b[1m Total params: \u001b[0m\u001b[38;5;34m2,808,477\u001b[0m (10.71 MB)\n"
      ]
     },
     "metadata": {},
     "output_type": "display_data"
    },
    {
     "data": {
      "text/html": [
       "<pre style=\"white-space:pre;overflow-x:auto;line-height:normal;font-family:Menlo,'DejaVu Sans Mono',consolas,'Courier New',monospace\"><span style=\"font-weight: bold\"> Trainable params: </span><span style=\"color: #00af00; text-decoration-color: #00af00\">2,808,477</span> (10.71 MB)\n",
       "</pre>\n"
      ],
      "text/plain": [
       "\u001b[1m Trainable params: \u001b[0m\u001b[38;5;34m2,808,477\u001b[0m (10.71 MB)\n"
      ]
     },
     "metadata": {},
     "output_type": "display_data"
    },
    {
     "data": {
      "text/html": [
       "<pre style=\"white-space:pre;overflow-x:auto;line-height:normal;font-family:Menlo,'DejaVu Sans Mono',consolas,'Courier New',monospace\"><span style=\"font-weight: bold\"> Non-trainable params: </span><span style=\"color: #00af00; text-decoration-color: #00af00\">0</span> (0.00 B)\n",
       "</pre>\n"
      ],
      "text/plain": [
       "\u001b[1m Non-trainable params: \u001b[0m\u001b[38;5;34m0\u001b[0m (0.00 B)\n"
      ]
     },
     "metadata": {},
     "output_type": "display_data"
    }
   ],
   "source": [
    "model_base = Sequential([\n",
    "    tf.keras.Input(shape=(500,)),\n",
    "    Embedding(input_dim=vocab_size+1, output_dim=50),\n",
    "    LSTM(units=20),\n",
    "    Dense(output_dim, activation='softmax')\n",
    "])\n",
    "\n",
    "# Compile the model\n",
    "model_base.compile(optimizer='adam', loss='categorical_crossentropy', metrics=['accuracy'])\n",
    "model_base.summary()"
   ]
  },
  {
   "cell_type": "code",
   "execution_count": 144,
   "id": "00d48ea9-95f9-4dc3-bddd-62abe9a1690d",
   "metadata": {
    "scrolled": true
   },
   "outputs": [
    {
     "name": "stdout",
     "output_type": "stream",
     "text": [
      "Epoch 1/20\n",
      "\u001b[1m461/461\u001b[0m \u001b[32m━━━━━━━━━━━━━━━━━━━━\u001b[0m\u001b[37m\u001b[0m \u001b[1m84s\u001b[0m 175ms/step - accuracy: 0.2958 - loss: 1.6563 - val_accuracy: 0.3082 - val_loss: 1.6232\n",
      "Epoch 2/20\n",
      "\u001b[1m461/461\u001b[0m \u001b[32m━━━━━━━━━━━━━━━━━━━━\u001b[0m\u001b[37m\u001b[0m \u001b[1m80s\u001b[0m 173ms/step - accuracy: 0.3125 - loss: 1.6112 - val_accuracy: 0.3082 - val_loss: 1.6238\n",
      "Epoch 3/20\n",
      "\u001b[1m461/461\u001b[0m \u001b[32m━━━━━━━━━━━━━━━━━━━━\u001b[0m\u001b[37m\u001b[0m \u001b[1m79s\u001b[0m 171ms/step - accuracy: 0.3039 - loss: 1.6206 - val_accuracy: 0.3082 - val_loss: 1.6227\n",
      "Epoch 4/20\n",
      "\u001b[1m461/461\u001b[0m \u001b[32m━━━━━━━━━━━━━━━━━━━━\u001b[0m\u001b[37m\u001b[0m \u001b[1m81s\u001b[0m 177ms/step - accuracy: 0.3161 - loss: 1.6121 - val_accuracy: 0.2932 - val_loss: 1.6222\n",
      "Epoch 5/20\n",
      "\u001b[1m461/461\u001b[0m \u001b[32m━━━━━━━━━━━━━━━━━━━━\u001b[0m\u001b[37m\u001b[0m \u001b[1m80s\u001b[0m 173ms/step - accuracy: 0.2978 - loss: 1.6243 - val_accuracy: 0.3081 - val_loss: 1.6224\n",
      "Epoch 6/20\n",
      "\u001b[1m461/461\u001b[0m \u001b[32m━━━━━━━━━━━━━━━━━━━━\u001b[0m\u001b[37m\u001b[0m \u001b[1m80s\u001b[0m 173ms/step - accuracy: 0.3137 - loss: 1.6113 - val_accuracy: 0.3081 - val_loss: 1.6227\n",
      "Epoch 7/20\n",
      "\u001b[1m461/461\u001b[0m \u001b[32m━━━━━━━━━━━━━━━━━━━━\u001b[0m\u001b[37m\u001b[0m \u001b[1m80s\u001b[0m 173ms/step - accuracy: 0.3048 - loss: 1.6168 - val_accuracy: 0.3081 - val_loss: 1.6228\n",
      "Epoch 8/20\n",
      "\u001b[1m461/461\u001b[0m \u001b[32m━━━━━━━━━━━━━━━━━━━━\u001b[0m\u001b[37m\u001b[0m \u001b[1m81s\u001b[0m 175ms/step - accuracy: 0.3040 - loss: 1.6179 - val_accuracy: 0.3076 - val_loss: 1.6232\n"
     ]
    },
    {
     "data": {
      "text/plain": [
       "<keras.src.callbacks.history.History at 0x145a99b10>"
      ]
     },
     "execution_count": 144,
     "metadata": {},
     "output_type": "execute_result"
    }
   ],
   "source": [
    "es = EarlyStopping(patience=4, restore_best_weights=True)\n",
    "\n",
    "model_base.fit(X_train_pad, y_train_encoded, \n",
    "          epochs=20, \n",
    "          batch_size=64,\n",
    "          validation_split=0.3,\n",
    "          callbacks=[es]\n",
    "         )"
   ]
  },
  {
   "cell_type": "code",
   "execution_count": 146,
   "id": "f676ed52-c3f0-48cb-8f1b-9c81fe962554",
   "metadata": {},
   "outputs": [
    {
     "name": "stdout",
     "output_type": "stream",
     "text": [
      "\u001b[1m330/330\u001b[0m \u001b[32m━━━━━━━━━━━━━━━━━━━━\u001b[0m\u001b[37m\u001b[0m \u001b[1m12s\u001b[0m 35ms/step - accuracy: 0.2923 - loss: 1.6192\n"
     ]
    },
    {
     "data": {
      "text/plain": [
       "[1.6222203969955444, 0.2862294912338257]"
      ]
     },
     "execution_count": 146,
     "metadata": {},
     "output_type": "execute_result"
    }
   ],
   "source": [
    "model_base.evaluate(X_test_pad,y_test_encoded)"
   ]
  }
 ],
 "metadata": {
  "kernelspec": {
   "display_name": "Python 3 (ipykernel)",
   "language": "python",
   "name": "python3"
  },
  "language_info": {
   "codemirror_mode": {
    "name": "ipython",
    "version": 3
   },
   "file_extension": ".py",
   "mimetype": "text/x-python",
   "name": "python",
   "nbconvert_exporter": "python",
   "pygments_lexer": "ipython3",
   "version": "3.10.6"
  },
  "toc": {
   "base_numbering": 1,
   "nav_menu": {},
   "number_sections": true,
   "sideBar": true,
   "skip_h1_title": false,
   "title_cell": "Table of Contents",
   "title_sidebar": "Contents",
   "toc_cell": false,
   "toc_position": {},
   "toc_section_display": true,
   "toc_window_display": false
  }
 },
 "nbformat": 4,
 "nbformat_minor": 5
}
