{
 "cells": [
  {
   "cell_type": "code",
   "execution_count": 8,
   "id": "146dc491",
   "metadata": {
    "ExecuteTime": {
     "end_time": "2024-12-04T11:35:38.981793Z",
     "start_time": "2024-12-04T11:35:37.460640Z"
    }
   },
   "outputs": [
    {
     "name": "stderr",
     "output_type": "stream",
     "text": [
      "[nltk_data] Downloading package stopwords to\n",
      "[nltk_data]     /Users/Flotchi/nltk_data...\n",
      "[nltk_data]   Package stopwords is already up-to-date!\n",
      "[nltk_data] Downloading package punkt to /Users/Flotchi/nltk_data...\n",
      "[nltk_data]   Package punkt is already up-to-date!\n",
      "[nltk_data] Downloading package wordnet to /Users/Flotchi/nltk_data...\n",
      "[nltk_data]   Package wordnet is already up-to-date!\n",
      "[nltk_data] Downloading package omw-1.4 to /Users/Flotchi/nltk_data...\n",
      "[nltk_data]   Package omw-1.4 is already up-to-date!\n",
      "[nltk_data] Downloading package punkt_tab to\n",
      "[nltk_data]     /Users/Flotchi/nltk_data...\n",
      "[nltk_data]   Package punkt_tab is already up-to-date!\n"
     ]
    }
   ],
   "source": [
    "import pandas as pd\n",
    "import numpy as np\n",
    "import logic.processing as lp\n",
    "from sklearn.model_selection import GridSearchCV"
   ]
  },
  {
   "cell_type": "code",
   "execution_count": 2,
   "id": "5e72dd86",
   "metadata": {
    "ExecuteTime": {
     "end_time": "2024-12-03T09:04:24.615309Z",
     "start_time": "2024-12-03T09:04:23.729912Z"
    }
   },
   "outputs": [],
   "source": [
    "df = lp.load_data('drugsComTrain_raw.csv')"
   ]
  },
  {
   "cell_type": "code",
   "execution_count": 3,
   "id": "8439bf28",
   "metadata": {
    "ExecuteTime": {
     "end_time": "2024-12-03T09:04:24.651586Z",
     "start_time": "2024-12-03T09:04:24.619895Z"
    }
   },
   "outputs": [
    {
     "data": {
      "text/html": [
       "<div>\n",
       "<style scoped>\n",
       "    .dataframe tbody tr th:only-of-type {\n",
       "        vertical-align: middle;\n",
       "    }\n",
       "\n",
       "    .dataframe tbody tr th {\n",
       "        vertical-align: top;\n",
       "    }\n",
       "\n",
       "    .dataframe thead th {\n",
       "        text-align: right;\n",
       "    }\n",
       "</style>\n",
       "<table border=\"1\" class=\"dataframe\">\n",
       "  <thead>\n",
       "    <tr style=\"text-align: right;\">\n",
       "      <th></th>\n",
       "      <th>uniqueID</th>\n",
       "      <th>drugName</th>\n",
       "      <th>condition</th>\n",
       "      <th>review</th>\n",
       "      <th>rating</th>\n",
       "      <th>date</th>\n",
       "      <th>usefulCount</th>\n",
       "    </tr>\n",
       "  </thead>\n",
       "  <tbody>\n",
       "    <tr>\n",
       "      <th>0</th>\n",
       "      <td>206461</td>\n",
       "      <td>Valsartan</td>\n",
       "      <td>Left Ventricular Dysfunction</td>\n",
       "      <td>\"It has no side effect, I take it in combinati...</td>\n",
       "      <td>9</td>\n",
       "      <td>20-May-12</td>\n",
       "      <td>27</td>\n",
       "    </tr>\n",
       "    <tr>\n",
       "      <th>1</th>\n",
       "      <td>95260</td>\n",
       "      <td>Guanfacine</td>\n",
       "      <td>ADHD</td>\n",
       "      <td>\"My son is halfway through his fourth week of ...</td>\n",
       "      <td>8</td>\n",
       "      <td>27-Apr-10</td>\n",
       "      <td>192</td>\n",
       "    </tr>\n",
       "    <tr>\n",
       "      <th>2</th>\n",
       "      <td>92703</td>\n",
       "      <td>Lybrel</td>\n",
       "      <td>Birth Control</td>\n",
       "      <td>\"I used to take another oral contraceptive, wh...</td>\n",
       "      <td>5</td>\n",
       "      <td>14-Dec-09</td>\n",
       "      <td>17</td>\n",
       "    </tr>\n",
       "    <tr>\n",
       "      <th>3</th>\n",
       "      <td>138000</td>\n",
       "      <td>Ortho Evra</td>\n",
       "      <td>Birth Control</td>\n",
       "      <td>\"This is my first time using any form of birth...</td>\n",
       "      <td>8</td>\n",
       "      <td>3-Nov-15</td>\n",
       "      <td>10</td>\n",
       "    </tr>\n",
       "    <tr>\n",
       "      <th>4</th>\n",
       "      <td>35696</td>\n",
       "      <td>Buprenorphine / naloxone</td>\n",
       "      <td>Opiate Dependence</td>\n",
       "      <td>\"Suboxone has completely turned my life around...</td>\n",
       "      <td>9</td>\n",
       "      <td>27-Nov-16</td>\n",
       "      <td>37</td>\n",
       "    </tr>\n",
       "    <tr>\n",
       "      <th>...</th>\n",
       "      <td>...</td>\n",
       "      <td>...</td>\n",
       "      <td>...</td>\n",
       "      <td>...</td>\n",
       "      <td>...</td>\n",
       "      <td>...</td>\n",
       "      <td>...</td>\n",
       "    </tr>\n",
       "    <tr>\n",
       "      <th>161292</th>\n",
       "      <td>191035</td>\n",
       "      <td>Campral</td>\n",
       "      <td>Alcohol Dependence</td>\n",
       "      <td>\"I wrote my first report in Mid-October of 201...</td>\n",
       "      <td>10</td>\n",
       "      <td>31-May-15</td>\n",
       "      <td>125</td>\n",
       "    </tr>\n",
       "    <tr>\n",
       "      <th>161293</th>\n",
       "      <td>127085</td>\n",
       "      <td>Metoclopramide</td>\n",
       "      <td>Nausea/Vomiting</td>\n",
       "      <td>\"I was given this in IV before surgey. I immed...</td>\n",
       "      <td>1</td>\n",
       "      <td>1-Nov-11</td>\n",
       "      <td>34</td>\n",
       "    </tr>\n",
       "    <tr>\n",
       "      <th>161294</th>\n",
       "      <td>187382</td>\n",
       "      <td>Orencia</td>\n",
       "      <td>Rheumatoid Arthritis</td>\n",
       "      <td>\"Limited improvement after 4 months, developed...</td>\n",
       "      <td>2</td>\n",
       "      <td>15-Mar-14</td>\n",
       "      <td>35</td>\n",
       "    </tr>\n",
       "    <tr>\n",
       "      <th>161295</th>\n",
       "      <td>47128</td>\n",
       "      <td>Thyroid desiccated</td>\n",
       "      <td>Underactive Thyroid</td>\n",
       "      <td>\"I&amp;#039;ve been on thyroid medication 49 years...</td>\n",
       "      <td>10</td>\n",
       "      <td>19-Sep-15</td>\n",
       "      <td>79</td>\n",
       "    </tr>\n",
       "    <tr>\n",
       "      <th>161296</th>\n",
       "      <td>215220</td>\n",
       "      <td>Lubiprostone</td>\n",
       "      <td>Constipation, Chronic</td>\n",
       "      <td>\"I&amp;#039;ve had chronic constipation all my adu...</td>\n",
       "      <td>9</td>\n",
       "      <td>13-Dec-14</td>\n",
       "      <td>116</td>\n",
       "    </tr>\n",
       "  </tbody>\n",
       "</table>\n",
       "<p>161297 rows × 7 columns</p>\n",
       "</div>"
      ],
      "text/plain": [
       "        uniqueID                  drugName                     condition  \\\n",
       "0         206461                 Valsartan  Left Ventricular Dysfunction   \n",
       "1          95260                Guanfacine                          ADHD   \n",
       "2          92703                    Lybrel                 Birth Control   \n",
       "3         138000                Ortho Evra                 Birth Control   \n",
       "4          35696  Buprenorphine / naloxone             Opiate Dependence   \n",
       "...          ...                       ...                           ...   \n",
       "161292    191035                   Campral            Alcohol Dependence   \n",
       "161293    127085            Metoclopramide               Nausea/Vomiting   \n",
       "161294    187382                   Orencia          Rheumatoid Arthritis   \n",
       "161295     47128        Thyroid desiccated           Underactive Thyroid   \n",
       "161296    215220              Lubiprostone         Constipation, Chronic   \n",
       "\n",
       "                                                   review  rating       date  \\\n",
       "0       \"It has no side effect, I take it in combinati...       9  20-May-12   \n",
       "1       \"My son is halfway through his fourth week of ...       8  27-Apr-10   \n",
       "2       \"I used to take another oral contraceptive, wh...       5  14-Dec-09   \n",
       "3       \"This is my first time using any form of birth...       8   3-Nov-15   \n",
       "4       \"Suboxone has completely turned my life around...       9  27-Nov-16   \n",
       "...                                                   ...     ...        ...   \n",
       "161292  \"I wrote my first report in Mid-October of 201...      10  31-May-15   \n",
       "161293  \"I was given this in IV before surgey. I immed...       1   1-Nov-11   \n",
       "161294  \"Limited improvement after 4 months, developed...       2  15-Mar-14   \n",
       "161295  \"I&#039;ve been on thyroid medication 49 years...      10  19-Sep-15   \n",
       "161296  \"I&#039;ve had chronic constipation all my adu...       9  13-Dec-14   \n",
       "\n",
       "        usefulCount  \n",
       "0                27  \n",
       "1               192  \n",
       "2                17  \n",
       "3                10  \n",
       "4                37  \n",
       "...             ...  \n",
       "161292          125  \n",
       "161293           34  \n",
       "161294           35  \n",
       "161295           79  \n",
       "161296          116  \n",
       "\n",
       "[161297 rows x 7 columns]"
      ]
     },
     "execution_count": 3,
     "metadata": {},
     "output_type": "execute_result"
    }
   ],
   "source": [
    "df"
   ]
  },
  {
   "cell_type": "code",
   "execution_count": 4,
   "id": "626afca9",
   "metadata": {
    "ExecuteTime": {
     "end_time": "2024-12-03T09:04:24.661647Z",
     "start_time": "2024-12-03T09:04:24.655786Z"
    }
   },
   "outputs": [],
   "source": [
    "def data_filter(df,uselfCount=0,min_length=30):\n",
    "\n",
    "    df = df.dropna()\n",
    "#     condition_distribution = df['condition'].value_counts()\n",
    "#     best_conditions = condition_distribution.head(top_conditions)\n",
    "#     top_conditions_list = best_conditions.index.tolist()\n",
    "#     df = df[df['condition'].isin(top_conditions_list)]\n",
    "    df = df[df['rating'].isin([1,2,3,8,9,10])]\n",
    "    df['sentiment'] = 0\n",
    "    df['sentiment'] = (df['rating'].isin([8,9,10])).astype(int)\n",
    "    df = df[df['usefulCount']>uselfCount]\n",
    "    df['review_length'] = df['review'].apply(lambda x: len(str(x).split()))\n",
    "    df = df[df.review_length>=min_length]\n",
    "\n",
    "    return df\n"
   ]
  },
  {
   "cell_type": "code",
   "execution_count": 5,
   "id": "565fa7b6",
   "metadata": {
    "ExecuteTime": {
     "end_time": "2024-12-03T09:04:25.266988Z",
     "start_time": "2024-12-03T09:04:24.666175Z"
    }
   },
   "outputs": [],
   "source": [
    "df1 = data_filter(df)"
   ]
  },
  {
   "cell_type": "code",
   "execution_count": 6,
   "id": "ad4be7d3",
   "metadata": {
    "ExecuteTime": {
     "end_time": "2024-12-03T09:04:25.286674Z",
     "start_time": "2024-12-03T09:04:25.271493Z"
    },
    "scrolled": true
   },
   "outputs": [
    {
     "data": {
      "text/html": [
       "<div>\n",
       "<style scoped>\n",
       "    .dataframe tbody tr th:only-of-type {\n",
       "        vertical-align: middle;\n",
       "    }\n",
       "\n",
       "    .dataframe tbody tr th {\n",
       "        vertical-align: top;\n",
       "    }\n",
       "\n",
       "    .dataframe thead th {\n",
       "        text-align: right;\n",
       "    }\n",
       "</style>\n",
       "<table border=\"1\" class=\"dataframe\">\n",
       "  <thead>\n",
       "    <tr style=\"text-align: right;\">\n",
       "      <th></th>\n",
       "      <th>uniqueID</th>\n",
       "      <th>drugName</th>\n",
       "      <th>condition</th>\n",
       "      <th>review</th>\n",
       "      <th>rating</th>\n",
       "      <th>date</th>\n",
       "      <th>usefulCount</th>\n",
       "      <th>sentiment</th>\n",
       "      <th>review_length</th>\n",
       "    </tr>\n",
       "  </thead>\n",
       "  <tbody>\n",
       "    <tr>\n",
       "      <th>1</th>\n",
       "      <td>95260</td>\n",
       "      <td>Guanfacine</td>\n",
       "      <td>ADHD</td>\n",
       "      <td>\"My son is halfway through his fourth week of ...</td>\n",
       "      <td>8</td>\n",
       "      <td>27-Apr-10</td>\n",
       "      <td>192</td>\n",
       "      <td>1</td>\n",
       "      <td>141</td>\n",
       "    </tr>\n",
       "    <tr>\n",
       "      <th>3</th>\n",
       "      <td>138000</td>\n",
       "      <td>Ortho Evra</td>\n",
       "      <td>Birth Control</td>\n",
       "      <td>\"This is my first time using any form of birth...</td>\n",
       "      <td>8</td>\n",
       "      <td>3-Nov-15</td>\n",
       "      <td>10</td>\n",
       "      <td>1</td>\n",
       "      <td>89</td>\n",
       "    </tr>\n",
       "    <tr>\n",
       "      <th>4</th>\n",
       "      <td>35696</td>\n",
       "      <td>Buprenorphine / naloxone</td>\n",
       "      <td>Opiate Dependence</td>\n",
       "      <td>\"Suboxone has completely turned my life around...</td>\n",
       "      <td>9</td>\n",
       "      <td>27-Nov-16</td>\n",
       "      <td>37</td>\n",
       "      <td>1</td>\n",
       "      <td>124</td>\n",
       "    </tr>\n",
       "    <tr>\n",
       "      <th>5</th>\n",
       "      <td>155963</td>\n",
       "      <td>Cialis</td>\n",
       "      <td>Benign Prostatic Hyperplasia</td>\n",
       "      <td>\"2nd day on 5mg started to work with rock hard...</td>\n",
       "      <td>2</td>\n",
       "      <td>28-Nov-15</td>\n",
       "      <td>43</td>\n",
       "      <td>0</td>\n",
       "      <td>68</td>\n",
       "    </tr>\n",
       "    <tr>\n",
       "      <th>6</th>\n",
       "      <td>165907</td>\n",
       "      <td>Levonorgestrel</td>\n",
       "      <td>Emergency Contraception</td>\n",
       "      <td>\"He pulled out, but he cummed a bit in me. I t...</td>\n",
       "      <td>1</td>\n",
       "      <td>7-Mar-17</td>\n",
       "      <td>5</td>\n",
       "      <td>0</td>\n",
       "      <td>30</td>\n",
       "    </tr>\n",
       "    <tr>\n",
       "      <th>...</th>\n",
       "      <td>...</td>\n",
       "      <td>...</td>\n",
       "      <td>...</td>\n",
       "      <td>...</td>\n",
       "      <td>...</td>\n",
       "      <td>...</td>\n",
       "      <td>...</td>\n",
       "      <td>...</td>\n",
       "      <td>...</td>\n",
       "    </tr>\n",
       "    <tr>\n",
       "      <th>161288</th>\n",
       "      <td>45410</td>\n",
       "      <td>Fluoxetine</td>\n",
       "      <td>Obsessive Compulsive Disorde</td>\n",
       "      <td>\"I have been off Prozac for about 4 weeks now....</td>\n",
       "      <td>8</td>\n",
       "      <td>21-Jan-15</td>\n",
       "      <td>22</td>\n",
       "      <td>1</td>\n",
       "      <td>133</td>\n",
       "    </tr>\n",
       "    <tr>\n",
       "      <th>161292</th>\n",
       "      <td>191035</td>\n",
       "      <td>Campral</td>\n",
       "      <td>Alcohol Dependence</td>\n",
       "      <td>\"I wrote my first report in Mid-October of 201...</td>\n",
       "      <td>10</td>\n",
       "      <td>31-May-15</td>\n",
       "      <td>125</td>\n",
       "      <td>1</td>\n",
       "      <td>127</td>\n",
       "    </tr>\n",
       "    <tr>\n",
       "      <th>161293</th>\n",
       "      <td>127085</td>\n",
       "      <td>Metoclopramide</td>\n",
       "      <td>Nausea/Vomiting</td>\n",
       "      <td>\"I was given this in IV before surgey. I immed...</td>\n",
       "      <td>1</td>\n",
       "      <td>1-Nov-11</td>\n",
       "      <td>34</td>\n",
       "      <td>0</td>\n",
       "      <td>50</td>\n",
       "    </tr>\n",
       "    <tr>\n",
       "      <th>161295</th>\n",
       "      <td>47128</td>\n",
       "      <td>Thyroid desiccated</td>\n",
       "      <td>Underactive Thyroid</td>\n",
       "      <td>\"I&amp;#039;ve been on thyroid medication 49 years...</td>\n",
       "      <td>10</td>\n",
       "      <td>19-Sep-15</td>\n",
       "      <td>79</td>\n",
       "      <td>1</td>\n",
       "      <td>136</td>\n",
       "    </tr>\n",
       "    <tr>\n",
       "      <th>161296</th>\n",
       "      <td>215220</td>\n",
       "      <td>Lubiprostone</td>\n",
       "      <td>Constipation, Chronic</td>\n",
       "      <td>\"I&amp;#039;ve had chronic constipation all my adu...</td>\n",
       "      <td>9</td>\n",
       "      <td>13-Dec-14</td>\n",
       "      <td>116</td>\n",
       "      <td>1</td>\n",
       "      <td>63</td>\n",
       "    </tr>\n",
       "  </tbody>\n",
       "</table>\n",
       "<p>110436 rows × 9 columns</p>\n",
       "</div>"
      ],
      "text/plain": [
       "        uniqueID                  drugName                     condition  \\\n",
       "1          95260                Guanfacine                          ADHD   \n",
       "3         138000                Ortho Evra                 Birth Control   \n",
       "4          35696  Buprenorphine / naloxone             Opiate Dependence   \n",
       "5         155963                    Cialis  Benign Prostatic Hyperplasia   \n",
       "6         165907            Levonorgestrel       Emergency Contraception   \n",
       "...          ...                       ...                           ...   \n",
       "161288     45410                Fluoxetine  Obsessive Compulsive Disorde   \n",
       "161292    191035                   Campral            Alcohol Dependence   \n",
       "161293    127085            Metoclopramide               Nausea/Vomiting   \n",
       "161295     47128        Thyroid desiccated           Underactive Thyroid   \n",
       "161296    215220              Lubiprostone         Constipation, Chronic   \n",
       "\n",
       "                                                   review  rating       date  \\\n",
       "1       \"My son is halfway through his fourth week of ...       8  27-Apr-10   \n",
       "3       \"This is my first time using any form of birth...       8   3-Nov-15   \n",
       "4       \"Suboxone has completely turned my life around...       9  27-Nov-16   \n",
       "5       \"2nd day on 5mg started to work with rock hard...       2  28-Nov-15   \n",
       "6       \"He pulled out, but he cummed a bit in me. I t...       1   7-Mar-17   \n",
       "...                                                   ...     ...        ...   \n",
       "161288  \"I have been off Prozac for about 4 weeks now....       8  21-Jan-15   \n",
       "161292  \"I wrote my first report in Mid-October of 201...      10  31-May-15   \n",
       "161293  \"I was given this in IV before surgey. I immed...       1   1-Nov-11   \n",
       "161295  \"I&#039;ve been on thyroid medication 49 years...      10  19-Sep-15   \n",
       "161296  \"I&#039;ve had chronic constipation all my adu...       9  13-Dec-14   \n",
       "\n",
       "        usefulCount  sentiment  review_length  \n",
       "1               192          1            141  \n",
       "3                10          1             89  \n",
       "4                37          1            124  \n",
       "5                43          0             68  \n",
       "6                 5          0             30  \n",
       "...             ...        ...            ...  \n",
       "161288           22          1            133  \n",
       "161292          125          1            127  \n",
       "161293           34          0             50  \n",
       "161295           79          1            136  \n",
       "161296          116          1             63  \n",
       "\n",
       "[110436 rows x 9 columns]"
      ]
     },
     "execution_count": 6,
     "metadata": {},
     "output_type": "execute_result"
    }
   ],
   "source": [
    "df1"
   ]
  },
  {
   "cell_type": "code",
   "execution_count": 7,
   "id": "d394b353",
   "metadata": {
    "ExecuteTime": {
     "end_time": "2024-12-03T09:06:46.567398Z",
     "start_time": "2024-12-03T09:04:25.290587Z"
    }
   },
   "outputs": [],
   "source": [
    "df2 = lp.preproc(df1)"
   ]
  },
  {
   "cell_type": "code",
   "execution_count": 8,
   "id": "efa6eda2",
   "metadata": {
    "ExecuteTime": {
     "end_time": "2024-12-03T09:06:46.588595Z",
     "start_time": "2024-12-03T09:06:46.570009Z"
    },
    "scrolled": true
   },
   "outputs": [
    {
     "data": {
      "text/html": [
       "<div>\n",
       "<style scoped>\n",
       "    .dataframe tbody tr th:only-of-type {\n",
       "        vertical-align: middle;\n",
       "    }\n",
       "\n",
       "    .dataframe tbody tr th {\n",
       "        vertical-align: top;\n",
       "    }\n",
       "\n",
       "    .dataframe thead th {\n",
       "        text-align: right;\n",
       "    }\n",
       "</style>\n",
       "<table border=\"1\" class=\"dataframe\">\n",
       "  <thead>\n",
       "    <tr style=\"text-align: right;\">\n",
       "      <th></th>\n",
       "      <th>uniqueID</th>\n",
       "      <th>drugName</th>\n",
       "      <th>condition</th>\n",
       "      <th>review</th>\n",
       "      <th>rating</th>\n",
       "      <th>date</th>\n",
       "      <th>usefulCount</th>\n",
       "      <th>sentiment</th>\n",
       "      <th>review_length</th>\n",
       "      <th>clean</th>\n",
       "    </tr>\n",
       "  </thead>\n",
       "  <tbody>\n",
       "    <tr>\n",
       "      <th>1</th>\n",
       "      <td>95260</td>\n",
       "      <td>Guanfacine</td>\n",
       "      <td>ADHD</td>\n",
       "      <td>\"My son is halfway through his fourth week of ...</td>\n",
       "      <td>8</td>\n",
       "      <td>27-Apr-10</td>\n",
       "      <td>192</td>\n",
       "      <td>1</td>\n",
       "      <td>141</td>\n",
       "      <td>my son be halfway through his fourth week of i...</td>\n",
       "    </tr>\n",
       "    <tr>\n",
       "      <th>3</th>\n",
       "      <td>138000</td>\n",
       "      <td>Ortho Evra</td>\n",
       "      <td>Birth Control</td>\n",
       "      <td>\"This is my first time using any form of birth...</td>\n",
       "      <td>8</td>\n",
       "      <td>3-Nov-15</td>\n",
       "      <td>10</td>\n",
       "      <td>1</td>\n",
       "      <td>89</td>\n",
       "      <td>this be my first time use any form of birth co...</td>\n",
       "    </tr>\n",
       "    <tr>\n",
       "      <th>4</th>\n",
       "      <td>35696</td>\n",
       "      <td>Buprenorphine / naloxone</td>\n",
       "      <td>Opiate Dependence</td>\n",
       "      <td>\"Suboxone has completely turned my life around...</td>\n",
       "      <td>9</td>\n",
       "      <td>27-Nov-16</td>\n",
       "      <td>37</td>\n",
       "      <td>1</td>\n",
       "      <td>124</td>\n",
       "      <td>suboxone have completely turn my life around i...</td>\n",
       "    </tr>\n",
       "    <tr>\n",
       "      <th>5</th>\n",
       "      <td>155963</td>\n",
       "      <td>Cialis</td>\n",
       "      <td>Benign Prostatic Hyperplasia</td>\n",
       "      <td>\"2nd day on 5mg started to work with rock hard...</td>\n",
       "      <td>2</td>\n",
       "      <td>28-Nov-15</td>\n",
       "      <td>43</td>\n",
       "      <td>0</td>\n",
       "      <td>68</td>\n",
       "      <td>nd day on mg start to work with rock hard erec...</td>\n",
       "    </tr>\n",
       "    <tr>\n",
       "      <th>6</th>\n",
       "      <td>165907</td>\n",
       "      <td>Levonorgestrel</td>\n",
       "      <td>Emergency Contraception</td>\n",
       "      <td>\"He pulled out, but he cummed a bit in me. I t...</td>\n",
       "      <td>1</td>\n",
       "      <td>7-Mar-17</td>\n",
       "      <td>5</td>\n",
       "      <td>0</td>\n",
       "      <td>30</td>\n",
       "      <td>he pull out but he cummed a bite in me i take ...</td>\n",
       "    </tr>\n",
       "    <tr>\n",
       "      <th>...</th>\n",
       "      <td>...</td>\n",
       "      <td>...</td>\n",
       "      <td>...</td>\n",
       "      <td>...</td>\n",
       "      <td>...</td>\n",
       "      <td>...</td>\n",
       "      <td>...</td>\n",
       "      <td>...</td>\n",
       "      <td>...</td>\n",
       "      <td>...</td>\n",
       "    </tr>\n",
       "    <tr>\n",
       "      <th>161288</th>\n",
       "      <td>45410</td>\n",
       "      <td>Fluoxetine</td>\n",
       "      <td>Obsessive Compulsive Disorde</td>\n",
       "      <td>\"I have been off Prozac for about 4 weeks now....</td>\n",
       "      <td>8</td>\n",
       "      <td>21-Jan-15</td>\n",
       "      <td>22</td>\n",
       "      <td>1</td>\n",
       "      <td>133</td>\n",
       "      <td>i have be off prozac for about week nowafter s...</td>\n",
       "    </tr>\n",
       "    <tr>\n",
       "      <th>161292</th>\n",
       "      <td>191035</td>\n",
       "      <td>Campral</td>\n",
       "      <td>Alcohol Dependence</td>\n",
       "      <td>\"I wrote my first report in Mid-October of 201...</td>\n",
       "      <td>10</td>\n",
       "      <td>31-May-15</td>\n",
       "      <td>125</td>\n",
       "      <td>1</td>\n",
       "      <td>127</td>\n",
       "      <td>i write my first report in midoctober of i hav...</td>\n",
       "    </tr>\n",
       "    <tr>\n",
       "      <th>161293</th>\n",
       "      <td>127085</td>\n",
       "      <td>Metoclopramide</td>\n",
       "      <td>Nausea/Vomiting</td>\n",
       "      <td>\"I was given this in IV before surgey. I immed...</td>\n",
       "      <td>1</td>\n",
       "      <td>1-Nov-11</td>\n",
       "      <td>34</td>\n",
       "      <td>0</td>\n",
       "      <td>50</td>\n",
       "      <td>i be give this in iv before surgey i immediate...</td>\n",
       "    </tr>\n",
       "    <tr>\n",
       "      <th>161295</th>\n",
       "      <td>47128</td>\n",
       "      <td>Thyroid desiccated</td>\n",
       "      <td>Underactive Thyroid</td>\n",
       "      <td>\"I&amp;#039;ve been on thyroid medication 49 years...</td>\n",
       "      <td>10</td>\n",
       "      <td>19-Sep-15</td>\n",
       "      <td>79</td>\n",
       "      <td>1</td>\n",
       "      <td>136</td>\n",
       "      <td>ive be on thyroid medication year i spend my f...</td>\n",
       "    </tr>\n",
       "    <tr>\n",
       "      <th>161296</th>\n",
       "      <td>215220</td>\n",
       "      <td>Lubiprostone</td>\n",
       "      <td>Constipation, Chronic</td>\n",
       "      <td>\"I&amp;#039;ve had chronic constipation all my adu...</td>\n",
       "      <td>9</td>\n",
       "      <td>13-Dec-14</td>\n",
       "      <td>116</td>\n",
       "      <td>1</td>\n",
       "      <td>63</td>\n",
       "      <td>ive have chronic constipation all my adult lif...</td>\n",
       "    </tr>\n",
       "  </tbody>\n",
       "</table>\n",
       "<p>110436 rows × 10 columns</p>\n",
       "</div>"
      ],
      "text/plain": [
       "        uniqueID                  drugName                     condition  \\\n",
       "1          95260                Guanfacine                          ADHD   \n",
       "3         138000                Ortho Evra                 Birth Control   \n",
       "4          35696  Buprenorphine / naloxone             Opiate Dependence   \n",
       "5         155963                    Cialis  Benign Prostatic Hyperplasia   \n",
       "6         165907            Levonorgestrel       Emergency Contraception   \n",
       "...          ...                       ...                           ...   \n",
       "161288     45410                Fluoxetine  Obsessive Compulsive Disorde   \n",
       "161292    191035                   Campral            Alcohol Dependence   \n",
       "161293    127085            Metoclopramide               Nausea/Vomiting   \n",
       "161295     47128        Thyroid desiccated           Underactive Thyroid   \n",
       "161296    215220              Lubiprostone         Constipation, Chronic   \n",
       "\n",
       "                                                   review  rating       date  \\\n",
       "1       \"My son is halfway through his fourth week of ...       8  27-Apr-10   \n",
       "3       \"This is my first time using any form of birth...       8   3-Nov-15   \n",
       "4       \"Suboxone has completely turned my life around...       9  27-Nov-16   \n",
       "5       \"2nd day on 5mg started to work with rock hard...       2  28-Nov-15   \n",
       "6       \"He pulled out, but he cummed a bit in me. I t...       1   7-Mar-17   \n",
       "...                                                   ...     ...        ...   \n",
       "161288  \"I have been off Prozac for about 4 weeks now....       8  21-Jan-15   \n",
       "161292  \"I wrote my first report in Mid-October of 201...      10  31-May-15   \n",
       "161293  \"I was given this in IV before surgey. I immed...       1   1-Nov-11   \n",
       "161295  \"I&#039;ve been on thyroid medication 49 years...      10  19-Sep-15   \n",
       "161296  \"I&#039;ve had chronic constipation all my adu...       9  13-Dec-14   \n",
       "\n",
       "        usefulCount  sentiment  review_length  \\\n",
       "1               192          1            141   \n",
       "3                10          1             89   \n",
       "4                37          1            124   \n",
       "5                43          0             68   \n",
       "6                 5          0             30   \n",
       "...             ...        ...            ...   \n",
       "161288           22          1            133   \n",
       "161292          125          1            127   \n",
       "161293           34          0             50   \n",
       "161295           79          1            136   \n",
       "161296          116          1             63   \n",
       "\n",
       "                                                    clean  \n",
       "1       my son be halfway through his fourth week of i...  \n",
       "3       this be my first time use any form of birth co...  \n",
       "4       suboxone have completely turn my life around i...  \n",
       "5       nd day on mg start to work with rock hard erec...  \n",
       "6       he pull out but he cummed a bite in me i take ...  \n",
       "...                                                   ...  \n",
       "161288  i have be off prozac for about week nowafter s...  \n",
       "161292  i write my first report in midoctober of i hav...  \n",
       "161293  i be give this in iv before surgey i immediate...  \n",
       "161295  ive be on thyroid medication year i spend my f...  \n",
       "161296  ive have chronic constipation all my adult lif...  \n",
       "\n",
       "[110436 rows x 10 columns]"
      ]
     },
     "execution_count": 8,
     "metadata": {},
     "output_type": "execute_result"
    }
   ],
   "source": [
    "df2"
   ]
  },
  {
   "cell_type": "code",
   "execution_count": 9,
   "id": "9f18fd87",
   "metadata": {
    "ExecuteTime": {
     "end_time": "2024-12-03T09:06:46.612989Z",
     "start_time": "2024-12-03T09:06:46.593851Z"
    }
   },
   "outputs": [],
   "source": [
    "df3 = df2.drop(columns=['drugName', 'condition', 'review', 'date', 'review_length' ])"
   ]
  },
  {
   "cell_type": "code",
   "execution_count": 10,
   "id": "9045743f",
   "metadata": {
    "ExecuteTime": {
     "end_time": "2024-12-03T09:06:46.630450Z",
     "start_time": "2024-12-03T09:06:46.616617Z"
    }
   },
   "outputs": [
    {
     "data": {
      "text/html": [
       "<div>\n",
       "<style scoped>\n",
       "    .dataframe tbody tr th:only-of-type {\n",
       "        vertical-align: middle;\n",
       "    }\n",
       "\n",
       "    .dataframe tbody tr th {\n",
       "        vertical-align: top;\n",
       "    }\n",
       "\n",
       "    .dataframe thead th {\n",
       "        text-align: right;\n",
       "    }\n",
       "</style>\n",
       "<table border=\"1\" class=\"dataframe\">\n",
       "  <thead>\n",
       "    <tr style=\"text-align: right;\">\n",
       "      <th></th>\n",
       "      <th>uniqueID</th>\n",
       "      <th>rating</th>\n",
       "      <th>usefulCount</th>\n",
       "      <th>sentiment</th>\n",
       "      <th>clean</th>\n",
       "    </tr>\n",
       "  </thead>\n",
       "  <tbody>\n",
       "    <tr>\n",
       "      <th>1</th>\n",
       "      <td>95260</td>\n",
       "      <td>8</td>\n",
       "      <td>192</td>\n",
       "      <td>1</td>\n",
       "      <td>my son be halfway through his fourth week of i...</td>\n",
       "    </tr>\n",
       "    <tr>\n",
       "      <th>3</th>\n",
       "      <td>138000</td>\n",
       "      <td>8</td>\n",
       "      <td>10</td>\n",
       "      <td>1</td>\n",
       "      <td>this be my first time use any form of birth co...</td>\n",
       "    </tr>\n",
       "    <tr>\n",
       "      <th>4</th>\n",
       "      <td>35696</td>\n",
       "      <td>9</td>\n",
       "      <td>37</td>\n",
       "      <td>1</td>\n",
       "      <td>suboxone have completely turn my life around i...</td>\n",
       "    </tr>\n",
       "    <tr>\n",
       "      <th>5</th>\n",
       "      <td>155963</td>\n",
       "      <td>2</td>\n",
       "      <td>43</td>\n",
       "      <td>0</td>\n",
       "      <td>nd day on mg start to work with rock hard erec...</td>\n",
       "    </tr>\n",
       "    <tr>\n",
       "      <th>6</th>\n",
       "      <td>165907</td>\n",
       "      <td>1</td>\n",
       "      <td>5</td>\n",
       "      <td>0</td>\n",
       "      <td>he pull out but he cummed a bite in me i take ...</td>\n",
       "    </tr>\n",
       "    <tr>\n",
       "      <th>...</th>\n",
       "      <td>...</td>\n",
       "      <td>...</td>\n",
       "      <td>...</td>\n",
       "      <td>...</td>\n",
       "      <td>...</td>\n",
       "    </tr>\n",
       "    <tr>\n",
       "      <th>161288</th>\n",
       "      <td>45410</td>\n",
       "      <td>8</td>\n",
       "      <td>22</td>\n",
       "      <td>1</td>\n",
       "      <td>i have be off prozac for about week nowafter s...</td>\n",
       "    </tr>\n",
       "    <tr>\n",
       "      <th>161292</th>\n",
       "      <td>191035</td>\n",
       "      <td>10</td>\n",
       "      <td>125</td>\n",
       "      <td>1</td>\n",
       "      <td>i write my first report in midoctober of i hav...</td>\n",
       "    </tr>\n",
       "    <tr>\n",
       "      <th>161293</th>\n",
       "      <td>127085</td>\n",
       "      <td>1</td>\n",
       "      <td>34</td>\n",
       "      <td>0</td>\n",
       "      <td>i be give this in iv before surgey i immediate...</td>\n",
       "    </tr>\n",
       "    <tr>\n",
       "      <th>161295</th>\n",
       "      <td>47128</td>\n",
       "      <td>10</td>\n",
       "      <td>79</td>\n",
       "      <td>1</td>\n",
       "      <td>ive be on thyroid medication year i spend my f...</td>\n",
       "    </tr>\n",
       "    <tr>\n",
       "      <th>161296</th>\n",
       "      <td>215220</td>\n",
       "      <td>9</td>\n",
       "      <td>116</td>\n",
       "      <td>1</td>\n",
       "      <td>ive have chronic constipation all my adult lif...</td>\n",
       "    </tr>\n",
       "  </tbody>\n",
       "</table>\n",
       "<p>110436 rows × 5 columns</p>\n",
       "</div>"
      ],
      "text/plain": [
       "        uniqueID  rating  usefulCount  sentiment  \\\n",
       "1          95260       8          192          1   \n",
       "3         138000       8           10          1   \n",
       "4          35696       9           37          1   \n",
       "5         155963       2           43          0   \n",
       "6         165907       1            5          0   \n",
       "...          ...     ...          ...        ...   \n",
       "161288     45410       8           22          1   \n",
       "161292    191035      10          125          1   \n",
       "161293    127085       1           34          0   \n",
       "161295     47128      10           79          1   \n",
       "161296    215220       9          116          1   \n",
       "\n",
       "                                                    clean  \n",
       "1       my son be halfway through his fourth week of i...  \n",
       "3       this be my first time use any form of birth co...  \n",
       "4       suboxone have completely turn my life around i...  \n",
       "5       nd day on mg start to work with rock hard erec...  \n",
       "6       he pull out but he cummed a bite in me i take ...  \n",
       "...                                                   ...  \n",
       "161288  i have be off prozac for about week nowafter s...  \n",
       "161292  i write my first report in midoctober of i hav...  \n",
       "161293  i be give this in iv before surgey i immediate...  \n",
       "161295  ive be on thyroid medication year i spend my f...  \n",
       "161296  ive have chronic constipation all my adult lif...  \n",
       "\n",
       "[110436 rows x 5 columns]"
      ]
     },
     "execution_count": 10,
     "metadata": {},
     "output_type": "execute_result"
    }
   ],
   "source": [
    "df3"
   ]
  },
  {
   "cell_type": "code",
   "execution_count": 11,
   "id": "60a37e58",
   "metadata": {
    "ExecuteTime": {
     "end_time": "2024-12-03T09:06:46.646700Z",
     "start_time": "2024-12-03T09:06:46.634598Z"
    }
   },
   "outputs": [],
   "source": [
    "from sklearn.model_selection import cross_validate\n",
    "from sklearn.pipeline import make_pipeline\n",
    "from sklearn.feature_extraction.text import TfidfVectorizer\n",
    "from sklearn.naive_bayes import MultinomialNB\n",
    "from sklearn.metrics import recall_score\n"
   ]
  },
  {
   "cell_type": "markdown",
   "id": "5b63fd67",
   "metadata": {},
   "source": [
    "# NB"
   ]
  },
  {
   "cell_type": "code",
   "execution_count": 12,
   "id": "33f3c6d3",
   "metadata": {
    "ExecuteTime": {
     "end_time": "2024-12-03T09:06:46.658112Z",
     "start_time": "2024-12-03T09:06:46.649611Z"
    }
   },
   "outputs": [],
   "source": [
    "data = df3.copy()"
   ]
  },
  {
   "cell_type": "code",
   "execution_count": 13,
   "id": "080ae697",
   "metadata": {
    "ExecuteTime": {
     "end_time": "2024-12-03T09:06:46.667504Z",
     "start_time": "2024-12-03T09:06:46.662329Z"
    }
   },
   "outputs": [],
   "source": [
    "X = data['clean']\n",
    "y = data['sentiment']"
   ]
  },
  {
   "cell_type": "code",
   "execution_count": 23,
   "id": "c690a60f",
   "metadata": {
    "ExecuteTime": {
     "end_time": "2024-12-03T09:12:04.917270Z",
     "start_time": "2024-12-03T09:12:04.895007Z"
    }
   },
   "outputs": [
    {
     "data": {
      "text/plain": [
       "sentiment\n",
       "1    82279\n",
       "0    28157\n",
       "Name: count, dtype: int64"
      ]
     },
     "execution_count": 23,
     "metadata": {},
     "output_type": "execute_result"
    }
   ],
   "source": [
    "y.value_counts()"
   ]
  },
  {
   "cell_type": "code",
   "execution_count": 14,
   "id": "473206bc",
   "metadata": {
    "ExecuteTime": {
     "end_time": "2024-12-03T09:06:46.709232Z",
     "start_time": "2024-12-03T09:06:46.670669Z"
    }
   },
   "outputs": [],
   "source": [
    "Xb, yb = lp.balance_dataset(X,y)"
   ]
  },
  {
   "cell_type": "code",
   "execution_count": 21,
   "id": "48502d02",
   "metadata": {
    "ExecuteTime": {
     "end_time": "2024-12-03T09:08:43.073455Z",
     "start_time": "2024-12-03T09:08:43.064284Z"
    }
   },
   "outputs": [
    {
     "data": {
      "text/plain": [
       "(56314, 56314, 110436, 110436)"
      ]
     },
     "execution_count": 21,
     "metadata": {},
     "output_type": "execute_result"
    }
   ],
   "source": []
  },
  {
   "cell_type": "code",
   "execution_count": null,
   "id": "d73f2c86",
   "metadata": {},
   "outputs": [],
   "source": []
  },
  {
   "cell_type": "code",
   "execution_count": 16,
   "id": "567c025f",
   "metadata": {
    "ExecuteTime": {
     "end_time": "2024-12-03T09:06:46.729915Z",
     "start_time": "2024-12-03T09:06:46.725188Z"
    }
   },
   "outputs": [],
   "source": [
    "pipe = make_pipeline(TfidfVectorizer(), \n",
    "                     MultinomialNB())"
   ]
  },
  {
   "cell_type": "code",
   "execution_count": null,
   "id": "e03a3d78",
   "metadata": {},
   "outputs": [],
   "source": []
  },
  {
   "cell_type": "code",
   "execution_count": 30,
   "id": "90a9d5d9",
   "metadata": {
    "ExecuteTime": {
     "end_time": "2024-12-03T09:18:31.948894Z",
     "start_time": "2024-12-03T09:18:17.463662Z"
    }
   },
   "outputs": [],
   "source": [
    "cv_res = cross_validate(pipe, Xb,yb, scoring=['recall', 'precision', 'accuracy', 'f1'])"
   ]
  },
  {
   "cell_type": "code",
   "execution_count": 33,
   "id": "51109ebe",
   "metadata": {
    "ExecuteTime": {
     "end_time": "2024-12-03T09:19:15.499499Z",
     "start_time": "2024-12-03T09:19:15.488337Z"
    }
   },
   "outputs": [
    {
     "data": {
      "text/plain": [
       "{'fit_time': array([2.11435294, 2.19070029, 2.32871914, 2.28464794, 2.56041741]),\n",
       " 'score_time': array([0.52423191, 0.6725719 , 0.55295563, 0.56630468, 0.64737272]),\n",
       " 'test_recall': array([0.79754928, 0.81015805, 0.80735085, 0.80788352, 0.80873735]),\n",
       " 'test_precision': array([0.81270358, 0.82361437, 0.8228375 , 0.81439055, 0.82187331]),\n",
       " 'test_accuracy': array([0.80688982, 0.81834325, 0.81674509, 0.81186185, 0.81672882]),\n",
       " 'test_f1': array([0.80505512, 0.8168308 , 0.81502061, 0.81112399, 0.81525242])}"
      ]
     },
     "execution_count": 33,
     "metadata": {},
     "output_type": "execute_result"
    }
   ],
   "source": [
    "cv_res"
   ]
  },
  {
   "cell_type": "markdown",
   "id": "c8b6ce19",
   "metadata": {},
   "source": [
    "# SVC"
   ]
  },
  {
   "cell_type": "code",
   "execution_count": 32,
   "id": "835ee7e9",
   "metadata": {
    "ExecuteTime": {
     "end_time": "2024-12-03T09:19:10.299123Z",
     "start_time": "2024-12-03T09:19:10.292688Z"
    }
   },
   "outputs": [],
   "source": [
    "from sklearn.svm import SVC\n",
    "from sklearn.linear_model import SGDClassifier"
   ]
  },
  {
   "cell_type": "code",
   "execution_count": 47,
   "id": "018fac46",
   "metadata": {
    "ExecuteTime": {
     "end_time": "2024-12-03T09:29:51.316567Z",
     "start_time": "2024-12-03T09:29:51.311320Z"
    }
   },
   "outputs": [],
   "source": [
    "pipe2 = make_pipeline(TfidfVectorizer(),\n",
    "                     SGDClassifier(loss='hinge', penalty='l2', alpha=0.1, max_iter=10000))"
   ]
  },
  {
   "cell_type": "code",
   "execution_count": 48,
   "id": "61e15e0f",
   "metadata": {
    "ExecuteTime": {
     "end_time": "2024-12-03T09:30:07.143738Z",
     "start_time": "2024-12-03T09:29:51.686023Z"
    }
   },
   "outputs": [],
   "source": [
    "cv_res2 = cross_validate(pipe2,Xb,yb, scoring=['recall', 'precision', 'accuracy', 'f1'])"
   ]
  },
  {
   "cell_type": "code",
   "execution_count": 49,
   "id": "d497cf77",
   "metadata": {
    "ExecuteTime": {
     "end_time": "2024-12-03T09:30:07.155682Z",
     "start_time": "2024-12-03T09:30:07.147464Z"
    }
   },
   "outputs": [
    {
     "data": {
      "text/plain": [
       "{'fit_time': array([2.35833788, 2.37986183, 2.50031996, 2.65089011, 2.51846123]),\n",
       " 'score_time': array([0.55729747, 0.74021912, 0.56602812, 0.58016634, 0.57112837]),\n",
       " 'test_recall': array([0.14580004, 0.94033031, 0.98987926, 0.99360795, 0.98526017]),\n",
       " 'test_precision': array([0.94803695, 0.65241498, 0.57261709, 0.55241856, 0.58015267]),\n",
       " 'test_accuracy': array([0.56894256, 0.71970168, 0.62549942, 0.59424665, 0.63612147]),\n",
       " 'test_f1': array([0.25273203, 0.77034989, 0.72553358, 0.71006217, 0.73028827])}"
      ]
     },
     "execution_count": 49,
     "metadata": {},
     "output_type": "execute_result"
    }
   ],
   "source": [
    "cv_res2"
   ]
  },
  {
   "cell_type": "code",
   "execution_count": null,
   "id": "17bc5cbe",
   "metadata": {},
   "outputs": [],
   "source": []
  },
  {
   "cell_type": "markdown",
   "id": "83db8476",
   "metadata": {},
   "source": [
    "# XGB"
   ]
  },
  {
   "cell_type": "code",
   "execution_count": 1,
   "id": "5ddcf3f1",
   "metadata": {
    "ExecuteTime": {
     "end_time": "2024-12-04T09:17:06.953523Z",
     "start_time": "2024-12-04T09:17:03.311686Z"
    }
   },
   "outputs": [
    {
     "ename": "XGBoostError",
     "evalue": "\nXGBoost Library (libxgboost.dylib) could not be loaded.\nLikely causes:\n  * OpenMP runtime is not installed\n    - vcomp140.dll or libgomp-1.dll for Windows\n    - libomp.dylib for Mac OSX\n    - libgomp.so for Linux and other UNIX-like OSes\n    Mac OSX users: Run `brew install libomp` to install OpenMP runtime.\n\n  * You are running 32-bit Python on a 64-bit OS\n\nError message(s): [\"dlopen(/Users/Flotchi/.pyenv/versions/3.10.6/envs/Mental_Health_Risks/lib/python3.10/site-packages/xgboost/lib/libxgboost.dylib, 0x0006): Library not loaded: '@rpath/libomp.dylib'\\n  Referenced from: '/Users/Flotchi/.pyenv/versions/3.10.6/envs/Mental_Health_Risks/lib/python3.10/site-packages/xgboost/lib/libxgboost.dylib'\\n  Reason: tried: '/usr/local/opt/libomp/lib/libomp.dylib' (no such file), '/usr/local/opt/libomp/lib/libomp.dylib' (no such file), '/Users/Flotchi/.pyenv/versions/3.10.6/lib/libomp.dylib' (no such file), '/Users/Flotchi/.pyenv/versions/3.10.6/lib/libomp.dylib' (no such file), '/Users/Flotchi/.pyenv/versions/3.10.6/lib/libomp.dylib' (no such file), '/Users/Flotchi/.pyenv/versions/3.10.6/lib/libomp.dylib' (no such file), '/Users/Flotchi/.pyenv/versions/3.10.6/lib/libomp.dylib' (no such file), '/Users/Flotchi/.pyenv/versions/3.10.6/lib/libomp.dylib' (no such file), '/usr/local/lib/libomp.dylib' (no such file), '/usr/lib/libomp.dylib' (no such file)\"]\n",
     "output_type": "error",
     "traceback": [
      "\u001b[0;31m---------------------------------------------------------------------------\u001b[0m",
      "\u001b[0;31mXGBoostError\u001b[0m                              Traceback (most recent call last)",
      "Cell \u001b[0;32mIn[1], line 2\u001b[0m\n\u001b[1;32m      1\u001b[0m \u001b[38;5;28;01mfrom\u001b[39;00m \u001b[38;5;21;01msklearn\u001b[39;00m\u001b[38;5;21;01m.\u001b[39;00m\u001b[38;5;21;01mmodel_selection\u001b[39;00m \u001b[38;5;28;01mimport\u001b[39;00m train_test_split\n\u001b[0;32m----> 2\u001b[0m \u001b[38;5;28;01mfrom\u001b[39;00m \u001b[38;5;21;01mxgboost\u001b[39;00m \u001b[38;5;28;01mimport\u001b[39;00m XGBRegressor, XGBClassifier\n",
      "File \u001b[0;32m~/.pyenv/versions/3.10.6/envs/Mental_Health_Risks/lib/python3.10/site-packages/xgboost/__init__.py:6\u001b[0m\n\u001b[1;32m      1\u001b[0m \u001b[38;5;124;03m\"\"\"XGBoost: eXtreme Gradient Boosting library.\u001b[39;00m\n\u001b[1;32m      2\u001b[0m \n\u001b[1;32m      3\u001b[0m \u001b[38;5;124;03mContributors: https://github.com/dmlc/xgboost/blob/master/CONTRIBUTORS.md\u001b[39;00m\n\u001b[1;32m      4\u001b[0m \u001b[38;5;124;03m\"\"\"\u001b[39;00m\n\u001b[0;32m----> 6\u001b[0m \u001b[38;5;28;01mfrom\u001b[39;00m \u001b[38;5;21;01m.\u001b[39;00m \u001b[38;5;28;01mimport\u001b[39;00m tracker  \u001b[38;5;66;03m# noqa\u001b[39;00m\n\u001b[1;32m      7\u001b[0m \u001b[38;5;28;01mfrom\u001b[39;00m \u001b[38;5;21;01m.\u001b[39;00m \u001b[38;5;28;01mimport\u001b[39;00m collective, dask\n\u001b[1;32m      8\u001b[0m \u001b[38;5;28;01mfrom\u001b[39;00m \u001b[38;5;21;01m.\u001b[39;00m\u001b[38;5;21;01mcore\u001b[39;00m \u001b[38;5;28;01mimport\u001b[39;00m (\n\u001b[1;32m      9\u001b[0m     Booster,\n\u001b[1;32m     10\u001b[0m     DataIter,\n\u001b[0;32m   (...)\u001b[0m\n\u001b[1;32m     15\u001b[0m     build_info,\n\u001b[1;32m     16\u001b[0m )\n",
      "File \u001b[0;32m~/.pyenv/versions/3.10.6/envs/Mental_Health_Risks/lib/python3.10/site-packages/xgboost/tracker.py:9\u001b[0m\n\u001b[1;32m      6\u001b[0m \u001b[38;5;28;01mfrom\u001b[39;00m \u001b[38;5;21;01menum\u001b[39;00m \u001b[38;5;28;01mimport\u001b[39;00m IntEnum, unique\n\u001b[1;32m      7\u001b[0m \u001b[38;5;28;01mfrom\u001b[39;00m \u001b[38;5;21;01mtyping\u001b[39;00m \u001b[38;5;28;01mimport\u001b[39;00m Dict, Optional, Union\n\u001b[0;32m----> 9\u001b[0m \u001b[38;5;28;01mfrom\u001b[39;00m \u001b[38;5;21;01m.\u001b[39;00m\u001b[38;5;21;01mcore\u001b[39;00m \u001b[38;5;28;01mimport\u001b[39;00m _LIB, _check_call, make_jcargs\n\u001b[1;32m     12\u001b[0m \u001b[38;5;28;01mdef\u001b[39;00m \u001b[38;5;21mget_family\u001b[39m(addr: \u001b[38;5;28mstr\u001b[39m) \u001b[38;5;241m-\u001b[39m\u001b[38;5;241m>\u001b[39m \u001b[38;5;28mint\u001b[39m:\n\u001b[1;32m     13\u001b[0m \u001b[38;5;250m    \u001b[39m\u001b[38;5;124;03m\"\"\"Get network family from address.\"\"\"\u001b[39;00m\n",
      "File \u001b[0;32m~/.pyenv/versions/3.10.6/envs/Mental_Health_Risks/lib/python3.10/site-packages/xgboost/core.py:269\u001b[0m\n\u001b[1;32m    265\u001b[0m     \u001b[38;5;28;01mreturn\u001b[39;00m lib\n\u001b[1;32m    268\u001b[0m \u001b[38;5;66;03m# load the XGBoost library globally\u001b[39;00m\n\u001b[0;32m--> 269\u001b[0m _LIB \u001b[38;5;241m=\u001b[39m \u001b[43m_load_lib\u001b[49m\u001b[43m(\u001b[49m\u001b[43m)\u001b[49m\n\u001b[1;32m    272\u001b[0m \u001b[38;5;28;01mdef\u001b[39;00m \u001b[38;5;21m_check_call\u001b[39m(ret: \u001b[38;5;28mint\u001b[39m) \u001b[38;5;241m-\u001b[39m\u001b[38;5;241m>\u001b[39m \u001b[38;5;28;01mNone\u001b[39;00m:\n\u001b[1;32m    273\u001b[0m \u001b[38;5;250m    \u001b[39m\u001b[38;5;124;03m\"\"\"Check the return value of C API call\u001b[39;00m\n\u001b[1;32m    274\u001b[0m \n\u001b[1;32m    275\u001b[0m \u001b[38;5;124;03m    This function will raise exception when error occurs.\u001b[39;00m\n\u001b[0;32m   (...)\u001b[0m\n\u001b[1;32m    281\u001b[0m \u001b[38;5;124;03m        return value from API calls\u001b[39;00m\n\u001b[1;32m    282\u001b[0m \u001b[38;5;124;03m    \"\"\"\u001b[39;00m\n",
      "File \u001b[0;32m~/.pyenv/versions/3.10.6/envs/Mental_Health_Risks/lib/python3.10/site-packages/xgboost/core.py:222\u001b[0m, in \u001b[0;36m_load_lib\u001b[0;34m()\u001b[0m\n\u001b[1;32m    220\u001b[0m     \u001b[38;5;28;01mif\u001b[39;00m \u001b[38;5;129;01mnot\u001b[39;00m lib_success:\n\u001b[1;32m    221\u001b[0m         libname \u001b[38;5;241m=\u001b[39m os\u001b[38;5;241m.\u001b[39mpath\u001b[38;5;241m.\u001b[39mbasename(lib_paths[\u001b[38;5;241m0\u001b[39m])\n\u001b[0;32m--> 222\u001b[0m         \u001b[38;5;28;01mraise\u001b[39;00m XGBoostError(\n\u001b[1;32m    223\u001b[0m             \u001b[38;5;124mf\u001b[39m\u001b[38;5;124m\"\"\"\u001b[39m\n\u001b[1;32m    224\u001b[0m \u001b[38;5;124mXGBoost Library (\u001b[39m\u001b[38;5;132;01m{\u001b[39;00mlibname\u001b[38;5;132;01m}\u001b[39;00m\u001b[38;5;124m) could not be loaded.\u001b[39m\n\u001b[1;32m    225\u001b[0m \u001b[38;5;124mLikely causes:\u001b[39m\n\u001b[1;32m    226\u001b[0m \u001b[38;5;124m  * OpenMP runtime is not installed\u001b[39m\n\u001b[1;32m    227\u001b[0m \u001b[38;5;124m    - vcomp140.dll or libgomp-1.dll for Windows\u001b[39m\n\u001b[1;32m    228\u001b[0m \u001b[38;5;124m    - libomp.dylib for Mac OSX\u001b[39m\n\u001b[1;32m    229\u001b[0m \u001b[38;5;124m    - libgomp.so for Linux and other UNIX-like OSes\u001b[39m\n\u001b[1;32m    230\u001b[0m \u001b[38;5;124m    Mac OSX users: Run `brew install libomp` to install OpenMP runtime.\u001b[39m\n\u001b[1;32m    231\u001b[0m \n\u001b[1;32m    232\u001b[0m \u001b[38;5;124m  * You are running 32-bit Python on a 64-bit OS\u001b[39m\n\u001b[1;32m    233\u001b[0m \n\u001b[1;32m    234\u001b[0m \u001b[38;5;124mError message(s): \u001b[39m\u001b[38;5;132;01m{\u001b[39;00mos_error_list\u001b[38;5;132;01m}\u001b[39;00m\n\u001b[1;32m    235\u001b[0m \u001b[38;5;124m\"\"\"\u001b[39m\n\u001b[1;32m    236\u001b[0m         )\n\u001b[1;32m    237\u001b[0m     _register_log_callback(lib)\n\u001b[1;32m    239\u001b[0m     \u001b[38;5;28;01mdef\u001b[39;00m \u001b[38;5;21mparse\u001b[39m(ver: \u001b[38;5;28mstr\u001b[39m) \u001b[38;5;241m-\u001b[39m\u001b[38;5;241m>\u001b[39m Tuple[\u001b[38;5;28mint\u001b[39m, \u001b[38;5;28mint\u001b[39m, \u001b[38;5;28mint\u001b[39m]:\n",
      "\u001b[0;31mXGBoostError\u001b[0m: \nXGBoost Library (libxgboost.dylib) could not be loaded.\nLikely causes:\n  * OpenMP runtime is not installed\n    - vcomp140.dll or libgomp-1.dll for Windows\n    - libomp.dylib for Mac OSX\n    - libgomp.so for Linux and other UNIX-like OSes\n    Mac OSX users: Run `brew install libomp` to install OpenMP runtime.\n\n  * You are running 32-bit Python on a 64-bit OS\n\nError message(s): [\"dlopen(/Users/Flotchi/.pyenv/versions/3.10.6/envs/Mental_Health_Risks/lib/python3.10/site-packages/xgboost/lib/libxgboost.dylib, 0x0006): Library not loaded: '@rpath/libomp.dylib'\\n  Referenced from: '/Users/Flotchi/.pyenv/versions/3.10.6/envs/Mental_Health_Risks/lib/python3.10/site-packages/xgboost/lib/libxgboost.dylib'\\n  Reason: tried: '/usr/local/opt/libomp/lib/libomp.dylib' (no such file), '/usr/local/opt/libomp/lib/libomp.dylib' (no such file), '/Users/Flotchi/.pyenv/versions/3.10.6/lib/libomp.dylib' (no such file), '/Users/Flotchi/.pyenv/versions/3.10.6/lib/libomp.dylib' (no such file), '/Users/Flotchi/.pyenv/versions/3.10.6/lib/libomp.dylib' (no such file), '/Users/Flotchi/.pyenv/versions/3.10.6/lib/libomp.dylib' (no such file), '/Users/Flotchi/.pyenv/versions/3.10.6/lib/libomp.dylib' (no such file), '/Users/Flotchi/.pyenv/versions/3.10.6/lib/libomp.dylib' (no such file), '/usr/local/lib/libomp.dylib' (no such file), '/usr/lib/libomp.dylib' (no such file)\"]\n"
     ]
    }
   ],
   "source": [
    "from sklearn.model_selection import train_test_split\n",
    "from xgboost import XGBRegressor, XGBClassifier"
   ]
  },
  {
   "cell_type": "code",
   "execution_count": null,
   "id": "ad0c1c5d",
   "metadata": {
    "ExecuteTime": {
     "end_time": "2024-12-04T09:17:06.959117Z",
     "start_time": "2024-12-04T09:17:06.959007Z"
    }
   },
   "outputs": [],
   "source": [
    "pipe3 = make_pipeline(TfidfVectorizer(tfidf__ngram_range=[1,2]),\n",
    "                     XGBClassifier(objective='binary:logistic'))"
   ]
  },
  {
   "cell_type": "code",
   "execution_count": 61,
   "id": "2e2a4f4b",
   "metadata": {
    "ExecuteTime": {
     "end_time": "2024-12-03T10:09:50.785208Z",
     "start_time": "2024-12-03T10:07:25.742139Z"
    }
   },
   "outputs": [],
   "source": [
    "cv_res3 = cross_validate(pipe3,Xb,yb, scoring=['recall', 'precision', 'accuracy', 'f1'])"
   ]
  },
  {
   "cell_type": "code",
   "execution_count": 62,
   "id": "a8754c54",
   "metadata": {
    "ExecuteTime": {
     "end_time": "2024-12-03T10:09:50.800065Z",
     "start_time": "2024-12-03T10:09:50.791980Z"
    },
    "scrolled": true
   },
   "outputs": [
    {
     "data": {
      "text/plain": [
       "{'fit_time': array([27.69630837, 26.9910028 , 27.0900631 , 26.74617958, 31.08262777]),\n",
       " 'score_time': array([0.62224507, 0.59617853, 0.59603095, 1.70638418, 1.88075471]),\n",
       " 'test_recall': array([0.85562067, 0.84780678, 0.83895597, 0.85067472, 0.84532055]),\n",
       " 'test_precision': array([0.85244161, 0.85755344, 0.86159737, 0.85279459, 0.85765766]),\n",
       " 'test_accuracy': array([0.85376898, 0.85350262, 0.85208204, 0.85190447, 0.85251288]),\n",
       " 'test_f1': array([0.85402818, 0.85265226, 0.85012594, 0.85173333, 0.85144441])}"
      ]
     },
     "execution_count": 62,
     "metadata": {},
     "output_type": "execute_result"
    }
   ],
   "source": [
    "cv_res3"
   ]
  },
  {
   "cell_type": "code",
   "execution_count": 2,
   "id": "3f620801",
   "metadata": {
    "ExecuteTime": {
     "end_time": "2024-12-04T09:22:51.608118Z",
     "start_time": "2024-12-04T09:22:48.656552Z"
    }
   },
   "outputs": [
    {
     "name": "stdout",
     "output_type": "stream",
     "text": [
      "Requirement already satisfied: xgboost in /Users/Flotchi/.pyenv/versions/3.10.6/envs/Mental_Health_Risks/lib/python3.10/site-packages (2.1.3)\r\n",
      "Requirement already satisfied: numpy in /Users/Flotchi/.pyenv/versions/3.10.6/envs/Mental_Health_Risks/lib/python3.10/site-packages (from xgboost) (1.26.4)\r\n",
      "Requirement already satisfied: scipy in /Users/Flotchi/.pyenv/versions/3.10.6/envs/Mental_Health_Risks/lib/python3.10/site-packages (from xgboost) (1.13.1)\r\n"
     ]
    }
   ],
   "source": [
    "!pip install xgboost"
   ]
  },
  {
   "cell_type": "markdown",
   "id": "561dc91c",
   "metadata": {},
   "source": [
    "# XGB Fine Tuning\n"
   ]
  },
  {
   "cell_type": "code",
   "execution_count": 5,
   "id": "57712e47",
   "metadata": {
    "ExecuteTime": {
     "end_time": "2024-12-04T11:35:20.798632Z",
     "start_time": "2024-12-04T11:35:20.679933Z"
    }
   },
   "outputs": [],
   "source": [
    "param_grid = {\n",
    "    #'tfidf__max_df': [0.75, 1.0],  \n",
    "    #'tfidf__min_df': [1, 2, 5],\n",
    "    'tfidf__ngram_range': [(1,1),(1,2),(2,2)],\n",
    "    #'xgbclassifier__n_estimators': [50, 100, 200],\n",
    "    #'xgbclassifier__max_depth': [3, 5, 7],\n",
    "    'xgbclassifier__learning_rate': [0.01, 0.1, 0.2],\n",
    "    #xgbclassifier__subsample': [0.6, 0.8, 1.0],\n",
    "    #'xgbclassifier__colsample_bytree': [0.6, 0.8, 1.0],\n",
    "    #'xgbclassifier__gamma': [0, 1, 5],\n",
    "    #'xgbclassifier__reg_alpha': [0, 1, 10],\n",
    "    #'xgbclassifier__reg_lambda': [1, 10, 100]\n",
    "}\n",
    "    "
   ]
  },
  {
   "cell_type": "code",
   "execution_count": 7,
   "id": "04e0f1b1",
   "metadata": {
    "ExecuteTime": {
     "end_time": "2024-12-04T11:35:31.036153Z",
     "start_time": "2024-12-04T11:35:30.606095Z"
    }
   },
   "outputs": [
    {
     "ename": "NameError",
     "evalue": "name 'GridSearchCV' is not defined",
     "output_type": "error",
     "traceback": [
      "\u001b[0;31m---------------------------------------------------------------------------\u001b[0m",
      "\u001b[0;31mNameError\u001b[0m                                 Traceback (most recent call last)",
      "Cell \u001b[0;32mIn[7], line 1\u001b[0m\n\u001b[0;32m----> 1\u001b[0m grid_search \u001b[38;5;241m=\u001b[39m \u001b[43mGridSearchCV\u001b[49m(pipe3, param_grid, cv\u001b[38;5;241m=\u001b[39m\u001b[38;5;241m5\u001b[39m,scoring\u001b[38;5;241m=\u001b[39m[\u001b[38;5;124m'\u001b[39m\u001b[38;5;124mrecall\u001b[39m\u001b[38;5;124m'\u001b[39m, \u001b[38;5;124m'\u001b[39m\u001b[38;5;124mprecision\u001b[39m\u001b[38;5;124m'\u001b[39m, \u001b[38;5;124m'\u001b[39m\u001b[38;5;124maccuracy\u001b[39m\u001b[38;5;124m'\u001b[39m, \u001b[38;5;124m'\u001b[39m\u001b[38;5;124mf1\u001b[39m\u001b[38;5;124m'\u001b[39m], verbose\u001b[38;5;241m=\u001b[39m\u001b[38;5;241m3\u001b[39m, n_jobs\u001b[38;5;241m=\u001b[39m\u001b[38;5;241m-\u001b[39m\u001b[38;5;241m1\u001b[39m)\n",
      "\u001b[0;31mNameError\u001b[0m: name 'GridSearchCV' is not defined"
     ]
    }
   ],
   "source": [
    "grid_search = GridSearchCV(pipe3, param_grid, cv=5,scoring=['recall', 'precision', 'accuracy', 'f1'], verbose=3, n_jobs=-1)"
   ]
  },
  {
   "cell_type": "code",
   "execution_count": null,
   "id": "37d6347a",
   "metadata": {},
   "outputs": [],
   "source": []
  }
 ],
 "metadata": {
  "kernelspec": {
   "display_name": "Python 3 (ipykernel)",
   "language": "python",
   "name": "python3"
  },
  "language_info": {
   "codemirror_mode": {
    "name": "ipython",
    "version": 3
   },
   "file_extension": ".py",
   "mimetype": "text/x-python",
   "name": "python",
   "nbconvert_exporter": "python",
   "pygments_lexer": "ipython3",
   "version": "3.10.6"
  },
  "toc": {
   "base_numbering": 1,
   "nav_menu": {},
   "number_sections": true,
   "sideBar": true,
   "skip_h1_title": false,
   "title_cell": "Table of Contents",
   "title_sidebar": "Contents",
   "toc_cell": false,
   "toc_position": {},
   "toc_section_display": true,
   "toc_window_display": false
  }
 },
 "nbformat": 4,
 "nbformat_minor": 5
}
