{
 "cells": [
  {
   "cell_type": "markdown",
   "id": "441c4f2d",
   "metadata": {},
   "source": [
    "# Data Processing and splitting"
   ]
  },
  {
   "cell_type": "code",
   "execution_count": 16,
   "id": "e59f0aab",
   "metadata": {
    "ExecuteTime": {
     "end_time": "2024-12-04T11:04:35.443832Z",
     "start_time": "2024-12-04T11:04:35.433837Z"
    },
    "scrolled": true
   },
   "outputs": [],
   "source": [
    "from logic.processing import load_data, preproc, balance_dataset\n",
    "from sklearn.metrics import confusion_matrix, ConfusionMatrixDisplay,classification_report\n",
    "from sklearn.pipeline import make_pipeline\n",
    "from tensorflow.keras.preprocessing.text import text_to_word_sequence\n",
    "from gensim.models import Word2Vec\n",
    "from tensorflow.keras.preprocessing.sequence import pad_sequences\n",
    "import numpy as np\n",
    "from tensorflow.keras import layers,Sequential\n",
    "from tensorflow.keras.layers import InputLayer,Dropout,BatchNormalization, Bidirectional,LSTM,Dense\n",
    "from tensorflow.keras.callbacks import EarlyStopping\n",
    "import joblib\n",
    "import pandas as pd\n",
    "import kagglehub\n",
    "import os"
   ]
  },
  {
   "cell_type": "code",
   "execution_count": 8,
   "id": "11578b3a",
   "metadata": {
    "ExecuteTime": {
     "end_time": "2024-12-04T11:01:12.713476Z",
     "start_time": "2024-12-04T11:01:12.702449Z"
    }
   },
   "outputs": [],
   "source": [
    "def data_filter(df,uselfCount=0,min_length=30):\n",
    "    df = df.dropna()\n",
    "    df = df[df['rating'].isin([1,2,3,8,9,10])]\n",
    "    df['sentiment'] = 0\n",
    "    df['sentiment'] = (df['rating'].isin([8,9,10])).astype(int)\n",
    "    df = df[df['usefulCount']>uselfCount]\n",
    "    df['review_length'] = df['review'].apply(lambda x: len(str(x).split()))\n",
    "    df = df[df.review_length>=min_length]\n",
    "    return df"
   ]
  },
  {
   "cell_type": "code",
   "execution_count": 15,
   "id": "cdb26ae4",
   "metadata": {
    "ExecuteTime": {
     "end_time": "2024-12-04T11:03:45.684694Z",
     "start_time": "2024-12-04T11:03:37.636725Z"
    },
    "scrolled": true
   },
   "outputs": [
    {
     "name": "stdout",
     "output_type": "stream",
     "text": [
      "Downloading from https://www.kaggle.com/api/v1/datasets/download/jessicali9530/kuc-hackathon-winter-2018?dataset_version_number=2...\n"
     ]
    },
    {
     "name": "stderr",
     "output_type": "stream",
     "text": [
      "100%|█████████████████████████████████████████████████████████████████████████████████████████████████████████████████████████████████████████| 40.7M/40.7M [00:05<00:00, 7.68MB/s]"
     ]
    },
    {
     "name": "stdout",
     "output_type": "stream",
     "text": [
      "Extracting files...\n"
     ]
    },
    {
     "name": "stderr",
     "output_type": "stream",
     "text": [
      "\n"
     ]
    }
   ],
   "source": [
    "path = kagglehub.dataset_download(\"jessicali9530/kuc-hackathon-winter-2018\")"
   ]
  },
  {
   "cell_type": "code",
   "execution_count": 17,
   "id": "9dfee492",
   "metadata": {
    "ExecuteTime": {
     "end_time": "2024-12-04T11:04:40.671787Z",
     "start_time": "2024-12-04T11:04:39.769999Z"
    }
   },
   "outputs": [],
   "source": [
    "df = pd.read_csv(os.path.join(path,'drugsComTrain_raw.csv'))"
   ]
  },
  {
   "cell_type": "code",
   "execution_count": 18,
   "id": "8388704e",
   "metadata": {
    "ExecuteTime": {
     "end_time": "2024-12-04T11:04:59.180798Z",
     "start_time": "2024-12-04T11:04:58.163193Z"
    }
   },
   "outputs": [],
   "source": [
    "df1 = data_filter(df)"
   ]
  },
  {
   "cell_type": "code",
   "execution_count": 19,
   "id": "ff2a82bb",
   "metadata": {
    "ExecuteTime": {
     "end_time": "2024-12-04T11:05:06.731710Z",
     "start_time": "2024-12-04T11:05:06.719676Z"
    }
   },
   "outputs": [
    {
     "data": {
      "text/plain": [
       "(109890, 9)"
      ]
     },
     "execution_count": 19,
     "metadata": {},
     "output_type": "execute_result"
    }
   ],
   "source": [
    "df1.shape"
   ]
  },
  {
   "cell_type": "code",
   "execution_count": 20,
   "id": "0d8f61ba",
   "metadata": {
    "ExecuteTime": {
     "end_time": "2024-12-04T11:07:18.506746Z",
     "start_time": "2024-12-04T11:07:18.500212Z"
    }
   },
   "outputs": [],
   "source": [
    "y = df1['sentiment']"
   ]
  },
  {
   "cell_type": "code",
   "execution_count": 21,
   "id": "015ab1cf",
   "metadata": {
    "ExecuteTime": {
     "end_time": "2024-12-04T11:07:19.109528Z",
     "start_time": "2024-12-04T11:07:19.100091Z"
    }
   },
   "outputs": [
    {
     "data": {
      "text/plain": [
       "(109890,)"
      ]
     },
     "execution_count": 21,
     "metadata": {},
     "output_type": "execute_result"
    }
   ],
   "source": [
    "y.shape"
   ]
  },
  {
   "cell_type": "code",
   "execution_count": 22,
   "id": "27910e7d",
   "metadata": {
    "ExecuteTime": {
     "end_time": "2024-12-04T11:10:01.576885Z",
     "start_time": "2024-12-04T11:10:01.490612Z"
    }
   },
   "outputs": [],
   "source": [
    "X_pad = np.load('merged.npy')"
   ]
  },
  {
   "cell_type": "code",
   "execution_count": 23,
   "id": "d135181d",
   "metadata": {
    "ExecuteTime": {
     "end_time": "2024-12-04T11:10:11.976464Z",
     "start_time": "2024-12-04T11:10:11.967182Z"
    }
   },
   "outputs": [
    {
     "data": {
      "text/plain": [
       "(109890, 128)"
      ]
     },
     "execution_count": 23,
     "metadata": {},
     "output_type": "execute_result"
    }
   ],
   "source": [
    "X_pad.shape"
   ]
  },
  {
   "cell_type": "markdown",
   "id": "78b83cd2",
   "metadata": {},
   "source": [
    "# Model Building"
   ]
  },
  {
   "cell_type": "code",
   "execution_count": 36,
   "id": "f617410b",
   "metadata": {
    "ExecuteTime": {
     "end_time": "2024-12-04T11:27:42.993089Z",
     "start_time": "2024-12-04T11:27:42.984988Z"
    }
   },
   "outputs": [],
   "source": [
    "def init_model():\n",
    "    model = Sequential()\n",
    "    model.add(InputLayer((128,)))\n",
    "    model.add(Dense(256, activation='relu'))  \n",
    "    model.add(Dropout(0.3))  \n",
    "    model.add(Dense(128, activation='relu'))  \n",
    "    model.add(Dropout(0.3))  \n",
    "    model.add(Dense(1, activation='sigmoid'))  \n",
    "    \n",
    "    return model"
   ]
  },
  {
   "cell_type": "code",
   "execution_count": 37,
   "id": "15a55a39",
   "metadata": {
    "ExecuteTime": {
     "end_time": "2024-12-04T11:27:43.830042Z",
     "start_time": "2024-12-04T11:27:43.750489Z"
    }
   },
   "outputs": [],
   "source": [
    "model = init_model()"
   ]
  },
  {
   "cell_type": "code",
   "execution_count": 38,
   "id": "ff843056",
   "metadata": {
    "ExecuteTime": {
     "end_time": "2024-12-04T11:27:45.320831Z",
     "start_time": "2024-12-04T11:27:45.290689Z"
    }
   },
   "outputs": [],
   "source": [
    "model.compile(loss='binary_crossentropy',\n",
    "                  optimizer='adam',\n",
    "                  metrics=['accuracy'])"
   ]
  },
  {
   "cell_type": "code",
   "execution_count": 39,
   "id": "50cb603e",
   "metadata": {
    "ExecuteTime": {
     "end_time": "2024-12-04T11:27:46.276021Z",
     "start_time": "2024-12-04T11:27:46.151583Z"
    }
   },
   "outputs": [
    {
     "data": {
      "text/html": [
       "<pre style=\"white-space:pre;overflow-x:auto;line-height:normal;font-family:Menlo,'DejaVu Sans Mono',consolas,'Courier New',monospace\"><span style=\"font-weight: bold\">Model: \"sequential_4\"</span>\n",
       "</pre>\n"
      ],
      "text/plain": [
       "\u001b[1mModel: \"sequential_4\"\u001b[0m\n"
      ]
     },
     "metadata": {},
     "output_type": "display_data"
    },
    {
     "data": {
      "text/html": [
       "<pre style=\"white-space:pre;overflow-x:auto;line-height:normal;font-family:Menlo,'DejaVu Sans Mono',consolas,'Courier New',monospace\">┏━━━━━━━━━━━━━━━━━━━━━━━━━━━━━━━━━┳━━━━━━━━━━━━━━━━━━━━━━━━┳━━━━━━━━━━━━━━━┓\n",
       "┃<span style=\"font-weight: bold\"> Layer (type)                    </span>┃<span style=\"font-weight: bold\"> Output Shape           </span>┃<span style=\"font-weight: bold\">       Param # </span>┃\n",
       "┡━━━━━━━━━━━━━━━━━━━━━━━━━━━━━━━━━╇━━━━━━━━━━━━━━━━━━━━━━━━╇━━━━━━━━━━━━━━━┩\n",
       "│ dense_5 (<span style=\"color: #0087ff; text-decoration-color: #0087ff\">Dense</span>)                 │ (<span style=\"color: #00d7ff; text-decoration-color: #00d7ff\">None</span>, <span style=\"color: #00af00; text-decoration-color: #00af00\">256</span>)            │        <span style=\"color: #00af00; text-decoration-color: #00af00\">33,024</span> │\n",
       "├─────────────────────────────────┼────────────────────────┼───────────────┤\n",
       "│ dropout_3 (<span style=\"color: #0087ff; text-decoration-color: #0087ff\">Dropout</span>)             │ (<span style=\"color: #00d7ff; text-decoration-color: #00d7ff\">None</span>, <span style=\"color: #00af00; text-decoration-color: #00af00\">256</span>)            │             <span style=\"color: #00af00; text-decoration-color: #00af00\">0</span> │\n",
       "├─────────────────────────────────┼────────────────────────┼───────────────┤\n",
       "│ dense_6 (<span style=\"color: #0087ff; text-decoration-color: #0087ff\">Dense</span>)                 │ (<span style=\"color: #00d7ff; text-decoration-color: #00d7ff\">None</span>, <span style=\"color: #00af00; text-decoration-color: #00af00\">128</span>)            │        <span style=\"color: #00af00; text-decoration-color: #00af00\">32,896</span> │\n",
       "├─────────────────────────────────┼────────────────────────┼───────────────┤\n",
       "│ dropout_4 (<span style=\"color: #0087ff; text-decoration-color: #0087ff\">Dropout</span>)             │ (<span style=\"color: #00d7ff; text-decoration-color: #00d7ff\">None</span>, <span style=\"color: #00af00; text-decoration-color: #00af00\">128</span>)            │             <span style=\"color: #00af00; text-decoration-color: #00af00\">0</span> │\n",
       "├─────────────────────────────────┼────────────────────────┼───────────────┤\n",
       "│ dense_7 (<span style=\"color: #0087ff; text-decoration-color: #0087ff\">Dense</span>)                 │ (<span style=\"color: #00d7ff; text-decoration-color: #00d7ff\">None</span>, <span style=\"color: #00af00; text-decoration-color: #00af00\">1</span>)              │           <span style=\"color: #00af00; text-decoration-color: #00af00\">129</span> │\n",
       "└─────────────────────────────────┴────────────────────────┴───────────────┘\n",
       "</pre>\n"
      ],
      "text/plain": [
       "┏━━━━━━━━━━━━━━━━━━━━━━━━━━━━━━━━━┳━━━━━━━━━━━━━━━━━━━━━━━━┳━━━━━━━━━━━━━━━┓\n",
       "┃\u001b[1m \u001b[0m\u001b[1mLayer (type)                   \u001b[0m\u001b[1m \u001b[0m┃\u001b[1m \u001b[0m\u001b[1mOutput Shape          \u001b[0m\u001b[1m \u001b[0m┃\u001b[1m \u001b[0m\u001b[1m      Param #\u001b[0m\u001b[1m \u001b[0m┃\n",
       "┡━━━━━━━━━━━━━━━━━━━━━━━━━━━━━━━━━╇━━━━━━━━━━━━━━━━━━━━━━━━╇━━━━━━━━━━━━━━━┩\n",
       "│ dense_5 (\u001b[38;5;33mDense\u001b[0m)                 │ (\u001b[38;5;45mNone\u001b[0m, \u001b[38;5;34m256\u001b[0m)            │        \u001b[38;5;34m33,024\u001b[0m │\n",
       "├─────────────────────────────────┼────────────────────────┼───────────────┤\n",
       "│ dropout_3 (\u001b[38;5;33mDropout\u001b[0m)             │ (\u001b[38;5;45mNone\u001b[0m, \u001b[38;5;34m256\u001b[0m)            │             \u001b[38;5;34m0\u001b[0m │\n",
       "├─────────────────────────────────┼────────────────────────┼───────────────┤\n",
       "│ dense_6 (\u001b[38;5;33mDense\u001b[0m)                 │ (\u001b[38;5;45mNone\u001b[0m, \u001b[38;5;34m128\u001b[0m)            │        \u001b[38;5;34m32,896\u001b[0m │\n",
       "├─────────────────────────────────┼────────────────────────┼───────────────┤\n",
       "│ dropout_4 (\u001b[38;5;33mDropout\u001b[0m)             │ (\u001b[38;5;45mNone\u001b[0m, \u001b[38;5;34m128\u001b[0m)            │             \u001b[38;5;34m0\u001b[0m │\n",
       "├─────────────────────────────────┼────────────────────────┼───────────────┤\n",
       "│ dense_7 (\u001b[38;5;33mDense\u001b[0m)                 │ (\u001b[38;5;45mNone\u001b[0m, \u001b[38;5;34m1\u001b[0m)              │           \u001b[38;5;34m129\u001b[0m │\n",
       "└─────────────────────────────────┴────────────────────────┴───────────────┘\n"
      ]
     },
     "metadata": {},
     "output_type": "display_data"
    },
    {
     "data": {
      "text/html": [
       "<pre style=\"white-space:pre;overflow-x:auto;line-height:normal;font-family:Menlo,'DejaVu Sans Mono',consolas,'Courier New',monospace\"><span style=\"font-weight: bold\"> Total params: </span><span style=\"color: #00af00; text-decoration-color: #00af00\">66,049</span> (258.00 KB)\n",
       "</pre>\n"
      ],
      "text/plain": [
       "\u001b[1m Total params: \u001b[0m\u001b[38;5;34m66,049\u001b[0m (258.00 KB)\n"
      ]
     },
     "metadata": {},
     "output_type": "display_data"
    },
    {
     "data": {
      "text/html": [
       "<pre style=\"white-space:pre;overflow-x:auto;line-height:normal;font-family:Menlo,'DejaVu Sans Mono',consolas,'Courier New',monospace\"><span style=\"font-weight: bold\"> Trainable params: </span><span style=\"color: #00af00; text-decoration-color: #00af00\">66,049</span> (258.00 KB)\n",
       "</pre>\n"
      ],
      "text/plain": [
       "\u001b[1m Trainable params: \u001b[0m\u001b[38;5;34m66,049\u001b[0m (258.00 KB)\n"
      ]
     },
     "metadata": {},
     "output_type": "display_data"
    },
    {
     "data": {
      "text/html": [
       "<pre style=\"white-space:pre;overflow-x:auto;line-height:normal;font-family:Menlo,'DejaVu Sans Mono',consolas,'Courier New',monospace\"><span style=\"font-weight: bold\"> Non-trainable params: </span><span style=\"color: #00af00; text-decoration-color: #00af00\">0</span> (0.00 B)\n",
       "</pre>\n"
      ],
      "text/plain": [
       "\u001b[1m Non-trainable params: \u001b[0m\u001b[38;5;34m0\u001b[0m (0.00 B)\n"
      ]
     },
     "metadata": {},
     "output_type": "display_data"
    }
   ],
   "source": [
    "model.summary()"
   ]
  },
  {
   "cell_type": "markdown",
   "id": "5366a72a",
   "metadata": {},
   "source": [
    "# Model training"
   ]
  },
  {
   "cell_type": "code",
   "execution_count": 40,
   "id": "e1b347f9",
   "metadata": {
    "ExecuteTime": {
     "end_time": "2024-12-04T11:32:06.957875Z",
     "start_time": "2024-12-04T11:27:53.204263Z"
    },
    "scrolled": true
   },
   "outputs": [
    {
     "name": "stdout",
     "output_type": "stream",
     "text": [
      "Epoch 1/50\n",
      "\u001b[1m2404/2404\u001b[0m \u001b[32m━━━━━━━━━━━━━━━━━━━━\u001b[0m\u001b[37m\u001b[0m \u001b[1m11s\u001b[0m 4ms/step - accuracy: 0.7498 - loss: 0.5358 - val_accuracy: 0.7766 - val_loss: 0.4827\n",
      "Epoch 2/50\n",
      "\u001b[1m2404/2404\u001b[0m \u001b[32m━━━━━━━━━━━━━━━━━━━━\u001b[0m\u001b[37m\u001b[0m \u001b[1m8s\u001b[0m 3ms/step - accuracy: 0.7701 - loss: 0.4965 - val_accuracy: 0.7818 - val_loss: 0.4841\n",
      "Epoch 3/50\n",
      "\u001b[1m2404/2404\u001b[0m \u001b[32m━━━━━━━━━━━━━━━━━━━━\u001b[0m\u001b[37m\u001b[0m \u001b[1m8s\u001b[0m 3ms/step - accuracy: 0.7694 - loss: 0.4907 - val_accuracy: 0.7816 - val_loss: 0.4717\n",
      "Epoch 4/50\n",
      "\u001b[1m2404/2404\u001b[0m \u001b[32m━━━━━━━━━━━━━━━━━━━━\u001b[0m\u001b[37m\u001b[0m \u001b[1m9s\u001b[0m 4ms/step - accuracy: 0.7749 - loss: 0.4827 - val_accuracy: 0.7834 - val_loss: 0.4670\n",
      "Epoch 5/50\n",
      "\u001b[1m2404/2404\u001b[0m \u001b[32m━━━━━━━━━━━━━━━━━━━━\u001b[0m\u001b[37m\u001b[0m \u001b[1m10s\u001b[0m 4ms/step - accuracy: 0.7784 - loss: 0.4773 - val_accuracy: 0.7815 - val_loss: 0.4661\n",
      "Epoch 6/50\n",
      "\u001b[1m2404/2404\u001b[0m \u001b[32m━━━━━━━━━━━━━━━━━━━━\u001b[0m\u001b[37m\u001b[0m \u001b[1m9s\u001b[0m 4ms/step - accuracy: 0.7800 - loss: 0.4734 - val_accuracy: 0.7855 - val_loss: 0.4614\n",
      "Epoch 7/50\n",
      "\u001b[1m2404/2404\u001b[0m \u001b[32m━━━━━━━━━━━━━━━━━━━━\u001b[0m\u001b[37m\u001b[0m \u001b[1m8s\u001b[0m 3ms/step - accuracy: 0.7838 - loss: 0.4671 - val_accuracy: 0.7899 - val_loss: 0.4583\n",
      "Epoch 8/50\n",
      "\u001b[1m2404/2404\u001b[0m \u001b[32m━━━━━━━━━━━━━━━━━━━━\u001b[0m\u001b[37m\u001b[0m \u001b[1m9s\u001b[0m 4ms/step - accuracy: 0.7843 - loss: 0.4651 - val_accuracy: 0.7837 - val_loss: 0.4661\n",
      "Epoch 9/50\n",
      "\u001b[1m2404/2404\u001b[0m \u001b[32m━━━━━━━━━━━━━━━━━━━━\u001b[0m\u001b[37m\u001b[0m \u001b[1m8s\u001b[0m 3ms/step - accuracy: 0.7834 - loss: 0.4642 - val_accuracy: 0.7828 - val_loss: 0.4583\n",
      "Epoch 10/50\n",
      "\u001b[1m2404/2404\u001b[0m \u001b[32m━━━━━━━━━━━━━━━━━━━━\u001b[0m\u001b[37m\u001b[0m \u001b[1m9s\u001b[0m 4ms/step - accuracy: 0.7896 - loss: 0.4572 - val_accuracy: 0.7920 - val_loss: 0.4489\n",
      "Epoch 11/50\n",
      "\u001b[1m2404/2404\u001b[0m \u001b[32m━━━━━━━━━━━━━━━━━━━━\u001b[0m\u001b[37m\u001b[0m \u001b[1m9s\u001b[0m 4ms/step - accuracy: 0.7866 - loss: 0.4601 - val_accuracy: 0.7941 - val_loss: 0.4499\n",
      "Epoch 12/50\n",
      "\u001b[1m2404/2404\u001b[0m \u001b[32m━━━━━━━━━━━━━━━━━━━━\u001b[0m\u001b[37m\u001b[0m \u001b[1m10s\u001b[0m 4ms/step - accuracy: 0.7903 - loss: 0.4550 - val_accuracy: 0.7927 - val_loss: 0.4513\n",
      "Epoch 13/50\n",
      "\u001b[1m2404/2404\u001b[0m \u001b[32m━━━━━━━━━━━━━━━━━━━━\u001b[0m\u001b[37m\u001b[0m \u001b[1m9s\u001b[0m 4ms/step - accuracy: 0.7899 - loss: 0.4566 - val_accuracy: 0.7915 - val_loss: 0.4491\n",
      "Epoch 14/50\n",
      "\u001b[1m2404/2404\u001b[0m \u001b[32m━━━━━━━━━━━━━━━━━━━━\u001b[0m\u001b[37m\u001b[0m \u001b[1m10s\u001b[0m 4ms/step - accuracy: 0.7901 - loss: 0.4559 - val_accuracy: 0.7951 - val_loss: 0.4470\n",
      "Epoch 15/50\n",
      "\u001b[1m2404/2404\u001b[0m \u001b[32m━━━━━━━━━━━━━━━━━━━━\u001b[0m\u001b[37m\u001b[0m \u001b[1m9s\u001b[0m 4ms/step - accuracy: 0.7921 - loss: 0.4511 - val_accuracy: 0.7939 - val_loss: 0.4491\n",
      "Epoch 16/50\n",
      "\u001b[1m2404/2404\u001b[0m \u001b[32m━━━━━━━━━━━━━━━━━━━━\u001b[0m\u001b[37m\u001b[0m \u001b[1m10s\u001b[0m 4ms/step - accuracy: 0.7914 - loss: 0.4503 - val_accuracy: 0.7941 - val_loss: 0.4457\n",
      "Epoch 17/50\n",
      "\u001b[1m2404/2404\u001b[0m \u001b[32m━━━━━━━━━━━━━━━━━━━━\u001b[0m\u001b[37m\u001b[0m \u001b[1m9s\u001b[0m 4ms/step - accuracy: 0.7933 - loss: 0.4498 - val_accuracy: 0.7945 - val_loss: 0.4450\n",
      "Epoch 18/50\n",
      "\u001b[1m2404/2404\u001b[0m \u001b[32m━━━━━━━━━━━━━━━━━━━━\u001b[0m\u001b[37m\u001b[0m \u001b[1m8s\u001b[0m 3ms/step - accuracy: 0.7940 - loss: 0.4469 - val_accuracy: 0.7876 - val_loss: 0.4498\n",
      "Epoch 19/50\n",
      "\u001b[1m2404/2404\u001b[0m \u001b[32m━━━━━━━━━━━━━━━━━━━━\u001b[0m\u001b[37m\u001b[0m \u001b[1m9s\u001b[0m 4ms/step - accuracy: 0.7920 - loss: 0.4477 - val_accuracy: 0.7917 - val_loss: 0.4443\n",
      "Epoch 20/50\n",
      "\u001b[1m2404/2404\u001b[0m \u001b[32m━━━━━━━━━━━━━━━━━━━━\u001b[0m\u001b[37m\u001b[0m \u001b[1m10s\u001b[0m 4ms/step - accuracy: 0.7932 - loss: 0.4450 - val_accuracy: 0.7951 - val_loss: 0.4449\n",
      "Epoch 21/50\n",
      "\u001b[1m2404/2404\u001b[0m \u001b[32m━━━━━━━━━━━━━━━━━━━━\u001b[0m\u001b[37m\u001b[0m \u001b[1m11s\u001b[0m 4ms/step - accuracy: 0.7944 - loss: 0.4429 - val_accuracy: 0.7961 - val_loss: 0.4440\n",
      "Epoch 22/50\n",
      "\u001b[1m2404/2404\u001b[0m \u001b[32m━━━━━━━━━━━━━━━━━━━━\u001b[0m\u001b[37m\u001b[0m \u001b[1m10s\u001b[0m 4ms/step - accuracy: 0.7931 - loss: 0.4450 - val_accuracy: 0.8005 - val_loss: 0.4383\n",
      "Epoch 23/50\n",
      "\u001b[1m2404/2404\u001b[0m \u001b[32m━━━━━━━━━━━━━━━━━━━━\u001b[0m\u001b[37m\u001b[0m \u001b[1m10s\u001b[0m 4ms/step - accuracy: 0.7972 - loss: 0.4389 - val_accuracy: 0.7932 - val_loss: 0.4432\n",
      "Epoch 24/50\n",
      "\u001b[1m2404/2404\u001b[0m \u001b[32m━━━━━━━━━━━━━━━━━━━━\u001b[0m\u001b[37m\u001b[0m \u001b[1m11s\u001b[0m 5ms/step - accuracy: 0.7989 - loss: 0.4383 - val_accuracy: 0.7936 - val_loss: 0.4446\n",
      "Epoch 25/50\n",
      "\u001b[1m2404/2404\u001b[0m \u001b[32m━━━━━━━━━━━━━━━━━━━━\u001b[0m\u001b[37m\u001b[0m \u001b[1m10s\u001b[0m 4ms/step - accuracy: 0.7967 - loss: 0.4394 - val_accuracy: 0.7988 - val_loss: 0.4423\n",
      "Epoch 26/50\n",
      "\u001b[1m2404/2404\u001b[0m \u001b[32m━━━━━━━━━━━━━━━━━━━━\u001b[0m\u001b[37m\u001b[0m \u001b[1m9s\u001b[0m 4ms/step - accuracy: 0.7973 - loss: 0.4373 - val_accuracy: 0.7977 - val_loss: 0.4388\n",
      "Epoch 27/50\n",
      "\u001b[1m2404/2404\u001b[0m \u001b[32m━━━━━━━━━━━━━━━━━━━━\u001b[0m\u001b[37m\u001b[0m \u001b[1m10s\u001b[0m 4ms/step - accuracy: 0.7999 - loss: 0.4368 - val_accuracy: 0.7969 - val_loss: 0.4434\n"
     ]
    },
    {
     "data": {
      "text/plain": [
       "<keras.src.callbacks.history.History at 0x133ad0760>"
      ]
     },
     "execution_count": 40,
     "metadata": {},
     "output_type": "execute_result"
    }
   ],
   "source": [
    "es = EarlyStopping(patience=5, restore_best_weights=True)\n",
    "\n",
    "model.fit(X_pad, y, \n",
    "          batch_size = 32,\n",
    "          epochs=50,\n",
    "          validation_split=0.3,\n",
    "          callbacks=[es]\n",
    "         )"
   ]
  },
  {
   "cell_type": "markdown",
   "id": "fb0c4211",
   "metadata": {},
   "source": [
    "# Save Model"
   ]
  },
  {
   "cell_type": "code",
   "execution_count": 45,
   "id": "97b2a0c6",
   "metadata": {
    "ExecuteTime": {
     "end_time": "2024-12-04T14:41:11.535911Z",
     "start_time": "2024-12-04T14:41:11.319732Z"
    }
   },
   "outputs": [
    {
     "data": {
      "text/plain": [
       "['lstm.pkl']"
      ]
     },
     "execution_count": 45,
     "metadata": {},
     "output_type": "execute_result"
    }
   ],
   "source": [
    "joblib.dump(model,'lstm.pkl')"
   ]
  },
  {
   "cell_type": "markdown",
   "id": "1984ea3c",
   "metadata": {},
   "source": [
    "# Evaluation"
   ]
  },
  {
   "cell_type": "code",
   "execution_count": 31,
   "id": "37de8f0d",
   "metadata": {
    "ExecuteTime": {
     "end_time": "2024-12-04T10:36:09.828554Z",
     "start_time": "2024-12-04T10:35:42.126209Z"
    }
   },
   "outputs": [],
   "source": [
    "res = model.evaluate(X_test_pad, y_test_b, verbose=0)"
   ]
  },
  {
   "cell_type": "code",
   "execution_count": 32,
   "id": "6af3b629",
   "metadata": {
    "ExecuteTime": {
     "end_time": "2024-12-04T10:36:09.860377Z",
     "start_time": "2024-12-04T10:36:09.837828Z"
    }
   },
   "outputs": [
    {
     "name": "stdout",
     "output_type": "stream",
     "text": [
      "The accuracy evaluated on the test set is of 90.305%\n"
     ]
    }
   ],
   "source": [
    "print(f'The accuracy evaluated on the test set is of {res[1]*100:.3f}%')"
   ]
  },
  {
   "cell_type": "code",
   "execution_count": null,
   "id": "c1b31b98",
   "metadata": {
    "ExecuteTime": {
     "end_time": "2024-12-04T09:54:31.342331Z",
     "start_time": "2024-12-04T09:54:31.342294Z"
    }
   },
   "outputs": [],
   "source": [
    "y_pred = model.predict(X_test_pad)"
   ]
  },
  {
   "cell_type": "code",
   "execution_count": null,
   "id": "a476270a",
   "metadata": {
    "ExecuteTime": {
     "end_time": "2024-12-04T09:54:31.345909Z",
     "start_time": "2024-12-04T09:54:31.345875Z"
    }
   },
   "outputs": [],
   "source": [
    "y_pred = np.round(y_pred)"
   ]
  },
  {
   "cell_type": "code",
   "execution_count": null,
   "id": "1e0d903b",
   "metadata": {
    "ExecuteTime": {
     "end_time": "2024-12-04T09:54:31.351855Z",
     "start_time": "2024-12-04T09:54:31.351826Z"
    }
   },
   "outputs": [],
   "source": [
    "print(classification_report(y_test_b, y_pred))"
   ]
  },
  {
   "cell_type": "markdown",
   "id": "c9ff6609",
   "metadata": {},
   "source": [
    "# Demo test"
   ]
  },
  {
   "cell_type": "code",
   "execution_count": 41,
   "id": "85bb8db7",
   "metadata": {
    "ExecuteTime": {
     "end_time": "2024-12-04T11:54:30.577574Z",
     "start_time": "2024-12-04T11:54:30.555899Z"
    }
   },
   "outputs": [],
   "source": [
    "import string\n",
    "from nltk.tokenize import word_tokenize\n",
    "from nltk.stem import WordNetLemmatizer"
   ]
  },
  {
   "cell_type": "code",
   "execution_count": 42,
   "id": "fb93dd4c",
   "metadata": {
    "ExecuteTime": {
     "end_time": "2024-12-04T11:54:31.042648Z",
     "start_time": "2024-12-04T11:54:31.029707Z"
    }
   },
   "outputs": [],
   "source": [
    "def process(st):\n",
    "        for punc in string.punctuation:\n",
    "            st = st.replace(punc, '')\n",
    "        ans = st.casefold().replace('\\n', ' ')\n",
    "        ansd = ''.join(x for x in ans if not x.isdigit())\n",
    "\n",
    "        lemmaverb = [WordNetLemmatizer().lemmatize(word, pos='v') for word in ansd.split()]\n",
    "        lemmanouns = [WordNetLemmatizer().lemmatize(word, pos='n') for word in lemmaverb]\n",
    "        nans = ' '.join(lemmanouns)\n",
    "        return nans"
   ]
  },
  {
   "cell_type": "code",
   "execution_count": 43,
   "id": "724623f8",
   "metadata": {
    "ExecuteTime": {
     "end_time": "2024-12-04T11:54:31.859739Z",
     "start_time": "2024-12-04T11:54:31.848187Z"
    }
   },
   "outputs": [],
   "source": [
    "sentence = 'I had a terrible experience with this medication. After just a few days, I developed severe headaches and constant nausea. It didn’t improve my condition at all, and I had to stop taking it. I wouldn’t recommend it to anyone.'"
   ]
  },
  {
   "cell_type": "code",
   "execution_count": 44,
   "id": "4496eb05",
   "metadata": {
    "ExecuteTime": {
     "end_time": "2024-12-04T11:55:01.869379Z",
     "start_time": "2024-12-04T11:54:45.996701Z"
    }
   },
   "outputs": [
    {
     "data": {
      "text/plain": [
       "'i have a terrible experience with this medication after just a few day i develop severe headache and constant nausea it didn’t improve my condition at all and i have to stop take it i wouldn’t recommend it to anyone'"
      ]
     },
     "execution_count": 44,
     "metadata": {},
     "output_type": "execute_result"
    }
   ],
   "source": [
    "process(sentence)"
   ]
  }
 ],
 "metadata": {
  "kernelspec": {
   "display_name": "Python 3 (ipykernel)",
   "language": "python",
   "name": "python3"
  },
  "language_info": {
   "codemirror_mode": {
    "name": "ipython",
    "version": 3
   },
   "file_extension": ".py",
   "mimetype": "text/x-python",
   "name": "python",
   "nbconvert_exporter": "python",
   "pygments_lexer": "ipython3",
   "version": "3.10.6"
  },
  "toc": {
   "base_numbering": 1,
   "nav_menu": {},
   "number_sections": true,
   "sideBar": true,
   "skip_h1_title": false,
   "title_cell": "Table of Contents",
   "title_sidebar": "Contents",
   "toc_cell": false,
   "toc_position": {},
   "toc_section_display": true,
   "toc_window_display": false
  }
 },
 "nbformat": 4,
 "nbformat_minor": 5
}
