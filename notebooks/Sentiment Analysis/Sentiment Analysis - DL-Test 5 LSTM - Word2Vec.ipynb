{
 "cells": [
  {
   "cell_type": "markdown",
   "id": "441c4f2d",
   "metadata": {},
   "source": [
    "# Data Processing and splitting"
   ]
  },
  {
   "cell_type": "code",
   "execution_count": 14,
   "id": "e59f0aab",
   "metadata": {
    "ExecuteTime": {
     "end_time": "2024-12-05T15:23:15.809379Z",
     "start_time": "2024-12-05T15:23:15.798374Z"
    }
   },
   "outputs": [],
   "source": [
    "from logic.processing import load_data, preproc, balance_dataset, data_filter\n",
    "from sklearn.metrics import confusion_matrix, ConfusionMatrixDisplay,classification_report\n",
    "from sklearn.pipeline import make_pipeline\n",
    "from gensim.models import Word2Vec\n",
    "from tensorflow.keras.preprocessing.sequence import pad_sequences\n",
    "import numpy as np\n",
    "from tensorflow.keras import layers,Sequential\n",
    "from tensorflow.keras.layers import InputLayer,Dropout,BatchNormalization, Bidirectional,LSTM,Dense\n",
    "from tensorflow.keras.callbacks import EarlyStopping\n",
    "import joblib\n",
    "import pandas as pd\n",
    "import os\n",
    "from tensorflow.keras.preprocessing.text import text_to_word_sequence"
   ]
  },
  {
   "cell_type": "code",
   "execution_count": null,
   "id": "ec9afa2c",
   "metadata": {
    "ExecuteTime": {
     "end_time": "2024-12-05T15:15:39.289515Z",
     "start_time": "2024-12-05T15:15:39.289494Z"
    }
   },
   "outputs": [],
   "source": [
    "df_train = load_data('drugsComTrain_raw.csv')\n",
    "df_test = load_data('drugsComTest_raw.csv')"
   ]
  },
  {
   "cell_type": "code",
   "execution_count": null,
   "id": "f76a0255",
   "metadata": {
    "ExecuteTime": {
     "end_time": "2024-12-05T15:15:39.305961Z",
     "start_time": "2024-12-05T15:15:39.305910Z"
    }
   },
   "outputs": [],
   "source": [
    "df_train.head()"
   ]
  },
  {
   "cell_type": "code",
   "execution_count": null,
   "id": "ae1391a7",
   "metadata": {
    "ExecuteTime": {
     "end_time": "2024-12-05T15:15:39.311342Z",
     "start_time": "2024-12-05T15:15:39.311306Z"
    }
   },
   "outputs": [],
   "source": [
    "df_train_filter = data_filter(df_train)\n",
    "df_test_filter = data_filter(df_test)"
   ]
  },
  {
   "cell_type": "code",
   "execution_count": null,
   "id": "e6c8a83a",
   "metadata": {
    "ExecuteTime": {
     "end_time": "2024-12-05T15:15:39.330732Z",
     "start_time": "2024-12-05T15:15:39.330694Z"
    }
   },
   "outputs": [],
   "source": [
    "df_test_filter.head()"
   ]
  },
  {
   "cell_type": "code",
   "execution_count": null,
   "id": "a5c13b81",
   "metadata": {
    "ExecuteTime": {
     "end_time": "2024-12-05T15:15:39.336483Z",
     "start_time": "2024-12-05T15:15:39.336454Z"
    }
   },
   "outputs": [],
   "source": [
    "df_train_prep = preproc(df_train_filter)\n",
    "df_test_prep = preproc(df_test_filter)"
   ]
  },
  {
   "cell_type": "code",
   "execution_count": null,
   "id": "87e0f187",
   "metadata": {
    "ExecuteTime": {
     "end_time": "2024-12-05T15:15:39.340570Z",
     "start_time": "2024-12-05T15:15:39.340535Z"
    }
   },
   "outputs": [],
   "source": [
    "X_train = df_train_prep['clean']\n",
    "y_train = df_train_prep['sentiment']"
   ]
  },
  {
   "cell_type": "code",
   "execution_count": null,
   "id": "27910e7d",
   "metadata": {
    "ExecuteTime": {
     "end_time": "2024-12-05T15:15:39.345285Z",
     "start_time": "2024-12-05T15:15:39.345247Z"
    }
   },
   "outputs": [],
   "source": [
    "X_test = df_test_prep['clean']\n",
    "y_test = df_test_prep['sentiment']"
   ]
  },
  {
   "cell_type": "code",
   "execution_count": null,
   "id": "59fb357a",
   "metadata": {
    "ExecuteTime": {
     "end_time": "2024-12-05T15:15:39.349477Z",
     "start_time": "2024-12-05T15:15:39.349417Z"
    }
   },
   "outputs": [],
   "source": [
    "X_train_b,y_train_b = balance_dataset(X_train,y_train)\n",
    "X_test_b,y_test_b = balance_dataset(X_test,y_test)"
   ]
  },
  {
   "cell_type": "code",
   "execution_count": null,
   "id": "4054d0c5",
   "metadata": {
    "ExecuteTime": {
     "end_time": "2024-12-05T15:15:39.354245Z",
     "start_time": "2024-12-05T15:15:39.354204Z"
    }
   },
   "outputs": [],
   "source": [
    "len(y_train_b[y_train_b==0])==len(y_train_b[y_train_b==1])"
   ]
  },
  {
   "cell_type": "markdown",
   "id": "365b77c8",
   "metadata": {},
   "source": [
    "# Tokenize"
   ]
  },
  {
   "cell_type": "code",
   "execution_count": null,
   "id": "4cb7b7b1",
   "metadata": {
    "ExecuteTime": {
     "end_time": "2024-12-05T15:15:39.360629Z",
     "start_time": "2024-12-05T15:15:39.360519Z"
    }
   },
   "outputs": [],
   "source": [
    "X_train_tk = [text_to_word_sequence(_) for _ in X_trai_b]"
   ]
  },
  {
   "cell_type": "code",
   "execution_count": null,
   "id": "7acc0a4d",
   "metadata": {
    "ExecuteTime": {
     "end_time": "2024-12-05T15:15:39.367143Z",
     "start_time": "2024-12-05T15:15:39.367097Z"
    }
   },
   "outputs": [],
   "source": [
    "X_test_tk = [text_to_word_sequence(_) for _ in X_test_b]"
   ]
  },
  {
   "cell_type": "markdown",
   "id": "b5dbbb8d",
   "metadata": {},
   "source": [
    "# Embedding"
   ]
  },
  {
   "cell_type": "code",
   "execution_count": null,
   "id": "927fa407",
   "metadata": {
    "ExecuteTime": {
     "end_time": "2024-12-05T15:15:39.376969Z",
     "start_time": "2024-12-05T15:15:39.376868Z"
    }
   },
   "outputs": [],
   "source": [
    "word2vec = Word2Vec(sentences=X_train_tk, vector_size=60, min_count=10, window=10)"
   ]
  },
  {
   "cell_type": "code",
   "execution_count": null,
   "id": "8ed7ac22",
   "metadata": {
    "ExecuteTime": {
     "end_time": "2024-12-05T15:15:39.387368Z",
     "start_time": "2024-12-05T15:15:39.387033Z"
    }
   },
   "outputs": [],
   "source": [
    "joblib.dump(word2vec,'word2vec.pkl')"
   ]
  },
  {
   "cell_type": "code",
   "execution_count": null,
   "id": "5ecbdfc7",
   "metadata": {
    "ExecuteTime": {
     "end_time": "2024-12-05T15:15:39.416814Z",
     "start_time": "2024-12-05T15:15:39.416777Z"
    }
   },
   "outputs": [],
   "source": [
    "len(word2vec.wv.key_to_index)"
   ]
  },
  {
   "cell_type": "code",
   "execution_count": 17,
   "id": "46a7086b",
   "metadata": {
    "ExecuteTime": {
     "end_time": "2024-12-05T15:23:40.276875Z",
     "start_time": "2024-12-05T15:23:40.269083Z"
    }
   },
   "outputs": [],
   "source": [
    "def embed_sentence(word2vec, sentence):\n",
    "    embedded_sentence = []\n",
    "    for word in sentence:\n",
    "        if word in word2vec.wv:\n",
    "            embedded_sentence.append(word2vec.wv[word])\n",
    "        \n",
    "    return np.array(embedded_sentence)\n",
    "\n",
    "def embedding(word2vec, sentences):\n",
    "    embed = []\n",
    "    \n",
    "    for sentence in sentences:\n",
    "        embedded_sentence = embed_sentence(word2vec, sentence)\n",
    "        embed.append(embedded_sentence)\n",
    "        \n",
    "    return embed"
   ]
  },
  {
   "cell_type": "code",
   "execution_count": null,
   "id": "08c455e7",
   "metadata": {
    "ExecuteTime": {
     "end_time": "2024-12-05T15:15:39.432519Z",
     "start_time": "2024-12-05T15:15:39.432481Z"
    }
   },
   "outputs": [],
   "source": [
    "X_train_embed = embedding(word2vec, X_train_tk)\n",
    "X_test_embed = embedding(word2vec, X_test_tk)"
   ]
  },
  {
   "cell_type": "markdown",
   "id": "ee95252f",
   "metadata": {},
   "source": [
    "# Padding"
   ]
  },
  {
   "cell_type": "code",
   "execution_count": null,
   "id": "3c4c6d5b",
   "metadata": {
    "ExecuteTime": {
     "end_time": "2024-12-05T15:15:39.436079Z",
     "start_time": "2024-12-05T15:15:39.436042Z"
    }
   },
   "outputs": [],
   "source": [
    "X_train_pad = pad_sequences(X_train_embed, dtype='float32', padding='post', maxlen=200)\n",
    "X_test_pad = pad_sequences(X_test_embed, dtype='float32', padding='post', maxlen=200)"
   ]
  },
  {
   "cell_type": "code",
   "execution_count": null,
   "id": "3dab49bb",
   "metadata": {
    "ExecuteTime": {
     "end_time": "2024-12-05T15:15:39.445348Z",
     "start_time": "2024-12-05T15:15:39.445305Z"
    }
   },
   "outputs": [],
   "source": [
    "X_train_pad.shape,X_test_pad.shape"
   ]
  },
  {
   "cell_type": "markdown",
   "id": "78b83cd2",
   "metadata": {},
   "source": [
    "# Model Building"
   ]
  },
  {
   "cell_type": "code",
   "execution_count": null,
   "id": "f617410b",
   "metadata": {
    "ExecuteTime": {
     "end_time": "2024-12-05T15:15:39.449297Z",
     "start_time": "2024-12-05T15:15:39.449260Z"
    }
   },
   "outputs": [],
   "source": [
    "def init_model():\n",
    "    model = Sequential()\n",
    "    model.add(InputLayer((200,60)))\n",
    "    model.add(layers.Masking(mask_value=0.))\n",
    "    model.add(Bidirectional(LSTM(64, activation='tanh', return_sequences=False)))\n",
    "    model.add(Dropout(0.3))\n",
    "    model.add(Dense(32, activation='relu'))\n",
    "    model.add(BatchNormalization())\n",
    "    model.add(layers.Dense(1, activation='sigmoid'))\n",
    "    \n",
    "    return model"
   ]
  },
  {
   "cell_type": "code",
   "execution_count": null,
   "id": "15a55a39",
   "metadata": {
    "ExecuteTime": {
     "end_time": "2024-12-05T15:15:39.457474Z",
     "start_time": "2024-12-05T15:15:39.457137Z"
    }
   },
   "outputs": [],
   "source": [
    "model = init_model()"
   ]
  },
  {
   "cell_type": "code",
   "execution_count": null,
   "id": "ff843056",
   "metadata": {
    "ExecuteTime": {
     "end_time": "2024-12-05T15:15:39.468729Z",
     "start_time": "2024-12-05T15:15:39.468692Z"
    }
   },
   "outputs": [],
   "source": [
    "model.compile(loss='binary_crossentropy',\n",
    "                  optimizer='adam',\n",
    "                  metrics=['accuracy'])"
   ]
  },
  {
   "cell_type": "code",
   "execution_count": null,
   "id": "50cb603e",
   "metadata": {
    "ExecuteTime": {
     "end_time": "2024-12-05T15:15:39.472614Z",
     "start_time": "2024-12-05T15:15:39.472572Z"
    }
   },
   "outputs": [],
   "source": [
    "model.summary()"
   ]
  },
  {
   "cell_type": "markdown",
   "id": "5366a72a",
   "metadata": {},
   "source": [
    "# Model training"
   ]
  },
  {
   "cell_type": "code",
   "execution_count": null,
   "id": "e1b347f9",
   "metadata": {
    "ExecuteTime": {
     "end_time": "2024-12-05T15:15:39.479745Z",
     "start_time": "2024-12-05T15:15:39.479696Z"
    },
    "scrolled": false
   },
   "outputs": [],
   "source": [
    "es = EarlyStopping(patience=5, restore_best_weights=True)\n",
    "\n",
    "model.fit(X_train_pad, y_train_b, \n",
    "          batch_size = 32,\n",
    "          epochs=50,\n",
    "          validation_split=0.3,\n",
    "          callbacks=[es]\n",
    "         )"
   ]
  },
  {
   "cell_type": "code",
   "execution_count": null,
   "id": "22718b79",
   "metadata": {
    "ExecuteTime": {
     "end_time": "2024-12-05T15:15:39.483903Z",
     "start_time": "2024-12-05T15:15:39.483867Z"
    }
   },
   "outputs": [],
   "source": [
    "joblib.dump(model,'lstm2.pkl')"
   ]
  },
  {
   "cell_type": "markdown",
   "id": "1984ea3c",
   "metadata": {},
   "source": [
    "# Evaluation"
   ]
  },
  {
   "cell_type": "code",
   "execution_count": null,
   "id": "37de8f0d",
   "metadata": {
    "ExecuteTime": {
     "end_time": "2024-12-05T15:15:39.488020Z",
     "start_time": "2024-12-05T15:15:39.487982Z"
    }
   },
   "outputs": [],
   "source": [
    "res = model.evaluate(X_test_pad, y_test_b, verbose=0)"
   ]
  },
  {
   "cell_type": "code",
   "execution_count": null,
   "id": "6af3b629",
   "metadata": {
    "ExecuteTime": {
     "end_time": "2024-12-05T15:15:39.493561Z",
     "start_time": "2024-12-05T15:15:39.493522Z"
    }
   },
   "outputs": [],
   "source": [
    "print(f'The accuracy evaluated on the test set is of {res[1]*100:.3f}%')"
   ]
  },
  {
   "cell_type": "code",
   "execution_count": null,
   "id": "c1b31b98",
   "metadata": {
    "ExecuteTime": {
     "end_time": "2024-12-05T15:15:39.501672Z",
     "start_time": "2024-12-05T15:15:39.501631Z"
    }
   },
   "outputs": [],
   "source": [
    "y_pred = model.predict(X_test_pad)"
   ]
  },
  {
   "cell_type": "code",
   "execution_count": null,
   "id": "a476270a",
   "metadata": {
    "ExecuteTime": {
     "end_time": "2024-12-05T15:15:39.510019Z",
     "start_time": "2024-12-05T15:15:39.509979Z"
    }
   },
   "outputs": [],
   "source": [
    "y_pred = np.round(y_pred)"
   ]
  },
  {
   "cell_type": "code",
   "execution_count": null,
   "id": "1e0d903b",
   "metadata": {
    "ExecuteTime": {
     "end_time": "2024-12-05T15:15:39.516249Z",
     "start_time": "2024-12-05T15:15:39.516210Z"
    }
   },
   "outputs": [],
   "source": [
    "print(classification_report(y_test_b, y_pred))"
   ]
  },
  {
   "cell_type": "markdown",
   "id": "41d2bf05",
   "metadata": {},
   "source": [
    "# Demo test"
   ]
  },
  {
   "cell_type": "code",
   "execution_count": 11,
   "id": "dc6b7d90",
   "metadata": {
    "ExecuteTime": {
     "end_time": "2024-12-05T15:21:54.261149Z",
     "start_time": "2024-12-05T15:21:54.255781Z"
    }
   },
   "outputs": [],
   "source": [
    "import string\n",
    "from nltk.stem import WordNetLemmatizer"
   ]
  },
  {
   "cell_type": "code",
   "execution_count": 8,
   "id": "0f9e8dce",
   "metadata": {
    "ExecuteTime": {
     "end_time": "2024-12-05T15:21:45.407546Z",
     "start_time": "2024-12-05T15:21:45.402615Z"
    }
   },
   "outputs": [],
   "source": [
    "sentence = 'This medication worked wonders for me! Within a week, I noticed a significant improvement in my symptoms. No side effects whatsoever, and I feel like I have my life back. Highly recommend!'"
   ]
  },
  {
   "cell_type": "code",
   "execution_count": 9,
   "id": "0173f0a6",
   "metadata": {
    "ExecuteTime": {
     "end_time": "2024-12-05T15:21:49.999303Z",
     "start_time": "2024-12-05T15:21:49.991432Z"
    }
   },
   "outputs": [],
   "source": [
    "def process(st):\n",
    "        for punc in string.punctuation:\n",
    "            st = st.replace(punc, '')\n",
    "        ans = st.casefold().replace('\\n', ' ')\n",
    "        ansd = ''.join(x for x in ans if not x.isdigit())\n",
    "        lemmaverb = [WordNetLemmatizer().lemmatize(word, pos='v') for word in ansd.split()]\n",
    "        lemmanouns = [WordNetLemmatizer().lemmatize(word, pos='n') for word in lemmaverb]\n",
    "        nans = ' '.join(lemmanouns)\n",
    "        return nans"
   ]
  },
  {
   "cell_type": "code",
   "execution_count": 12,
   "id": "9d3068af",
   "metadata": {
    "ExecuteTime": {
     "end_time": "2024-12-05T15:22:02.954501Z",
     "start_time": "2024-12-05T15:21:56.713572Z"
    }
   },
   "outputs": [],
   "source": [
    "sentence = process(sentence)"
   ]
  },
  {
   "cell_type": "code",
   "execution_count": null,
   "id": "d0279bfd",
   "metadata": {
    "ExecuteTime": {
     "end_time": "2024-12-05T15:15:39.539174Z",
     "start_time": "2024-12-05T15:15:39.539132Z"
    }
   },
   "outputs": [],
   "source": [
    "sentence"
   ]
  },
  {
   "cell_type": "code",
   "execution_count": 15,
   "id": "e0b007ff",
   "metadata": {
    "ExecuteTime": {
     "end_time": "2024-12-05T15:23:24.378040Z",
     "start_time": "2024-12-05T15:23:24.374989Z"
    }
   },
   "outputs": [],
   "source": [
    "sentence_tk = text_to_word_sequence(sentence)"
   ]
  },
  {
   "cell_type": "code",
   "execution_count": null,
   "id": "96c04f05",
   "metadata": {
    "ExecuteTime": {
     "end_time": "2024-12-05T15:15:39.547026Z",
     "start_time": "2024-12-05T15:15:39.546987Z"
    }
   },
   "outputs": [],
   "source": [
    "sentence_tk"
   ]
  },
  {
   "cell_type": "code",
   "execution_count": 18,
   "id": "25139a0a",
   "metadata": {
    "ExecuteTime": {
     "end_time": "2024-12-05T15:23:44.626838Z",
     "start_time": "2024-12-05T15:23:44.621762Z"
    }
   },
   "outputs": [],
   "source": [
    "sentence_emb = embed_sentence(word2vec, sentence_tk)"
   ]
  },
  {
   "cell_type": "code",
   "execution_count": null,
   "id": "01219d84",
   "metadata": {
    "ExecuteTime": {
     "end_time": "2024-12-05T15:15:39.554323Z",
     "start_time": "2024-12-05T15:15:39.554283Z"
    }
   },
   "outputs": [],
   "source": [
    "sentence_emb.shape"
   ]
  },
  {
   "cell_type": "code",
   "execution_count": 19,
   "id": "23fcf0d7",
   "metadata": {
    "ExecuteTime": {
     "end_time": "2024-12-05T15:23:48.200464Z",
     "start_time": "2024-12-05T15:23:48.194008Z"
    }
   },
   "outputs": [],
   "source": [
    "sentence_emb = sentence_emb.reshape(1,sentence_emb.shape[0],sentence_emb.shape[1])"
   ]
  },
  {
   "cell_type": "code",
   "execution_count": 20,
   "id": "e9cc3f30",
   "metadata": {
    "ExecuteTime": {
     "end_time": "2024-12-05T15:23:49.030648Z",
     "start_time": "2024-12-05T15:23:49.021976Z"
    }
   },
   "outputs": [],
   "source": [
    "sentence_pad = pad_sequences(sentence_emb, dtype='float32', padding='post', maxlen=200)"
   ]
  },
  {
   "cell_type": "code",
   "execution_count": null,
   "id": "2c177d37",
   "metadata": {
    "ExecuteTime": {
     "end_time": "2024-12-05T15:15:39.565938Z",
     "start_time": "2024-12-05T15:15:39.565906Z"
    },
    "scrolled": true
   },
   "outputs": [],
   "source": [
    "sentence_pad.shape"
   ]
  },
  {
   "cell_type": "code",
   "execution_count": 29,
   "id": "6fae9de9",
   "metadata": {
    "ExecuteTime": {
     "end_time": "2024-12-05T15:29:39.675415Z",
     "start_time": "2024-12-05T15:29:38.748899Z"
    }
   },
   "outputs": [
    {
     "name": "stdout",
     "output_type": "stream",
     "text": [
      "\u001b[1m1/1\u001b[0m \u001b[32m━━━━━━━━━━━━━━━━━━━━\u001b[0m\u001b[37m\u001b[0m \u001b[1m1s\u001b[0m 593ms/step\n"
     ]
    }
   ],
   "source": [
    "pred = model.predict(sentence_pad)"
   ]
  },
  {
   "cell_type": "code",
   "execution_count": 30,
   "id": "04940b16",
   "metadata": {
    "ExecuteTime": {
     "end_time": "2024-12-05T15:29:42.663134Z",
     "start_time": "2024-12-05T15:29:42.653708Z"
    }
   },
   "outputs": [
    {
     "data": {
      "text/plain": [
       "0.9983726"
      ]
     },
     "execution_count": 30,
     "metadata": {},
     "output_type": "execute_result"
    }
   ],
   "source": [
    "pred[0][0]"
   ]
  },
  {
   "cell_type": "markdown",
   "id": "850c5a87",
   "metadata": {},
   "source": [
    "# Shap"
   ]
  },
  {
   "cell_type": "code",
   "execution_count": 2,
   "id": "ac3bcd8f",
   "metadata": {
    "ExecuteTime": {
     "end_time": "2024-12-05T15:16:12.548885Z",
     "start_time": "2024-12-05T15:16:03.427409Z"
    },
    "collapsed": true
   },
   "outputs": [
    {
     "name": "stdout",
     "output_type": "stream",
     "text": [
      "Collecting shap\n",
      "  Using cached shap-0.46.0-cp310-cp310-macosx_10_9_x86_64.whl.metadata (24 kB)\n",
      "Requirement already satisfied: numpy in /Users/Flotchi/.pyenv/versions/3.10.6/envs/Mental_Health_Risks/lib/python3.10/site-packages (from shap) (1.26.4)\n",
      "Requirement already satisfied: scipy in /Users/Flotchi/.pyenv/versions/3.10.6/envs/Mental_Health_Risks/lib/python3.10/site-packages (from shap) (1.13.1)\n",
      "Requirement already satisfied: scikit-learn in /Users/Flotchi/.pyenv/versions/3.10.6/envs/Mental_Health_Risks/lib/python3.10/site-packages (from shap) (1.5.2)\n",
      "Requirement already satisfied: pandas in /Users/Flotchi/.pyenv/versions/3.10.6/envs/Mental_Health_Risks/lib/python3.10/site-packages (from shap) (2.1.4)\n",
      "Requirement already satisfied: tqdm>=4.27.0 in /Users/Flotchi/.pyenv/versions/3.10.6/envs/Mental_Health_Risks/lib/python3.10/site-packages (from shap) (4.67.1)\n",
      "Requirement already satisfied: packaging>20.9 in /Users/Flotchi/.pyenv/versions/3.10.6/envs/Mental_Health_Risks/lib/python3.10/site-packages (from shap) (24.2)\n",
      "Collecting slicer==0.0.8 (from shap)\n",
      "  Using cached slicer-0.0.8-py3-none-any.whl.metadata (4.0 kB)\n",
      "Collecting numba (from shap)\n",
      "  Using cached numba-0.60.0-cp310-cp310-macosx_10_9_x86_64.whl.metadata (2.7 kB)\n",
      "Collecting cloudpickle (from shap)\n",
      "  Downloading cloudpickle-3.1.0-py3-none-any.whl.metadata (7.0 kB)\n",
      "Collecting llvmlite<0.44,>=0.43.0dev0 (from numba->shap)\n",
      "  Using cached llvmlite-0.43.0-cp310-cp310-macosx_10_9_x86_64.whl.metadata (4.8 kB)\n",
      "Requirement already satisfied: python-dateutil>=2.8.2 in /Users/Flotchi/.pyenv/versions/3.10.6/envs/Mental_Health_Risks/lib/python3.10/site-packages (from pandas->shap) (2.9.0.post0)\n",
      "Requirement already satisfied: pytz>=2020.1 in /Users/Flotchi/.pyenv/versions/3.10.6/envs/Mental_Health_Risks/lib/python3.10/site-packages (from pandas->shap) (2024.2)\n",
      "Requirement already satisfied: tzdata>=2022.1 in /Users/Flotchi/.pyenv/versions/3.10.6/envs/Mental_Health_Risks/lib/python3.10/site-packages (from pandas->shap) (2024.2)\n",
      "Requirement already satisfied: joblib>=1.2.0 in /Users/Flotchi/.pyenv/versions/3.10.6/envs/Mental_Health_Risks/lib/python3.10/site-packages (from scikit-learn->shap) (1.4.2)\n",
      "Requirement already satisfied: threadpoolctl>=3.1.0 in /Users/Flotchi/.pyenv/versions/3.10.6/envs/Mental_Health_Risks/lib/python3.10/site-packages (from scikit-learn->shap) (3.5.0)\n",
      "Requirement already satisfied: six>=1.5 in /Users/Flotchi/.pyenv/versions/3.10.6/envs/Mental_Health_Risks/lib/python3.10/site-packages (from python-dateutil>=2.8.2->pandas->shap) (1.16.0)\n",
      "Using cached shap-0.46.0-cp310-cp310-macosx_10_9_x86_64.whl (459 kB)\n",
      "Using cached slicer-0.0.8-py3-none-any.whl (15 kB)\n",
      "Downloading cloudpickle-3.1.0-py3-none-any.whl (22 kB)\n",
      "Using cached numba-0.60.0-cp310-cp310-macosx_10_9_x86_64.whl (2.6 MB)\n",
      "Using cached llvmlite-0.43.0-cp310-cp310-macosx_10_9_x86_64.whl (31.1 MB)\n",
      "Installing collected packages: slicer, llvmlite, cloudpickle, numba, shap\n",
      "Successfully installed cloudpickle-3.1.0 llvmlite-0.43.0 numba-0.60.0 shap-0.46.0 slicer-0.0.8\n"
     ]
    }
   ],
   "source": [
    "! pip install shap"
   ]
  },
  {
   "cell_type": "code",
   "execution_count": 22,
   "id": "ba09fa58",
   "metadata": {
    "ExecuteTime": {
     "end_time": "2024-12-05T15:24:09.531533Z",
     "start_time": "2024-12-05T15:24:05.548250Z"
    }
   },
   "outputs": [
    {
     "name": "stderr",
     "output_type": "stream",
     "text": [
      "/Users/Flotchi/.pyenv/versions/3.10.6/envs/Mental_Health_Risks/lib/python3.10/site-packages/tqdm/auto.py:21: TqdmWarning: IProgress not found. Please update jupyter and ipywidgets. See https://ipywidgets.readthedocs.io/en/stable/user_install.html\n",
      "  from .autonotebook import tqdm as notebook_tqdm\n"
     ]
    }
   ],
   "source": [
    "import shap"
   ]
  },
  {
   "cell_type": "code",
   "execution_count": 7,
   "id": "f2f8b688",
   "metadata": {
    "ExecuteTime": {
     "end_time": "2024-12-05T15:21:36.116969Z",
     "start_time": "2024-12-05T15:21:36.045998Z"
    }
   },
   "outputs": [],
   "source": [
    "word2vec = joblib.load('word2vec.pkl')"
   ]
  },
  {
   "cell_type": "code",
   "execution_count": 6,
   "id": "88b63ce6",
   "metadata": {
    "ExecuteTime": {
     "end_time": "2024-12-05T15:18:03.864141Z",
     "start_time": "2024-12-05T15:18:03.436454Z"
    }
   },
   "outputs": [],
   "source": [
    "model = joblib.load('lstm.pkl')"
   ]
  },
  {
   "cell_type": "code",
   "execution_count": 37,
   "id": "e671c9ca",
   "metadata": {
    "ExecuteTime": {
     "end_time": "2024-12-05T15:38:17.613479Z",
     "start_time": "2024-12-05T15:38:17.607036Z"
    },
    "scrolled": true
   },
   "outputs": [],
   "source": [
    "explainer = shap.Explainer(model, text_to_word_sequence)"
   ]
  },
  {
   "cell_type": "code",
   "execution_count": null,
   "id": "24e58db0",
   "metadata": {},
   "outputs": [],
   "source": []
  }
 ],
 "metadata": {
  "kernelspec": {
   "display_name": "Python 3 (ipykernel)",
   "language": "python",
   "name": "python3"
  },
  "language_info": {
   "codemirror_mode": {
    "name": "ipython",
    "version": 3
   },
   "file_extension": ".py",
   "mimetype": "text/x-python",
   "name": "python",
   "nbconvert_exporter": "python",
   "pygments_lexer": "ipython3",
   "version": "3.10.6"
  },
  "toc": {
   "base_numbering": 1,
   "nav_menu": {},
   "number_sections": true,
   "sideBar": true,
   "skip_h1_title": false,
   "title_cell": "Table of Contents",
   "title_sidebar": "Contents",
   "toc_cell": false,
   "toc_position": {},
   "toc_section_display": true,
   "toc_window_display": false
  }
 },
 "nbformat": 4,
 "nbformat_minor": 5
}
