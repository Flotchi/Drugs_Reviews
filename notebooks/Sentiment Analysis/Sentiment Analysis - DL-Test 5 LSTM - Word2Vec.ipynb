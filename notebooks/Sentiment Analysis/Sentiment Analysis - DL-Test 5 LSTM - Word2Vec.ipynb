{
 "cells": [
  {
   "cell_type": "markdown",
   "id": "441c4f2d",
   "metadata": {},
   "source": [
    "# Data Processing and splitting"
   ]
  },
  {
   "cell_type": "code",
   "execution_count": 39,
   "id": "e59f0aab",
   "metadata": {
    "ExecuteTime": {
     "end_time": "2024-12-04T10:41:07.064701Z",
     "start_time": "2024-12-04T10:41:07.056576Z"
    }
   },
   "outputs": [],
   "source": [
    "from logic.processing import load_data, preproc, balance_dataset, data_filter\n",
    "from sklearn.metrics import confusion_matrix, ConfusionMatrixDisplay,classification_report\n",
    "from sklearn.pipeline import make_pipeline\n",
    "from tensorflow.keras.preprocessing.text import text_to_word_sequence\n",
    "from gensim.models import Word2Vec\n",
    "from tensorflow.keras.preprocessing.sequence import pad_sequences\n",
    "import numpy as np\n",
    "from tensorflow.keras import layers,Sequential\n",
    "from tensorflow.keras.layers import InputLayer,Dropout,BatchNormalization, Bidirectional,LSTM,Dense\n",
    "from tensorflow.keras.callbacks import EarlyStopping\n",
    "import joblib\n",
    "import pandas as pd"
   ]
  },
  {
   "cell_type": "code",
   "execution_count": 2,
   "id": "ec9afa2c",
   "metadata": {
    "ExecuteTime": {
     "end_time": "2024-12-04T09:50:22.541338Z",
     "start_time": "2024-12-04T09:50:20.097118Z"
    }
   },
   "outputs": [],
   "source": [
    "df_train = load_data('drugsComTrain_raw.csv')\n",
    "df_test = load_data('drugsComTest_raw.csv')"
   ]
  },
  {
   "cell_type": "code",
   "execution_count": 3,
   "id": "f76a0255",
   "metadata": {
    "ExecuteTime": {
     "end_time": "2024-12-04T09:50:22.603523Z",
     "start_time": "2024-12-04T09:50:22.548098Z"
    }
   },
   "outputs": [
    {
     "data": {
      "text/html": [
       "<div>\n",
       "<style scoped>\n",
       "    .dataframe tbody tr th:only-of-type {\n",
       "        vertical-align: middle;\n",
       "    }\n",
       "\n",
       "    .dataframe tbody tr th {\n",
       "        vertical-align: top;\n",
       "    }\n",
       "\n",
       "    .dataframe thead th {\n",
       "        text-align: right;\n",
       "    }\n",
       "</style>\n",
       "<table border=\"1\" class=\"dataframe\">\n",
       "  <thead>\n",
       "    <tr style=\"text-align: right;\">\n",
       "      <th></th>\n",
       "      <th>uniqueID</th>\n",
       "      <th>drugName</th>\n",
       "      <th>condition</th>\n",
       "      <th>review</th>\n",
       "      <th>rating</th>\n",
       "      <th>date</th>\n",
       "      <th>usefulCount</th>\n",
       "    </tr>\n",
       "  </thead>\n",
       "  <tbody>\n",
       "    <tr>\n",
       "      <th>0</th>\n",
       "      <td>206461</td>\n",
       "      <td>Valsartan</td>\n",
       "      <td>Left Ventricular Dysfunction</td>\n",
       "      <td>\"It has no side effect, I take it in combinati...</td>\n",
       "      <td>9</td>\n",
       "      <td>20-May-12</td>\n",
       "      <td>27</td>\n",
       "    </tr>\n",
       "    <tr>\n",
       "      <th>1</th>\n",
       "      <td>95260</td>\n",
       "      <td>Guanfacine</td>\n",
       "      <td>ADHD</td>\n",
       "      <td>\"My son is halfway through his fourth week of ...</td>\n",
       "      <td>8</td>\n",
       "      <td>27-Apr-10</td>\n",
       "      <td>192</td>\n",
       "    </tr>\n",
       "    <tr>\n",
       "      <th>2</th>\n",
       "      <td>92703</td>\n",
       "      <td>Lybrel</td>\n",
       "      <td>Birth Control</td>\n",
       "      <td>\"I used to take another oral contraceptive, wh...</td>\n",
       "      <td>5</td>\n",
       "      <td>14-Dec-09</td>\n",
       "      <td>17</td>\n",
       "    </tr>\n",
       "    <tr>\n",
       "      <th>3</th>\n",
       "      <td>138000</td>\n",
       "      <td>Ortho Evra</td>\n",
       "      <td>Birth Control</td>\n",
       "      <td>\"This is my first time using any form of birth...</td>\n",
       "      <td>8</td>\n",
       "      <td>3-Nov-15</td>\n",
       "      <td>10</td>\n",
       "    </tr>\n",
       "    <tr>\n",
       "      <th>4</th>\n",
       "      <td>35696</td>\n",
       "      <td>Buprenorphine / naloxone</td>\n",
       "      <td>Opiate Dependence</td>\n",
       "      <td>\"Suboxone has completely turned my life around...</td>\n",
       "      <td>9</td>\n",
       "      <td>27-Nov-16</td>\n",
       "      <td>37</td>\n",
       "    </tr>\n",
       "  </tbody>\n",
       "</table>\n",
       "</div>"
      ],
      "text/plain": [
       "   uniqueID                  drugName                     condition  \\\n",
       "0    206461                 Valsartan  Left Ventricular Dysfunction   \n",
       "1     95260                Guanfacine                          ADHD   \n",
       "2     92703                    Lybrel                 Birth Control   \n",
       "3    138000                Ortho Evra                 Birth Control   \n",
       "4     35696  Buprenorphine / naloxone             Opiate Dependence   \n",
       "\n",
       "                                              review  rating       date  \\\n",
       "0  \"It has no side effect, I take it in combinati...       9  20-May-12   \n",
       "1  \"My son is halfway through his fourth week of ...       8  27-Apr-10   \n",
       "2  \"I used to take another oral contraceptive, wh...       5  14-Dec-09   \n",
       "3  \"This is my first time using any form of birth...       8   3-Nov-15   \n",
       "4  \"Suboxone has completely turned my life around...       9  27-Nov-16   \n",
       "\n",
       "   usefulCount  \n",
       "0           27  \n",
       "1          192  \n",
       "2           17  \n",
       "3           10  \n",
       "4           37  "
      ]
     },
     "execution_count": 3,
     "metadata": {},
     "output_type": "execute_result"
    }
   ],
   "source": [
    "df_train.head()"
   ]
  },
  {
   "cell_type": "code",
   "execution_count": 4,
   "id": "ae1391a7",
   "metadata": {
    "ExecuteTime": {
     "end_time": "2024-12-04T09:50:24.325362Z",
     "start_time": "2024-12-04T09:50:22.629387Z"
    }
   },
   "outputs": [],
   "source": [
    "df_train_filter = data_filter(df_train)\n",
    "df_test_filter = data_filter(df_test)"
   ]
  },
  {
   "cell_type": "code",
   "execution_count": 5,
   "id": "e6c8a83a",
   "metadata": {
    "ExecuteTime": {
     "end_time": "2024-12-04T09:50:24.400016Z",
     "start_time": "2024-12-04T09:50:24.361200Z"
    }
   },
   "outputs": [
    {
     "data": {
      "text/html": [
       "<div>\n",
       "<style scoped>\n",
       "    .dataframe tbody tr th:only-of-type {\n",
       "        vertical-align: middle;\n",
       "    }\n",
       "\n",
       "    .dataframe tbody tr th {\n",
       "        vertical-align: top;\n",
       "    }\n",
       "\n",
       "    .dataframe thead th {\n",
       "        text-align: right;\n",
       "    }\n",
       "</style>\n",
       "<table border=\"1\" class=\"dataframe\">\n",
       "  <thead>\n",
       "    <tr style=\"text-align: right;\">\n",
       "      <th></th>\n",
       "      <th>uniqueID</th>\n",
       "      <th>drugName</th>\n",
       "      <th>condition</th>\n",
       "      <th>review</th>\n",
       "      <th>rating</th>\n",
       "      <th>date</th>\n",
       "      <th>usefulCount</th>\n",
       "      <th>sentiment</th>\n",
       "      <th>review_length</th>\n",
       "    </tr>\n",
       "  </thead>\n",
       "  <tbody>\n",
       "    <tr>\n",
       "      <th>0</th>\n",
       "      <td>163740</td>\n",
       "      <td>Mirtazapine</td>\n",
       "      <td>Depression</td>\n",
       "      <td>\"I&amp;#039;ve tried a few antidepressants over th...</td>\n",
       "      <td>10</td>\n",
       "      <td>28-Feb-12</td>\n",
       "      <td>22</td>\n",
       "      <td>1</td>\n",
       "      <td>68</td>\n",
       "    </tr>\n",
       "    <tr>\n",
       "      <th>1</th>\n",
       "      <td>206473</td>\n",
       "      <td>Mesalamine</td>\n",
       "      <td>Crohn's Disease, Maintenance</td>\n",
       "      <td>\"My son has Crohn&amp;#039;s disease and has done ...</td>\n",
       "      <td>8</td>\n",
       "      <td>17-May-09</td>\n",
       "      <td>17</td>\n",
       "      <td>1</td>\n",
       "      <td>48</td>\n",
       "    </tr>\n",
       "    <tr>\n",
       "      <th>3</th>\n",
       "      <td>39293</td>\n",
       "      <td>Contrave</td>\n",
       "      <td>Weight Loss</td>\n",
       "      <td>\"Contrave combines drugs that were used for al...</td>\n",
       "      <td>9</td>\n",
       "      <td>5-Mar-17</td>\n",
       "      <td>35</td>\n",
       "      <td>1</td>\n",
       "      <td>143</td>\n",
       "    </tr>\n",
       "    <tr>\n",
       "      <th>4</th>\n",
       "      <td>97768</td>\n",
       "      <td>Cyclafem 1 / 35</td>\n",
       "      <td>Birth Control</td>\n",
       "      <td>\"I have been on this birth control for one cyc...</td>\n",
       "      <td>9</td>\n",
       "      <td>22-Oct-15</td>\n",
       "      <td>4</td>\n",
       "      <td>1</td>\n",
       "      <td>149</td>\n",
       "    </tr>\n",
       "    <tr>\n",
       "      <th>7</th>\n",
       "      <td>169852</td>\n",
       "      <td>Amitriptyline</td>\n",
       "      <td>Migraine Prevention</td>\n",
       "      <td>\"This has been great for me. I&amp;#039;ve been on...</td>\n",
       "      <td>9</td>\n",
       "      <td>21-Apr-09</td>\n",
       "      <td>32</td>\n",
       "      <td>1</td>\n",
       "      <td>64</td>\n",
       "    </tr>\n",
       "  </tbody>\n",
       "</table>\n",
       "</div>"
      ],
      "text/plain": [
       "   uniqueID         drugName                     condition  \\\n",
       "0    163740      Mirtazapine                    Depression   \n",
       "1    206473       Mesalamine  Crohn's Disease, Maintenance   \n",
       "3     39293         Contrave                   Weight Loss   \n",
       "4     97768  Cyclafem 1 / 35                 Birth Control   \n",
       "7    169852    Amitriptyline           Migraine Prevention   \n",
       "\n",
       "                                              review  rating       date  \\\n",
       "0  \"I&#039;ve tried a few antidepressants over th...      10  28-Feb-12   \n",
       "1  \"My son has Crohn&#039;s disease and has done ...       8  17-May-09   \n",
       "3  \"Contrave combines drugs that were used for al...       9   5-Mar-17   \n",
       "4  \"I have been on this birth control for one cyc...       9  22-Oct-15   \n",
       "7  \"This has been great for me. I&#039;ve been on...       9  21-Apr-09   \n",
       "\n",
       "   usefulCount  sentiment  review_length  \n",
       "0           22          1             68  \n",
       "1           17          1             48  \n",
       "3           35          1            143  \n",
       "4            4          1            149  \n",
       "7           32          1             64  "
      ]
     },
     "execution_count": 5,
     "metadata": {},
     "output_type": "execute_result"
    }
   ],
   "source": [
    "df_test_filter.head()"
   ]
  },
  {
   "cell_type": "code",
   "execution_count": 6,
   "id": "a5c13b81",
   "metadata": {
    "ExecuteTime": {
     "end_time": "2024-12-04T09:53:39.137556Z",
     "start_time": "2024-12-04T09:50:24.409834Z"
    }
   },
   "outputs": [],
   "source": [
    "df_train_prep = preproc(df_train_filter)\n",
    "df_test_prep = preproc(df_test_filter)"
   ]
  },
  {
   "cell_type": "code",
   "execution_count": 7,
   "id": "87e0f187",
   "metadata": {
    "ExecuteTime": {
     "end_time": "2024-12-04T09:53:39.156766Z",
     "start_time": "2024-12-04T09:53:39.141152Z"
    }
   },
   "outputs": [],
   "source": [
    "X_train = df_train_prep['clean']\n",
    "y_train = df_train_prep['sentiment']"
   ]
  },
  {
   "cell_type": "code",
   "execution_count": 8,
   "id": "27910e7d",
   "metadata": {
    "ExecuteTime": {
     "end_time": "2024-12-04T09:53:39.173456Z",
     "start_time": "2024-12-04T09:53:39.161709Z"
    }
   },
   "outputs": [],
   "source": [
    "X_test = df_test_prep['clean']\n",
    "y_test = df_test_prep['sentiment']"
   ]
  },
  {
   "cell_type": "code",
   "execution_count": 9,
   "id": "59fb357a",
   "metadata": {
    "ExecuteTime": {
     "end_time": "2024-12-04T09:53:39.295748Z",
     "start_time": "2024-12-04T09:53:39.177368Z"
    }
   },
   "outputs": [],
   "source": [
    "X_train_b,y_train_b = balance_dataset(X_train,y_train)\n",
    "X_test_b,y_test_b = balance_dataset(X_test,y_test)"
   ]
  },
  {
   "cell_type": "code",
   "execution_count": 10,
   "id": "4054d0c5",
   "metadata": {
    "ExecuteTime": {
     "end_time": "2024-12-04T09:53:39.440974Z",
     "start_time": "2024-12-04T09:53:39.303933Z"
    }
   },
   "outputs": [
    {
     "data": {
      "text/plain": [
       "True"
      ]
     },
     "execution_count": 10,
     "metadata": {},
     "output_type": "execute_result"
    }
   ],
   "source": [
    "len(y_train_b[y_train_b==0])==len(y_train_b[y_train_b==1])"
   ]
  },
  {
   "cell_type": "markdown",
   "id": "365b77c8",
   "metadata": {},
   "source": [
    "# Tokenize"
   ]
  },
  {
   "cell_type": "code",
   "execution_count": 11,
   "id": "4cb7b7b1",
   "metadata": {
    "ExecuteTime": {
     "end_time": "2024-12-04T09:53:41.129554Z",
     "start_time": "2024-12-04T09:53:39.455962Z"
    }
   },
   "outputs": [],
   "source": [
    "X_train_tk = [text_to_word_sequence(_) for _ in X_train_b]"
   ]
  },
  {
   "cell_type": "code",
   "execution_count": 12,
   "id": "7acc0a4d",
   "metadata": {
    "ExecuteTime": {
     "end_time": "2024-12-04T09:53:41.700951Z",
     "start_time": "2024-12-04T09:53:41.133207Z"
    }
   },
   "outputs": [],
   "source": [
    "X_test_tk = [text_to_word_sequence(_) for _ in X_test_b]"
   ]
  },
  {
   "cell_type": "markdown",
   "id": "b5dbbb8d",
   "metadata": {},
   "source": [
    "# Embedding"
   ]
  },
  {
   "cell_type": "code",
   "execution_count": 13,
   "id": "927fa407",
   "metadata": {
    "ExecuteTime": {
     "end_time": "2024-12-04T09:54:03.930916Z",
     "start_time": "2024-12-04T09:53:41.711746Z"
    }
   },
   "outputs": [],
   "source": [
    "word2vec = Word2Vec(sentences=X_train_tk, vector_size=60, min_count=10, window=10)"
   ]
  },
  {
   "cell_type": "code",
   "execution_count": 14,
   "id": "5ecbdfc7",
   "metadata": {
    "ExecuteTime": {
     "end_time": "2024-12-04T09:54:03.944125Z",
     "start_time": "2024-12-04T09:54:03.933718Z"
    }
   },
   "outputs": [
    {
     "data": {
      "text/plain": [
       "6955"
      ]
     },
     "execution_count": 14,
     "metadata": {},
     "output_type": "execute_result"
    }
   ],
   "source": [
    "len(word2vec.wv.key_to_index)"
   ]
  },
  {
   "cell_type": "code",
   "execution_count": 15,
   "id": "46a7086b",
   "metadata": {
    "ExecuteTime": {
     "end_time": "2024-12-04T09:54:03.954802Z",
     "start_time": "2024-12-04T09:54:03.947908Z"
    }
   },
   "outputs": [],
   "source": [
    "def embed_sentence(word2vec, sentence):\n",
    "    embedded_sentence = []\n",
    "    for word in sentence:\n",
    "        if word in word2vec.wv:\n",
    "            embedded_sentence.append(word2vec.wv[word])\n",
    "        \n",
    "    return np.array(embedded_sentence)\n",
    "\n",
    "def embedding(word2vec, sentences):\n",
    "    embed = []\n",
    "    \n",
    "    for sentence in sentences:\n",
    "        embedded_sentence = embed_sentence(word2vec, sentence)\n",
    "        embed.append(embedded_sentence)\n",
    "        \n",
    "    return embed"
   ]
  },
  {
   "cell_type": "code",
   "execution_count": 16,
   "id": "08c455e7",
   "metadata": {
    "ExecuteTime": {
     "end_time": "2024-12-04T09:54:23.073568Z",
     "start_time": "2024-12-04T09:54:03.958564Z"
    }
   },
   "outputs": [],
   "source": [
    "X_train_embed = embedding(word2vec, X_train_tk)\n",
    "X_test_embed = embedding(word2vec, X_test_tk)"
   ]
  },
  {
   "cell_type": "markdown",
   "id": "ee95252f",
   "metadata": {},
   "source": [
    "# Padding"
   ]
  },
  {
   "cell_type": "code",
   "execution_count": 17,
   "id": "3c4c6d5b",
   "metadata": {
    "ExecuteTime": {
     "end_time": "2024-12-04T09:54:30.089417Z",
     "start_time": "2024-12-04T09:54:23.076171Z"
    }
   },
   "outputs": [],
   "source": [
    "X_train_pad = pad_sequences(X_train_embed, dtype='float32', padding='post', maxlen=200)\n",
    "X_test_pad = pad_sequences(X_test_embed, dtype='float32', padding='post', maxlen=200)"
   ]
  },
  {
   "cell_type": "code",
   "execution_count": 18,
   "id": "3dab49bb",
   "metadata": {
    "ExecuteTime": {
     "end_time": "2024-12-04T09:54:30.169968Z",
     "start_time": "2024-12-04T09:54:30.099402Z"
    }
   },
   "outputs": [
    {
     "data": {
      "text/plain": [
       "((56314, 200, 60), (19092, 200, 60))"
      ]
     },
     "execution_count": 18,
     "metadata": {},
     "output_type": "execute_result"
    }
   ],
   "source": [
    "X_train_pad.shape,X_test_pad.shape"
   ]
  },
  {
   "cell_type": "markdown",
   "id": "78b83cd2",
   "metadata": {},
   "source": [
    "# Model Building"
   ]
  },
  {
   "cell_type": "code",
   "execution_count": 26,
   "id": "f617410b",
   "metadata": {
    "ExecuteTime": {
     "end_time": "2024-12-04T09:56:21.922731Z",
     "start_time": "2024-12-04T09:56:21.903476Z"
    }
   },
   "outputs": [],
   "source": [
    "def init_model():\n",
    "    model = Sequential()\n",
    "    model.add(InputLayer((200,60)))\n",
    "    model.add(layers.Masking(mask_value=0.))\n",
    "    model.add(Bidirectional(LSTM(64, activation='tanh', return_sequences=False)))\n",
    "    model.add(Dropout(0.3))\n",
    "    model.add(Dense(32, activation='relu'))\n",
    "    model.add(BatchNormalization())\n",
    "    model.add(layers.Dense(1, activation='sigmoid'))\n",
    "    \n",
    "    return model"
   ]
  },
  {
   "cell_type": "code",
   "execution_count": 27,
   "id": "15a55a39",
   "metadata": {
    "ExecuteTime": {
     "end_time": "2024-12-04T09:56:23.110071Z",
     "start_time": "2024-12-04T09:56:22.917157Z"
    }
   },
   "outputs": [],
   "source": [
    "model = init_model()"
   ]
  },
  {
   "cell_type": "code",
   "execution_count": 28,
   "id": "ff843056",
   "metadata": {
    "ExecuteTime": {
     "end_time": "2024-12-04T09:56:26.101154Z",
     "start_time": "2024-12-04T09:56:26.074271Z"
    }
   },
   "outputs": [],
   "source": [
    "model.compile(loss='binary_crossentropy',\n",
    "                  optimizer='adam',\n",
    "                  metrics=['accuracy'])"
   ]
  },
  {
   "cell_type": "code",
   "execution_count": 29,
   "id": "50cb603e",
   "metadata": {
    "ExecuteTime": {
     "end_time": "2024-12-04T09:56:26.866066Z",
     "start_time": "2024-12-04T09:56:26.755548Z"
    }
   },
   "outputs": [
    {
     "data": {
      "text/html": [
       "<pre style=\"white-space:pre;overflow-x:auto;line-height:normal;font-family:Menlo,'DejaVu Sans Mono',consolas,'Courier New',monospace\"><span style=\"font-weight: bold\">Model: \"sequential_2\"</span>\n",
       "</pre>\n"
      ],
      "text/plain": [
       "\u001b[1mModel: \"sequential_2\"\u001b[0m\n"
      ]
     },
     "metadata": {},
     "output_type": "display_data"
    },
    {
     "data": {
      "text/html": [
       "<pre style=\"white-space:pre;overflow-x:auto;line-height:normal;font-family:Menlo,'DejaVu Sans Mono',consolas,'Courier New',monospace\">┏━━━━━━━━━━━━━━━━━━━━━━━━━━━━━━━━━┳━━━━━━━━━━━━━━━━━━━━━━━━┳━━━━━━━━━━━━━━━┓\n",
       "┃<span style=\"font-weight: bold\"> Layer (type)                    </span>┃<span style=\"font-weight: bold\"> Output Shape           </span>┃<span style=\"font-weight: bold\">       Param # </span>┃\n",
       "┡━━━━━━━━━━━━━━━━━━━━━━━━━━━━━━━━━╇━━━━━━━━━━━━━━━━━━━━━━━━╇━━━━━━━━━━━━━━━┩\n",
       "│ masking_2 (<span style=\"color: #0087ff; text-decoration-color: #0087ff\">Masking</span>)             │ (<span style=\"color: #00d7ff; text-decoration-color: #00d7ff\">None</span>, <span style=\"color: #00af00; text-decoration-color: #00af00\">200</span>, <span style=\"color: #00af00; text-decoration-color: #00af00\">60</span>)        │             <span style=\"color: #00af00; text-decoration-color: #00af00\">0</span> │\n",
       "├─────────────────────────────────┼────────────────────────┼───────────────┤\n",
       "│ bidirectional_1 (<span style=\"color: #0087ff; text-decoration-color: #0087ff\">Bidirectional</span>) │ (<span style=\"color: #00d7ff; text-decoration-color: #00d7ff\">None</span>, <span style=\"color: #00af00; text-decoration-color: #00af00\">128</span>)            │        <span style=\"color: #00af00; text-decoration-color: #00af00\">64,000</span> │\n",
       "├─────────────────────────────────┼────────────────────────┼───────────────┤\n",
       "│ dropout_1 (<span style=\"color: #0087ff; text-decoration-color: #0087ff\">Dropout</span>)             │ (<span style=\"color: #00d7ff; text-decoration-color: #00d7ff\">None</span>, <span style=\"color: #00af00; text-decoration-color: #00af00\">128</span>)            │             <span style=\"color: #00af00; text-decoration-color: #00af00\">0</span> │\n",
       "├─────────────────────────────────┼────────────────────────┼───────────────┤\n",
       "│ dense (<span style=\"color: #0087ff; text-decoration-color: #0087ff\">Dense</span>)                   │ (<span style=\"color: #00d7ff; text-decoration-color: #00d7ff\">None</span>, <span style=\"color: #00af00; text-decoration-color: #00af00\">32</span>)             │         <span style=\"color: #00af00; text-decoration-color: #00af00\">4,128</span> │\n",
       "├─────────────────────────────────┼────────────────────────┼───────────────┤\n",
       "│ batch_normalization             │ (<span style=\"color: #00d7ff; text-decoration-color: #00d7ff\">None</span>, <span style=\"color: #00af00; text-decoration-color: #00af00\">32</span>)             │           <span style=\"color: #00af00; text-decoration-color: #00af00\">128</span> │\n",
       "│ (<span style=\"color: #0087ff; text-decoration-color: #0087ff\">BatchNormalization</span>)            │                        │               │\n",
       "├─────────────────────────────────┼────────────────────────┼───────────────┤\n",
       "│ dense_1 (<span style=\"color: #0087ff; text-decoration-color: #0087ff\">Dense</span>)                 │ (<span style=\"color: #00d7ff; text-decoration-color: #00d7ff\">None</span>, <span style=\"color: #00af00; text-decoration-color: #00af00\">1</span>)              │            <span style=\"color: #00af00; text-decoration-color: #00af00\">33</span> │\n",
       "└─────────────────────────────────┴────────────────────────┴───────────────┘\n",
       "</pre>\n"
      ],
      "text/plain": [
       "┏━━━━━━━━━━━━━━━━━━━━━━━━━━━━━━━━━┳━━━━━━━━━━━━━━━━━━━━━━━━┳━━━━━━━━━━━━━━━┓\n",
       "┃\u001b[1m \u001b[0m\u001b[1mLayer (type)                   \u001b[0m\u001b[1m \u001b[0m┃\u001b[1m \u001b[0m\u001b[1mOutput Shape          \u001b[0m\u001b[1m \u001b[0m┃\u001b[1m \u001b[0m\u001b[1m      Param #\u001b[0m\u001b[1m \u001b[0m┃\n",
       "┡━━━━━━━━━━━━━━━━━━━━━━━━━━━━━━━━━╇━━━━━━━━━━━━━━━━━━━━━━━━╇━━━━━━━━━━━━━━━┩\n",
       "│ masking_2 (\u001b[38;5;33mMasking\u001b[0m)             │ (\u001b[38;5;45mNone\u001b[0m, \u001b[38;5;34m200\u001b[0m, \u001b[38;5;34m60\u001b[0m)        │             \u001b[38;5;34m0\u001b[0m │\n",
       "├─────────────────────────────────┼────────────────────────┼───────────────┤\n",
       "│ bidirectional_1 (\u001b[38;5;33mBidirectional\u001b[0m) │ (\u001b[38;5;45mNone\u001b[0m, \u001b[38;5;34m128\u001b[0m)            │        \u001b[38;5;34m64,000\u001b[0m │\n",
       "├─────────────────────────────────┼────────────────────────┼───────────────┤\n",
       "│ dropout_1 (\u001b[38;5;33mDropout\u001b[0m)             │ (\u001b[38;5;45mNone\u001b[0m, \u001b[38;5;34m128\u001b[0m)            │             \u001b[38;5;34m0\u001b[0m │\n",
       "├─────────────────────────────────┼────────────────────────┼───────────────┤\n",
       "│ dense (\u001b[38;5;33mDense\u001b[0m)                   │ (\u001b[38;5;45mNone\u001b[0m, \u001b[38;5;34m32\u001b[0m)             │         \u001b[38;5;34m4,128\u001b[0m │\n",
       "├─────────────────────────────────┼────────────────────────┼───────────────┤\n",
       "│ batch_normalization             │ (\u001b[38;5;45mNone\u001b[0m, \u001b[38;5;34m32\u001b[0m)             │           \u001b[38;5;34m128\u001b[0m │\n",
       "│ (\u001b[38;5;33mBatchNormalization\u001b[0m)            │                        │               │\n",
       "├─────────────────────────────────┼────────────────────────┼───────────────┤\n",
       "│ dense_1 (\u001b[38;5;33mDense\u001b[0m)                 │ (\u001b[38;5;45mNone\u001b[0m, \u001b[38;5;34m1\u001b[0m)              │            \u001b[38;5;34m33\u001b[0m │\n",
       "└─────────────────────────────────┴────────────────────────┴───────────────┘\n"
      ]
     },
     "metadata": {},
     "output_type": "display_data"
    },
    {
     "data": {
      "text/html": [
       "<pre style=\"white-space:pre;overflow-x:auto;line-height:normal;font-family:Menlo,'DejaVu Sans Mono',consolas,'Courier New',monospace\"><span style=\"font-weight: bold\"> Total params: </span><span style=\"color: #00af00; text-decoration-color: #00af00\">68,289</span> (266.75 KB)\n",
       "</pre>\n"
      ],
      "text/plain": [
       "\u001b[1m Total params: \u001b[0m\u001b[38;5;34m68,289\u001b[0m (266.75 KB)\n"
      ]
     },
     "metadata": {},
     "output_type": "display_data"
    },
    {
     "data": {
      "text/html": [
       "<pre style=\"white-space:pre;overflow-x:auto;line-height:normal;font-family:Menlo,'DejaVu Sans Mono',consolas,'Courier New',monospace\"><span style=\"font-weight: bold\"> Trainable params: </span><span style=\"color: #00af00; text-decoration-color: #00af00\">68,225</span> (266.50 KB)\n",
       "</pre>\n"
      ],
      "text/plain": [
       "\u001b[1m Trainable params: \u001b[0m\u001b[38;5;34m68,225\u001b[0m (266.50 KB)\n"
      ]
     },
     "metadata": {},
     "output_type": "display_data"
    },
    {
     "data": {
      "text/html": [
       "<pre style=\"white-space:pre;overflow-x:auto;line-height:normal;font-family:Menlo,'DejaVu Sans Mono',consolas,'Courier New',monospace\"><span style=\"font-weight: bold\"> Non-trainable params: </span><span style=\"color: #00af00; text-decoration-color: #00af00\">64</span> (256.00 B)\n",
       "</pre>\n"
      ],
      "text/plain": [
       "\u001b[1m Non-trainable params: \u001b[0m\u001b[38;5;34m64\u001b[0m (256.00 B)\n"
      ]
     },
     "metadata": {},
     "output_type": "display_data"
    }
   ],
   "source": [
    "model.summary()"
   ]
  },
  {
   "cell_type": "markdown",
   "id": "5366a72a",
   "metadata": {},
   "source": [
    "# Model training"
   ]
  },
  {
   "cell_type": "code",
   "execution_count": 30,
   "id": "e1b347f9",
   "metadata": {
    "ExecuteTime": {
     "end_time": "2024-12-04T10:34:41.256234Z",
     "start_time": "2024-12-04T09:56:57.320155Z"
    }
   },
   "outputs": [
    {
     "name": "stdout",
     "output_type": "stream",
     "text": [
      "Epoch 1/50\n",
      "\u001b[1m1232/1232\u001b[0m \u001b[32m━━━━━━━━━━━━━━━━━━━━\u001b[0m\u001b[37m\u001b[0m \u001b[1m224s\u001b[0m 171ms/step - accuracy: 0.7088 - loss: 0.5670 - val_accuracy: 0.8519 - val_loss: 0.3444\n",
      "Epoch 2/50\n",
      "\u001b[1m1232/1232\u001b[0m \u001b[32m━━━━━━━━━━━━━━━━━━━━\u001b[0m\u001b[37m\u001b[0m \u001b[1m191s\u001b[0m 155ms/step - accuracy: 0.8567 - loss: 0.3333 - val_accuracy: 0.8700 - val_loss: 0.3158\n",
      "Epoch 3/50\n",
      "\u001b[1m1232/1232\u001b[0m \u001b[32m━━━━━━━━━━━━━━━━━━━━\u001b[0m\u001b[37m\u001b[0m \u001b[1m214s\u001b[0m 165ms/step - accuracy: 0.8849 - loss: 0.2850 - val_accuracy: 0.8690 - val_loss: 0.3171\n",
      "Epoch 4/50\n",
      "\u001b[1m1232/1232\u001b[0m \u001b[32m━━━━━━━━━━━━━━━━━━━━\u001b[0m\u001b[37m\u001b[0m \u001b[1m235s\u001b[0m 191ms/step - accuracy: 0.9036 - loss: 0.2456 - val_accuracy: 0.8952 - val_loss: 0.2636\n",
      "Epoch 5/50\n",
      "\u001b[1m1232/1232\u001b[0m \u001b[32m━━━━━━━━━━━━━━━━━━━━\u001b[0m\u001b[37m\u001b[0m \u001b[1m217s\u001b[0m 176ms/step - accuracy: 0.9165 - loss: 0.2100 - val_accuracy: 0.8943 - val_loss: 0.2741\n",
      "Epoch 6/50\n",
      "\u001b[1m1232/1232\u001b[0m \u001b[32m━━━━━━━━━━━━━━━━━━━━\u001b[0m\u001b[37m\u001b[0m \u001b[1m203s\u001b[0m 164ms/step - accuracy: 0.9335 - loss: 0.1758 - val_accuracy: 0.9039 - val_loss: 0.2543\n",
      "Epoch 7/50\n",
      "\u001b[1m1232/1232\u001b[0m \u001b[32m━━━━━━━━━━━━━━━━━━━━\u001b[0m\u001b[37m\u001b[0m \u001b[1m186s\u001b[0m 151ms/step - accuracy: 0.9454 - loss: 0.1493 - val_accuracy: 0.9044 - val_loss: 0.2623\n",
      "Epoch 8/50\n",
      "\u001b[1m1232/1232\u001b[0m \u001b[32m━━━━━━━━━━━━━━━━━━━━\u001b[0m\u001b[37m\u001b[0m \u001b[1m196s\u001b[0m 159ms/step - accuracy: 0.9482 - loss: 0.1379 - val_accuracy: 0.9030 - val_loss: 0.2695\n",
      "Epoch 9/50\n",
      "\u001b[1m1232/1232\u001b[0m \u001b[32m━━━━━━━━━━━━━━━━━━━━\u001b[0m\u001b[37m\u001b[0m \u001b[1m197s\u001b[0m 160ms/step - accuracy: 0.9556 - loss: 0.1220 - val_accuracy: 0.9011 - val_loss: 0.2870\n",
      "Epoch 10/50\n",
      "\u001b[1m1232/1232\u001b[0m \u001b[32m━━━━━━━━━━━━━━━━━━━━\u001b[0m\u001b[37m\u001b[0m \u001b[1m192s\u001b[0m 156ms/step - accuracy: 0.9609 - loss: 0.1061 - val_accuracy: 0.8929 - val_loss: 0.3413\n",
      "Epoch 11/50\n",
      "\u001b[1m1232/1232\u001b[0m \u001b[32m━━━━━━━━━━━━━━━━━━━━\u001b[0m\u001b[37m\u001b[0m \u001b[1m196s\u001b[0m 159ms/step - accuracy: 0.9673 - loss: 0.0911 - val_accuracy: 0.9088 - val_loss: 0.3159\n"
     ]
    },
    {
     "data": {
      "text/plain": [
       "<keras.src.callbacks.history.History at 0x17b5cad70>"
      ]
     },
     "execution_count": 30,
     "metadata": {},
     "output_type": "execute_result"
    }
   ],
   "source": [
    "es = EarlyStopping(patience=5, restore_best_weights=True)\n",
    "\n",
    "model.fit(X_train_pad, y_train_b, \n",
    "          batch_size = 32,\n",
    "          epochs=50,\n",
    "          validation_split=0.3,\n",
    "          callbacks=[es]\n",
    "         )"
   ]
  },
  {
   "cell_type": "markdown",
   "id": "1984ea3c",
   "metadata": {},
   "source": [
    "# Evaluation"
   ]
  },
  {
   "cell_type": "code",
   "execution_count": 31,
   "id": "37de8f0d",
   "metadata": {
    "ExecuteTime": {
     "end_time": "2024-12-04T10:36:09.828554Z",
     "start_time": "2024-12-04T10:35:42.126209Z"
    }
   },
   "outputs": [],
   "source": [
    "res = model.evaluate(X_test_pad, y_test_b, verbose=0)"
   ]
  },
  {
   "cell_type": "code",
   "execution_count": 32,
   "id": "6af3b629",
   "metadata": {
    "ExecuteTime": {
     "end_time": "2024-12-04T10:36:09.860377Z",
     "start_time": "2024-12-04T10:36:09.837828Z"
    }
   },
   "outputs": [
    {
     "name": "stdout",
     "output_type": "stream",
     "text": [
      "The accuracy evaluated on the test set is of 90.305%\n"
     ]
    }
   ],
   "source": [
    "print(f'The accuracy evaluated on the test set is of {res[1]*100:.3f}%')"
   ]
  },
  {
   "cell_type": "code",
   "execution_count": null,
   "id": "c1b31b98",
   "metadata": {
    "ExecuteTime": {
     "end_time": "2024-12-04T09:54:31.342331Z",
     "start_time": "2024-12-04T09:54:31.342294Z"
    }
   },
   "outputs": [],
   "source": [
    "y_pred = model.predict(X_test_pad)"
   ]
  },
  {
   "cell_type": "code",
   "execution_count": null,
   "id": "a476270a",
   "metadata": {
    "ExecuteTime": {
     "end_time": "2024-12-04T09:54:31.345909Z",
     "start_time": "2024-12-04T09:54:31.345875Z"
    }
   },
   "outputs": [],
   "source": [
    "y_pred = np.round(y_pred)"
   ]
  },
  {
   "cell_type": "code",
   "execution_count": null,
   "id": "1e0d903b",
   "metadata": {
    "ExecuteTime": {
     "end_time": "2024-12-04T09:54:31.351855Z",
     "start_time": "2024-12-04T09:54:31.351826Z"
    }
   },
   "outputs": [],
   "source": [
    "print(classification_report(y_test_b, y_pred))"
   ]
  },
  {
   "cell_type": "markdown",
   "id": "029ca325",
   "metadata": {},
   "source": [
    "# Demo test"
   ]
  },
  {
   "cell_type": "code",
   "execution_count": 49,
   "id": "c208b031",
   "metadata": {
    "ExecuteTime": {
     "end_time": "2024-12-04T10:43:10.219658Z",
     "start_time": "2024-12-04T10:43:10.212717Z"
    }
   },
   "outputs": [],
   "source": [
    "import string\n",
    "from nltk.tokenize import word_tokenize\n",
    "from nltk.stem import WordNetLemmatizer"
   ]
  },
  {
   "cell_type": "code",
   "execution_count": 50,
   "id": "e9094f1c",
   "metadata": {
    "ExecuteTime": {
     "end_time": "2024-12-04T10:43:10.793680Z",
     "start_time": "2024-12-04T10:43:10.785127Z"
    }
   },
   "outputs": [],
   "source": [
    "def process(st):\n",
    "        for punc in string.punctuation:\n",
    "            st = st.replace(punc, '')\n",
    "        ans = st.casefold().replace('\\n', ' ')\n",
    "        ansd = ''.join(x for x in ans if not x.isdigit())\n",
    "\n",
    "        lemmaverb = [WordNetLemmatizer().lemmatize(word, pos='v') for word in ansd.split()]\n",
    "        lemmanouns = [WordNetLemmatizer().lemmatize(word, pos='n') for word in lemmaverb]\n",
    "        nans = ' '.join(lemmanouns)\n",
    "        return nans"
   ]
  },
  {
   "cell_type": "code",
   "execution_count": 51,
   "id": "2d03ec30",
   "metadata": {
    "ExecuteTime": {
     "end_time": "2024-12-04T10:43:11.137170Z",
     "start_time": "2024-12-04T10:43:11.128919Z"
    }
   },
   "outputs": [],
   "source": [
    "sentence = 'I had a terrible experience with this medication. After just a few days, I developed severe headaches and constant nausea. It didn’t improve my condition at all, and I had to stop taking it. I wouldn’t recommend it to anyone.'"
   ]
  }
 ],
 "metadata": {
  "kernelspec": {
   "display_name": "Python 3 (ipykernel)",
   "language": "python",
   "name": "python3"
  },
  "language_info": {
   "codemirror_mode": {
    "name": "ipython",
    "version": 3
   },
   "file_extension": ".py",
   "mimetype": "text/x-python",
   "name": "python",
   "nbconvert_exporter": "python",
   "pygments_lexer": "ipython3",
   "version": "3.10.6"
  },
  "toc": {
   "base_numbering": 1,
   "nav_menu": {},
   "number_sections": true,
   "sideBar": true,
   "skip_h1_title": false,
   "title_cell": "Table of Contents",
   "title_sidebar": "Contents",
   "toc_cell": false,
   "toc_position": {},
   "toc_section_display": true,
   "toc_window_display": false
  }
 },
 "nbformat": 4,
 "nbformat_minor": 5
}
