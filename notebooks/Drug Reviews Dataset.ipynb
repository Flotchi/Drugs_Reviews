{
 "cells": [
  {
   "cell_type": "code",
   "execution_count": 2,
   "id": "5d3b1d35",
   "metadata": {
    "ExecuteTime": {
     "end_time": "2024-12-02T09:47:19.294385Z",
     "start_time": "2024-12-02T09:47:14.848053Z"
    }
   },
   "outputs": [
    {
     "name": "stderr",
     "output_type": "stream",
     "text": [
      "[nltk_data] Downloading package stopwords to\n",
      "[nltk_data]     /Users/Flotchi/nltk_data...\n",
      "[nltk_data]   Package stopwords is already up-to-date!\n",
      "[nltk_data] Downloading package punkt to /Users/Flotchi/nltk_data...\n",
      "[nltk_data]   Package punkt is already up-to-date!\n",
      "[nltk_data] Downloading package wordnet to /Users/Flotchi/nltk_data...\n",
      "[nltk_data]   Package wordnet is already up-to-date!\n",
      "[nltk_data] Downloading package omw-1.4 to /Users/Flotchi/nltk_data...\n",
      "[nltk_data]   Package omw-1.4 is already up-to-date!\n",
      "[nltk_data] Downloading package punkt_tab to\n",
      "[nltk_data]     /Users/Flotchi/nltk_data...\n",
      "[nltk_data]   Package punkt_tab is already up-to-date!\n"
     ]
    }
   ],
   "source": [
    "import pandas as pd\n",
    "import numpy as np\n",
    "import os\n",
    "import matplotlib.pyplot as plt\n",
    "from sklearn.model_selection import GridSearchCV\n",
    "from sklearn.pipeline import Pipeline\n",
    "import string\n",
    "import nltk\n",
    "import logic.processing as lp\n",
    "from sklearn.model_selection import cross_validate\n",
    "from sklearn.pipeline import make_pipeline\n",
    "from sklearn.feature_extraction.text import TfidfVectorizer\n",
    "from sklearn.naive_bayes import MultinomialNB\n",
    "from sklearn.svm import SVC\n",
    "from sklearn.ensemble import RandomForestClassifier\n",
    "from sklearn.model_selection import cross_val_predict\n",
    "from sklearn.metrics import confusion_matrix, ConfusionMatrixDisplay"
   ]
  },
  {
   "cell_type": "code",
   "execution_count": 78,
   "id": "945594fa",
   "metadata": {
    "ExecuteTime": {
     "end_time": "2024-12-01T11:55:40.326595Z",
     "start_time": "2024-12-01T11:55:40.032010Z"
    }
   },
   "outputs": [
    {
     "name": "stderr",
     "output_type": "stream",
     "text": [
      "[nltk_data] Downloading package stopwords to\n",
      "[nltk_data]     /Users/Flotchi/nltk_data...\n",
      "[nltk_data]   Package stopwords is already up-to-date!\n",
      "[nltk_data] Downloading package punkt to /Users/Flotchi/nltk_data...\n",
      "[nltk_data]   Package punkt is already up-to-date!\n",
      "[nltk_data] Downloading package wordnet to /Users/Flotchi/nltk_data...\n",
      "[nltk_data]   Package wordnet is already up-to-date!\n",
      "[nltk_data] Downloading package omw-1.4 to /Users/Flotchi/nltk_data...\n",
      "[nltk_data]   Package omw-1.4 is already up-to-date!\n",
      "[nltk_data] Downloading package punkt_tab to\n",
      "[nltk_data]     /Users/Flotchi/nltk_data...\n",
      "[nltk_data]   Package punkt_tab is already up-to-date!\n"
     ]
    },
    {
     "data": {
      "text/plain": [
       "True"
      ]
     },
     "execution_count": 78,
     "metadata": {},
     "output_type": "execute_result"
    }
   ],
   "source": [
    "nltk.download('stopwords')\n",
    "nltk.download('punkt')\n",
    "nltk.download('wordnet')\n",
    "nltk.download('omw-1.4')\n",
    "nltk.download('punkt_tab')"
   ]
  },
  {
   "cell_type": "code",
   "execution_count": 86,
   "id": "4b40da11",
   "metadata": {
    "ExecuteTime": {
     "end_time": "2024-12-01T12:06:52.741915Z",
     "start_time": "2024-12-01T12:06:52.735268Z"
    }
   },
   "outputs": [],
   "source": [
    "from nltk.tokenize import word_tokenize\n",
    "from nltk.corpus import stopwords\n",
    "from nltk.stem import WordNetLemmatizer"
   ]
  },
  {
   "cell_type": "code",
   "execution_count": 3,
   "id": "5ec89b32",
   "metadata": {
    "ExecuteTime": {
     "end_time": "2024-12-02T09:47:19.325094Z",
     "start_time": "2024-12-02T09:47:19.300114Z"
    }
   },
   "outputs": [],
   "source": [
    "path = os.getcwd()"
   ]
  },
  {
   "cell_type": "code",
   "execution_count": 4,
   "id": "27f50979",
   "metadata": {
    "ExecuteTime": {
     "end_time": "2024-12-02T09:47:19.634892Z",
     "start_time": "2024-12-02T09:47:19.610281Z"
    }
   },
   "outputs": [],
   "source": [
    "rpath = os.path.join(os.path.dirname(path),'raw_data', 'drugsComTrain_raw.csv') "
   ]
  },
  {
   "cell_type": "code",
   "execution_count": 5,
   "id": "dc47f632",
   "metadata": {
    "ExecuteTime": {
     "end_time": "2024-12-02T09:47:23.099878Z",
     "start_time": "2024-12-02T09:47:22.045948Z"
    }
   },
   "outputs": [],
   "source": [
    "df = pd.read_csv(rpath)"
   ]
  },
  {
   "cell_type": "code",
   "execution_count": 6,
   "id": "e14f5d26",
   "metadata": {
    "ExecuteTime": {
     "end_time": "2024-12-02T09:47:23.143900Z",
     "start_time": "2024-12-02T09:47:23.103938Z"
    }
   },
   "outputs": [
    {
     "data": {
      "text/html": [
       "<div>\n",
       "<style scoped>\n",
       "    .dataframe tbody tr th:only-of-type {\n",
       "        vertical-align: middle;\n",
       "    }\n",
       "\n",
       "    .dataframe tbody tr th {\n",
       "        vertical-align: top;\n",
       "    }\n",
       "\n",
       "    .dataframe thead th {\n",
       "        text-align: right;\n",
       "    }\n",
       "</style>\n",
       "<table border=\"1\" class=\"dataframe\">\n",
       "  <thead>\n",
       "    <tr style=\"text-align: right;\">\n",
       "      <th></th>\n",
       "      <th>uniqueID</th>\n",
       "      <th>drugName</th>\n",
       "      <th>condition</th>\n",
       "      <th>review</th>\n",
       "      <th>rating</th>\n",
       "      <th>date</th>\n",
       "      <th>usefulCount</th>\n",
       "    </tr>\n",
       "  </thead>\n",
       "  <tbody>\n",
       "    <tr>\n",
       "      <th>0</th>\n",
       "      <td>206461</td>\n",
       "      <td>Valsartan</td>\n",
       "      <td>Left Ventricular Dysfunction</td>\n",
       "      <td>\"It has no side effect, I take it in combinati...</td>\n",
       "      <td>9</td>\n",
       "      <td>20-May-12</td>\n",
       "      <td>27</td>\n",
       "    </tr>\n",
       "    <tr>\n",
       "      <th>1</th>\n",
       "      <td>95260</td>\n",
       "      <td>Guanfacine</td>\n",
       "      <td>ADHD</td>\n",
       "      <td>\"My son is halfway through his fourth week of ...</td>\n",
       "      <td>8</td>\n",
       "      <td>27-Apr-10</td>\n",
       "      <td>192</td>\n",
       "    </tr>\n",
       "    <tr>\n",
       "      <th>2</th>\n",
       "      <td>92703</td>\n",
       "      <td>Lybrel</td>\n",
       "      <td>Birth Control</td>\n",
       "      <td>\"I used to take another oral contraceptive, wh...</td>\n",
       "      <td>5</td>\n",
       "      <td>14-Dec-09</td>\n",
       "      <td>17</td>\n",
       "    </tr>\n",
       "    <tr>\n",
       "      <th>3</th>\n",
       "      <td>138000</td>\n",
       "      <td>Ortho Evra</td>\n",
       "      <td>Birth Control</td>\n",
       "      <td>\"This is my first time using any form of birth...</td>\n",
       "      <td>8</td>\n",
       "      <td>3-Nov-15</td>\n",
       "      <td>10</td>\n",
       "    </tr>\n",
       "    <tr>\n",
       "      <th>4</th>\n",
       "      <td>35696</td>\n",
       "      <td>Buprenorphine / naloxone</td>\n",
       "      <td>Opiate Dependence</td>\n",
       "      <td>\"Suboxone has completely turned my life around...</td>\n",
       "      <td>9</td>\n",
       "      <td>27-Nov-16</td>\n",
       "      <td>37</td>\n",
       "    </tr>\n",
       "  </tbody>\n",
       "</table>\n",
       "</div>"
      ],
      "text/plain": [
       "   uniqueID                  drugName                     condition  \\\n",
       "0    206461                 Valsartan  Left Ventricular Dysfunction   \n",
       "1     95260                Guanfacine                          ADHD   \n",
       "2     92703                    Lybrel                 Birth Control   \n",
       "3    138000                Ortho Evra                 Birth Control   \n",
       "4     35696  Buprenorphine / naloxone             Opiate Dependence   \n",
       "\n",
       "                                              review  rating       date  \\\n",
       "0  \"It has no side effect, I take it in combinati...       9  20-May-12   \n",
       "1  \"My son is halfway through his fourth week of ...       8  27-Apr-10   \n",
       "2  \"I used to take another oral contraceptive, wh...       5  14-Dec-09   \n",
       "3  \"This is my first time using any form of birth...       8   3-Nov-15   \n",
       "4  \"Suboxone has completely turned my life around...       9  27-Nov-16   \n",
       "\n",
       "   usefulCount  \n",
       "0           27  \n",
       "1          192  \n",
       "2           17  \n",
       "3           10  \n",
       "4           37  "
      ]
     },
     "execution_count": 6,
     "metadata": {},
     "output_type": "execute_result"
    }
   ],
   "source": [
    "df.head()"
   ]
  },
  {
   "cell_type": "code",
   "execution_count": 7,
   "id": "b3413d40",
   "metadata": {
    "ExecuteTime": {
     "end_time": "2024-12-02T09:47:24.445953Z",
     "start_time": "2024-12-02T09:47:24.438044Z"
    }
   },
   "outputs": [
    {
     "data": {
      "text/plain": [
       "(161297, 7)"
      ]
     },
     "execution_count": 7,
     "metadata": {},
     "output_type": "execute_result"
    }
   ],
   "source": [
    "df.shape"
   ]
  },
  {
   "cell_type": "code",
   "execution_count": 8,
   "id": "2276ba29",
   "metadata": {
    "ExecuteTime": {
     "end_time": "2024-12-02T09:47:25.498855Z",
     "start_time": "2024-12-02T09:47:25.443807Z"
    }
   },
   "outputs": [
    {
     "data": {
      "text/plain": [
       "uniqueID         0\n",
       "drugName         0\n",
       "condition      899\n",
       "review           0\n",
       "rating           0\n",
       "date             0\n",
       "usefulCount      0\n",
       "dtype: int64"
      ]
     },
     "execution_count": 8,
     "metadata": {},
     "output_type": "execute_result"
    }
   ],
   "source": [
    "df.isnull().sum()"
   ]
  },
  {
   "cell_type": "code",
   "execution_count": 17,
   "id": "d0e609d2",
   "metadata": {
    "ExecuteTime": {
     "end_time": "2024-12-02T09:52:06.446443Z",
     "start_time": "2024-12-02T09:52:06.400823Z"
    }
   },
   "outputs": [
    {
     "data": {
      "text/plain": [
       "drugName                         \n",
       "Levonorgestrel                       3657\n",
       "Etonogestrel                         3336\n",
       "Ethinyl estradiol / norethindrone    2850\n",
       "Nexplanon                            2156\n",
       "Ethinyl estradiol / norgestimate     2117\n",
       "                                     ... \n",
       "Fludarabine                             1\n",
       "Fludara                                 1\n",
       "FluMist Quadrivalent                    1\n",
       "Floxin                                  1\n",
       "A + D Cracked Skin Relief               1\n",
       "Name: count, Length: 3436, dtype: int64"
      ]
     },
     "execution_count": 17,
     "metadata": {},
     "output_type": "execute_result"
    }
   ],
   "source": [
    "df[[('drugName')]].value_counts()"
   ]
  },
  {
   "cell_type": "code",
   "execution_count": 11,
   "id": "3117a1fd",
   "metadata": {
    "ExecuteTime": {
     "end_time": "2024-12-02T09:48:10.527230Z",
     "start_time": "2024-12-02T09:48:10.498680Z"
    }
   },
   "outputs": [
    {
     "data": {
      "text/plain": [
       "(161297, 100.0)"
      ]
     },
     "execution_count": 11,
     "metadata": {},
     "output_type": "execute_result"
    }
   ],
   "source": [
    "condition_distribution = df['drugName'].value_counts()\n",
    "\n",
    "num_non_null_conditions = df['drugName'].notnull().sum()\n",
    "\n",
    "proportion_defined_conditions = num_non_null_conditions / len(df) * 100\n",
    "\n",
    "num_non_null_conditions, proportion_defined_conditions"
   ]
  },
  {
   "cell_type": "code",
   "execution_count": 12,
   "id": "a208dd73",
   "metadata": {
    "ExecuteTime": {
     "end_time": "2024-12-02T09:48:14.101102Z",
     "start_time": "2024-12-02T09:48:14.094985Z"
    }
   },
   "outputs": [],
   "source": [
    "top_conditions = condition_distribution.head(10)"
   ]
  },
  {
   "cell_type": "code",
   "execution_count": 14,
   "id": "f1f6ffd8",
   "metadata": {
    "ExecuteTime": {
     "end_time": "2024-12-02T09:48:23.403732Z",
     "start_time": "2024-12-02T09:48:23.395196Z"
    }
   },
   "outputs": [
    {
     "data": {
      "text/plain": [
       "['Levonorgestrel',\n",
       " 'Etonogestrel',\n",
       " 'Ethinyl estradiol / norethindrone',\n",
       " 'Nexplanon',\n",
       " 'Ethinyl estradiol / norgestimate',\n",
       " 'Ethinyl estradiol / levonorgestrel',\n",
       " 'Phentermine',\n",
       " 'Sertraline',\n",
       " 'Escitalopram',\n",
       " 'Mirena']"
      ]
     },
     "execution_count": 14,
     "metadata": {},
     "output_type": "execute_result"
    }
   ],
   "source": [
    "top_conditions_list = top_conditions.index.tolist()\n",
    "top_conditions_list"
   ]
  },
  {
   "cell_type": "markdown",
   "id": "c7dd8737",
   "metadata": {},
   "source": [
    "1. Filtrer top 10 conditions\n",
    "2. DropNA\n",
    "3. Filtrer top usefulcount\n",
    "4. Filtrer review len < X"
   ]
  },
  {
   "cell_type": "code",
   "execution_count": 15,
   "id": "5c4f5a77",
   "metadata": {
    "ExecuteTime": {
     "end_time": "2024-12-02T09:50:10.419449Z",
     "start_time": "2024-12-02T09:50:10.400328Z"
    }
   },
   "outputs": [],
   "source": [
    "df_top10 = df[df['drugName'].isin(top_conditions_list)]"
   ]
  },
  {
   "cell_type": "code",
   "execution_count": 16,
   "id": "a3a1fe75",
   "metadata": {
    "ExecuteTime": {
     "end_time": "2024-12-02T09:50:10.885785Z",
     "start_time": "2024-12-02T09:50:10.872814Z"
    }
   },
   "outputs": [
    {
     "data": {
      "text/plain": [
       "(21441, 7)"
      ]
     },
     "execution_count": 16,
     "metadata": {},
     "output_type": "execute_result"
    }
   ],
   "source": [
    "df_top10.shape"
   ]
  },
  {
   "cell_type": "code",
   "execution_count": 50,
   "id": "b5234331",
   "metadata": {
    "ExecuteTime": {
     "end_time": "2024-12-01T11:38:27.800115Z",
     "start_time": "2024-12-01T11:38:27.764680Z"
    }
   },
   "outputs": [],
   "source": [
    "df_top10 = df_top10.dropna()"
   ]
  },
  {
   "cell_type": "code",
   "execution_count": 51,
   "id": "fa9dbfdf",
   "metadata": {
    "ExecuteTime": {
     "end_time": "2024-12-01T11:38:33.844895Z",
     "start_time": "2024-12-01T11:38:33.836273Z"
    }
   },
   "outputs": [
    {
     "data": {
      "text/plain": [
       "(73951, 7)"
      ]
     },
     "execution_count": 51,
     "metadata": {},
     "output_type": "execute_result"
    }
   ],
   "source": [
    "df_top10.shape"
   ]
  },
  {
   "cell_type": "code",
   "execution_count": 56,
   "id": "c97305b2",
   "metadata": {
    "ExecuteTime": {
     "end_time": "2024-12-01T11:40:45.616189Z",
     "start_time": "2024-12-01T11:40:45.585037Z"
    }
   },
   "outputs": [],
   "source": [
    "df_top10 = df_top10[df_top10['usefulCount']>0]"
   ]
  },
  {
   "cell_type": "code",
   "execution_count": 57,
   "id": "b634264b",
   "metadata": {
    "ExecuteTime": {
     "end_time": "2024-12-01T11:40:57.018047Z",
     "start_time": "2024-12-01T11:40:57.009171Z"
    }
   },
   "outputs": [
    {
     "data": {
      "text/plain": [
       "(70543, 7)"
      ]
     },
     "execution_count": 57,
     "metadata": {},
     "output_type": "execute_result"
    }
   ],
   "source": [
    "df_top10.shape"
   ]
  },
  {
   "cell_type": "code",
   "execution_count": 66,
   "id": "1d3527af",
   "metadata": {
    "ExecuteTime": {
     "end_time": "2024-12-01T11:43:30.968860Z",
     "start_time": "2024-12-01T11:43:30.958748Z"
    }
   },
   "outputs": [
    {
     "data": {
      "text/plain": [
       "755"
      ]
     },
     "execution_count": 66,
     "metadata": {},
     "output_type": "execute_result"
    }
   ],
   "source": [
    "len(df_top10.review.iloc[1])"
   ]
  },
  {
   "cell_type": "code",
   "execution_count": 68,
   "id": "915aa833",
   "metadata": {
    "ExecuteTime": {
     "end_time": "2024-12-01T11:46:46.410030Z",
     "start_time": "2024-12-01T11:46:46.402074Z"
    }
   },
   "outputs": [
    {
     "data": {
      "text/plain": [
       "134"
      ]
     },
     "execution_count": 68,
     "metadata": {},
     "output_type": "execute_result"
    }
   ],
   "source": [
    "len(df_top10.review.iloc[1].split())"
   ]
  },
  {
   "cell_type": "code",
   "execution_count": 69,
   "id": "66fee69d",
   "metadata": {
    "ExecuteTime": {
     "end_time": "2024-12-01T11:47:30.061439Z",
     "start_time": "2024-12-01T11:47:29.542039Z"
    }
   },
   "outputs": [],
   "source": [
    "df_top10['review_length'] = df_top10['review'].apply(lambda x: len(str(x).split()))"
   ]
  },
  {
   "cell_type": "code",
   "execution_count": 70,
   "id": "4d5489a8",
   "metadata": {
    "ExecuteTime": {
     "end_time": "2024-12-01T11:47:48.399239Z",
     "start_time": "2024-12-01T11:47:48.375653Z"
    }
   },
   "outputs": [],
   "source": [
    "review_length_distribution = df_top10['review_length'].describe()"
   ]
  },
  {
   "cell_type": "code",
   "execution_count": 71,
   "id": "a26724e8",
   "metadata": {
    "ExecuteTime": {
     "end_time": "2024-12-01T11:47:52.118844Z",
     "start_time": "2024-12-01T11:47:52.108650Z"
    }
   },
   "outputs": [
    {
     "data": {
      "text/plain": [
       "count    70543.000000\n",
       "mean        91.194888\n",
       "std         43.440591\n",
       "min          1.000000\n",
       "25%         57.000000\n",
       "50%         94.000000\n",
       "75%        130.000000\n",
       "max       1107.000000\n",
       "Name: review_length, dtype: float64"
      ]
     },
     "execution_count": 71,
     "metadata": {},
     "output_type": "execute_result"
    }
   ],
   "source": [
    "review_length_distribution"
   ]
  },
  {
   "cell_type": "code",
   "execution_count": 74,
   "id": "330896ea",
   "metadata": {
    "ExecuteTime": {
     "end_time": "2024-12-01T11:49:38.909900Z",
     "start_time": "2024-12-01T11:49:38.694238Z"
    }
   },
   "outputs": [
    {
     "data": {
      "text/plain": [
       "(array([4.3070e+04, 2.7361e+04, 7.1000e+01, 2.1000e+01, 9.0000e+00,\n",
       "        8.0000e+00, 2.0000e+00, 0.0000e+00, 0.0000e+00, 1.0000e+00]),\n",
       " array([1.000e+00, 1.116e+02, 2.222e+02, 3.328e+02, 4.434e+02, 5.540e+02,\n",
       "        6.646e+02, 7.752e+02, 8.858e+02, 9.964e+02, 1.107e+03]),\n",
       " <BarContainer object of 10 artists>)"
      ]
     },
     "execution_count": 74,
     "metadata": {},
     "output_type": "execute_result"
    },
    {
     "data": {
      "image/png": "[encoded data removed]",
      "text/plain": [
       "<Figure size 640x480 with 1 Axes>"
      ]
     },
     "metadata": {},
     "output_type": "display_data"
    }
   ],
   "source": [
    "plt.hist(df_top10['review_length'])"
   ]
  },
  {
   "cell_type": "code",
   "execution_count": 75,
   "id": "98169efb",
   "metadata": {
    "ExecuteTime": {
     "end_time": "2024-12-01T11:51:46.749885Z",
     "start_time": "2024-12-01T11:51:46.735817Z"
    }
   },
   "outputs": [],
   "source": [
    "df_top10 = df_top10[df_top10.review_length>=30]"
   ]
  },
  {
   "cell_type": "code",
   "execution_count": 76,
   "id": "2599d26a",
   "metadata": {
    "ExecuteTime": {
     "end_time": "2024-12-01T11:51:51.885668Z",
     "start_time": "2024-12-01T11:51:51.877469Z"
    }
   },
   "outputs": [
    {
     "data": {
      "text/plain": [
       "(63888, 8)"
      ]
     },
     "execution_count": 76,
     "metadata": {},
     "output_type": "execute_result"
    }
   ],
   "source": [
    "df_top10.shape"
   ]
  },
  {
   "cell_type": "code",
   "execution_count": 87,
   "id": "33ed5f35",
   "metadata": {
    "ExecuteTime": {
     "end_time": "2024-12-01T12:06:59.633104Z",
     "start_time": "2024-12-01T12:06:59.622685Z"
    }
   },
   "outputs": [],
   "source": [
    "def process(st):\n",
    "        for punc in string.punctuation:\n",
    "            st = st.replace(punc, '')\n",
    "        ans = st.casefold().replace('\\n', ' ')\n",
    "        ansd = ''.join(x for x in ans if not x.isdigit())\n",
    "        stop = set(stopwords.words('english'))\n",
    "        tokens = word_tokenize(ansd)\n",
    "        ansdd = [y for y in tokens if y not in stop]\n",
    "        lemmaverb = [WordNetLemmatizer().lemmatize(word, pos='v') for word in ansdd]\n",
    "        lemmanouns = [WordNetLemmatizer().lemmatize(word, pos='n') for word in lemmaverb]\n",
    "        nans = ' '.join(lemmanouns)\n",
    "        return nans"
   ]
  },
  {
   "cell_type": "code",
   "execution_count": 88,
   "id": "303982a8",
   "metadata": {
    "ExecuteTime": {
     "end_time": "2024-12-01T12:08:30.134295Z",
     "start_time": "2024-12-01T12:07:00.499133Z"
    }
   },
   "outputs": [],
   "source": [
    "df_top10['review clean'] = df_top10.review.apply(process)"
   ]
  },
  {
   "cell_type": "code",
   "execution_count": 89,
   "id": "5decbcad",
   "metadata": {
    "ExecuteTime": {
     "end_time": "2024-12-01T12:09:15.554157Z",
     "start_time": "2024-12-01T12:09:15.535454Z"
    },
    "collapsed": true
   },
   "outputs": [
    {
     "data": {
      "text/html": [
       "<div>\n",
       "<style scoped>\n",
       "    .dataframe tbody tr th:only-of-type {\n",
       "        vertical-align: middle;\n",
       "    }\n",
       "\n",
       "    .dataframe tbody tr th {\n",
       "        vertical-align: top;\n",
       "    }\n",
       "\n",
       "    .dataframe thead th {\n",
       "        text-align: right;\n",
       "    }\n",
       "</style>\n",
       "<table border=\"1\" class=\"dataframe\">\n",
       "  <thead>\n",
       "    <tr style=\"text-align: right;\">\n",
       "      <th></th>\n",
       "      <th>uniqueID</th>\n",
       "      <th>drugName</th>\n",
       "      <th>condition</th>\n",
       "      <th>review</th>\n",
       "      <th>rating</th>\n",
       "      <th>date</th>\n",
       "      <th>usefulCount</th>\n",
       "      <th>review_length</th>\n",
       "      <th>review clean</th>\n",
       "    </tr>\n",
       "  </thead>\n",
       "  <tbody>\n",
       "    <tr>\n",
       "      <th>1</th>\n",
       "      <td>95260</td>\n",
       "      <td>Guanfacine</td>\n",
       "      <td>ADHD</td>\n",
       "      <td>\"My son is halfway through his fourth week of ...</td>\n",
       "      <td>8</td>\n",
       "      <td>27-Apr-10</td>\n",
       "      <td>192</td>\n",
       "      <td>141</td>\n",
       "      <td>son halfway fourth week intuniv become concern...</td>\n",
       "    </tr>\n",
       "    <tr>\n",
       "      <th>2</th>\n",
       "      <td>92703</td>\n",
       "      <td>Lybrel</td>\n",
       "      <td>Birth Control</td>\n",
       "      <td>\"I used to take another oral contraceptive, wh...</td>\n",
       "      <td>5</td>\n",
       "      <td>14-Dec-09</td>\n",
       "      <td>17</td>\n",
       "      <td>134</td>\n",
       "      <td>use take another oral contraceptive pill cycle...</td>\n",
       "    </tr>\n",
       "    <tr>\n",
       "      <th>3</th>\n",
       "      <td>138000</td>\n",
       "      <td>Ortho Evra</td>\n",
       "      <td>Birth Control</td>\n",
       "      <td>\"This is my first time using any form of birth...</td>\n",
       "      <td>8</td>\n",
       "      <td>3-Nov-15</td>\n",
       "      <td>10</td>\n",
       "      <td>89</td>\n",
       "      <td>first time use form birth control im glad go p...</td>\n",
       "    </tr>\n",
       "    <tr>\n",
       "      <th>7</th>\n",
       "      <td>102654</td>\n",
       "      <td>Aripiprazole</td>\n",
       "      <td>Bipolar Disorde</td>\n",
       "      <td>\"Abilify changed my life. There is hope. I was...</td>\n",
       "      <td>10</td>\n",
       "      <td>14-Mar-15</td>\n",
       "      <td>32</td>\n",
       "      <td>146</td>\n",
       "      <td>abilify change life hope zoloft clonidine firs...</td>\n",
       "    </tr>\n",
       "    <tr>\n",
       "      <th>9</th>\n",
       "      <td>48928</td>\n",
       "      <td>Ethinyl estradiol / levonorgestrel</td>\n",
       "      <td>Birth Control</td>\n",
       "      <td>\"I had been on the pill for many years. When m...</td>\n",
       "      <td>8</td>\n",
       "      <td>8-Dec-16</td>\n",
       "      <td>1</td>\n",
       "      <td>142</td>\n",
       "      <td>pill many year doctor change rx chateal effect...</td>\n",
       "    </tr>\n",
       "  </tbody>\n",
       "</table>\n",
       "</div>"
      ],
      "text/plain": [
       "   uniqueID                            drugName        condition  \\\n",
       "1     95260                          Guanfacine             ADHD   \n",
       "2     92703                              Lybrel    Birth Control   \n",
       "3    138000                          Ortho Evra    Birth Control   \n",
       "7    102654                        Aripiprazole  Bipolar Disorde   \n",
       "9     48928  Ethinyl estradiol / levonorgestrel    Birth Control   \n",
       "\n",
       "                                              review  rating       date  \\\n",
       "1  \"My son is halfway through his fourth week of ...       8  27-Apr-10   \n",
       "2  \"I used to take another oral contraceptive, wh...       5  14-Dec-09   \n",
       "3  \"This is my first time using any form of birth...       8   3-Nov-15   \n",
       "7  \"Abilify changed my life. There is hope. I was...      10  14-Mar-15   \n",
       "9  \"I had been on the pill for many years. When m...       8   8-Dec-16   \n",
       "\n",
       "   usefulCount  review_length  \\\n",
       "1          192            141   \n",
       "2           17            134   \n",
       "3           10             89   \n",
       "7           32            146   \n",
       "9            1            142   \n",
       "\n",
       "                                        review clean  \n",
       "1  son halfway fourth week intuniv become concern...  \n",
       "2  use take another oral contraceptive pill cycle...  \n",
       "3  first time use form birth control im glad go p...  \n",
       "7  abilify change life hope zoloft clonidine firs...  \n",
       "9  pill many year doctor change rx chateal effect...  "
      ]
     },
     "execution_count": 89,
     "metadata": {},
     "output_type": "execute_result"
    }
   ],
   "source": [
    "df_top10.head()"
   ]
  },
  {
   "cell_type": "code",
   "execution_count": 93,
   "id": "81602384",
   "metadata": {
    "ExecuteTime": {
     "end_time": "2024-12-01T12:12:05.810373Z",
     "start_time": "2024-12-01T12:12:05.804983Z"
    }
   },
   "outputs": [],
   "source": [
    "X = df_top10['review clean']\n",
    "y = df_top10['condition']"
   ]
  },
  {
   "cell_type": "code",
   "execution_count": 144,
   "id": "3e27ac3b",
   "metadata": {
    "ExecuteTime": {
     "end_time": "2024-12-01T13:03:41.106449Z",
     "start_time": "2024-12-01T13:03:41.100308Z"
    }
   },
   "outputs": [],
   "source": [
    "pipeline = make_pipeline(TfidfVectorizer(),\n",
    "                         MultinomialNB())"
   ]
  },
  {
   "cell_type": "code",
   "execution_count": 96,
   "id": "6bd3344e",
   "metadata": {
    "ExecuteTime": {
     "end_time": "2024-12-01T12:15:07.503782Z",
     "start_time": "2024-12-01T12:14:50.143846Z"
    }
   },
   "outputs": [],
   "source": [
    "cross_val = cross_validate(pipeline,X,y, cv=5, scoring='accuracy')"
   ]
  },
  {
   "cell_type": "code",
   "execution_count": 99,
   "id": "6e290c6e",
   "metadata": {
    "ExecuteTime": {
     "end_time": "2024-12-01T12:15:59.391489Z",
     "start_time": "2024-12-01T12:15:59.382152Z"
    }
   },
   "outputs": [
    {
     "data": {
      "text/plain": [
       "0.8724017086726737"
      ]
     },
     "execution_count": 99,
     "metadata": {},
     "output_type": "execute_result"
    }
   ],
   "source": [
    "cross_val['test_score'].mean()"
   ]
  },
  {
   "cell_type": "code",
   "execution_count": 104,
   "id": "9249c7e1",
   "metadata": {
    "ExecuteTime": {
     "end_time": "2024-12-01T12:19:55.015516Z",
     "start_time": "2024-12-01T12:19:49.965144Z"
    }
   },
   "outputs": [
    {
     "ename": "KeyboardInterrupt",
     "evalue": "",
     "output_type": "error",
     "traceback": [
      "\u001b[0;31m---------------------------------------------------------------------------\u001b[0m",
      "\u001b[0;31mKeyboardInterrupt\u001b[0m                         Traceback (most recent call last)",
      "Cell \u001b[0;32mIn[104], line 1\u001b[0m\n\u001b[0;32m----> 1\u001b[0m y_pred \u001b[38;5;241m=\u001b[39m \u001b[43mcross_val_predict\u001b[49m\u001b[43m(\u001b[49m\u001b[43mpipeline\u001b[49m\u001b[43m,\u001b[49m\u001b[43m \u001b[49m\u001b[43mX\u001b[49m\u001b[43m,\u001b[49m\u001b[43m \u001b[49m\u001b[43my\u001b[49m\u001b[43m,\u001b[49m\u001b[43m \u001b[49m\u001b[43mcv\u001b[49m\u001b[38;5;241;43m=\u001b[39;49m\u001b[38;5;241;43m5\u001b[39;49m\u001b[43m)\u001b[49m\n\u001b[1;32m      2\u001b[0m cm \u001b[38;5;241m=\u001b[39m confusion_matrix(y, y_pred)\n",
      "File \u001b[0;32m~/.pyenv/versions/3.10.6/envs/Mental_Health_Risks/lib/python3.10/site-packages/sklearn/utils/_param_validation.py:213\u001b[0m, in \u001b[0;36mvalidate_params.<locals>.decorator.<locals>.wrapper\u001b[0;34m(*args, **kwargs)\u001b[0m\n\u001b[1;32m    207\u001b[0m \u001b[38;5;28;01mtry\u001b[39;00m:\n\u001b[1;32m    208\u001b[0m     \u001b[38;5;28;01mwith\u001b[39;00m config_context(\n\u001b[1;32m    209\u001b[0m         skip_parameter_validation\u001b[38;5;241m=\u001b[39m(\n\u001b[1;32m    210\u001b[0m             prefer_skip_nested_validation \u001b[38;5;129;01mor\u001b[39;00m global_skip_validation\n\u001b[1;32m    211\u001b[0m         )\n\u001b[1;32m    212\u001b[0m     ):\n\u001b[0;32m--> 213\u001b[0m         \u001b[38;5;28;01mreturn\u001b[39;00m \u001b[43mfunc\u001b[49m\u001b[43m(\u001b[49m\u001b[38;5;241;43m*\u001b[39;49m\u001b[43margs\u001b[49m\u001b[43m,\u001b[49m\u001b[43m \u001b[49m\u001b[38;5;241;43m*\u001b[39;49m\u001b[38;5;241;43m*\u001b[39;49m\u001b[43mkwargs\u001b[49m\u001b[43m)\u001b[49m\n\u001b[1;32m    214\u001b[0m \u001b[38;5;28;01mexcept\u001b[39;00m InvalidParameterError \u001b[38;5;28;01mas\u001b[39;00m e:\n\u001b[1;32m    215\u001b[0m     \u001b[38;5;66;03m# When the function is just a wrapper around an estimator, we allow\u001b[39;00m\n\u001b[1;32m    216\u001b[0m     \u001b[38;5;66;03m# the function to delegate validation to the estimator, but we replace\u001b[39;00m\n\u001b[1;32m    217\u001b[0m     \u001b[38;5;66;03m# the name of the estimator by the name of the function in the error\u001b[39;00m\n\u001b[1;32m    218\u001b[0m     \u001b[38;5;66;03m# message to avoid confusion.\u001b[39;00m\n\u001b[1;32m    219\u001b[0m     msg \u001b[38;5;241m=\u001b[39m re\u001b[38;5;241m.\u001b[39msub(\n\u001b[1;32m    220\u001b[0m         \u001b[38;5;124mr\u001b[39m\u001b[38;5;124m\"\u001b[39m\u001b[38;5;124mparameter of \u001b[39m\u001b[38;5;124m\\\u001b[39m\u001b[38;5;124mw+ must be\u001b[39m\u001b[38;5;124m\"\u001b[39m,\n\u001b[1;32m    221\u001b[0m         \u001b[38;5;124mf\u001b[39m\u001b[38;5;124m\"\u001b[39m\u001b[38;5;124mparameter of \u001b[39m\u001b[38;5;132;01m{\u001b[39;00mfunc\u001b[38;5;241m.\u001b[39m\u001b[38;5;18m__qualname__\u001b[39m\u001b[38;5;132;01m}\u001b[39;00m\u001b[38;5;124m must be\u001b[39m\u001b[38;5;124m\"\u001b[39m,\n\u001b[1;32m    222\u001b[0m         \u001b[38;5;28mstr\u001b[39m(e),\n\u001b[1;32m    223\u001b[0m     )\n",
      "File \u001b[0;32m~/.pyenv/versions/3.10.6/envs/Mental_Health_Risks/lib/python3.10/site-packages/sklearn/model_selection/_validation.py:1282\u001b[0m, in \u001b[0;36mcross_val_predict\u001b[0;34m(estimator, X, y, groups, cv, n_jobs, verbose, fit_params, params, pre_dispatch, method)\u001b[0m\n\u001b[1;32m   1279\u001b[0m \u001b[38;5;66;03m# We clone the estimator to make sure that all the folds are\u001b[39;00m\n\u001b[1;32m   1280\u001b[0m \u001b[38;5;66;03m# independent, and that it is pickle-able.\u001b[39;00m\n\u001b[1;32m   1281\u001b[0m parallel \u001b[38;5;241m=\u001b[39m Parallel(n_jobs\u001b[38;5;241m=\u001b[39mn_jobs, verbose\u001b[38;5;241m=\u001b[39mverbose, pre_dispatch\u001b[38;5;241m=\u001b[39mpre_dispatch)\n\u001b[0;32m-> 1282\u001b[0m predictions \u001b[38;5;241m=\u001b[39m \u001b[43mparallel\u001b[49m\u001b[43m(\u001b[49m\n\u001b[1;32m   1283\u001b[0m \u001b[43m    \u001b[49m\u001b[43mdelayed\u001b[49m\u001b[43m(\u001b[49m\u001b[43m_fit_and_predict\u001b[49m\u001b[43m)\u001b[49m\u001b[43m(\u001b[49m\n\u001b[1;32m   1284\u001b[0m \u001b[43m        \u001b[49m\u001b[43mclone\u001b[49m\u001b[43m(\u001b[49m\u001b[43mestimator\u001b[49m\u001b[43m)\u001b[49m\u001b[43m,\u001b[49m\n\u001b[1;32m   1285\u001b[0m \u001b[43m        \u001b[49m\u001b[43mX\u001b[49m\u001b[43m,\u001b[49m\n\u001b[1;32m   1286\u001b[0m \u001b[43m        \u001b[49m\u001b[43my\u001b[49m\u001b[43m,\u001b[49m\n\u001b[1;32m   1287\u001b[0m \u001b[43m        \u001b[49m\u001b[43mtrain\u001b[49m\u001b[43m,\u001b[49m\n\u001b[1;32m   1288\u001b[0m \u001b[43m        \u001b[49m\u001b[43mtest\u001b[49m\u001b[43m,\u001b[49m\n\u001b[1;32m   1289\u001b[0m \u001b[43m        \u001b[49m\u001b[43mrouted_params\u001b[49m\u001b[38;5;241;43m.\u001b[39;49m\u001b[43mestimator\u001b[49m\u001b[38;5;241;43m.\u001b[39;49m\u001b[43mfit\u001b[49m\u001b[43m,\u001b[49m\n\u001b[1;32m   1290\u001b[0m \u001b[43m        \u001b[49m\u001b[43mmethod\u001b[49m\u001b[43m,\u001b[49m\n\u001b[1;32m   1291\u001b[0m \u001b[43m    \u001b[49m\u001b[43m)\u001b[49m\n\u001b[1;32m   1292\u001b[0m \u001b[43m    \u001b[49m\u001b[38;5;28;43;01mfor\u001b[39;49;00m\u001b[43m \u001b[49m\u001b[43mtrain\u001b[49m\u001b[43m,\u001b[49m\u001b[43m \u001b[49m\u001b[43mtest\u001b[49m\u001b[43m \u001b[49m\u001b[38;5;129;43;01min\u001b[39;49;00m\u001b[43m \u001b[49m\u001b[43msplits\u001b[49m\n\u001b[1;32m   1293\u001b[0m \u001b[43m\u001b[49m\u001b[43m)\u001b[49m\n\u001b[1;32m   1295\u001b[0m inv_test_indices \u001b[38;5;241m=\u001b[39m np\u001b[38;5;241m.\u001b[39mempty(\u001b[38;5;28mlen\u001b[39m(test_indices), dtype\u001b[38;5;241m=\u001b[39m\u001b[38;5;28mint\u001b[39m)\n\u001b[1;32m   1296\u001b[0m inv_test_indices[test_indices] \u001b[38;5;241m=\u001b[39m np\u001b[38;5;241m.\u001b[39marange(\u001b[38;5;28mlen\u001b[39m(test_indices))\n",
      "File \u001b[0;32m~/.pyenv/versions/3.10.6/envs/Mental_Health_Risks/lib/python3.10/site-packages/sklearn/utils/parallel.py:74\u001b[0m, in \u001b[0;36mParallel.__call__\u001b[0;34m(self, iterable)\u001b[0m\n\u001b[1;32m     69\u001b[0m config \u001b[38;5;241m=\u001b[39m get_config()\n\u001b[1;32m     70\u001b[0m iterable_with_config \u001b[38;5;241m=\u001b[39m (\n\u001b[1;32m     71\u001b[0m     (_with_config(delayed_func, config), args, kwargs)\n\u001b[1;32m     72\u001b[0m     \u001b[38;5;28;01mfor\u001b[39;00m delayed_func, args, kwargs \u001b[38;5;129;01min\u001b[39;00m iterable\n\u001b[1;32m     73\u001b[0m )\n\u001b[0;32m---> 74\u001b[0m \u001b[38;5;28;01mreturn\u001b[39;00m \u001b[38;5;28;43msuper\u001b[39;49m\u001b[43m(\u001b[49m\u001b[43m)\u001b[49m\u001b[38;5;241;43m.\u001b[39;49m\u001b[38;5;21;43m__call__\u001b[39;49m\u001b[43m(\u001b[49m\u001b[43miterable_with_config\u001b[49m\u001b[43m)\u001b[49m\n",
      "File \u001b[0;32m~/.pyenv/versions/3.10.6/envs/Mental_Health_Risks/lib/python3.10/site-packages/joblib/parallel.py:1918\u001b[0m, in \u001b[0;36mParallel.__call__\u001b[0;34m(self, iterable)\u001b[0m\n\u001b[1;32m   1916\u001b[0m     output \u001b[38;5;241m=\u001b[39m \u001b[38;5;28mself\u001b[39m\u001b[38;5;241m.\u001b[39m_get_sequential_output(iterable)\n\u001b[1;32m   1917\u001b[0m     \u001b[38;5;28mnext\u001b[39m(output)\n\u001b[0;32m-> 1918\u001b[0m     \u001b[38;5;28;01mreturn\u001b[39;00m output \u001b[38;5;28;01mif\u001b[39;00m \u001b[38;5;28mself\u001b[39m\u001b[38;5;241m.\u001b[39mreturn_generator \u001b[38;5;28;01melse\u001b[39;00m \u001b[38;5;28;43mlist\u001b[39;49m\u001b[43m(\u001b[49m\u001b[43moutput\u001b[49m\u001b[43m)\u001b[49m\n\u001b[1;32m   1920\u001b[0m \u001b[38;5;66;03m# Let's create an ID that uniquely identifies the current call. If the\u001b[39;00m\n\u001b[1;32m   1921\u001b[0m \u001b[38;5;66;03m# call is interrupted early and that the same instance is immediately\u001b[39;00m\n\u001b[1;32m   1922\u001b[0m \u001b[38;5;66;03m# re-used, this id will be used to prevent workers that were\u001b[39;00m\n\u001b[1;32m   1923\u001b[0m \u001b[38;5;66;03m# concurrently finalizing a task from the previous call to run the\u001b[39;00m\n\u001b[1;32m   1924\u001b[0m \u001b[38;5;66;03m# callback.\u001b[39;00m\n\u001b[1;32m   1925\u001b[0m \u001b[38;5;28;01mwith\u001b[39;00m \u001b[38;5;28mself\u001b[39m\u001b[38;5;241m.\u001b[39m_lock:\n",
      "File \u001b[0;32m~/.pyenv/versions/3.10.6/envs/Mental_Health_Risks/lib/python3.10/site-packages/joblib/parallel.py:1847\u001b[0m, in \u001b[0;36mParallel._get_sequential_output\u001b[0;34m(self, iterable)\u001b[0m\n\u001b[1;32m   1845\u001b[0m \u001b[38;5;28mself\u001b[39m\u001b[38;5;241m.\u001b[39mn_dispatched_batches \u001b[38;5;241m+\u001b[39m\u001b[38;5;241m=\u001b[39m \u001b[38;5;241m1\u001b[39m\n\u001b[1;32m   1846\u001b[0m \u001b[38;5;28mself\u001b[39m\u001b[38;5;241m.\u001b[39mn_dispatched_tasks \u001b[38;5;241m+\u001b[39m\u001b[38;5;241m=\u001b[39m \u001b[38;5;241m1\u001b[39m\n\u001b[0;32m-> 1847\u001b[0m res \u001b[38;5;241m=\u001b[39m \u001b[43mfunc\u001b[49m\u001b[43m(\u001b[49m\u001b[38;5;241;43m*\u001b[39;49m\u001b[43margs\u001b[49m\u001b[43m,\u001b[49m\u001b[43m \u001b[49m\u001b[38;5;241;43m*\u001b[39;49m\u001b[38;5;241;43m*\u001b[39;49m\u001b[43mkwargs\u001b[49m\u001b[43m)\u001b[49m\n\u001b[1;32m   1848\u001b[0m \u001b[38;5;28mself\u001b[39m\u001b[38;5;241m.\u001b[39mn_completed_tasks \u001b[38;5;241m+\u001b[39m\u001b[38;5;241m=\u001b[39m \u001b[38;5;241m1\u001b[39m\n\u001b[1;32m   1849\u001b[0m \u001b[38;5;28mself\u001b[39m\u001b[38;5;241m.\u001b[39mprint_progress()\n",
      "File \u001b[0;32m~/.pyenv/versions/3.10.6/envs/Mental_Health_Risks/lib/python3.10/site-packages/sklearn/utils/parallel.py:136\u001b[0m, in \u001b[0;36m_FuncWrapper.__call__\u001b[0;34m(self, *args, **kwargs)\u001b[0m\n\u001b[1;32m    134\u001b[0m     config \u001b[38;5;241m=\u001b[39m {}\n\u001b[1;32m    135\u001b[0m \u001b[38;5;28;01mwith\u001b[39;00m config_context(\u001b[38;5;241m*\u001b[39m\u001b[38;5;241m*\u001b[39mconfig):\n\u001b[0;32m--> 136\u001b[0m     \u001b[38;5;28;01mreturn\u001b[39;00m \u001b[38;5;28;43mself\u001b[39;49m\u001b[38;5;241;43m.\u001b[39;49m\u001b[43mfunction\u001b[49m\u001b[43m(\u001b[49m\u001b[38;5;241;43m*\u001b[39;49m\u001b[43margs\u001b[49m\u001b[43m,\u001b[49m\u001b[43m \u001b[49m\u001b[38;5;241;43m*\u001b[39;49m\u001b[38;5;241;43m*\u001b[39;49m\u001b[43mkwargs\u001b[49m\u001b[43m)\u001b[49m\n",
      "File \u001b[0;32m~/.pyenv/versions/3.10.6/envs/Mental_Health_Risks/lib/python3.10/site-packages/sklearn/model_selection/_validation.py:1367\u001b[0m, in \u001b[0;36m_fit_and_predict\u001b[0;34m(estimator, X, y, train, test, fit_params, method)\u001b[0m\n\u001b[1;32m   1365\u001b[0m     estimator\u001b[38;5;241m.\u001b[39mfit(X_train, \u001b[38;5;241m*\u001b[39m\u001b[38;5;241m*\u001b[39mfit_params)\n\u001b[1;32m   1366\u001b[0m \u001b[38;5;28;01melse\u001b[39;00m:\n\u001b[0;32m-> 1367\u001b[0m     \u001b[43mestimator\u001b[49m\u001b[38;5;241;43m.\u001b[39;49m\u001b[43mfit\u001b[49m\u001b[43m(\u001b[49m\u001b[43mX_train\u001b[49m\u001b[43m,\u001b[49m\u001b[43m \u001b[49m\u001b[43my_train\u001b[49m\u001b[43m,\u001b[49m\u001b[43m \u001b[49m\u001b[38;5;241;43m*\u001b[39;49m\u001b[38;5;241;43m*\u001b[39;49m\u001b[43mfit_params\u001b[49m\u001b[43m)\u001b[49m\n\u001b[1;32m   1368\u001b[0m func \u001b[38;5;241m=\u001b[39m \u001b[38;5;28mgetattr\u001b[39m(estimator, method)\n\u001b[1;32m   1369\u001b[0m predictions \u001b[38;5;241m=\u001b[39m func(X_test)\n",
      "File \u001b[0;32m~/.pyenv/versions/3.10.6/envs/Mental_Health_Risks/lib/python3.10/site-packages/sklearn/base.py:1473\u001b[0m, in \u001b[0;36m_fit_context.<locals>.decorator.<locals>.wrapper\u001b[0;34m(estimator, *args, **kwargs)\u001b[0m\n\u001b[1;32m   1466\u001b[0m     estimator\u001b[38;5;241m.\u001b[39m_validate_params()\n\u001b[1;32m   1468\u001b[0m \u001b[38;5;28;01mwith\u001b[39;00m config_context(\n\u001b[1;32m   1469\u001b[0m     skip_parameter_validation\u001b[38;5;241m=\u001b[39m(\n\u001b[1;32m   1470\u001b[0m         prefer_skip_nested_validation \u001b[38;5;129;01mor\u001b[39;00m global_skip_validation\n\u001b[1;32m   1471\u001b[0m     )\n\u001b[1;32m   1472\u001b[0m ):\n\u001b[0;32m-> 1473\u001b[0m     \u001b[38;5;28;01mreturn\u001b[39;00m \u001b[43mfit_method\u001b[49m\u001b[43m(\u001b[49m\u001b[43mestimator\u001b[49m\u001b[43m,\u001b[49m\u001b[43m \u001b[49m\u001b[38;5;241;43m*\u001b[39;49m\u001b[43margs\u001b[49m\u001b[43m,\u001b[49m\u001b[43m \u001b[49m\u001b[38;5;241;43m*\u001b[39;49m\u001b[38;5;241;43m*\u001b[39;49m\u001b[43mkwargs\u001b[49m\u001b[43m)\u001b[49m\n",
      "File \u001b[0;32m~/.pyenv/versions/3.10.6/envs/Mental_Health_Risks/lib/python3.10/site-packages/sklearn/pipeline.py:469\u001b[0m, in \u001b[0;36mPipeline.fit\u001b[0;34m(self, X, y, **params)\u001b[0m\n\u001b[1;32m    426\u001b[0m \u001b[38;5;250m\u001b[39m\u001b[38;5;124;03m\"\"\"Fit the model.\u001b[39;00m\n\u001b[1;32m    427\u001b[0m \n\u001b[1;32m    428\u001b[0m \u001b[38;5;124;03mFit all the transformers one after the other and sequentially transform the\u001b[39;00m\n\u001b[0;32m   (...)\u001b[0m\n\u001b[1;32m    466\u001b[0m \u001b[38;5;124;03m    Pipeline with fitted steps.\u001b[39;00m\n\u001b[1;32m    467\u001b[0m \u001b[38;5;124;03m\"\"\"\u001b[39;00m\n\u001b[1;32m    468\u001b[0m routed_params \u001b[38;5;241m=\u001b[39m \u001b[38;5;28mself\u001b[39m\u001b[38;5;241m.\u001b[39m_check_method_params(method\u001b[38;5;241m=\u001b[39m\u001b[38;5;124m\"\u001b[39m\u001b[38;5;124mfit\u001b[39m\u001b[38;5;124m\"\u001b[39m, props\u001b[38;5;241m=\u001b[39mparams)\n\u001b[0;32m--> 469\u001b[0m Xt \u001b[38;5;241m=\u001b[39m \u001b[38;5;28;43mself\u001b[39;49m\u001b[38;5;241;43m.\u001b[39;49m\u001b[43m_fit\u001b[49m\u001b[43m(\u001b[49m\u001b[43mX\u001b[49m\u001b[43m,\u001b[49m\u001b[43m \u001b[49m\u001b[43my\u001b[49m\u001b[43m,\u001b[49m\u001b[43m \u001b[49m\u001b[43mrouted_params\u001b[49m\u001b[43m)\u001b[49m\n\u001b[1;32m    470\u001b[0m \u001b[38;5;28;01mwith\u001b[39;00m _print_elapsed_time(\u001b[38;5;124m\"\u001b[39m\u001b[38;5;124mPipeline\u001b[39m\u001b[38;5;124m\"\u001b[39m, \u001b[38;5;28mself\u001b[39m\u001b[38;5;241m.\u001b[39m_log_message(\u001b[38;5;28mlen\u001b[39m(\u001b[38;5;28mself\u001b[39m\u001b[38;5;241m.\u001b[39msteps) \u001b[38;5;241m-\u001b[39m \u001b[38;5;241m1\u001b[39m)):\n\u001b[1;32m    471\u001b[0m     \u001b[38;5;28;01mif\u001b[39;00m \u001b[38;5;28mself\u001b[39m\u001b[38;5;241m.\u001b[39m_final_estimator \u001b[38;5;241m!=\u001b[39m \u001b[38;5;124m\"\u001b[39m\u001b[38;5;124mpassthrough\u001b[39m\u001b[38;5;124m\"\u001b[39m:\n",
      "File \u001b[0;32m~/.pyenv/versions/3.10.6/envs/Mental_Health_Risks/lib/python3.10/site-packages/sklearn/pipeline.py:406\u001b[0m, in \u001b[0;36mPipeline._fit\u001b[0;34m(self, X, y, routed_params)\u001b[0m\n\u001b[1;32m    404\u001b[0m     cloned_transformer \u001b[38;5;241m=\u001b[39m clone(transformer)\n\u001b[1;32m    405\u001b[0m \u001b[38;5;66;03m# Fit or load from cache the current transformer\u001b[39;00m\n\u001b[0;32m--> 406\u001b[0m X, fitted_transformer \u001b[38;5;241m=\u001b[39m \u001b[43mfit_transform_one_cached\u001b[49m\u001b[43m(\u001b[49m\n\u001b[1;32m    407\u001b[0m \u001b[43m    \u001b[49m\u001b[43mcloned_transformer\u001b[49m\u001b[43m,\u001b[49m\n\u001b[1;32m    408\u001b[0m \u001b[43m    \u001b[49m\u001b[43mX\u001b[49m\u001b[43m,\u001b[49m\n\u001b[1;32m    409\u001b[0m \u001b[43m    \u001b[49m\u001b[43my\u001b[49m\u001b[43m,\u001b[49m\n\u001b[1;32m    410\u001b[0m \u001b[43m    \u001b[49m\u001b[38;5;28;43;01mNone\u001b[39;49;00m\u001b[43m,\u001b[49m\n\u001b[1;32m    411\u001b[0m \u001b[43m    \u001b[49m\u001b[43mmessage_clsname\u001b[49m\u001b[38;5;241;43m=\u001b[39;49m\u001b[38;5;124;43m\"\u001b[39;49m\u001b[38;5;124;43mPipeline\u001b[39;49m\u001b[38;5;124;43m\"\u001b[39;49m\u001b[43m,\u001b[49m\n\u001b[1;32m    412\u001b[0m \u001b[43m    \u001b[49m\u001b[43mmessage\u001b[49m\u001b[38;5;241;43m=\u001b[39;49m\u001b[38;5;28;43mself\u001b[39;49m\u001b[38;5;241;43m.\u001b[39;49m\u001b[43m_log_message\u001b[49m\u001b[43m(\u001b[49m\u001b[43mstep_idx\u001b[49m\u001b[43m)\u001b[49m\u001b[43m,\u001b[49m\n\u001b[1;32m    413\u001b[0m \u001b[43m    \u001b[49m\u001b[43mparams\u001b[49m\u001b[38;5;241;43m=\u001b[39;49m\u001b[43mrouted_params\u001b[49m\u001b[43m[\u001b[49m\u001b[43mname\u001b[49m\u001b[43m]\u001b[49m\u001b[43m,\u001b[49m\n\u001b[1;32m    414\u001b[0m \u001b[43m\u001b[49m\u001b[43m)\u001b[49m\n\u001b[1;32m    415\u001b[0m \u001b[38;5;66;03m# Replace the transformer of the step with the fitted\u001b[39;00m\n\u001b[1;32m    416\u001b[0m \u001b[38;5;66;03m# transformer. This is necessary when loading the transformer\u001b[39;00m\n\u001b[1;32m    417\u001b[0m \u001b[38;5;66;03m# from the cache.\u001b[39;00m\n\u001b[1;32m    418\u001b[0m \u001b[38;5;28mself\u001b[39m\u001b[38;5;241m.\u001b[39msteps[step_idx] \u001b[38;5;241m=\u001b[39m (name, fitted_transformer)\n",
      "File \u001b[0;32m~/.pyenv/versions/3.10.6/envs/Mental_Health_Risks/lib/python3.10/site-packages/joblib/memory.py:312\u001b[0m, in \u001b[0;36mNotMemorizedFunc.__call__\u001b[0;34m(self, *args, **kwargs)\u001b[0m\n\u001b[1;32m    311\u001b[0m \u001b[38;5;28;01mdef\u001b[39;00m \u001b[38;5;21m__call__\u001b[39m(\u001b[38;5;28mself\u001b[39m, \u001b[38;5;241m*\u001b[39margs, \u001b[38;5;241m*\u001b[39m\u001b[38;5;241m*\u001b[39mkwargs):\n\u001b[0;32m--> 312\u001b[0m     \u001b[38;5;28;01mreturn\u001b[39;00m \u001b[38;5;28;43mself\u001b[39;49m\u001b[38;5;241;43m.\u001b[39;49m\u001b[43mfunc\u001b[49m\u001b[43m(\u001b[49m\u001b[38;5;241;43m*\u001b[39;49m\u001b[43margs\u001b[49m\u001b[43m,\u001b[49m\u001b[43m \u001b[49m\u001b[38;5;241;43m*\u001b[39;49m\u001b[38;5;241;43m*\u001b[39;49m\u001b[43mkwargs\u001b[49m\u001b[43m)\u001b[49m\n",
      "File \u001b[0;32m~/.pyenv/versions/3.10.6/envs/Mental_Health_Risks/lib/python3.10/site-packages/sklearn/pipeline.py:1310\u001b[0m, in \u001b[0;36m_fit_transform_one\u001b[0;34m(transformer, X, y, weight, message_clsname, message, params)\u001b[0m\n\u001b[1;32m   1308\u001b[0m \u001b[38;5;28;01mwith\u001b[39;00m _print_elapsed_time(message_clsname, message):\n\u001b[1;32m   1309\u001b[0m     \u001b[38;5;28;01mif\u001b[39;00m \u001b[38;5;28mhasattr\u001b[39m(transformer, \u001b[38;5;124m\"\u001b[39m\u001b[38;5;124mfit_transform\u001b[39m\u001b[38;5;124m\"\u001b[39m):\n\u001b[0;32m-> 1310\u001b[0m         res \u001b[38;5;241m=\u001b[39m \u001b[43mtransformer\u001b[49m\u001b[38;5;241;43m.\u001b[39;49m\u001b[43mfit_transform\u001b[49m\u001b[43m(\u001b[49m\u001b[43mX\u001b[49m\u001b[43m,\u001b[49m\u001b[43m \u001b[49m\u001b[43my\u001b[49m\u001b[43m,\u001b[49m\u001b[43m \u001b[49m\u001b[38;5;241;43m*\u001b[39;49m\u001b[38;5;241;43m*\u001b[39;49m\u001b[43mparams\u001b[49m\u001b[38;5;241;43m.\u001b[39;49m\u001b[43mget\u001b[49m\u001b[43m(\u001b[49m\u001b[38;5;124;43m\"\u001b[39;49m\u001b[38;5;124;43mfit_transform\u001b[39;49m\u001b[38;5;124;43m\"\u001b[39;49m\u001b[43m,\u001b[49m\u001b[43m \u001b[49m\u001b[43m{\u001b[49m\u001b[43m}\u001b[49m\u001b[43m)\u001b[49m\u001b[43m)\u001b[49m\n\u001b[1;32m   1311\u001b[0m     \u001b[38;5;28;01melse\u001b[39;00m:\n\u001b[1;32m   1312\u001b[0m         res \u001b[38;5;241m=\u001b[39m transformer\u001b[38;5;241m.\u001b[39mfit(X, y, \u001b[38;5;241m*\u001b[39m\u001b[38;5;241m*\u001b[39mparams\u001b[38;5;241m.\u001b[39mget(\u001b[38;5;124m\"\u001b[39m\u001b[38;5;124mfit\u001b[39m\u001b[38;5;124m\"\u001b[39m, {}))\u001b[38;5;241m.\u001b[39mtransform(\n\u001b[1;32m   1313\u001b[0m             X, \u001b[38;5;241m*\u001b[39m\u001b[38;5;241m*\u001b[39mparams\u001b[38;5;241m.\u001b[39mget(\u001b[38;5;124m\"\u001b[39m\u001b[38;5;124mtransform\u001b[39m\u001b[38;5;124m\"\u001b[39m, {})\n\u001b[1;32m   1314\u001b[0m         )\n",
      "File \u001b[0;32m~/.pyenv/versions/3.10.6/envs/Mental_Health_Risks/lib/python3.10/site-packages/sklearn/feature_extraction/text.py:2091\u001b[0m, in \u001b[0;36mTfidfVectorizer.fit_transform\u001b[0;34m(self, raw_documents, y)\u001b[0m\n\u001b[1;32m   2084\u001b[0m \u001b[38;5;28mself\u001b[39m\u001b[38;5;241m.\u001b[39m_check_params()\n\u001b[1;32m   2085\u001b[0m \u001b[38;5;28mself\u001b[39m\u001b[38;5;241m.\u001b[39m_tfidf \u001b[38;5;241m=\u001b[39m TfidfTransformer(\n\u001b[1;32m   2086\u001b[0m     norm\u001b[38;5;241m=\u001b[39m\u001b[38;5;28mself\u001b[39m\u001b[38;5;241m.\u001b[39mnorm,\n\u001b[1;32m   2087\u001b[0m     use_idf\u001b[38;5;241m=\u001b[39m\u001b[38;5;28mself\u001b[39m\u001b[38;5;241m.\u001b[39muse_idf,\n\u001b[1;32m   2088\u001b[0m     smooth_idf\u001b[38;5;241m=\u001b[39m\u001b[38;5;28mself\u001b[39m\u001b[38;5;241m.\u001b[39msmooth_idf,\n\u001b[1;32m   2089\u001b[0m     sublinear_tf\u001b[38;5;241m=\u001b[39m\u001b[38;5;28mself\u001b[39m\u001b[38;5;241m.\u001b[39msublinear_tf,\n\u001b[1;32m   2090\u001b[0m )\n\u001b[0;32m-> 2091\u001b[0m X \u001b[38;5;241m=\u001b[39m \u001b[38;5;28;43msuper\u001b[39;49m\u001b[43m(\u001b[49m\u001b[43m)\u001b[49m\u001b[38;5;241;43m.\u001b[39;49m\u001b[43mfit_transform\u001b[49m\u001b[43m(\u001b[49m\u001b[43mraw_documents\u001b[49m\u001b[43m)\u001b[49m\n\u001b[1;32m   2092\u001b[0m \u001b[38;5;28mself\u001b[39m\u001b[38;5;241m.\u001b[39m_tfidf\u001b[38;5;241m.\u001b[39mfit(X)\n\u001b[1;32m   2093\u001b[0m \u001b[38;5;66;03m# X is already a transformed view of raw_documents so\u001b[39;00m\n\u001b[1;32m   2094\u001b[0m \u001b[38;5;66;03m# we set copy to False\u001b[39;00m\n",
      "File \u001b[0;32m~/.pyenv/versions/3.10.6/envs/Mental_Health_Risks/lib/python3.10/site-packages/sklearn/base.py:1473\u001b[0m, in \u001b[0;36m_fit_context.<locals>.decorator.<locals>.wrapper\u001b[0;34m(estimator, *args, **kwargs)\u001b[0m\n\u001b[1;32m   1466\u001b[0m     estimator\u001b[38;5;241m.\u001b[39m_validate_params()\n\u001b[1;32m   1468\u001b[0m \u001b[38;5;28;01mwith\u001b[39;00m config_context(\n\u001b[1;32m   1469\u001b[0m     skip_parameter_validation\u001b[38;5;241m=\u001b[39m(\n\u001b[1;32m   1470\u001b[0m         prefer_skip_nested_validation \u001b[38;5;129;01mor\u001b[39;00m global_skip_validation\n\u001b[1;32m   1471\u001b[0m     )\n\u001b[1;32m   1472\u001b[0m ):\n\u001b[0;32m-> 1473\u001b[0m     \u001b[38;5;28;01mreturn\u001b[39;00m \u001b[43mfit_method\u001b[49m\u001b[43m(\u001b[49m\u001b[43mestimator\u001b[49m\u001b[43m,\u001b[49m\u001b[43m \u001b[49m\u001b[38;5;241;43m*\u001b[39;49m\u001b[43margs\u001b[49m\u001b[43m,\u001b[49m\u001b[43m \u001b[49m\u001b[38;5;241;43m*\u001b[39;49m\u001b[38;5;241;43m*\u001b[39;49m\u001b[43mkwargs\u001b[49m\u001b[43m)\u001b[49m\n",
      "File \u001b[0;32m~/.pyenv/versions/3.10.6/envs/Mental_Health_Risks/lib/python3.10/site-packages/sklearn/feature_extraction/text.py:1372\u001b[0m, in \u001b[0;36mCountVectorizer.fit_transform\u001b[0;34m(self, raw_documents, y)\u001b[0m\n\u001b[1;32m   1364\u001b[0m             warnings\u001b[38;5;241m.\u001b[39mwarn(\n\u001b[1;32m   1365\u001b[0m                 \u001b[38;5;124m\"\u001b[39m\u001b[38;5;124mUpper case characters found in\u001b[39m\u001b[38;5;124m\"\u001b[39m\n\u001b[1;32m   1366\u001b[0m                 \u001b[38;5;124m\"\u001b[39m\u001b[38;5;124m vocabulary while \u001b[39m\u001b[38;5;124m'\u001b[39m\u001b[38;5;124mlowercase\u001b[39m\u001b[38;5;124m'\u001b[39m\u001b[38;5;124m\"\u001b[39m\n\u001b[1;32m   1367\u001b[0m                 \u001b[38;5;124m\"\u001b[39m\u001b[38;5;124m is True. These entries will not\u001b[39m\u001b[38;5;124m\"\u001b[39m\n\u001b[1;32m   1368\u001b[0m                 \u001b[38;5;124m\"\u001b[39m\u001b[38;5;124m be matched with any documents\u001b[39m\u001b[38;5;124m\"\u001b[39m\n\u001b[1;32m   1369\u001b[0m             )\n\u001b[1;32m   1370\u001b[0m             \u001b[38;5;28;01mbreak\u001b[39;00m\n\u001b[0;32m-> 1372\u001b[0m vocabulary, X \u001b[38;5;241m=\u001b[39m \u001b[38;5;28;43mself\u001b[39;49m\u001b[38;5;241;43m.\u001b[39;49m\u001b[43m_count_vocab\u001b[49m\u001b[43m(\u001b[49m\u001b[43mraw_documents\u001b[49m\u001b[43m,\u001b[49m\u001b[43m \u001b[49m\u001b[38;5;28;43mself\u001b[39;49m\u001b[38;5;241;43m.\u001b[39;49m\u001b[43mfixed_vocabulary_\u001b[49m\u001b[43m)\u001b[49m\n\u001b[1;32m   1374\u001b[0m \u001b[38;5;28;01mif\u001b[39;00m \u001b[38;5;28mself\u001b[39m\u001b[38;5;241m.\u001b[39mbinary:\n\u001b[1;32m   1375\u001b[0m     X\u001b[38;5;241m.\u001b[39mdata\u001b[38;5;241m.\u001b[39mfill(\u001b[38;5;241m1\u001b[39m)\n",
      "File \u001b[0;32m~/.pyenv/versions/3.10.6/envs/Mental_Health_Risks/lib/python3.10/site-packages/sklearn/feature_extraction/text.py:1259\u001b[0m, in \u001b[0;36mCountVectorizer._count_vocab\u001b[0;34m(self, raw_documents, fixed_vocab)\u001b[0m\n\u001b[1;32m   1257\u001b[0m \u001b[38;5;28;01mfor\u001b[39;00m doc \u001b[38;5;129;01min\u001b[39;00m raw_documents:\n\u001b[1;32m   1258\u001b[0m     feature_counter \u001b[38;5;241m=\u001b[39m {}\n\u001b[0;32m-> 1259\u001b[0m     \u001b[38;5;28;01mfor\u001b[39;00m feature \u001b[38;5;129;01min\u001b[39;00m \u001b[43manalyze\u001b[49m\u001b[43m(\u001b[49m\u001b[43mdoc\u001b[49m\u001b[43m)\u001b[49m:\n\u001b[1;32m   1260\u001b[0m         \u001b[38;5;28;01mtry\u001b[39;00m:\n\u001b[1;32m   1261\u001b[0m             feature_idx \u001b[38;5;241m=\u001b[39m vocabulary[feature]\n",
      "File \u001b[0;32m~/.pyenv/versions/3.10.6/envs/Mental_Health_Risks/lib/python3.10/site-packages/sklearn/feature_extraction/text.py:110\u001b[0m, in \u001b[0;36m_analyze\u001b[0;34m(doc, analyzer, tokenizer, ngrams, preprocessor, decoder, stop_words)\u001b[0m\n\u001b[1;32m    108\u001b[0m     doc \u001b[38;5;241m=\u001b[39m preprocessor(doc)\n\u001b[1;32m    109\u001b[0m \u001b[38;5;28;01mif\u001b[39;00m tokenizer \u001b[38;5;129;01mis\u001b[39;00m \u001b[38;5;129;01mnot\u001b[39;00m \u001b[38;5;28;01mNone\u001b[39;00m:\n\u001b[0;32m--> 110\u001b[0m     doc \u001b[38;5;241m=\u001b[39m \u001b[43mtokenizer\u001b[49m\u001b[43m(\u001b[49m\u001b[43mdoc\u001b[49m\u001b[43m)\u001b[49m\n\u001b[1;32m    111\u001b[0m \u001b[38;5;28;01mif\u001b[39;00m ngrams \u001b[38;5;129;01mis\u001b[39;00m \u001b[38;5;129;01mnot\u001b[39;00m \u001b[38;5;28;01mNone\u001b[39;00m:\n\u001b[1;32m    112\u001b[0m     \u001b[38;5;28;01mif\u001b[39;00m stop_words \u001b[38;5;129;01mis\u001b[39;00m \u001b[38;5;129;01mnot\u001b[39;00m \u001b[38;5;28;01mNone\u001b[39;00m:\n",
      "\u001b[0;31mKeyboardInterrupt\u001b[0m: "
     ]
    }
   ],
   "source": [
    "y_pred = cross_val_predict(pipeline, X, y, cv=5)\n",
    "cm = confusion_matrix(y, y_pred)"
   ]
  },
  {
   "cell_type": "code",
   "execution_count": 105,
   "id": "54257d82",
   "metadata": {
    "ExecuteTime": {
     "end_time": "2024-12-01T12:19:58.191648Z",
     "start_time": "2024-12-01T12:19:57.269463Z"
    }
   },
   "outputs": [
    {
     "data": {
      "text/plain": [
       "<Figure size 1000x800 with 0 Axes>"
      ]
     },
     "metadata": {},
     "output_type": "display_data"
    },
    {
     "data": {
      "image/png": "[encoded data removed]",
      "text/plain": [
       "<Figure size 640x480 with 2 Axes>"
      ]
     },
     "metadata": {},
     "output_type": "display_data"
    }
   ],
   "source": [
    "plt.figure(figsize=(10, 8))\n",
    "cm_display = ConfusionMatrixDisplay(confusion_matrix=cm, display_labels=np.unique(y))\n",
    "cm_display.plot(cmap='Blues', xticks_rotation=45)\n",
    "plt.title('Matrice de Confusion')\n",
    "plt.show()"
   ]
  },
  {
   "cell_type": "code",
   "execution_count": 106,
   "id": "6ec57a14",
   "metadata": {
    "ExecuteTime": {
     "end_time": "2024-12-01T12:29:04.648707Z",
     "start_time": "2024-12-01T12:29:00.443452Z"
    }
   },
   "outputs": [
    {
     "data": {
      "text/html": [
       "<style>#sk-container-id-1 {\n",
       "  /* Definition of color scheme common for light and dark mode */\n",
       "  --sklearn-color-text: black;\n",
       "  --sklearn-color-line: gray;\n",
       "  /* Definition of color scheme for unfitted estimators */\n",
       "  --sklearn-color-unfitted-level-0: #fff5e6;\n",
       "  --sklearn-color-unfitted-level-1: #f6e4d2;\n",
       "  --sklearn-color-unfitted-level-2: #ffe0b3;\n",
       "  --sklearn-color-unfitted-level-3: chocolate;\n",
       "  /* Definition of color scheme for fitted estimators */\n",
       "  --sklearn-color-fitted-level-0: #f0f8ff;\n",
       "  --sklearn-color-fitted-level-1: #d4ebff;\n",
       "  --sklearn-color-fitted-level-2: #b3dbfd;\n",
       "  --sklearn-color-fitted-level-3: cornflowerblue;\n",
       "\n",
       "  /* Specific color for light theme */\n",
       "  --sklearn-color-text-on-default-background: var(--sg-text-color, var(--theme-code-foreground, var(--jp-content-font-color1, black)));\n",
       "  --sklearn-color-background: var(--sg-background-color, var(--theme-background, var(--jp-layout-color0, white)));\n",
       "  --sklearn-color-border-box: var(--sg-text-color, var(--theme-code-foreground, var(--jp-content-font-color1, black)));\n",
       "  --sklearn-color-icon: #696969;\n",
       "\n",
       "  @media (prefers-color-scheme: dark) {\n",
       "    /* Redefinition of color scheme for dark theme */\n",
       "    --sklearn-color-text-on-default-background: var(--sg-text-color, var(--theme-code-foreground, var(--jp-content-font-color1, white)));\n",
       "    --sklearn-color-background: var(--sg-background-color, var(--theme-background, var(--jp-layout-color0, #111)));\n",
       "    --sklearn-color-border-box: var(--sg-text-color, var(--theme-code-foreground, var(--jp-content-font-color1, white)));\n",
       "    --sklearn-color-icon: #878787;\n",
       "  }\n",
       "}\n",
       "\n",
       "#sk-container-id-1 {\n",
       "  color: var(--sklearn-color-text);\n",
       "}\n",
       "\n",
       "#sk-container-id-1 pre {\n",
       "  padding: 0;\n",
       "}\n",
       "\n",
       "#sk-container-id-1 input.sk-hidden--visually {\n",
       "  border: 0;\n",
       "  clip: rect(1px 1px 1px 1px);\n",
       "  clip: rect(1px, 1px, 1px, 1px);\n",
       "  height: 1px;\n",
       "  margin: -1px;\n",
       "  overflow: hidden;\n",
       "  padding: 0;\n",
       "  position: absolute;\n",
       "  width: 1px;\n",
       "}\n",
       "\n",
       "#sk-container-id-1 div.sk-dashed-wrapped {\n",
       "  border: 1px dashed var(--sklearn-color-line);\n",
       "  margin: 0 0.4em 0.5em 0.4em;\n",
       "  box-sizing: border-box;\n",
       "  padding-bottom: 0.4em;\n",
       "  background-color: var(--sklearn-color-background);\n",
       "}\n",
       "\n",
       "#sk-container-id-1 div.sk-container {\n",
       "  /* jupyter's `normalize.less` sets `[hidden] { display: none; }`\n",
       "     but bootstrap.min.css set `[hidden] { display: none !important; }`\n",
       "     so we also need the `!important` here to be able to override the\n",
       "     default hidden behavior on the sphinx rendered scikit-learn.org.\n",
       "     See: https://github.com/scikit-learn/scikit-learn/issues/21755 */\n",
       "  display: inline-block !important;\n",
       "  position: relative;\n",
       "}\n",
       "\n",
       "#sk-container-id-1 div.sk-text-repr-fallback {\n",
       "  display: none;\n",
       "}\n",
       "\n",
       "div.sk-parallel-item,\n",
       "div.sk-serial,\n",
       "div.sk-item {\n",
       "  /* draw centered vertical line to link estimators */\n",
       "  background-image: linear-gradient(var(--sklearn-color-text-on-default-background), var(--sklearn-color-text-on-default-background));\n",
       "  background-size: 2px 100%;\n",
       "  background-repeat: no-repeat;\n",
       "  background-position: center center;\n",
       "}\n",
       "\n",
       "/* Parallel-specific style estimator block */\n",
       "\n",
       "#sk-container-id-1 div.sk-parallel-item::after {\n",
       "  content: \"\";\n",
       "  width: 100%;\n",
       "  border-bottom: 2px solid var(--sklearn-color-text-on-default-background);\n",
       "  flex-grow: 1;\n",
       "}\n",
       "\n",
       "#sk-container-id-1 div.sk-parallel {\n",
       "  display: flex;\n",
       "  align-items: stretch;\n",
       "  justify-content: center;\n",
       "  background-color: var(--sklearn-color-background);\n",
       "  position: relative;\n",
       "}\n",
       "\n",
       "#sk-container-id-1 div.sk-parallel-item {\n",
       "  display: flex;\n",
       "  flex-direction: column;\n",
       "}\n",
       "\n",
       "#sk-container-id-1 div.sk-parallel-item:first-child::after {\n",
       "  align-self: flex-end;\n",
       "  width: 50%;\n",
       "}\n",
       "\n",
       "#sk-container-id-1 div.sk-parallel-item:last-child::after {\n",
       "  align-self: flex-start;\n",
       "  width: 50%;\n",
       "}\n",
       "\n",
       "#sk-container-id-1 div.sk-parallel-item:only-child::after {\n",
       "  width: 0;\n",
       "}\n",
       "\n",
       "/* Serial-specific style estimator block */\n",
       "\n",
       "#sk-container-id-1 div.sk-serial {\n",
       "  display: flex;\n",
       "  flex-direction: column;\n",
       "  align-items: center;\n",
       "  background-color: var(--sklearn-color-background);\n",
       "  padding-right: 1em;\n",
       "  padding-left: 1em;\n",
       "}\n",
       "\n",
       "\n",
       "/* Toggleable style: style used for estimator/Pipeline/ColumnTransformer box that is\n",
       "clickable and can be expanded/collapsed.\n",
       "- Pipeline and ColumnTransformer use this feature and define the default style\n",
       "- Estimators will overwrite some part of the style using the `sk-estimator` class\n",
       "*/\n",
       "\n",
       "/* Pipeline and ColumnTransformer style (default) */\n",
       "\n",
       "#sk-container-id-1 div.sk-toggleable {\n",
       "  /* Default theme specific background. It is overwritten whether we have a\n",
       "  specific estimator or a Pipeline/ColumnTransformer */\n",
       "  background-color: var(--sklearn-color-background);\n",
       "}\n",
       "\n",
       "/* Toggleable label */\n",
       "#sk-container-id-1 label.sk-toggleable__label {\n",
       "  cursor: pointer;\n",
       "  display: block;\n",
       "  width: 100%;\n",
       "  margin-bottom: 0;\n",
       "  padding: 0.5em;\n",
       "  box-sizing: border-box;\n",
       "  text-align: center;\n",
       "}\n",
       "\n",
       "#sk-container-id-1 label.sk-toggleable__label-arrow:before {\n",
       "  /* Arrow on the left of the label */\n",
       "  content: \"▸\";\n",
       "  float: left;\n",
       "  margin-right: 0.25em;\n",
       "  color: var(--sklearn-color-icon);\n",
       "}\n",
       "\n",
       "#sk-container-id-1 label.sk-toggleable__label-arrow:hover:before {\n",
       "  color: var(--sklearn-color-text);\n",
       "}\n",
       "\n",
       "/* Toggleable content - dropdown */\n",
       "\n",
       "#sk-container-id-1 div.sk-toggleable__content {\n",
       "  max-height: 0;\n",
       "  max-width: 0;\n",
       "  overflow: hidden;\n",
       "  text-align: left;\n",
       "  /* unfitted */\n",
       "  background-color: var(--sklearn-color-unfitted-level-0);\n",
       "}\n",
       "\n",
       "#sk-container-id-1 div.sk-toggleable__content.fitted {\n",
       "  /* fitted */\n",
       "  background-color: var(--sklearn-color-fitted-level-0);\n",
       "}\n",
       "\n",
       "#sk-container-id-1 div.sk-toggleable__content pre {\n",
       "  margin: 0.2em;\n",
       "  border-radius: 0.25em;\n",
       "  color: var(--sklearn-color-text);\n",
       "  /* unfitted */\n",
       "  background-color: var(--sklearn-color-unfitted-level-0);\n",
       "}\n",
       "\n",
       "#sk-container-id-1 div.sk-toggleable__content.fitted pre {\n",
       "  /* unfitted */\n",
       "  background-color: var(--sklearn-color-fitted-level-0);\n",
       "}\n",
       "\n",
       "#sk-container-id-1 input.sk-toggleable__control:checked~div.sk-toggleable__content {\n",
       "  /* Expand drop-down */\n",
       "  max-height: 200px;\n",
       "  max-width: 100%;\n",
       "  overflow: auto;\n",
       "}\n",
       "\n",
       "#sk-container-id-1 input.sk-toggleable__control:checked~label.sk-toggleable__label-arrow:before {\n",
       "  content: \"▾\";\n",
       "}\n",
       "\n",
       "/* Pipeline/ColumnTransformer-specific style */\n",
       "\n",
       "#sk-container-id-1 div.sk-label input.sk-toggleable__control:checked~label.sk-toggleable__label {\n",
       "  color: var(--sklearn-color-text);\n",
       "  background-color: var(--sklearn-color-unfitted-level-2);\n",
       "}\n",
       "\n",
       "#sk-container-id-1 div.sk-label.fitted input.sk-toggleable__control:checked~label.sk-toggleable__label {\n",
       "  background-color: var(--sklearn-color-fitted-level-2);\n",
       "}\n",
       "\n",
       "/* Estimator-specific style */\n",
       "\n",
       "/* Colorize estimator box */\n",
       "#sk-container-id-1 div.sk-estimator input.sk-toggleable__control:checked~label.sk-toggleable__label {\n",
       "  /* unfitted */\n",
       "  background-color: var(--sklearn-color-unfitted-level-2);\n",
       "}\n",
       "\n",
       "#sk-container-id-1 div.sk-estimator.fitted input.sk-toggleable__control:checked~label.sk-toggleable__label {\n",
       "  /* fitted */\n",
       "  background-color: var(--sklearn-color-fitted-level-2);\n",
       "}\n",
       "\n",
       "#sk-container-id-1 div.sk-label label.sk-toggleable__label,\n",
       "#sk-container-id-1 div.sk-label label {\n",
       "  /* The background is the default theme color */\n",
       "  color: var(--sklearn-color-text-on-default-background);\n",
       "}\n",
       "\n",
       "/* On hover, darken the color of the background */\n",
       "#sk-container-id-1 div.sk-label:hover label.sk-toggleable__label {\n",
       "  color: var(--sklearn-color-text);\n",
       "  background-color: var(--sklearn-color-unfitted-level-2);\n",
       "}\n",
       "\n",
       "/* Label box, darken color on hover, fitted */\n",
       "#sk-container-id-1 div.sk-label.fitted:hover label.sk-toggleable__label.fitted {\n",
       "  color: var(--sklearn-color-text);\n",
       "  background-color: var(--sklearn-color-fitted-level-2);\n",
       "}\n",
       "\n",
       "/* Estimator label */\n",
       "\n",
       "#sk-container-id-1 div.sk-label label {\n",
       "  font-family: monospace;\n",
       "  font-weight: bold;\n",
       "  display: inline-block;\n",
       "  line-height: 1.2em;\n",
       "}\n",
       "\n",
       "#sk-container-id-1 div.sk-label-container {\n",
       "  text-align: center;\n",
       "}\n",
       "\n",
       "/* Estimator-specific */\n",
       "#sk-container-id-1 div.sk-estimator {\n",
       "  font-family: monospace;\n",
       "  border: 1px dotted var(--sklearn-color-border-box);\n",
       "  border-radius: 0.25em;\n",
       "  box-sizing: border-box;\n",
       "  margin-bottom: 0.5em;\n",
       "  /* unfitted */\n",
       "  background-color: var(--sklearn-color-unfitted-level-0);\n",
       "}\n",
       "\n",
       "#sk-container-id-1 div.sk-estimator.fitted {\n",
       "  /* fitted */\n",
       "  background-color: var(--sklearn-color-fitted-level-0);\n",
       "}\n",
       "\n",
       "/* on hover */\n",
       "#sk-container-id-1 div.sk-estimator:hover {\n",
       "  /* unfitted */\n",
       "  background-color: var(--sklearn-color-unfitted-level-2);\n",
       "}\n",
       "\n",
       "#sk-container-id-1 div.sk-estimator.fitted:hover {\n",
       "  /* fitted */\n",
       "  background-color: var(--sklearn-color-fitted-level-2);\n",
       "}\n",
       "\n",
       "/* Specification for estimator info (e.g. \"i\" and \"?\") */\n",
       "\n",
       "/* Common style for \"i\" and \"?\" */\n",
       "\n",
       ".sk-estimator-doc-link,\n",
       "a:link.sk-estimator-doc-link,\n",
       "a:visited.sk-estimator-doc-link {\n",
       "  float: right;\n",
       "  font-size: smaller;\n",
       "  line-height: 1em;\n",
       "  font-family: monospace;\n",
       "  background-color: var(--sklearn-color-background);\n",
       "  border-radius: 1em;\n",
       "  height: 1em;\n",
       "  width: 1em;\n",
       "  text-decoration: none !important;\n",
       "  margin-left: 1ex;\n",
       "  /* unfitted */\n",
       "  border: var(--sklearn-color-unfitted-level-1) 1pt solid;\n",
       "  color: var(--sklearn-color-unfitted-level-1);\n",
       "}\n",
       "\n",
       ".sk-estimator-doc-link.fitted,\n",
       "a:link.sk-estimator-doc-link.fitted,\n",
       "a:visited.sk-estimator-doc-link.fitted {\n",
       "  /* fitted */\n",
       "  border: var(--sklearn-color-fitted-level-1) 1pt solid;\n",
       "  color: var(--sklearn-color-fitted-level-1);\n",
       "}\n",
       "\n",
       "/* On hover */\n",
       "div.sk-estimator:hover .sk-estimator-doc-link:hover,\n",
       ".sk-estimator-doc-link:hover,\n",
       "div.sk-label-container:hover .sk-estimator-doc-link:hover,\n",
       ".sk-estimator-doc-link:hover {\n",
       "  /* unfitted */\n",
       "  background-color: var(--sklearn-color-unfitted-level-3);\n",
       "  color: var(--sklearn-color-background);\n",
       "  text-decoration: none;\n",
       "}\n",
       "\n",
       "div.sk-estimator.fitted:hover .sk-estimator-doc-link.fitted:hover,\n",
       ".sk-estimator-doc-link.fitted:hover,\n",
       "div.sk-label-container:hover .sk-estimator-doc-link.fitted:hover,\n",
       ".sk-estimator-doc-link.fitted:hover {\n",
       "  /* fitted */\n",
       "  background-color: var(--sklearn-color-fitted-level-3);\n",
       "  color: var(--sklearn-color-background);\n",
       "  text-decoration: none;\n",
       "}\n",
       "\n",
       "/* Span, style for the box shown on hovering the info icon */\n",
       ".sk-estimator-doc-link span {\n",
       "  display: none;\n",
       "  z-index: 9999;\n",
       "  position: relative;\n",
       "  font-weight: normal;\n",
       "  right: .2ex;\n",
       "  padding: .5ex;\n",
       "  margin: .5ex;\n",
       "  width: min-content;\n",
       "  min-width: 20ex;\n",
       "  max-width: 50ex;\n",
       "  color: var(--sklearn-color-text);\n",
       "  box-shadow: 2pt 2pt 4pt #999;\n",
       "  /* unfitted */\n",
       "  background: var(--sklearn-color-unfitted-level-0);\n",
       "  border: .5pt solid var(--sklearn-color-unfitted-level-3);\n",
       "}\n",
       "\n",
       ".sk-estimator-doc-link.fitted span {\n",
       "  /* fitted */\n",
       "  background: var(--sklearn-color-fitted-level-0);\n",
       "  border: var(--sklearn-color-fitted-level-3);\n",
       "}\n",
       "\n",
       ".sk-estimator-doc-link:hover span {\n",
       "  display: block;\n",
       "}\n",
       "\n",
       "/* \"?\"-specific style due to the `<a>` HTML tag */\n",
       "\n",
       "#sk-container-id-1 a.estimator_doc_link {\n",
       "  float: right;\n",
       "  font-size: 1rem;\n",
       "  line-height: 1em;\n",
       "  font-family: monospace;\n",
       "  background-color: var(--sklearn-color-background);\n",
       "  border-radius: 1rem;\n",
       "  height: 1rem;\n",
       "  width: 1rem;\n",
       "  text-decoration: none;\n",
       "  /* unfitted */\n",
       "  color: var(--sklearn-color-unfitted-level-1);\n",
       "  border: var(--sklearn-color-unfitted-level-1) 1pt solid;\n",
       "}\n",
       "\n",
       "#sk-container-id-1 a.estimator_doc_link.fitted {\n",
       "  /* fitted */\n",
       "  border: var(--sklearn-color-fitted-level-1) 1pt solid;\n",
       "  color: var(--sklearn-color-fitted-level-1);\n",
       "}\n",
       "\n",
       "/* On hover */\n",
       "#sk-container-id-1 a.estimator_doc_link:hover {\n",
       "  /* unfitted */\n",
       "  background-color: var(--sklearn-color-unfitted-level-3);\n",
       "  color: var(--sklearn-color-background);\n",
       "  text-decoration: none;\n",
       "}\n",
       "\n",
       "#sk-container-id-1 a.estimator_doc_link.fitted:hover {\n",
       "  /* fitted */\n",
       "  background-color: var(--sklearn-color-fitted-level-3);\n",
       "}\n",
       "</style><div id=\"sk-container-id-1\" class=\"sk-top-container\"><div class=\"sk-text-repr-fallback\"><pre>Pipeline(steps=[(&#x27;tfidfvectorizer&#x27;, TfidfVectorizer(max_df=0.9)),\n",
       "                (&#x27;multinomialnb&#x27;, MultinomialNB(alpha=0.01))])</pre><b>In a Jupyter environment, please rerun this cell to show the HTML representation or trust the notebook. <br />On GitHub, the HTML representation is unable to render, please try loading this page with nbviewer.org.</b></div><div class=\"sk-container\" hidden><div class=\"sk-item sk-dashed-wrapped\"><div class=\"sk-label-container\"><div class=\"sk-label fitted sk-toggleable\"><input class=\"sk-toggleable__control sk-hidden--visually\" id=\"sk-estimator-id-1\" type=\"checkbox\" ><label for=\"sk-estimator-id-1\" class=\"sk-toggleable__label fitted sk-toggleable__label-arrow fitted\">&nbsp;&nbsp;Pipeline<a class=\"sk-estimator-doc-link fitted\" rel=\"noreferrer\" target=\"_blank\" href=\"https://scikit-learn.org/1.5/modules/generated/sklearn.pipeline.Pipeline.html\">?<span>Documentation for Pipeline</span></a><span class=\"sk-estimator-doc-link fitted\">i<span>Fitted</span></span></label><div class=\"sk-toggleable__content fitted\"><pre>Pipeline(steps=[(&#x27;tfidfvectorizer&#x27;, TfidfVectorizer(max_df=0.9)),\n",
       "                (&#x27;multinomialnb&#x27;, MultinomialNB(alpha=0.01))])</pre></div> </div></div><div class=\"sk-serial\"><div class=\"sk-item\"><div class=\"sk-estimator fitted sk-toggleable\"><input class=\"sk-toggleable__control sk-hidden--visually\" id=\"sk-estimator-id-2\" type=\"checkbox\" ><label for=\"sk-estimator-id-2\" class=\"sk-toggleable__label fitted sk-toggleable__label-arrow fitted\">&nbsp;TfidfVectorizer<a class=\"sk-estimator-doc-link fitted\" rel=\"noreferrer\" target=\"_blank\" href=\"https://scikit-learn.org/1.5/modules/generated/sklearn.feature_extraction.text.TfidfVectorizer.html\">?<span>Documentation for TfidfVectorizer</span></a></label><div class=\"sk-toggleable__content fitted\"><pre>TfidfVectorizer(max_df=0.9)</pre></div> </div></div><div class=\"sk-item\"><div class=\"sk-estimator fitted sk-toggleable\"><input class=\"sk-toggleable__control sk-hidden--visually\" id=\"sk-estimator-id-3\" type=\"checkbox\" ><label for=\"sk-estimator-id-3\" class=\"sk-toggleable__label fitted sk-toggleable__label-arrow fitted\">&nbsp;MultinomialNB<a class=\"sk-estimator-doc-link fitted\" rel=\"noreferrer\" target=\"_blank\" href=\"https://scikit-learn.org/1.5/modules/generated/sklearn.naive_bayes.MultinomialNB.html\">?<span>Documentation for MultinomialNB</span></a></label><div class=\"sk-toggleable__content fitted\"><pre>MultinomialNB(alpha=0.01)</pre></div> </div></div></div></div></div></div>"
      ],
      "text/plain": [
       "Pipeline(steps=[('tfidfvectorizer', TfidfVectorizer(max_df=0.9)),\n",
       "                ('multinomialnb', MultinomialNB(alpha=0.01))])"
      ]
     },
     "execution_count": 106,
     "metadata": {},
     "output_type": "execute_result"
    }
   ],
   "source": [
    "pipeline.fit(X,y)"
   ]
  },
  {
   "cell_type": "code",
   "execution_count": 124,
   "id": "7aeb3e5d",
   "metadata": {
    "ExecuteTime": {
     "end_time": "2024-12-01T12:43:53.415385Z",
     "start_time": "2024-12-01T12:43:53.391396Z"
    }
   },
   "outputs": [],
   "source": [
    "new_review = [\"i'm feel like life has no sense\"]"
   ]
  },
  {
   "cell_type": "code",
   "execution_count": 125,
   "id": "557ee417",
   "metadata": {
    "ExecuteTime": {
     "end_time": "2024-12-01T12:43:53.812838Z",
     "start_time": "2024-12-01T12:43:53.790359Z"
    }
   },
   "outputs": [],
   "source": [
    "prediction = pipeline.predict(new_review)"
   ]
  },
  {
   "cell_type": "code",
   "execution_count": 126,
   "id": "4d679a08",
   "metadata": {
    "ExecuteTime": {
     "end_time": "2024-12-01T12:43:54.496122Z",
     "start_time": "2024-12-01T12:43:54.458084Z"
    }
   },
   "outputs": [
    {
     "data": {
      "text/plain": [
       "array(['Bipolar Disorde'], dtype='<U15')"
      ]
     },
     "execution_count": 126,
     "metadata": {},
     "output_type": "execute_result"
    }
   ],
   "source": [
    "prediction"
   ]
  },
  {
   "cell_type": "markdown",
   "id": "714a86e8",
   "metadata": {},
   "source": [
    "GridSearch"
   ]
  },
  {
   "cell_type": "code",
   "execution_count": 150,
   "id": "b3b8047c",
   "metadata": {
    "ExecuteTime": {
     "end_time": "2024-12-01T13:05:19.958124Z",
     "start_time": "2024-12-01T13:05:19.953047Z"
    }
   },
   "outputs": [],
   "source": [
    "pipeline = Pipeline([\n",
    "    ('tfidf', TfidfVectorizer()),\n",
    "    ('nb', MultinomialNB())\n",
    "])"
   ]
  },
  {
   "cell_type": "code",
   "execution_count": 151,
   "id": "a7f1965a",
   "metadata": {
    "ExecuteTime": {
     "end_time": "2024-12-01T13:05:20.987899Z",
     "start_time": "2024-12-01T13:05:20.981020Z"
    }
   },
   "outputs": [],
   "source": [
    "param_grid = {\n",
    "    'tfidf__max_df': [0.75, 1.0],  # Ignore les termes présents dans plus de x% des documents\n",
    "    'tfidf__min_df': [1, 2, 5],   # Ignore les termes présents dans moins de x documents\n",
    "    'tfidf__ngram_range': [(1, 1), (1, 2)],  # Unigrams ou bigrams\n",
    "    'nb__alpha': [0.1, 1.0, 10.0]  # Laplace smoothing\n",
    "}"
   ]
  },
  {
   "cell_type": "code",
   "execution_count": 152,
   "id": "e0f8d938",
   "metadata": {
    "ExecuteTime": {
     "end_time": "2024-12-01T13:05:24.577852Z",
     "start_time": "2024-12-01T13:05:24.571597Z"
    }
   },
   "outputs": [],
   "source": [
    "# GridSearchCV\n",
    "grid_search = GridSearchCV(pipeline, param_grid, cv=5, scoring='accuracy', verbose=3, n_jobs=-1)"
   ]
  },
  {
   "cell_type": "code",
   "execution_count": 153,
   "id": "a588131a",
   "metadata": {
    "ExecuteTime": {
     "end_time": "2024-12-01T13:14:29.745851Z",
     "start_time": "2024-12-01T13:05:26.114319Z"
    }
   },
   "outputs": [
    {
     "name": "stdout",
     "output_type": "stream",
     "text": [
      "Fitting 5 folds for each of 36 candidates, totalling 180 fits\n"
     ]
    },
    {
     "data": {
      "text/html": [
       "<style>#sk-container-id-3 {\n",
       "  /* Definition of color scheme common for light and dark mode */\n",
       "  --sklearn-color-text: black;\n",
       "  --sklearn-color-line: gray;\n",
       "  /* Definition of color scheme for unfitted estimators */\n",
       "  --sklearn-color-unfitted-level-0: #fff5e6;\n",
       "  --sklearn-color-unfitted-level-1: #f6e4d2;\n",
       "  --sklearn-color-unfitted-level-2: #ffe0b3;\n",
       "  --sklearn-color-unfitted-level-3: chocolate;\n",
       "  /* Definition of color scheme for fitted estimators */\n",
       "  --sklearn-color-fitted-level-0: #f0f8ff;\n",
       "  --sklearn-color-fitted-level-1: #d4ebff;\n",
       "  --sklearn-color-fitted-level-2: #b3dbfd;\n",
       "  --sklearn-color-fitted-level-3: cornflowerblue;\n",
       "\n",
       "  /* Specific color for light theme */\n",
       "  --sklearn-color-text-on-default-background: var(--sg-text-color, var(--theme-code-foreground, var(--jp-content-font-color1, black)));\n",
       "  --sklearn-color-background: var(--sg-background-color, var(--theme-background, var(--jp-layout-color0, white)));\n",
       "  --sklearn-color-border-box: var(--sg-text-color, var(--theme-code-foreground, var(--jp-content-font-color1, black)));\n",
       "  --sklearn-color-icon: #696969;\n",
       "\n",
       "  @media (prefers-color-scheme: dark) {\n",
       "    /* Redefinition of color scheme for dark theme */\n",
       "    --sklearn-color-text-on-default-background: var(--sg-text-color, var(--theme-code-foreground, var(--jp-content-font-color1, white)));\n",
       "    --sklearn-color-background: var(--sg-background-color, var(--theme-background, var(--jp-layout-color0, #111)));\n",
       "    --sklearn-color-border-box: var(--sg-text-color, var(--theme-code-foreground, var(--jp-content-font-color1, white)));\n",
       "    --sklearn-color-icon: #878787;\n",
       "  }\n",
       "}\n",
       "\n",
       "#sk-container-id-3 {\n",
       "  color: var(--sklearn-color-text);\n",
       "}\n",
       "\n",
       "#sk-container-id-3 pre {\n",
       "  padding: 0;\n",
       "}\n",
       "\n",
       "#sk-container-id-3 input.sk-hidden--visually {\n",
       "  border: 0;\n",
       "  clip: rect(1px 1px 1px 1px);\n",
       "  clip: rect(1px, 1px, 1px, 1px);\n",
       "  height: 1px;\n",
       "  margin: -1px;\n",
       "  overflow: hidden;\n",
       "  padding: 0;\n",
       "  position: absolute;\n",
       "  width: 1px;\n",
       "}\n",
       "\n",
       "#sk-container-id-3 div.sk-dashed-wrapped {\n",
       "  border: 1px dashed var(--sklearn-color-line);\n",
       "  margin: 0 0.4em 0.5em 0.4em;\n",
       "  box-sizing: border-box;\n",
       "  padding-bottom: 0.4em;\n",
       "  background-color: var(--sklearn-color-background);\n",
       "}\n",
       "\n",
       "#sk-container-id-3 div.sk-container {\n",
       "  /* jupyter's `normalize.less` sets `[hidden] { display: none; }`\n",
       "     but bootstrap.min.css set `[hidden] { display: none !important; }`\n",
       "     so we also need the `!important` here to be able to override the\n",
       "     default hidden behavior on the sphinx rendered scikit-learn.org.\n",
       "     See: https://github.com/scikit-learn/scikit-learn/issues/21755 */\n",
       "  display: inline-block !important;\n",
       "  position: relative;\n",
       "}\n",
       "\n",
       "#sk-container-id-3 div.sk-text-repr-fallback {\n",
       "  display: none;\n",
       "}\n",
       "\n",
       "div.sk-parallel-item,\n",
       "div.sk-serial,\n",
       "div.sk-item {\n",
       "  /* draw centered vertical line to link estimators */\n",
       "  background-image: linear-gradient(var(--sklearn-color-text-on-default-background), var(--sklearn-color-text-on-default-background));\n",
       "  background-size: 2px 100%;\n",
       "  background-repeat: no-repeat;\n",
       "  background-position: center center;\n",
       "}\n",
       "\n",
       "/* Parallel-specific style estimator block */\n",
       "\n",
       "#sk-container-id-3 div.sk-parallel-item::after {\n",
       "  content: \"\";\n",
       "  width: 100%;\n",
       "  border-bottom: 2px solid var(--sklearn-color-text-on-default-background);\n",
       "  flex-grow: 1;\n",
       "}\n",
       "\n",
       "#sk-container-id-3 div.sk-parallel {\n",
       "  display: flex;\n",
       "  align-items: stretch;\n",
       "  justify-content: center;\n",
       "  background-color: var(--sklearn-color-background);\n",
       "  position: relative;\n",
       "}\n",
       "\n",
       "#sk-container-id-3 div.sk-parallel-item {\n",
       "  display: flex;\n",
       "  flex-direction: column;\n",
       "}\n",
       "\n",
       "#sk-container-id-3 div.sk-parallel-item:first-child::after {\n",
       "  align-self: flex-end;\n",
       "  width: 50%;\n",
       "}\n",
       "\n",
       "#sk-container-id-3 div.sk-parallel-item:last-child::after {\n",
       "  align-self: flex-start;\n",
       "  width: 50%;\n",
       "}\n",
       "\n",
       "#sk-container-id-3 div.sk-parallel-item:only-child::after {\n",
       "  width: 0;\n",
       "}\n",
       "\n",
       "/* Serial-specific style estimator block */\n",
       "\n",
       "#sk-container-id-3 div.sk-serial {\n",
       "  display: flex;\n",
       "  flex-direction: column;\n",
       "  align-items: center;\n",
       "  background-color: var(--sklearn-color-background);\n",
       "  padding-right: 1em;\n",
       "  padding-left: 1em;\n",
       "}\n",
       "\n",
       "\n",
       "/* Toggleable style: style used for estimator/Pipeline/ColumnTransformer box that is\n",
       "clickable and can be expanded/collapsed.\n",
       "- Pipeline and ColumnTransformer use this feature and define the default style\n",
       "- Estimators will overwrite some part of the style using the `sk-estimator` class\n",
       "*/\n",
       "\n",
       "/* Pipeline and ColumnTransformer style (default) */\n",
       "\n",
       "#sk-container-id-3 div.sk-toggleable {\n",
       "  /* Default theme specific background. It is overwritten whether we have a\n",
       "  specific estimator or a Pipeline/ColumnTransformer */\n",
       "  background-color: var(--sklearn-color-background);\n",
       "}\n",
       "\n",
       "/* Toggleable label */\n",
       "#sk-container-id-3 label.sk-toggleable__label {\n",
       "  cursor: pointer;\n",
       "  display: block;\n",
       "  width: 100%;\n",
       "  margin-bottom: 0;\n",
       "  padding: 0.5em;\n",
       "  box-sizing: border-box;\n",
       "  text-align: center;\n",
       "}\n",
       "\n",
       "#sk-container-id-3 label.sk-toggleable__label-arrow:before {\n",
       "  /* Arrow on the left of the label */\n",
       "  content: \"▸\";\n",
       "  float: left;\n",
       "  margin-right: 0.25em;\n",
       "  color: var(--sklearn-color-icon);\n",
       "}\n",
       "\n",
       "#sk-container-id-3 label.sk-toggleable__label-arrow:hover:before {\n",
       "  color: var(--sklearn-color-text);\n",
       "}\n",
       "\n",
       "/* Toggleable content - dropdown */\n",
       "\n",
       "#sk-container-id-3 div.sk-toggleable__content {\n",
       "  max-height: 0;\n",
       "  max-width: 0;\n",
       "  overflow: hidden;\n",
       "  text-align: left;\n",
       "  /* unfitted */\n",
       "  background-color: var(--sklearn-color-unfitted-level-0);\n",
       "}\n",
       "\n",
       "#sk-container-id-3 div.sk-toggleable__content.fitted {\n",
       "  /* fitted */\n",
       "  background-color: var(--sklearn-color-fitted-level-0);\n",
       "}\n",
       "\n",
       "#sk-container-id-3 div.sk-toggleable__content pre {\n",
       "  margin: 0.2em;\n",
       "  border-radius: 0.25em;\n",
       "  color: var(--sklearn-color-text);\n",
       "  /* unfitted */\n",
       "  background-color: var(--sklearn-color-unfitted-level-0);\n",
       "}\n",
       "\n",
       "#sk-container-id-3 div.sk-toggleable__content.fitted pre {\n",
       "  /* unfitted */\n",
       "  background-color: var(--sklearn-color-fitted-level-0);\n",
       "}\n",
       "\n",
       "#sk-container-id-3 input.sk-toggleable__control:checked~div.sk-toggleable__content {\n",
       "  /* Expand drop-down */\n",
       "  max-height: 200px;\n",
       "  max-width: 100%;\n",
       "  overflow: auto;\n",
       "}\n",
       "\n",
       "#sk-container-id-3 input.sk-toggleable__control:checked~label.sk-toggleable__label-arrow:before {\n",
       "  content: \"▾\";\n",
       "}\n",
       "\n",
       "/* Pipeline/ColumnTransformer-specific style */\n",
       "\n",
       "#sk-container-id-3 div.sk-label input.sk-toggleable__control:checked~label.sk-toggleable__label {\n",
       "  color: var(--sklearn-color-text);\n",
       "  background-color: var(--sklearn-color-unfitted-level-2);\n",
       "}\n",
       "\n",
       "#sk-container-id-3 div.sk-label.fitted input.sk-toggleable__control:checked~label.sk-toggleable__label {\n",
       "  background-color: var(--sklearn-color-fitted-level-2);\n",
       "}\n",
       "\n",
       "/* Estimator-specific style */\n",
       "\n",
       "/* Colorize estimator box */\n",
       "#sk-container-id-3 div.sk-estimator input.sk-toggleable__control:checked~label.sk-toggleable__label {\n",
       "  /* unfitted */\n",
       "  background-color: var(--sklearn-color-unfitted-level-2);\n",
       "}\n",
       "\n",
       "#sk-container-id-3 div.sk-estimator.fitted input.sk-toggleable__control:checked~label.sk-toggleable__label {\n",
       "  /* fitted */\n",
       "  background-color: var(--sklearn-color-fitted-level-2);\n",
       "}\n",
       "\n",
       "#sk-container-id-3 div.sk-label label.sk-toggleable__label,\n",
       "#sk-container-id-3 div.sk-label label {\n",
       "  /* The background is the default theme color */\n",
       "  color: var(--sklearn-color-text-on-default-background);\n",
       "}\n",
       "\n",
       "/* On hover, darken the color of the background */\n",
       "#sk-container-id-3 div.sk-label:hover label.sk-toggleable__label {\n",
       "  color: var(--sklearn-color-text);\n",
       "  background-color: var(--sklearn-color-unfitted-level-2);\n",
       "}\n",
       "\n",
       "/* Label box, darken color on hover, fitted */\n",
       "#sk-container-id-3 div.sk-label.fitted:hover label.sk-toggleable__label.fitted {\n",
       "  color: var(--sklearn-color-text);\n",
       "  background-color: var(--sklearn-color-fitted-level-2);\n",
       "}\n",
       "\n",
       "/* Estimator label */\n",
       "\n",
       "#sk-container-id-3 div.sk-label label {\n",
       "  font-family: monospace;\n",
       "  font-weight: bold;\n",
       "  display: inline-block;\n",
       "  line-height: 1.2em;\n",
       "}\n",
       "\n",
       "#sk-container-id-3 div.sk-label-container {\n",
       "  text-align: center;\n",
       "}\n",
       "\n",
       "/* Estimator-specific */\n",
       "#sk-container-id-3 div.sk-estimator {\n",
       "  font-family: monospace;\n",
       "  border: 1px dotted var(--sklearn-color-border-box);\n",
       "  border-radius: 0.25em;\n",
       "  box-sizing: border-box;\n",
       "  margin-bottom: 0.5em;\n",
       "  /* unfitted */\n",
       "  background-color: var(--sklearn-color-unfitted-level-0);\n",
       "}\n",
       "\n",
       "#sk-container-id-3 div.sk-estimator.fitted {\n",
       "  /* fitted */\n",
       "  background-color: var(--sklearn-color-fitted-level-0);\n",
       "}\n",
       "\n",
       "/* on hover */\n",
       "#sk-container-id-3 div.sk-estimator:hover {\n",
       "  /* unfitted */\n",
       "  background-color: var(--sklearn-color-unfitted-level-2);\n",
       "}\n",
       "\n",
       "#sk-container-id-3 div.sk-estimator.fitted:hover {\n",
       "  /* fitted */\n",
       "  background-color: var(--sklearn-color-fitted-level-2);\n",
       "}\n",
       "\n",
       "/* Specification for estimator info (e.g. \"i\" and \"?\") */\n",
       "\n",
       "/* Common style for \"i\" and \"?\" */\n",
       "\n",
       ".sk-estimator-doc-link,\n",
       "a:link.sk-estimator-doc-link,\n",
       "a:visited.sk-estimator-doc-link {\n",
       "  float: right;\n",
       "  font-size: smaller;\n",
       "  line-height: 1em;\n",
       "  font-family: monospace;\n",
       "  background-color: var(--sklearn-color-background);\n",
       "  border-radius: 1em;\n",
       "  height: 1em;\n",
       "  width: 1em;\n",
       "  text-decoration: none !important;\n",
       "  margin-left: 1ex;\n",
       "  /* unfitted */\n",
       "  border: var(--sklearn-color-unfitted-level-1) 1pt solid;\n",
       "  color: var(--sklearn-color-unfitted-level-1);\n",
       "}\n",
       "\n",
       ".sk-estimator-doc-link.fitted,\n",
       "a:link.sk-estimator-doc-link.fitted,\n",
       "a:visited.sk-estimator-doc-link.fitted {\n",
       "  /* fitted */\n",
       "  border: var(--sklearn-color-fitted-level-1) 1pt solid;\n",
       "  color: var(--sklearn-color-fitted-level-1);\n",
       "}\n",
       "\n",
       "/* On hover */\n",
       "div.sk-estimator:hover .sk-estimator-doc-link:hover,\n",
       ".sk-estimator-doc-link:hover,\n",
       "div.sk-label-container:hover .sk-estimator-doc-link:hover,\n",
       ".sk-estimator-doc-link:hover {\n",
       "  /* unfitted */\n",
       "  background-color: var(--sklearn-color-unfitted-level-3);\n",
       "  color: var(--sklearn-color-background);\n",
       "  text-decoration: none;\n",
       "}\n",
       "\n",
       "div.sk-estimator.fitted:hover .sk-estimator-doc-link.fitted:hover,\n",
       ".sk-estimator-doc-link.fitted:hover,\n",
       "div.sk-label-container:hover .sk-estimator-doc-link.fitted:hover,\n",
       ".sk-estimator-doc-link.fitted:hover {\n",
       "  /* fitted */\n",
       "  background-color: var(--sklearn-color-fitted-level-3);\n",
       "  color: var(--sklearn-color-background);\n",
       "  text-decoration: none;\n",
       "}\n",
       "\n",
       "/* Span, style for the box shown on hovering the info icon */\n",
       ".sk-estimator-doc-link span {\n",
       "  display: none;\n",
       "  z-index: 9999;\n",
       "  position: relative;\n",
       "  font-weight: normal;\n",
       "  right: .2ex;\n",
       "  padding: .5ex;\n",
       "  margin: .5ex;\n",
       "  width: min-content;\n",
       "  min-width: 20ex;\n",
       "  max-width: 50ex;\n",
       "  color: var(--sklearn-color-text);\n",
       "  box-shadow: 2pt 2pt 4pt #999;\n",
       "  /* unfitted */\n",
       "  background: var(--sklearn-color-unfitted-level-0);\n",
       "  border: .5pt solid var(--sklearn-color-unfitted-level-3);\n",
       "}\n",
       "\n",
       ".sk-estimator-doc-link.fitted span {\n",
       "  /* fitted */\n",
       "  background: var(--sklearn-color-fitted-level-0);\n",
       "  border: var(--sklearn-color-fitted-level-3);\n",
       "}\n",
       "\n",
       ".sk-estimator-doc-link:hover span {\n",
       "  display: block;\n",
       "}\n",
       "\n",
       "/* \"?\"-specific style due to the `<a>` HTML tag */\n",
       "\n",
       "#sk-container-id-3 a.estimator_doc_link {\n",
       "  float: right;\n",
       "  font-size: 1rem;\n",
       "  line-height: 1em;\n",
       "  font-family: monospace;\n",
       "  background-color: var(--sklearn-color-background);\n",
       "  border-radius: 1rem;\n",
       "  height: 1rem;\n",
       "  width: 1rem;\n",
       "  text-decoration: none;\n",
       "  /* unfitted */\n",
       "  color: var(--sklearn-color-unfitted-level-1);\n",
       "  border: var(--sklearn-color-unfitted-level-1) 1pt solid;\n",
       "}\n",
       "\n",
       "#sk-container-id-3 a.estimator_doc_link.fitted {\n",
       "  /* fitted */\n",
       "  border: var(--sklearn-color-fitted-level-1) 1pt solid;\n",
       "  color: var(--sklearn-color-fitted-level-1);\n",
       "}\n",
       "\n",
       "/* On hover */\n",
       "#sk-container-id-3 a.estimator_doc_link:hover {\n",
       "  /* unfitted */\n",
       "  background-color: var(--sklearn-color-unfitted-level-3);\n",
       "  color: var(--sklearn-color-background);\n",
       "  text-decoration: none;\n",
       "}\n",
       "\n",
       "#sk-container-id-3 a.estimator_doc_link.fitted:hover {\n",
       "  /* fitted */\n",
       "  background-color: var(--sklearn-color-fitted-level-3);\n",
       "}\n",
       "</style><div id=\"sk-container-id-3\" class=\"sk-top-container\"><div class=\"sk-text-repr-fallback\"><pre>GridSearchCV(cv=5,\n",
       "             estimator=Pipeline(steps=[(&#x27;tfidf&#x27;, TfidfVectorizer()),\n",
       "                                       (&#x27;nb&#x27;, MultinomialNB())]),\n",
       "             n_jobs=-1,\n",
       "             param_grid={&#x27;nb__alpha&#x27;: [0.1, 1.0, 10.0],\n",
       "                         &#x27;tfidf__max_df&#x27;: [0.75, 1.0],\n",
       "                         &#x27;tfidf__min_df&#x27;: [1, 2, 5],\n",
       "                         &#x27;tfidf__ngram_range&#x27;: [(1, 1), (1, 2)]},\n",
       "             scoring=&#x27;accuracy&#x27;, verbose=3)</pre><b>In a Jupyter environment, please rerun this cell to show the HTML representation or trust the notebook. <br />On GitHub, the HTML representation is unable to render, please try loading this page with nbviewer.org.</b></div><div class=\"sk-container\" hidden><div class=\"sk-item sk-dashed-wrapped\"><div class=\"sk-label-container\"><div class=\"sk-label fitted sk-toggleable\"><input class=\"sk-toggleable__control sk-hidden--visually\" id=\"sk-estimator-id-8\" type=\"checkbox\" ><label for=\"sk-estimator-id-8\" class=\"sk-toggleable__label fitted sk-toggleable__label-arrow fitted\">&nbsp;&nbsp;GridSearchCV<a class=\"sk-estimator-doc-link fitted\" rel=\"noreferrer\" target=\"_blank\" href=\"https://scikit-learn.org/1.5/modules/generated/sklearn.model_selection.GridSearchCV.html\">?<span>Documentation for GridSearchCV</span></a><span class=\"sk-estimator-doc-link fitted\">i<span>Fitted</span></span></label><div class=\"sk-toggleable__content fitted\"><pre>GridSearchCV(cv=5,\n",
       "             estimator=Pipeline(steps=[(&#x27;tfidf&#x27;, TfidfVectorizer()),\n",
       "                                       (&#x27;nb&#x27;, MultinomialNB())]),\n",
       "             n_jobs=-1,\n",
       "             param_grid={&#x27;nb__alpha&#x27;: [0.1, 1.0, 10.0],\n",
       "                         &#x27;tfidf__max_df&#x27;: [0.75, 1.0],\n",
       "                         &#x27;tfidf__min_df&#x27;: [1, 2, 5],\n",
       "                         &#x27;tfidf__ngram_range&#x27;: [(1, 1), (1, 2)]},\n",
       "             scoring=&#x27;accuracy&#x27;, verbose=3)</pre></div> </div></div><div class=\"sk-parallel\"><div class=\"sk-parallel-item\"><div class=\"sk-item\"><div class=\"sk-label-container\"><div class=\"sk-label fitted sk-toggleable\"><input class=\"sk-toggleable__control sk-hidden--visually\" id=\"sk-estimator-id-9\" type=\"checkbox\" ><label for=\"sk-estimator-id-9\" class=\"sk-toggleable__label fitted sk-toggleable__label-arrow fitted\">best_estimator_: Pipeline</label><div class=\"sk-toggleable__content fitted\"><pre>Pipeline(steps=[(&#x27;tfidf&#x27;,\n",
       "                 TfidfVectorizer(max_df=0.75, min_df=5, ngram_range=(1, 2))),\n",
       "                (&#x27;nb&#x27;, MultinomialNB(alpha=0.1))])</pre></div> </div></div><div class=\"sk-serial\"><div class=\"sk-item\"><div class=\"sk-serial\"><div class=\"sk-item\"><div class=\"sk-estimator fitted sk-toggleable\"><input class=\"sk-toggleable__control sk-hidden--visually\" id=\"sk-estimator-id-10\" type=\"checkbox\" ><label for=\"sk-estimator-id-10\" class=\"sk-toggleable__label fitted sk-toggleable__label-arrow fitted\">&nbsp;TfidfVectorizer<a class=\"sk-estimator-doc-link fitted\" rel=\"noreferrer\" target=\"_blank\" href=\"https://scikit-learn.org/1.5/modules/generated/sklearn.feature_extraction.text.TfidfVectorizer.html\">?<span>Documentation for TfidfVectorizer</span></a></label><div class=\"sk-toggleable__content fitted\"><pre>TfidfVectorizer(max_df=0.75, min_df=5, ngram_range=(1, 2))</pre></div> </div></div><div class=\"sk-item\"><div class=\"sk-estimator fitted sk-toggleable\"><input class=\"sk-toggleable__control sk-hidden--visually\" id=\"sk-estimator-id-11\" type=\"checkbox\" ><label for=\"sk-estimator-id-11\" class=\"sk-toggleable__label fitted sk-toggleable__label-arrow fitted\">&nbsp;MultinomialNB<a class=\"sk-estimator-doc-link fitted\" rel=\"noreferrer\" target=\"_blank\" href=\"https://scikit-learn.org/1.5/modules/generated/sklearn.naive_bayes.MultinomialNB.html\">?<span>Documentation for MultinomialNB</span></a></label><div class=\"sk-toggleable__content fitted\"><pre>MultinomialNB(alpha=0.1)</pre></div> </div></div></div></div></div></div></div></div></div></div></div>"
      ],
      "text/plain": [
       "GridSearchCV(cv=5,\n",
       "             estimator=Pipeline(steps=[('tfidf', TfidfVectorizer()),\n",
       "                                       ('nb', MultinomialNB())]),\n",
       "             n_jobs=-1,\n",
       "             param_grid={'nb__alpha': [0.1, 1.0, 10.0],\n",
       "                         'tfidf__max_df': [0.75, 1.0],\n",
       "                         'tfidf__min_df': [1, 2, 5],\n",
       "                         'tfidf__ngram_range': [(1, 1), (1, 2)]},\n",
       "             scoring='accuracy', verbose=3)"
      ]
     },
     "execution_count": 153,
     "metadata": {},
     "output_type": "execute_result"
    }
   ],
   "source": [
    "grid_search.fit(X,y)"
   ]
  },
  {
   "cell_type": "code",
   "execution_count": 154,
   "id": "997eb1df",
   "metadata": {
    "ExecuteTime": {
     "end_time": "2024-12-01T13:15:16.159556Z",
     "start_time": "2024-12-01T13:15:16.149513Z"
    }
   },
   "outputs": [
    {
     "data": {
      "text/plain": [
       "0.9016403504139472"
      ]
     },
     "execution_count": 154,
     "metadata": {},
     "output_type": "execute_result"
    }
   ],
   "source": [
    "grid_search.best_score_"
   ]
  },
  {
   "cell_type": "code",
   "execution_count": 155,
   "id": "66278137",
   "metadata": {
    "ExecuteTime": {
     "end_time": "2024-12-01T13:15:20.660640Z",
     "start_time": "2024-12-01T13:15:20.651654Z"
    }
   },
   "outputs": [
    {
     "data": {
      "text/plain": [
       "{'nb__alpha': 0.1,\n",
       " 'tfidf__max_df': 0.75,\n",
       " 'tfidf__min_df': 5,\n",
       " 'tfidf__ngram_range': (1, 2)}"
      ]
     },
     "execution_count": 155,
     "metadata": {},
     "output_type": "execute_result"
    }
   ],
   "source": [
    "grid_search.best_params_"
   ]
  },
  {
   "cell_type": "code",
   "execution_count": 156,
   "id": "f26e3278",
   "metadata": {
    "ExecuteTime": {
     "end_time": "2024-12-01T13:16:51.991051Z",
     "start_time": "2024-12-01T13:16:51.984945Z"
    }
   },
   "outputs": [],
   "source": [
    "best_model = grid_search.best_estimator_"
   ]
  },
  {
   "cell_type": "code",
   "execution_count": 160,
   "id": "0a9f82be",
   "metadata": {
    "ExecuteTime": {
     "end_time": "2024-12-01T13:18:23.267056Z",
     "start_time": "2024-12-01T13:18:15.237155Z"
    }
   },
   "outputs": [],
   "source": [
    "y_pred = best_model.predict(X)"
   ]
  },
  {
   "cell_type": "code",
   "execution_count": 161,
   "id": "69a3d803",
   "metadata": {
    "ExecuteTime": {
     "end_time": "2024-12-01T13:18:32.960129Z",
     "start_time": "2024-12-01T13:18:32.731719Z"
    }
   },
   "outputs": [],
   "source": [
    "cm = confusion_matrix(y, y_pred)"
   ]
  },
  {
   "cell_type": "code",
   "execution_count": 162,
   "id": "a863f324",
   "metadata": {
    "ExecuteTime": {
     "end_time": "2024-12-01T13:18:36.005500Z",
     "start_time": "2024-12-01T13:18:35.502141Z"
    },
    "scrolled": true
   },
   "outputs": [
    {
     "data": {
      "text/plain": [
       "<Figure size 1000x800 with 0 Axes>"
      ]
     },
     "metadata": {},
     "output_type": "display_data"
    },
    {
     "data": {
      "image/png": "[encoded data removed]",
      "text/plain": [
       "<Figure size 640x480 with 2 Axes>"
      ]
     },
     "metadata": {},
     "output_type": "display_data"
    },
    {
     "name": "stdout",
     "output_type": "stream",
     "text": [
      "[CV 3/5] END nb__alpha=0.1, tfidf__max_df=0.75, tfidf__min_df=1, tfidf__ngram_range=(1, 1);, score=0.863 total time=   7.7s\n",
      "[CV 2/5] END nb__alpha=0.1, tfidf__max_df=0.75, tfidf__min_df=1, tfidf__ngram_range=(1, 2);, score=0.861 total time=  17.5s\n",
      "[CV 2/5] END nb__alpha=0.1, tfidf__max_df=0.75, tfidf__min_df=2, tfidf__ngram_range=(1, 1);, score=0.861 total time=   6.9s\n",
      "[CV 5/5] END nb__alpha=0.1, tfidf__max_df=0.75, tfidf__min_df=2, tfidf__ngram_range=(1, 1);, score=0.864 total time=   7.3s\n",
      "[CV 2/5] END nb__alpha=0.1, tfidf__max_df=0.75, tfidf__min_df=2, tfidf__ngram_range=(1, 2);, score=0.880 total time=  19.2s\n",
      "[CV 1/5] END nb__alpha=0.1, tfidf__max_df=0.75, tfidf__min_df=5, tfidf__ngram_range=(1, 1);, score=0.865 total time=   8.3s\n",
      "[CV 4/5] END nb__alpha=0.1, tfidf__max_df=0.75, tfidf__min_df=5, tfidf__ngram_range=(1, 1);, score=0.861 total time=   6.8s\n",
      "[CV 2/5] END nb__alpha=0.1, tfidf__max_df=0.75, tfidf__min_df=5, tfidf__ngram_range=(1, 2);, score=0.902 total time=  14.8s\n",
      "[CV 1/5] END nb__alpha=0.1, tfidf__max_df=1.0, tfidf__min_df=1, tfidf__ngram_range=(1, 1);, score=0.863 total time=   6.3s\n",
      "[CV 4/5] END nb__alpha=0.1, tfidf__max_df=1.0, tfidf__min_df=1, tfidf__ngram_range=(1, 1);, score=0.862 total time=   6.2s\n",
      "[CV 3/5] END nb__alpha=0.1, tfidf__max_df=1.0, tfidf__min_df=1, tfidf__ngram_range=(1, 2);, score=0.870 total time=  16.7s\n",
      "[CV 2/5] END nb__alpha=0.1, tfidf__max_df=1.0, tfidf__min_df=2, tfidf__ngram_range=(1, 1);, score=0.861 total time=   5.9s\n",
      "[CV 5/5] END nb__alpha=0.1, tfidf__max_df=1.0, tfidf__min_df=2, tfidf__ngram_range=(1, 1);, score=0.864 total time=   6.0s\n",
      "[CV 3/5] END nb__alpha=0.1, tfidf__max_df=1.0, tfidf__min_df=2, tfidf__ngram_range=(1, 2);, score=0.887 total time=  17.2s\n",
      "[CV 2/5] END nb__alpha=0.1, tfidf__max_df=1.0, tfidf__min_df=5, tfidf__ngram_range=(1, 1);, score=0.864 total time=   6.1s\n",
      "[CV 5/5] END nb__alpha=0.1, tfidf__max_df=1.0, tfidf__min_df=5, tfidf__ngram_range=(1, 1);, score=0.864 total time=   5.7s\n",
      "[CV 4/5] END nb__alpha=0.1, tfidf__max_df=1.0, tfidf__min_df=5, tfidf__ngram_range=(1, 2);, score=0.901 total time=  13.5s\n",
      "[CV 3/5] END nb__alpha=1.0, tfidf__max_df=0.75, tfidf__min_df=1, tfidf__ngram_range=(1, 1);, score=0.682 total time=   6.1s\n",
      "[CV 1/5] END nb__alpha=1.0, tfidf__max_df=0.75, tfidf__min_df=1, tfidf__ngram_range=(1, 2);, score=0.488 total time=  17.0s\n",
      "[CV 5/5] END nb__alpha=1.0, tfidf__max_df=0.75, tfidf__min_df=1, tfidf__ngram_range=(1, 2);, score=0.489 total time=  19.0s\n",
      "[CV 4/5] END nb__alpha=1.0, tfidf__max_df=0.75, tfidf__min_df=2, tfidf__ngram_range=(1, 2);, score=0.544 total time=  17.0s\n",
      "[CV 3/5] END nb__alpha=1.0, tfidf__max_df=0.75, tfidf__min_df=5, tfidf__ngram_range=(1, 1);, score=0.822 total time=   7.5s\n",
      "[CV 1/5] END nb__alpha=1.0, tfidf__max_df=0.75, tfidf__min_df=5, tfidf__ngram_range=(1, 2);, score=0.740 total time=  20.9s\n",
      "[CV 5/5] END nb__alpha=1.0, tfidf__max_df=0.75, tfidf__min_df=5, tfidf__ngram_range=(1, 2);, score=0.739 total time=  15.8s\n",
      "[CV 2/5] END nb__alpha=1.0, tfidf__max_df=1.0, tfidf__min_df=1, tfidf__ngram_range=(1, 2);, score=0.487 total time=  19.2s\n",
      "[CV 1/5] END nb__alpha=1.0, tfidf__max_df=1.0, tfidf__min_df=2, tfidf__ngram_range=(1, 1);, score=0.749 total time=   6.0s\n",
      "[CV 4/5] END nb__alpha=1.0, tfidf__max_df=1.0, tfidf__min_df=2, tfidf__ngram_range=(1, 1);, score=0.745 total time=   6.6s\n",
      "[CV 2/5] END nb__alpha=1.0, tfidf__max_df=1.0, tfidf__min_df=2, tfidf__ngram_range=(1, 2);, score=0.546 total time=  16.3s\n",
      "[CV 1/5] END nb__alpha=1.0, tfidf__max_df=1.0, tfidf__min_df=5, tfidf__ngram_range=(1, 1);, score=0.823 total time=   7.8s\n",
      "[CV 4/5] END nb__alpha=1.0, tfidf__max_df=1.0, tfidf__min_df=5, tfidf__ngram_range=(1, 1);, score=0.820 total time=   7.8s\n",
      "[CV 3/5] END nb__alpha=1.0, tfidf__max_df=1.0, tfidf__min_df=5, tfidf__ngram_range=(1, 2);, score=0.736 total time=  15.5s\n",
      "[CV 2/5] END nb__alpha=10.0, tfidf__max_df=0.75, tfidf__min_df=1, tfidf__ngram_range=(1, 1);, score=0.402 total time=   7.3s\n",
      "[CV 5/5] END nb__alpha=10.0, tfidf__max_df=0.75, tfidf__min_df=1, tfidf__ngram_range=(1, 1);, score=0.402 total time=   6.7s\n",
      "[CV 4/5] END nb__alpha=10.0, tfidf__max_df=0.75, tfidf__min_df=1, tfidf__ngram_range=(1, 2);, score=0.392 total time=  18.0s\n",
      "[CV 3/5] END nb__alpha=10.0, tfidf__max_df=0.75, tfidf__min_df=2, tfidf__ngram_range=(1, 1);, score=0.418 total time=   6.1s\n",
      "[CV 1/5] END nb__alpha=10.0, tfidf__max_df=0.75, tfidf__min_df=2, tfidf__ngram_range=(1, 2);, score=0.393 total time=  16.1s\n",
      "[CV 5/5] END nb__alpha=10.0, tfidf__max_df=0.75, tfidf__min_df=2, tfidf__ngram_range=(1, 2);, score=0.393 total time=  15.7s\n",
      "[CV 3/5] END nb__alpha=10.0, tfidf__max_df=0.75, tfidf__min_df=5, tfidf__ngram_range=(1, 2);, score=0.401 total time=  13.7s\n",
      "[CV 2/5] END nb__alpha=10.0, tfidf__max_df=1.0, tfidf__min_df=1, tfidf__ngram_range=(1, 1);, score=0.402 total time=   6.4s\n",
      "[CV 5/5] END nb__alpha=10.0, tfidf__max_df=1.0, tfidf__min_df=1, tfidf__ngram_range=(1, 1);, score=0.402 total time=   6.7s\n",
      "[CV 4/5] END nb__alpha=10.0, tfidf__max_df=1.0, tfidf__min_df=1, tfidf__ngram_range=(1, 2);, score=0.392 total time=  17.2s\n",
      "[CV 3/5] END nb__alpha=10.0, tfidf__max_df=1.0, tfidf__min_df=2, tfidf__ngram_range=(1, 1);, score=0.418 total time=   6.0s\n",
      "[CV 1/5] END nb__alpha=10.0, tfidf__max_df=1.0, tfidf__min_df=2, tfidf__ngram_range=(1, 2);, score=0.393 total time=  14.9s\n",
      "[CV 5/5] END nb__alpha=10.0, tfidf__max_df=1.0, tfidf__min_df=2, tfidf__ngram_range=(1, 2);, score=0.393 total time=  15.7s\n",
      "[CV 2/5] END nb__alpha=10.0, tfidf__max_df=1.0, tfidf__min_df=5, tfidf__ngram_range=(1, 2);, score=0.400 total time=  13.4s\n",
      "[CV 2/5] END nb__alpha=0.1, tfidf__max_df=0.75, tfidf__min_df=1, tfidf__ngram_range=(1, 1);, score=0.860 total time=   7.7s\n",
      "[CV 1/5] END nb__alpha=0.1, tfidf__max_df=0.75, tfidf__min_df=1, tfidf__ngram_range=(1, 2);, score=0.866 total time=  17.4s\n",
      "[CV 1/5] END nb__alpha=0.1, tfidf__max_df=0.75, tfidf__min_df=2, tfidf__ngram_range=(1, 1);, score=0.864 total time=   6.9s\n",
      "[CV 4/5] END nb__alpha=0.1, tfidf__max_df=0.75, tfidf__min_df=2, tfidf__ngram_range=(1, 1);, score=0.861 total time=   7.5s\n",
      "[CV 3/5] END nb__alpha=0.1, tfidf__max_df=0.75, tfidf__min_df=2, tfidf__ngram_range=(1, 2);, score=0.887 total time=  19.3s\n",
      "[CV 2/5] END nb__alpha=0.1, tfidf__max_df=0.75, tfidf__min_df=5, tfidf__ngram_range=(1, 1);, score=0.864 total time=   8.4s\n",
      "[CV 5/5] END nb__alpha=0.1, tfidf__max_df=0.75, tfidf__min_df=5, tfidf__ngram_range=(1, 1);, score=0.864 total time=   6.6s\n",
      "[CV 3/5] END nb__alpha=0.1, tfidf__max_df=0.75, tfidf__min_df=5, tfidf__ngram_range=(1, 2);, score=0.901 total time=  14.9s\n",
      "[CV 2/5] END nb__alpha=0.1, tfidf__max_df=1.0, tfidf__min_df=1, tfidf__ngram_range=(1, 1);, score=0.860 total time=   6.3s\n",
      "[CV 5/5] END nb__alpha=0.1, tfidf__max_df=1.0, tfidf__min_df=1, tfidf__ngram_range=(1, 1);, score=0.864 total time=   6.2s\n",
      "[CV 4/5] END nb__alpha=0.1, tfidf__max_df=1.0, tfidf__min_df=1, tfidf__ngram_range=(1, 2);, score=0.864 total time=  17.0s\n",
      "[CV 3/5] END nb__alpha=0.1, tfidf__max_df=1.0, tfidf__min_df=2, tfidf__ngram_range=(1, 1);, score=0.864 total time=   6.0s\n",
      "[CV 1/5] END nb__alpha=0.1, tfidf__max_df=1.0, tfidf__min_df=2, tfidf__ngram_range=(1, 2);, score=0.882 total time=  14.7s\n",
      "[CV 5/5] END nb__alpha=0.1, tfidf__max_df=1.0, tfidf__min_df=2, tfidf__ngram_range=(1, 2);, score=0.881 total time=  17.2s\n",
      "[CV 2/5] END nb__alpha=0.1, tfidf__max_df=1.0, tfidf__min_df=5, tfidf__ngram_range=(1, 2);, score=0.902 total time=  13.3s\n",
      "[CV 1/5] END nb__alpha=1.0, tfidf__max_df=0.75, tfidf__min_df=1, tfidf__ngram_range=(1, 1);, score=0.686 total time=   6.2s\n",
      "[CV 4/5] END nb__alpha=1.0, tfidf__max_df=0.75, tfidf__min_df=1, tfidf__ngram_range=(1, 1);, score=0.677 total time=   6.0s\n",
      "[CV 3/5] END nb__alpha=1.0, tfidf__max_df=0.75, tfidf__min_df=1, tfidf__ngram_range=(1, 2);, score=0.487 total time=  16.9s\n",
      "[CV 2/5] END nb__alpha=1.0, tfidf__max_df=0.75, tfidf__min_df=2, tfidf__ngram_range=(1, 1);, score=0.749 total time=   5.9s\n",
      "[CV 5/5] END nb__alpha=1.0, tfidf__max_df=0.75, tfidf__min_df=2, tfidf__ngram_range=(1, 1);, score=0.747 total time=   7.7s\n",
      "[CV 3/5] END nb__alpha=1.0, tfidf__max_df=0.75, tfidf__min_df=2, tfidf__ngram_range=(1, 2);, score=0.549 total time=  17.6s\n",
      "[CV 2/5] END nb__alpha=1.0, tfidf__max_df=0.75, tfidf__min_df=5, tfidf__ngram_range=(1, 1);, score=0.821 total time=   7.3s\n",
      "[CV 5/5] END nb__alpha=1.0, tfidf__max_df=0.75, tfidf__min_df=5, tfidf__ngram_range=(1, 1);, score=0.820 total time=   7.4s\n",
      "[CV 4/5] END nb__alpha=1.0, tfidf__max_df=0.75, tfidf__min_df=5, tfidf__ngram_range=(1, 2);, score=0.739 total time=  20.9s\n",
      "[CV 3/5] END nb__alpha=1.0, tfidf__max_df=1.0, tfidf__min_df=1, tfidf__ngram_range=(1, 1);, score=0.682 total time=   7.3s\n",
      "[CV 1/5] END nb__alpha=1.0, tfidf__max_df=1.0, tfidf__min_df=1, tfidf__ngram_range=(1, 2);, score=0.488 total time=  18.5s\n",
      "[CV 5/5] END nb__alpha=1.0, tfidf__max_df=1.0, tfidf__min_df=1, tfidf__ngram_range=(1, 2);, score=0.489 total time=  17.9s\n",
      "[CV 3/5] END nb__alpha=1.0, tfidf__max_df=1.0, tfidf__min_df=2, tfidf__ngram_range=(1, 2);, score=0.549 total time=  16.6s\n",
      "[CV 2/5] END nb__alpha=1.0, tfidf__max_df=1.0, tfidf__min_df=5, tfidf__ngram_range=(1, 1);, score=0.821 total time=   8.4s\n",
      "[CV 5/5] END nb__alpha=1.0, tfidf__max_df=1.0, tfidf__min_df=5, tfidf__ngram_range=(1, 1);, score=0.820 total time=   7.1s\n",
      "[CV 4/5] END nb__alpha=1.0, tfidf__max_df=1.0, tfidf__min_df=5, tfidf__ngram_range=(1, 2);, score=0.739 total time=  15.6s\n",
      "[CV 3/5] END nb__alpha=10.0, tfidf__max_df=0.75, tfidf__min_df=1, tfidf__ngram_range=(1, 1);, score=0.402 total time=   7.1s\n",
      "[CV 1/5] END nb__alpha=10.0, tfidf__max_df=0.75, tfidf__min_df=1, tfidf__ngram_range=(1, 2);, score=0.393 total time=  18.1s\n",
      "[CV 5/5] END nb__alpha=10.0, tfidf__max_df=0.75, tfidf__min_df=1, tfidf__ngram_range=(1, 2);, score=0.392 total time=  17.9s\n",
      "[CV 4/5] END nb__alpha=10.0, tfidf__max_df=0.75, tfidf__min_df=2, tfidf__ngram_range=(1, 2);, score=0.393 total time=  15.4s\n",
      "[CV 3/5] END nb__alpha=10.0, tfidf__max_df=0.75, tfidf__min_df=5, tfidf__ngram_range=(1, 1);, score=0.504 total time=   6.2s\n",
      "[CV 1/5] END nb__alpha=10.0, tfidf__max_df=0.75, tfidf__min_df=5, tfidf__ngram_range=(1, 2);, score=0.403 total time=  13.7s\n",
      "[CV 5/5] END nb__alpha=10.0, tfidf__max_df=0.75, tfidf__min_df=5, tfidf__ngram_range=(1, 2);, score=0.400 total time=  14.3s\n",
      "[CV 2/5] END nb__alpha=10.0, tfidf__max_df=1.0, tfidf__min_df=1, tfidf__ngram_range=(1, 2);, score=0.393 total time=  17.5s\n",
      "[CV 1/5] END nb__alpha=10.0, tfidf__max_df=1.0, tfidf__min_df=2, tfidf__ngram_range=(1, 1);, score=0.419 total time=   5.9s\n",
      "[CV 4/5] END nb__alpha=10.0, tfidf__max_df=1.0, tfidf__min_df=2, tfidf__ngram_range=(1, 1);, score=0.418 total time=   6.0s\n",
      "[CV 2/5] END nb__alpha=10.0, tfidf__max_df=1.0, tfidf__min_df=2, tfidf__ngram_range=(1, 2);, score=0.393 total time=  15.7s\n",
      "[CV 1/5] END nb__alpha=10.0, tfidf__max_df=1.0, tfidf__min_df=5, tfidf__ngram_range=(1, 1);, score=0.501 total time=   6.0s\n",
      "[CV 4/5] END nb__alpha=10.0, tfidf__max_df=1.0, tfidf__min_df=5, tfidf__ngram_range=(1, 1);, score=0.498 total time=   6.1s\n",
      "[CV 3/5] END nb__alpha=10.0, tfidf__max_df=1.0, tfidf__min_df=5, tfidf__ngram_range=(1, 2);, score=0.401 total time=  13.2s\n"
     ]
    },
    {
     "name": "stdout",
     "output_type": "stream",
     "text": [
      "[CV 4/5] END nb__alpha=0.1, tfidf__max_df=0.75, tfidf__min_df=1, tfidf__ngram_range=(1, 1);, score=0.862 total time=   7.8s\n",
      "[CV 3/5] END nb__alpha=0.1, tfidf__max_df=0.75, tfidf__min_df=1, tfidf__ngram_range=(1, 2);, score=0.870 total time=  17.1s\n",
      "[CV 5/5] END nb__alpha=0.1, tfidf__max_df=0.75, tfidf__min_df=1, tfidf__ngram_range=(1, 2);, score=0.865 total time=  19.8s\n",
      "[CV 4/5] END nb__alpha=0.1, tfidf__max_df=0.75, tfidf__min_df=2, tfidf__ngram_range=(1, 2);, score=0.883 total time=  20.4s\n",
      "[CV 3/5] END nb__alpha=0.1, tfidf__max_df=0.75, tfidf__min_df=5, tfidf__ngram_range=(1, 1);, score=0.864 total time=   6.9s\n",
      "[CV 1/5] END nb__alpha=0.1, tfidf__max_df=0.75, tfidf__min_df=5, tfidf__ngram_range=(1, 2);, score=0.903 total time=  15.1s\n",
      "[CV 5/5] END nb__alpha=0.1, tfidf__max_df=0.75, tfidf__min_df=5, tfidf__ngram_range=(1, 2);, score=0.901 total time=  13.6s\n",
      "[CV 2/5] END nb__alpha=0.1, tfidf__max_df=1.0, tfidf__min_df=1, tfidf__ngram_range=(1, 2);, score=0.861 total time=  16.8s\n",
      "[CV 1/5] END nb__alpha=0.1, tfidf__max_df=1.0, tfidf__min_df=2, tfidf__ngram_range=(1, 1);, score=0.864 total time=   5.9s\n",
      "[CV 4/5] END nb__alpha=0.1, tfidf__max_df=1.0, tfidf__min_df=2, tfidf__ngram_range=(1, 1);, score=0.861 total time=   5.9s\n",
      "[CV 2/5] END nb__alpha=0.1, tfidf__max_df=1.0, tfidf__min_df=2, tfidf__ngram_range=(1, 2);, score=0.880 total time=  16.9s\n",
      "[CV 1/5] END nb__alpha=0.1, tfidf__max_df=1.0, tfidf__min_df=5, tfidf__ngram_range=(1, 1);, score=0.865 total time=   6.2s\n",
      "[CV 4/5] END nb__alpha=0.1, tfidf__max_df=1.0, tfidf__min_df=5, tfidf__ngram_range=(1, 1);, score=0.861 total time=   5.8s\n",
      "[CV 3/5] END nb__alpha=0.1, tfidf__max_df=1.0, tfidf__min_df=5, tfidf__ngram_range=(1, 2);, score=0.901 total time=  13.3s\n",
      "[CV 2/5] END nb__alpha=1.0, tfidf__max_df=0.75, tfidf__min_df=1, tfidf__ngram_range=(1, 1);, score=0.678 total time=   6.1s\n",
      "[CV 5/5] END nb__alpha=1.0, tfidf__max_df=0.75, tfidf__min_df=1, tfidf__ngram_range=(1, 1);, score=0.681 total time=   6.0s\n",
      "[CV 4/5] END nb__alpha=1.0, tfidf__max_df=0.75, tfidf__min_df=1, tfidf__ngram_range=(1, 2);, score=0.483 total time=  16.9s\n",
      "[CV 3/5] END nb__alpha=1.0, tfidf__max_df=0.75, tfidf__min_df=2, tfidf__ngram_range=(1, 1);, score=0.749 total time=   5.9s\n",
      "[CV 1/5] END nb__alpha=1.0, tfidf__max_df=0.75, tfidf__min_df=2, tfidf__ngram_range=(1, 2);, score=0.549 total time=  18.7s\n",
      "[CV 5/5] END nb__alpha=1.0, tfidf__max_df=0.75, tfidf__min_df=2, tfidf__ngram_range=(1, 2);, score=0.547 total time=  18.2s\n",
      "[CV 2/5] END nb__alpha=1.0, tfidf__max_df=0.75, tfidf__min_df=5, tfidf__ngram_range=(1, 2);, score=0.741 total time=  21.0s\n",
      "[CV 1/5] END nb__alpha=1.0, tfidf__max_df=1.0, tfidf__min_df=1, tfidf__ngram_range=(1, 1);, score=0.686 total time=   7.4s\n",
      "[CV 4/5] END nb__alpha=1.0, tfidf__max_df=1.0, tfidf__min_df=1, tfidf__ngram_range=(1, 1);, score=0.677 total time=   6.3s\n",
      "[CV 3/5] END nb__alpha=1.0, tfidf__max_df=1.0, tfidf__min_df=1, tfidf__ngram_range=(1, 2);, score=0.487 total time=  18.5s\n",
      "[CV 2/5] END nb__alpha=1.0, tfidf__max_df=1.0, tfidf__min_df=2, tfidf__ngram_range=(1, 1);, score=0.749 total time=   6.1s\n",
      "[CV 5/5] END nb__alpha=1.0, tfidf__max_df=1.0, tfidf__min_df=2, tfidf__ngram_range=(1, 1);, score=0.747 total time=   6.7s\n",
      "[CV 4/5] END nb__alpha=1.0, tfidf__max_df=1.0, tfidf__min_df=2, tfidf__ngram_range=(1, 2);, score=0.544 total time=  16.6s\n",
      "[CV 3/5] END nb__alpha=1.0, tfidf__max_df=1.0, tfidf__min_df=5, tfidf__ngram_range=(1, 1);, score=0.822 total time=   8.5s\n",
      "[CV 1/5] END nb__alpha=1.0, tfidf__max_df=1.0, tfidf__min_df=5, tfidf__ngram_range=(1, 2);, score=0.740 total time=  15.6s\n",
      "[CV 5/5] END nb__alpha=1.0, tfidf__max_df=1.0, tfidf__min_df=5, tfidf__ngram_range=(1, 2);, score=0.739 total time=  16.1s\n",
      "[CV 2/5] END nb__alpha=10.0, tfidf__max_df=0.75, tfidf__min_df=1, tfidf__ngram_range=(1, 2);, score=0.393 total time=  17.7s\n",
      "[CV 1/5] END nb__alpha=10.0, tfidf__max_df=0.75, tfidf__min_df=2, tfidf__ngram_range=(1, 1);, score=0.419 total time=   6.2s\n",
      "[CV 4/5] END nb__alpha=10.0, tfidf__max_df=0.75, tfidf__min_df=2, tfidf__ngram_range=(1, 1);, score=0.418 total time=   6.7s\n",
      "[CV 2/5] END nb__alpha=10.0, tfidf__max_df=0.75, tfidf__min_df=2, tfidf__ngram_range=(1, 2);, score=0.393 total time=  15.4s\n",
      "[CV 1/5] END nb__alpha=10.0, tfidf__max_df=0.75, tfidf__min_df=5, tfidf__ngram_range=(1, 1);, score=0.501 total time=   6.4s\n",
      "[CV 4/5] END nb__alpha=10.0, tfidf__max_df=0.75, tfidf__min_df=5, tfidf__ngram_range=(1, 1);, score=0.498 total time=   6.2s\n",
      "[CV 2/5] END nb__alpha=10.0, tfidf__max_df=0.75, tfidf__min_df=5, tfidf__ngram_range=(1, 2);, score=0.400 total time=  13.6s\n",
      "[CV 1/5] END nb__alpha=10.0, tfidf__max_df=1.0, tfidf__min_df=1, tfidf__ngram_range=(1, 1);, score=0.404 total time=   6.2s\n",
      "[CV 4/5] END nb__alpha=10.0, tfidf__max_df=1.0, tfidf__min_df=1, tfidf__ngram_range=(1, 1);, score=0.401 total time=   6.9s\n",
      "[CV 3/5] END nb__alpha=10.0, tfidf__max_df=1.0, tfidf__min_df=1, tfidf__ngram_range=(1, 2);, score=0.393 total time=  16.9s\n",
      "[CV 2/5] END nb__alpha=10.0, tfidf__max_df=1.0, tfidf__min_df=2, tfidf__ngram_range=(1, 1);, score=0.418 total time=   5.9s\n",
      "[CV 5/5] END nb__alpha=10.0, tfidf__max_df=1.0, tfidf__min_df=2, tfidf__ngram_range=(1, 1);, score=0.417 total time=   5.9s\n",
      "[CV 3/5] END nb__alpha=10.0, tfidf__max_df=1.0, tfidf__min_df=2, tfidf__ngram_range=(1, 2);, score=0.393 total time=  15.6s\n",
      "[CV 2/5] END nb__alpha=10.0, tfidf__max_df=1.0, tfidf__min_df=5, tfidf__ngram_range=(1, 1);, score=0.498 total time=   6.0s\n",
      "[CV 5/5] END nb__alpha=10.0, tfidf__max_df=1.0, tfidf__min_df=5, tfidf__ngram_range=(1, 1);, score=0.502 total time=   6.0s\n",
      "[CV 4/5] END nb__alpha=10.0, tfidf__max_df=1.0, tfidf__min_df=5, tfidf__ngram_range=(1, 2);, score=0.400 total time=  12.6s\n",
      "[CV 1/5] END nb__alpha=0.1, tfidf__max_df=0.75, tfidf__min_df=1, tfidf__ngram_range=(1, 1);, score=0.863 total time=   7.7s\n",
      "[CV 5/5] END nb__alpha=0.1, tfidf__max_df=0.75, tfidf__min_df=1, tfidf__ngram_range=(1, 1);, score=0.864 total time=   6.1s\n",
      "[CV 4/5] END nb__alpha=0.1, tfidf__max_df=0.75, tfidf__min_df=1, tfidf__ngram_range=(1, 2);, score=0.864 total time=  17.6s\n",
      "[CV 3/5] END nb__alpha=0.1, tfidf__max_df=0.75, tfidf__min_df=2, tfidf__ngram_range=(1, 1);, score=0.864 total time=   7.5s\n",
      "[CV 1/5] END nb__alpha=0.1, tfidf__max_df=0.75, tfidf__min_df=2, tfidf__ngram_range=(1, 2);, score=0.882 total time=  18.7s\n",
      "[CV 5/5] END nb__alpha=0.1, tfidf__max_df=0.75, tfidf__min_df=2, tfidf__ngram_range=(1, 2);, score=0.881 total time=  18.7s\n",
      "[CV 4/5] END nb__alpha=0.1, tfidf__max_df=0.75, tfidf__min_df=5, tfidf__ngram_range=(1, 2);, score=0.901 total time=  14.7s\n",
      "[CV 3/5] END nb__alpha=0.1, tfidf__max_df=1.0, tfidf__min_df=1, tfidf__ngram_range=(1, 1);, score=0.863 total time=   6.2s\n",
      "[CV 1/5] END nb__alpha=0.1, tfidf__max_df=1.0, tfidf__min_df=1, tfidf__ngram_range=(1, 2);, score=0.866 total time=  16.7s\n",
      "[CV 5/5] END nb__alpha=0.1, tfidf__max_df=1.0, tfidf__min_df=1, tfidf__ngram_range=(1, 2);, score=0.865 total time=  16.5s\n",
      "[CV 4/5] END nb__alpha=0.1, tfidf__max_df=1.0, tfidf__min_df=2, tfidf__ngram_range=(1, 2);, score=0.883 total time=  17.4s\n",
      "[CV 3/5] END nb__alpha=0.1, tfidf__max_df=1.0, tfidf__min_df=5, tfidf__ngram_range=(1, 1);, score=0.864 total time=   5.9s\n",
      "[CV 1/5] END nb__alpha=0.1, tfidf__max_df=1.0, tfidf__min_df=5, tfidf__ngram_range=(1, 2);, score=0.903 total time=  13.3s\n",
      "[CV 5/5] END nb__alpha=0.1, tfidf__max_df=1.0, tfidf__min_df=5, tfidf__ngram_range=(1, 2);, score=0.901 total time=  13.7s\n",
      "[CV 2/5] END nb__alpha=1.0, tfidf__max_df=0.75, tfidf__min_df=1, tfidf__ngram_range=(1, 2);, score=0.487 total time=  17.2s\n",
      "[CV 1/5] END nb__alpha=1.0, tfidf__max_df=0.75, tfidf__min_df=2, tfidf__ngram_range=(1, 1);, score=0.749 total time=   5.9s\n",
      "[CV 4/5] END nb__alpha=1.0, tfidf__max_df=0.75, tfidf__min_df=2, tfidf__ngram_range=(1, 1);, score=0.745 total time=   7.2s\n",
      "[CV 2/5] END nb__alpha=1.0, tfidf__max_df=0.75, tfidf__min_df=2, tfidf__ngram_range=(1, 2);, score=0.546 total time=  17.6s\n",
      "[CV 1/5] END nb__alpha=1.0, tfidf__max_df=0.75, tfidf__min_df=5, tfidf__ngram_range=(1, 1);, score=0.823 total time=   7.3s\n",
      "[CV 4/5] END nb__alpha=1.0, tfidf__max_df=0.75, tfidf__min_df=5, tfidf__ngram_range=(1, 1);, score=0.820 total time=   7.8s\n",
      "[CV 3/5] END nb__alpha=1.0, tfidf__max_df=0.75, tfidf__min_df=5, tfidf__ngram_range=(1, 2);, score=0.736 total time=  21.0s\n",
      "[CV 2/5] END nb__alpha=1.0, tfidf__max_df=1.0, tfidf__min_df=1, tfidf__ngram_range=(1, 1);, score=0.678 total time=   7.4s\n",
      "[CV 5/5] END nb__alpha=1.0, tfidf__max_df=1.0, tfidf__min_df=1, tfidf__ngram_range=(1, 1);, score=0.681 total time=   6.5s\n",
      "[CV 4/5] END nb__alpha=1.0, tfidf__max_df=1.0, tfidf__min_df=1, tfidf__ngram_range=(1, 2);, score=0.483 total time=  18.7s\n",
      "[CV 3/5] END nb__alpha=1.0, tfidf__max_df=1.0, tfidf__min_df=2, tfidf__ngram_range=(1, 1);, score=0.749 total time=   6.2s\n",
      "[CV 1/5] END nb__alpha=1.0, tfidf__max_df=1.0, tfidf__min_df=2, tfidf__ngram_range=(1, 2);, score=0.549 total time=  16.2s\n",
      "[CV 5/5] END nb__alpha=1.0, tfidf__max_df=1.0, tfidf__min_df=2, tfidf__ngram_range=(1, 2);, score=0.547 total time=  19.3s\n",
      "[CV 2/5] END nb__alpha=1.0, tfidf__max_df=1.0, tfidf__min_df=5, tfidf__ngram_range=(1, 2);, score=0.741 total time=  15.5s\n",
      "[CV 1/5] END nb__alpha=10.0, tfidf__max_df=0.75, tfidf__min_df=1, tfidf__ngram_range=(1, 1);, score=0.404 total time=   6.8s\n",
      "[CV 4/5] END nb__alpha=10.0, tfidf__max_df=0.75, tfidf__min_df=1, tfidf__ngram_range=(1, 1);, score=0.401 total time=   7.4s\n",
      "[CV 3/5] END nb__alpha=10.0, tfidf__max_df=0.75, tfidf__min_df=1, tfidf__ngram_range=(1, 2);, score=0.393 total time=  17.4s\n",
      "[CV 2/5] END nb__alpha=10.0, tfidf__max_df=0.75, tfidf__min_df=2, tfidf__ngram_range=(1, 1);, score=0.418 total time=   6.1s\n",
      "[CV 5/5] END nb__alpha=10.0, tfidf__max_df=0.75, tfidf__min_df=2, tfidf__ngram_range=(1, 1);, score=0.417 total time=   6.9s\n",
      "[CV 3/5] END nb__alpha=10.0, tfidf__max_df=0.75, tfidf__min_df=2, tfidf__ngram_range=(1, 2);, score=0.393 total time=  15.4s\n",
      "[CV 2/5] END nb__alpha=10.0, tfidf__max_df=0.75, tfidf__min_df=5, tfidf__ngram_range=(1, 1);, score=0.498 total time=   6.3s\n",
      "[CV 5/5] END nb__alpha=10.0, tfidf__max_df=0.75, tfidf__min_df=5, tfidf__ngram_range=(1, 1);, score=0.502 total time=   6.2s\n",
      "[CV 4/5] END nb__alpha=10.0, tfidf__max_df=0.75, tfidf__min_df=5, tfidf__ngram_range=(1, 2);, score=0.400 total time=  13.5s\n",
      "[CV 3/5] END nb__alpha=10.0, tfidf__max_df=1.0, tfidf__min_df=1, tfidf__ngram_range=(1, 1);, score=0.402 total time=   6.3s\n",
      "[CV 1/5] END nb__alpha=10.0, tfidf__max_df=1.0, tfidf__min_df=1, tfidf__ngram_range=(1, 2);, score=0.393 total time=  17.4s\n",
      "[CV 5/5] END nb__alpha=10.0, tfidf__max_df=1.0, tfidf__min_df=1, tfidf__ngram_range=(1, 2);, score=0.392 total time=  16.6s\n",
      "[CV 4/5] END nb__alpha=10.0, tfidf__max_df=1.0, tfidf__min_df=2, tfidf__ngram_range=(1, 2);, score=0.393 total time=  15.9s\n",
      "[CV 3/5] END nb__alpha=10.0, tfidf__max_df=1.0, tfidf__min_df=5, tfidf__ngram_range=(1, 1);, score=0.504 total time=   5.9s\n",
      "[CV 1/5] END nb__alpha=10.0, tfidf__max_df=1.0, tfidf__min_df=5, tfidf__ngram_range=(1, 2);, score=0.403 total time=  13.5s\n",
      "[CV 5/5] END nb__alpha=10.0, tfidf__max_df=1.0, tfidf__min_df=5, tfidf__ngram_range=(1, 2);, score=0.400 total time=   9.0s\n"
     ]
    }
   ],
   "source": [
    "plt.figure(figsize=(10, 8))\n",
    "cm_display = ConfusionMatrixDisplay(confusion_matrix=cm, display_labels=np.unique(y))\n",
    "cm_display.plot(cmap='Blues', xticks_rotation=45)\n",
    "plt.title('Matrice de Confusion')\n",
    "plt.show()"
   ]
  },
  {
   "cell_type": "code",
   "execution_count": 179,
   "id": "f9eb1ac4",
   "metadata": {
    "ExecuteTime": {
     "end_time": "2024-12-01T13:24:28.566861Z",
     "start_time": "2024-12-01T13:24:28.561983Z"
    }
   },
   "outputs": [],
   "source": [
    "new_sent = [\"life has no sense\"]"
   ]
  },
  {
   "cell_type": "code",
   "execution_count": 180,
   "id": "1212dce3",
   "metadata": {
    "ExecuteTime": {
     "end_time": "2024-12-01T13:24:28.883084Z",
     "start_time": "2024-12-01T13:24:28.873903Z"
    }
   },
   "outputs": [],
   "source": [
    "new_pred = best_model.predict(new_sent)"
   ]
  },
  {
   "cell_type": "code",
   "execution_count": 181,
   "id": "289a51ad",
   "metadata": {
    "ExecuteTime": {
     "end_time": "2024-12-01T13:24:29.196933Z",
     "start_time": "2024-12-01T13:24:29.188317Z"
    }
   },
   "outputs": [
    {
     "data": {
      "text/plain": [
       "array(['Depression'], dtype='<U15')"
      ]
     },
     "execution_count": 181,
     "metadata": {},
     "output_type": "execute_result"
    }
   ],
   "source": [
    "new_pred"
   ]
  },
  {
   "cell_type": "markdown",
   "id": "0978a4bf",
   "metadata": {},
   "source": [
    "Let's try others ML models"
   ]
  },
  {
   "cell_type": "code",
   "execution_count": 188,
   "id": "e82f4fd3",
   "metadata": {
    "ExecuteTime": {
     "end_time": "2024-12-01T14:11:44.424448Z",
     "start_time": "2024-12-01T14:11:44.416923Z"
    }
   },
   "outputs": [],
   "source": [
    "pipeline2 = Pipeline([\n",
    "    ('tfidf', TfidfVectorizer(max_df=0.75, min_df=5, ngram_range=(1, 2))),\n",
    "    ('SVM', SVC())\n",
    "])"
   ]
  },
  {
   "cell_type": "code",
   "execution_count": 189,
   "id": "04b0ae89",
   "metadata": {
    "ExecuteTime": {
     "end_time": "2024-12-01T14:46:25.354640Z",
     "start_time": "2024-12-01T14:11:58.482985Z"
    }
   },
   "outputs": [],
   "source": [
    "cv = cross_validate(pipeline2,X,y, cv=2, scoring='accuracy')"
   ]
  },
  {
   "cell_type": "code",
   "execution_count": 190,
   "id": "65c07e0b",
   "metadata": {
    "ExecuteTime": {
     "end_time": "2024-12-01T14:46:25.506507Z",
     "start_time": "2024-12-01T14:46:25.360090Z"
    }
   },
   "outputs": [
    {
     "data": {
      "text/plain": [
       "0.8948941898322064"
      ]
     },
     "execution_count": 190,
     "metadata": {},
     "output_type": "execute_result"
    }
   ],
   "source": [
    "cv['test_score'].mean()"
   ]
  },
  {
   "cell_type": "code",
   "execution_count": 196,
   "id": "437f4056",
   "metadata": {
    "ExecuteTime": {
     "end_time": "2024-12-01T15:05:08.849758Z",
     "start_time": "2024-12-01T15:05:08.842890Z"
    }
   },
   "outputs": [],
   "source": [
    "pipeline3 = Pipeline([\n",
    "    ('tfidf', TfidfVectorizer(ngram_range=(1, 2))),\n",
    "    ('rf', RandomForestClassifier())\n",
    "])"
   ]
  },
  {
   "cell_type": "code",
   "execution_count": 194,
   "id": "916c3caf",
   "metadata": {
    "ExecuteTime": {
     "end_time": "2024-12-01T14:55:20.579208Z",
     "start_time": "2024-12-01T14:50:49.045748Z"
    }
   },
   "outputs": [],
   "source": [
    "cv = cross_validate(pipeline3,X,y, cv=2, scoring='accuracy')"
   ]
  },
  {
   "cell_type": "code",
   "execution_count": 195,
   "id": "bcaf6881",
   "metadata": {
    "ExecuteTime": {
     "end_time": "2024-12-01T14:55:24.645518Z",
     "start_time": "2024-12-01T14:55:24.633968Z"
    }
   },
   "outputs": [
    {
     "data": {
      "text/plain": [
       "0.8711964688204358"
      ]
     },
     "execution_count": 195,
     "metadata": {},
     "output_type": "execute_result"
    }
   ],
   "source": [
    "cv['test_score'].mean()"
   ]
  },
  {
   "cell_type": "code",
   "execution_count": 202,
   "id": "2e36aef9",
   "metadata": {
    "ExecuteTime": {
     "end_time": "2024-12-01T16:31:44.765694Z",
     "start_time": "2024-12-01T16:18:53.210746Z"
    }
   },
   "outputs": [
    {
     "name": "stdout",
     "output_type": "stream",
     "text": [
      "Fitting 3 folds for each of 24 candidates, totalling 72 fits\n",
      "Best Parameters: {'rf__max_depth': 20, 'rf__n_estimators': 100, 'tfidf__max_df': 0.75, 'tfidf__min_df': 5}\n",
      "Best Cross-Validation Score: 0.5316647883796645\n"
     ]
    }
   ],
   "source": [
    "# Paramètres à tester\n",
    "param_grid = {\n",
    "    'tfidf__max_df': [0.75, 1.0],\n",
    "    'tfidf__min_df': [1,2,5],\n",
    "    'rf__n_estimators': [100, 200],  # Nombre d'arbres\n",
    "    'rf__max_depth': [10, 20],  # Profondeur maximale\n",
    "}\n",
    "\n",
    "# GridSearchCV\n",
    "grid_search = GridSearchCV(pipeline3, param_grid, cv=3, scoring='accuracy', verbose=3, n_jobs=-1)\n",
    "grid_search.fit(X, y)\n",
    "\n",
    "# Résultats\n",
    "print(\"Best Parameters:\", grid_search.best_params_)\n",
    "print(\"Best Cross-Validation Score:\", grid_search.best_score_)"
   ]
  },
  {
   "cell_type": "code",
   "execution_count": 203,
   "id": "4271fb33",
   "metadata": {
    "ExecuteTime": {
     "end_time": "2024-12-01T16:31:44.809506Z",
     "start_time": "2024-12-01T16:31:44.773979Z"
    }
   },
   "outputs": [
    {
     "data": {
      "text/html": [
       "<style>#sk-container-id-5 {\n",
       "  /* Definition of color scheme common for light and dark mode */\n",
       "  --sklearn-color-text: black;\n",
       "  --sklearn-color-line: gray;\n",
       "  /* Definition of color scheme for unfitted estimators */\n",
       "  --sklearn-color-unfitted-level-0: #fff5e6;\n",
       "  --sklearn-color-unfitted-level-1: #f6e4d2;\n",
       "  --sklearn-color-unfitted-level-2: #ffe0b3;\n",
       "  --sklearn-color-unfitted-level-3: chocolate;\n",
       "  /* Definition of color scheme for fitted estimators */\n",
       "  --sklearn-color-fitted-level-0: #f0f8ff;\n",
       "  --sklearn-color-fitted-level-1: #d4ebff;\n",
       "  --sklearn-color-fitted-level-2: #b3dbfd;\n",
       "  --sklearn-color-fitted-level-3: cornflowerblue;\n",
       "\n",
       "  /* Specific color for light theme */\n",
       "  --sklearn-color-text-on-default-background: var(--sg-text-color, var(--theme-code-foreground, var(--jp-content-font-color1, black)));\n",
       "  --sklearn-color-background: var(--sg-background-color, var(--theme-background, var(--jp-layout-color0, white)));\n",
       "  --sklearn-color-border-box: var(--sg-text-color, var(--theme-code-foreground, var(--jp-content-font-color1, black)));\n",
       "  --sklearn-color-icon: #696969;\n",
       "\n",
       "  @media (prefers-color-scheme: dark) {\n",
       "    /* Redefinition of color scheme for dark theme */\n",
       "    --sklearn-color-text-on-default-background: var(--sg-text-color, var(--theme-code-foreground, var(--jp-content-font-color1, white)));\n",
       "    --sklearn-color-background: var(--sg-background-color, var(--theme-background, var(--jp-layout-color0, #111)));\n",
       "    --sklearn-color-border-box: var(--sg-text-color, var(--theme-code-foreground, var(--jp-content-font-color1, white)));\n",
       "    --sklearn-color-icon: #878787;\n",
       "  }\n",
       "}\n",
       "\n",
       "#sk-container-id-5 {\n",
       "  color: var(--sklearn-color-text);\n",
       "}\n",
       "\n",
       "#sk-container-id-5 pre {\n",
       "  padding: 0;\n",
       "}\n",
       "\n",
       "#sk-container-id-5 input.sk-hidden--visually {\n",
       "  border: 0;\n",
       "  clip: rect(1px 1px 1px 1px);\n",
       "  clip: rect(1px, 1px, 1px, 1px);\n",
       "  height: 1px;\n",
       "  margin: -1px;\n",
       "  overflow: hidden;\n",
       "  padding: 0;\n",
       "  position: absolute;\n",
       "  width: 1px;\n",
       "}\n",
       "\n",
       "#sk-container-id-5 div.sk-dashed-wrapped {\n",
       "  border: 1px dashed var(--sklearn-color-line);\n",
       "  margin: 0 0.4em 0.5em 0.4em;\n",
       "  box-sizing: border-box;\n",
       "  padding-bottom: 0.4em;\n",
       "  background-color: var(--sklearn-color-background);\n",
       "}\n",
       "\n",
       "#sk-container-id-5 div.sk-container {\n",
       "  /* jupyter's `normalize.less` sets `[hidden] { display: none; }`\n",
       "     but bootstrap.min.css set `[hidden] { display: none !important; }`\n",
       "     so we also need the `!important` here to be able to override the\n",
       "     default hidden behavior on the sphinx rendered scikit-learn.org.\n",
       "     See: https://github.com/scikit-learn/scikit-learn/issues/21755 */\n",
       "  display: inline-block !important;\n",
       "  position: relative;\n",
       "}\n",
       "\n",
       "#sk-container-id-5 div.sk-text-repr-fallback {\n",
       "  display: none;\n",
       "}\n",
       "\n",
       "div.sk-parallel-item,\n",
       "div.sk-serial,\n",
       "div.sk-item {\n",
       "  /* draw centered vertical line to link estimators */\n",
       "  background-image: linear-gradient(var(--sklearn-color-text-on-default-background), var(--sklearn-color-text-on-default-background));\n",
       "  background-size: 2px 100%;\n",
       "  background-repeat: no-repeat;\n",
       "  background-position: center center;\n",
       "}\n",
       "\n",
       "/* Parallel-specific style estimator block */\n",
       "\n",
       "#sk-container-id-5 div.sk-parallel-item::after {\n",
       "  content: \"\";\n",
       "  width: 100%;\n",
       "  border-bottom: 2px solid var(--sklearn-color-text-on-default-background);\n",
       "  flex-grow: 1;\n",
       "}\n",
       "\n",
       "#sk-container-id-5 div.sk-parallel {\n",
       "  display: flex;\n",
       "  align-items: stretch;\n",
       "  justify-content: center;\n",
       "  background-color: var(--sklearn-color-background);\n",
       "  position: relative;\n",
       "}\n",
       "\n",
       "#sk-container-id-5 div.sk-parallel-item {\n",
       "  display: flex;\n",
       "  flex-direction: column;\n",
       "}\n",
       "\n",
       "#sk-container-id-5 div.sk-parallel-item:first-child::after {\n",
       "  align-self: flex-end;\n",
       "  width: 50%;\n",
       "}\n",
       "\n",
       "#sk-container-id-5 div.sk-parallel-item:last-child::after {\n",
       "  align-self: flex-start;\n",
       "  width: 50%;\n",
       "}\n",
       "\n",
       "#sk-container-id-5 div.sk-parallel-item:only-child::after {\n",
       "  width: 0;\n",
       "}\n",
       "\n",
       "/* Serial-specific style estimator block */\n",
       "\n",
       "#sk-container-id-5 div.sk-serial {\n",
       "  display: flex;\n",
       "  flex-direction: column;\n",
       "  align-items: center;\n",
       "  background-color: var(--sklearn-color-background);\n",
       "  padding-right: 1em;\n",
       "  padding-left: 1em;\n",
       "}\n",
       "\n",
       "\n",
       "/* Toggleable style: style used for estimator/Pipeline/ColumnTransformer box that is\n",
       "clickable and can be expanded/collapsed.\n",
       "- Pipeline and ColumnTransformer use this feature and define the default style\n",
       "- Estimators will overwrite some part of the style using the `sk-estimator` class\n",
       "*/\n",
       "\n",
       "/* Pipeline and ColumnTransformer style (default) */\n",
       "\n",
       "#sk-container-id-5 div.sk-toggleable {\n",
       "  /* Default theme specific background. It is overwritten whether we have a\n",
       "  specific estimator or a Pipeline/ColumnTransformer */\n",
       "  background-color: var(--sklearn-color-background);\n",
       "}\n",
       "\n",
       "/* Toggleable label */\n",
       "#sk-container-id-5 label.sk-toggleable__label {\n",
       "  cursor: pointer;\n",
       "  display: block;\n",
       "  width: 100%;\n",
       "  margin-bottom: 0;\n",
       "  padding: 0.5em;\n",
       "  box-sizing: border-box;\n",
       "  text-align: center;\n",
       "}\n",
       "\n",
       "#sk-container-id-5 label.sk-toggleable__label-arrow:before {\n",
       "  /* Arrow on the left of the label */\n",
       "  content: \"▸\";\n",
       "  float: left;\n",
       "  margin-right: 0.25em;\n",
       "  color: var(--sklearn-color-icon);\n",
       "}\n",
       "\n",
       "#sk-container-id-5 label.sk-toggleable__label-arrow:hover:before {\n",
       "  color: var(--sklearn-color-text);\n",
       "}\n",
       "\n",
       "/* Toggleable content - dropdown */\n",
       "\n",
       "#sk-container-id-5 div.sk-toggleable__content {\n",
       "  max-height: 0;\n",
       "  max-width: 0;\n",
       "  overflow: hidden;\n",
       "  text-align: left;\n",
       "  /* unfitted */\n",
       "  background-color: var(--sklearn-color-unfitted-level-0);\n",
       "}\n",
       "\n",
       "#sk-container-id-5 div.sk-toggleable__content.fitted {\n",
       "  /* fitted */\n",
       "  background-color: var(--sklearn-color-fitted-level-0);\n",
       "}\n",
       "\n",
       "#sk-container-id-5 div.sk-toggleable__content pre {\n",
       "  margin: 0.2em;\n",
       "  border-radius: 0.25em;\n",
       "  color: var(--sklearn-color-text);\n",
       "  /* unfitted */\n",
       "  background-color: var(--sklearn-color-unfitted-level-0);\n",
       "}\n",
       "\n",
       "#sk-container-id-5 div.sk-toggleable__content.fitted pre {\n",
       "  /* unfitted */\n",
       "  background-color: var(--sklearn-color-fitted-level-0);\n",
       "}\n",
       "\n",
       "#sk-container-id-5 input.sk-toggleable__control:checked~div.sk-toggleable__content {\n",
       "  /* Expand drop-down */\n",
       "  max-height: 200px;\n",
       "  max-width: 100%;\n",
       "  overflow: auto;\n",
       "}\n",
       "\n",
       "#sk-container-id-5 input.sk-toggleable__control:checked~label.sk-toggleable__label-arrow:before {\n",
       "  content: \"▾\";\n",
       "}\n",
       "\n",
       "/* Pipeline/ColumnTransformer-specific style */\n",
       "\n",
       "#sk-container-id-5 div.sk-label input.sk-toggleable__control:checked~label.sk-toggleable__label {\n",
       "  color: var(--sklearn-color-text);\n",
       "  background-color: var(--sklearn-color-unfitted-level-2);\n",
       "}\n",
       "\n",
       "#sk-container-id-5 div.sk-label.fitted input.sk-toggleable__control:checked~label.sk-toggleable__label {\n",
       "  background-color: var(--sklearn-color-fitted-level-2);\n",
       "}\n",
       "\n",
       "/* Estimator-specific style */\n",
       "\n",
       "/* Colorize estimator box */\n",
       "#sk-container-id-5 div.sk-estimator input.sk-toggleable__control:checked~label.sk-toggleable__label {\n",
       "  /* unfitted */\n",
       "  background-color: var(--sklearn-color-unfitted-level-2);\n",
       "}\n",
       "\n",
       "#sk-container-id-5 div.sk-estimator.fitted input.sk-toggleable__control:checked~label.sk-toggleable__label {\n",
       "  /* fitted */\n",
       "  background-color: var(--sklearn-color-fitted-level-2);\n",
       "}\n",
       "\n",
       "#sk-container-id-5 div.sk-label label.sk-toggleable__label,\n",
       "#sk-container-id-5 div.sk-label label {\n",
       "  /* The background is the default theme color */\n",
       "  color: var(--sklearn-color-text-on-default-background);\n",
       "}\n",
       "\n",
       "/* On hover, darken the color of the background */\n",
       "#sk-container-id-5 div.sk-label:hover label.sk-toggleable__label {\n",
       "  color: var(--sklearn-color-text);\n",
       "  background-color: var(--sklearn-color-unfitted-level-2);\n",
       "}\n",
       "\n",
       "/* Label box, darken color on hover, fitted */\n",
       "#sk-container-id-5 div.sk-label.fitted:hover label.sk-toggleable__label.fitted {\n",
       "  color: var(--sklearn-color-text);\n",
       "  background-color: var(--sklearn-color-fitted-level-2);\n",
       "}\n",
       "\n",
       "/* Estimator label */\n",
       "\n",
       "#sk-container-id-5 div.sk-label label {\n",
       "  font-family: monospace;\n",
       "  font-weight: bold;\n",
       "  display: inline-block;\n",
       "  line-height: 1.2em;\n",
       "}\n",
       "\n",
       "#sk-container-id-5 div.sk-label-container {\n",
       "  text-align: center;\n",
       "}\n",
       "\n",
       "/* Estimator-specific */\n",
       "#sk-container-id-5 div.sk-estimator {\n",
       "  font-family: monospace;\n",
       "  border: 1px dotted var(--sklearn-color-border-box);\n",
       "  border-radius: 0.25em;\n",
       "  box-sizing: border-box;\n",
       "  margin-bottom: 0.5em;\n",
       "  /* unfitted */\n",
       "  background-color: var(--sklearn-color-unfitted-level-0);\n",
       "}\n",
       "\n",
       "#sk-container-id-5 div.sk-estimator.fitted {\n",
       "  /* fitted */\n",
       "  background-color: var(--sklearn-color-fitted-level-0);\n",
       "}\n",
       "\n",
       "/* on hover */\n",
       "#sk-container-id-5 div.sk-estimator:hover {\n",
       "  /* unfitted */\n",
       "  background-color: var(--sklearn-color-unfitted-level-2);\n",
       "}\n",
       "\n",
       "#sk-container-id-5 div.sk-estimator.fitted:hover {\n",
       "  /* fitted */\n",
       "  background-color: var(--sklearn-color-fitted-level-2);\n",
       "}\n",
       "\n",
       "/* Specification for estimator info (e.g. \"i\" and \"?\") */\n",
       "\n",
       "/* Common style for \"i\" and \"?\" */\n",
       "\n",
       ".sk-estimator-doc-link,\n",
       "a:link.sk-estimator-doc-link,\n",
       "a:visited.sk-estimator-doc-link {\n",
       "  float: right;\n",
       "  font-size: smaller;\n",
       "  line-height: 1em;\n",
       "  font-family: monospace;\n",
       "  background-color: var(--sklearn-color-background);\n",
       "  border-radius: 1em;\n",
       "  height: 1em;\n",
       "  width: 1em;\n",
       "  text-decoration: none !important;\n",
       "  margin-left: 1ex;\n",
       "  /* unfitted */\n",
       "  border: var(--sklearn-color-unfitted-level-1) 1pt solid;\n",
       "  color: var(--sklearn-color-unfitted-level-1);\n",
       "}\n",
       "\n",
       ".sk-estimator-doc-link.fitted,\n",
       "a:link.sk-estimator-doc-link.fitted,\n",
       "a:visited.sk-estimator-doc-link.fitted {\n",
       "  /* fitted */\n",
       "  border: var(--sklearn-color-fitted-level-1) 1pt solid;\n",
       "  color: var(--sklearn-color-fitted-level-1);\n",
       "}\n",
       "\n",
       "/* On hover */\n",
       "div.sk-estimator:hover .sk-estimator-doc-link:hover,\n",
       ".sk-estimator-doc-link:hover,\n",
       "div.sk-label-container:hover .sk-estimator-doc-link:hover,\n",
       ".sk-estimator-doc-link:hover {\n",
       "  /* unfitted */\n",
       "  background-color: var(--sklearn-color-unfitted-level-3);\n",
       "  color: var(--sklearn-color-background);\n",
       "  text-decoration: none;\n",
       "}\n",
       "\n",
       "div.sk-estimator.fitted:hover .sk-estimator-doc-link.fitted:hover,\n",
       ".sk-estimator-doc-link.fitted:hover,\n",
       "div.sk-label-container:hover .sk-estimator-doc-link.fitted:hover,\n",
       ".sk-estimator-doc-link.fitted:hover {\n",
       "  /* fitted */\n",
       "  background-color: var(--sklearn-color-fitted-level-3);\n",
       "  color: var(--sklearn-color-background);\n",
       "  text-decoration: none;\n",
       "}\n",
       "\n",
       "/* Span, style for the box shown on hovering the info icon */\n",
       ".sk-estimator-doc-link span {\n",
       "  display: none;\n",
       "  z-index: 9999;\n",
       "  position: relative;\n",
       "  font-weight: normal;\n",
       "  right: .2ex;\n",
       "  padding: .5ex;\n",
       "  margin: .5ex;\n",
       "  width: min-content;\n",
       "  min-width: 20ex;\n",
       "  max-width: 50ex;\n",
       "  color: var(--sklearn-color-text);\n",
       "  box-shadow: 2pt 2pt 4pt #999;\n",
       "  /* unfitted */\n",
       "  background: var(--sklearn-color-unfitted-level-0);\n",
       "  border: .5pt solid var(--sklearn-color-unfitted-level-3);\n",
       "}\n",
       "\n",
       ".sk-estimator-doc-link.fitted span {\n",
       "  /* fitted */\n",
       "  background: var(--sklearn-color-fitted-level-0);\n",
       "  border: var(--sklearn-color-fitted-level-3);\n",
       "}\n",
       "\n",
       ".sk-estimator-doc-link:hover span {\n",
       "  display: block;\n",
       "}\n",
       "\n",
       "/* \"?\"-specific style due to the `<a>` HTML tag */\n",
       "\n",
       "#sk-container-id-5 a.estimator_doc_link {\n",
       "  float: right;\n",
       "  font-size: 1rem;\n",
       "  line-height: 1em;\n",
       "  font-family: monospace;\n",
       "  background-color: var(--sklearn-color-background);\n",
       "  border-radius: 1rem;\n",
       "  height: 1rem;\n",
       "  width: 1rem;\n",
       "  text-decoration: none;\n",
       "  /* unfitted */\n",
       "  color: var(--sklearn-color-unfitted-level-1);\n",
       "  border: var(--sklearn-color-unfitted-level-1) 1pt solid;\n",
       "}\n",
       "\n",
       "#sk-container-id-5 a.estimator_doc_link.fitted {\n",
       "  /* fitted */\n",
       "  border: var(--sklearn-color-fitted-level-1) 1pt solid;\n",
       "  color: var(--sklearn-color-fitted-level-1);\n",
       "}\n",
       "\n",
       "/* On hover */\n",
       "#sk-container-id-5 a.estimator_doc_link:hover {\n",
       "  /* unfitted */\n",
       "  background-color: var(--sklearn-color-unfitted-level-3);\n",
       "  color: var(--sklearn-color-background);\n",
       "  text-decoration: none;\n",
       "}\n",
       "\n",
       "#sk-container-id-5 a.estimator_doc_link.fitted:hover {\n",
       "  /* fitted */\n",
       "  background-color: var(--sklearn-color-fitted-level-3);\n",
       "}\n",
       "</style><div id=\"sk-container-id-5\" class=\"sk-top-container\"><div class=\"sk-text-repr-fallback\"><pre>Pipeline(steps=[(&#x27;tfidf&#x27;,\n",
       "                 TfidfVectorizer(max_df=0.75, min_df=5, ngram_range=(1, 2))),\n",
       "                (&#x27;rf&#x27;, RandomForestClassifier(max_depth=20))])</pre><b>In a Jupyter environment, please rerun this cell to show the HTML representation or trust the notebook. <br />On GitHub, the HTML representation is unable to render, please try loading this page with nbviewer.org.</b></div><div class=\"sk-container\" hidden><div class=\"sk-item sk-dashed-wrapped\"><div class=\"sk-label-container\"><div class=\"sk-label fitted sk-toggleable\"><input class=\"sk-toggleable__control sk-hidden--visually\" id=\"sk-estimator-id-15\" type=\"checkbox\" ><label for=\"sk-estimator-id-15\" class=\"sk-toggleable__label fitted sk-toggleable__label-arrow fitted\">&nbsp;&nbsp;Pipeline<a class=\"sk-estimator-doc-link fitted\" rel=\"noreferrer\" target=\"_blank\" href=\"https://scikit-learn.org/1.5/modules/generated/sklearn.pipeline.Pipeline.html\">?<span>Documentation for Pipeline</span></a><span class=\"sk-estimator-doc-link fitted\">i<span>Fitted</span></span></label><div class=\"sk-toggleable__content fitted\"><pre>Pipeline(steps=[(&#x27;tfidf&#x27;,\n",
       "                 TfidfVectorizer(max_df=0.75, min_df=5, ngram_range=(1, 2))),\n",
       "                (&#x27;rf&#x27;, RandomForestClassifier(max_depth=20))])</pre></div> </div></div><div class=\"sk-serial\"><div class=\"sk-item\"><div class=\"sk-estimator fitted sk-toggleable\"><input class=\"sk-toggleable__control sk-hidden--visually\" id=\"sk-estimator-id-16\" type=\"checkbox\" ><label for=\"sk-estimator-id-16\" class=\"sk-toggleable__label fitted sk-toggleable__label-arrow fitted\">&nbsp;TfidfVectorizer<a class=\"sk-estimator-doc-link fitted\" rel=\"noreferrer\" target=\"_blank\" href=\"https://scikit-learn.org/1.5/modules/generated/sklearn.feature_extraction.text.TfidfVectorizer.html\">?<span>Documentation for TfidfVectorizer</span></a></label><div class=\"sk-toggleable__content fitted\"><pre>TfidfVectorizer(max_df=0.75, min_df=5, ngram_range=(1, 2))</pre></div> </div></div><div class=\"sk-item\"><div class=\"sk-estimator fitted sk-toggleable\"><input class=\"sk-toggleable__control sk-hidden--visually\" id=\"sk-estimator-id-17\" type=\"checkbox\" ><label for=\"sk-estimator-id-17\" class=\"sk-toggleable__label fitted sk-toggleable__label-arrow fitted\">&nbsp;RandomForestClassifier<a class=\"sk-estimator-doc-link fitted\" rel=\"noreferrer\" target=\"_blank\" href=\"https://scikit-learn.org/1.5/modules/generated/sklearn.ensemble.RandomForestClassifier.html\">?<span>Documentation for RandomForestClassifier</span></a></label><div class=\"sk-toggleable__content fitted\"><pre>RandomForestClassifier(max_depth=20)</pre></div> </div></div></div></div></div></div>"
      ],
      "text/plain": [
       "Pipeline(steps=[('tfidf',\n",
       "                 TfidfVectorizer(max_df=0.75, min_df=5, ngram_range=(1, 2))),\n",
       "                ('rf', RandomForestClassifier(max_depth=20))])"
      ]
     },
     "execution_count": 203,
     "metadata": {},
     "output_type": "execute_result"
    },
    {
     "name": "stdout",
     "output_type": "stream",
     "text": [
      "[CV 2/2] END rf__max_depth=10, rf__min_samples_split=2, rf__n_estimators=100, tfidf__max_df=0.75, tfidf__min_df=1;, score=0.392 total time=  45.2s\n",
      "[CV 1/2] END rf__max_depth=10, rf__min_samples_split=2, rf__n_estimators=100, tfidf__max_df=1.0, tfidf__min_df=2;, score=0.392 total time=  32.6s\n",
      "[CV 2/2] END rf__max_depth=10, rf__min_samples_split=2, rf__n_estimators=200, tfidf__max_df=0.75, tfidf__min_df=1;, score=0.392 total time=  40.9s\n",
      "[CV 2/2] END rf__max_depth=10, rf__min_samples_split=2, rf__n_estimators=200, tfidf__max_df=1.0, tfidf__min_df=2;, score=0.392 total time=  39.2s\n",
      "[CV 2/2] END rf__max_depth=20, rf__min_samples_split=2, rf__n_estimators=100, tfidf__max_df=0.75, tfidf__min_df=2;, score=0.429 total time=  36.0s\n",
      "[CV 2/2] END rf__max_depth=20, rf__min_samples_split=2, rf__n_estimators=100, tfidf__max_df=1.0, tfidf__min_df=1;, score=0.403 total time=  53.1s\n",
      "[CV 1/2] END rf__max_depth=20, rf__min_samples_split=2, rf__n_estimators=200, tfidf__max_df=0.75, tfidf__min_df=2;, score=0.424 total time=  51.1s\n",
      "[CV 2/2] END rf__max_depth=20, rf__min_samples_split=2, rf__n_estimators=200, tfidf__max_df=1.0, tfidf__min_df=1;, score=0.397 total time= 1.4min\n",
      "[CV 1/3] END rf__max_depth=10, rf__n_estimators=100, tfidf__max_df=0.75, tfidf__min_df=2;, score=0.392 total time=  22.8s\n",
      "[CV 2/3] END rf__max_depth=10, rf__n_estimators=100, tfidf__max_df=0.75, tfidf__min_df=2;, score=0.392 total time=  23.9s\n",
      "[CV 3/3] END rf__max_depth=10, rf__n_estimators=100, tfidf__max_df=0.75, tfidf__min_df=5;, score=0.395 total time=  21.3s\n",
      "[CV 1/3] END rf__max_depth=10, rf__n_estimators=100, tfidf__max_df=1.0, tfidf__min_df=2;, score=0.392 total time=  23.2s\n",
      "[CV 2/3] END rf__max_depth=10, rf__n_estimators=100, tfidf__max_df=1.0, tfidf__min_df=5;, score=0.396 total time=  19.8s\n",
      "[CV 3/3] END rf__max_depth=10, rf__n_estimators=200, tfidf__max_df=0.75, tfidf__min_df=1;, score=0.392 total time=  39.8s\n",
      "[CV 1/3] END rf__max_depth=10, rf__n_estimators=200, tfidf__max_df=0.75, tfidf__min_df=5;, score=0.394 total time=  31.0s\n",
      "[CV 2/3] END rf__max_depth=10, rf__n_estimators=200, tfidf__max_df=1.0, tfidf__min_df=1;, score=0.392 total time=  41.5s\n",
      "[CV 3/3] END rf__max_depth=10, rf__n_estimators=200, tfidf__max_df=1.0, tfidf__min_df=2;, score=0.392 total time=  40.0s\n",
      "[CV 1/3] END rf__max_depth=20, rf__n_estimators=100, tfidf__max_df=0.75, tfidf__min_df=1;, score=0.397 total time=  45.1s\n",
      "[CV 2/3] END rf__max_depth=20, rf__n_estimators=100, tfidf__max_df=0.75, tfidf__min_df=2;, score=0.416 total time=  52.8s\n",
      "[CV 3/3] END rf__max_depth=20, rf__n_estimators=100, tfidf__max_df=0.75, tfidf__min_df=5;, score=0.531 total time=  35.0s\n",
      "[CV 1/3] END rf__max_depth=20, rf__n_estimators=100, tfidf__max_df=1.0, tfidf__min_df=2;, score=0.422 total time=  41.3s\n",
      "[CV 2/3] END rf__max_depth=20, rf__n_estimators=100, tfidf__max_df=1.0, tfidf__min_df=5;, score=0.521 total time=  31.3s\n",
      "[CV 3/3] END rf__max_depth=20, rf__n_estimators=200, tfidf__max_df=0.75, tfidf__min_df=1;, score=0.398 total time= 1.1min\n",
      "[CV 1/3] END rf__max_depth=20, rf__n_estimators=200, tfidf__max_df=0.75, tfidf__min_df=5;, score=0.526 total time=  49.5s\n",
      "[CV 1/3] END rf__max_depth=20, rf__n_estimators=200, tfidf__max_df=1.0, tfidf__min_df=1;, score=0.399 total time= 1.2min\n",
      "[CV 3/3] END rf__max_depth=20, rf__n_estimators=200, tfidf__max_df=1.0, tfidf__min_df=2;, score=0.413 total time=  57.9s\n",
      "[CV 1/2] END rf__max_depth=10, rf__min_samples_split=2, rf__n_estimators=100, tfidf__max_df=0.75, tfidf__min_df=2;, score=0.392 total time=  39.1s\n",
      "[CV 2/2] END rf__max_depth=10, rf__min_samples_split=2, rf__n_estimators=100, tfidf__max_df=1.0, tfidf__min_df=1;, score=0.392 total time=  39.1s\n",
      "[CV 2/2] END rf__max_depth=10, rf__min_samples_split=2, rf__n_estimators=200, tfidf__max_df=0.75, tfidf__min_df=2;, score=0.392 total time=  33.5s\n",
      "[CV 2/2] END rf__max_depth=10, rf__min_samples_split=2, rf__n_estimators=200, tfidf__max_df=1.0, tfidf__min_df=1;, score=0.392 total time=  45.8s\n",
      "[CV 2/2] END rf__max_depth=20, rf__min_samples_split=2, rf__n_estimators=100, tfidf__max_df=0.75, tfidf__min_df=1;, score=0.401 total time=  43.9s\n",
      "[CV 2/2] END rf__max_depth=20, rf__min_samples_split=2, rf__n_estimators=100, tfidf__max_df=1.0, tfidf__min_df=2;, score=0.434 total time=  43.2s\n",
      "[CV 2/2] END rf__max_depth=20, rf__min_samples_split=2, rf__n_estimators=200, tfidf__max_df=0.75, tfidf__min_df=1;, score=0.400 total time= 1.1min\n",
      "[CV 2/2] END rf__max_depth=20, rf__min_samples_split=2, rf__n_estimators=200, tfidf__max_df=1.0, tfidf__min_df=2;, score=0.427 total time= 1.1min\n",
      "[CV 3/3] END rf__max_depth=10, rf__n_estimators=100, tfidf__max_df=0.75, tfidf__min_df=1;, score=0.392 total time=  30.1s\n",
      "[CV 1/3] END rf__max_depth=10, rf__n_estimators=100, tfidf__max_df=0.75, tfidf__min_df=5;, score=0.395 total time=  19.9s\n",
      "[CV 2/3] END rf__max_depth=10, rf__n_estimators=100, tfidf__max_df=1.0, tfidf__min_df=1;, score=0.392 total time=  27.9s\n",
      "[CV 2/3] END rf__max_depth=10, rf__n_estimators=100, tfidf__max_df=1.0, tfidf__min_df=2;, score=0.392 total time=  23.2s\n",
      "[CV 1/3] END rf__max_depth=10, rf__n_estimators=200, tfidf__max_df=0.75, tfidf__min_df=1;, score=0.392 total time=  36.4s\n",
      "[CV 3/3] END rf__max_depth=10, rf__n_estimators=200, tfidf__max_df=0.75, tfidf__min_df=2;, score=0.392 total time=  37.8s\n",
      "[CV 1/3] END rf__max_depth=10, rf__n_estimators=200, tfidf__max_df=1.0, tfidf__min_df=1;, score=0.392 total time=  34.8s\n",
      "[CV 2/3] END rf__max_depth=10, rf__n_estimators=200, tfidf__max_df=1.0, tfidf__min_df=2;, score=0.392 total time=  45.2s\n",
      "[CV 3/3] END rf__max_depth=10, rf__n_estimators=200, tfidf__max_df=1.0, tfidf__min_df=5;, score=0.394 total time=  27.9s\n",
      "[CV 1/3] END rf__max_depth=20, rf__n_estimators=100, tfidf__max_df=0.75, tfidf__min_df=2;, score=0.412 total time=  41.1s\n",
      "[CV 1/3] END rf__max_depth=20, rf__n_estimators=100, tfidf__max_df=0.75, tfidf__min_df=5;, score=0.543 total time=  44.1s\n",
      "[CV 2/3] END rf__max_depth=20, rf__n_estimators=100, tfidf__max_df=1.0, tfidf__min_df=1;, score=0.398 total time=  50.1s\n",
      "[CV 3/3] END rf__max_depth=20, rf__n_estimators=100, tfidf__max_df=1.0, tfidf__min_df=2;, score=0.420 total time=  38.4s\n",
      "[CV 2/3] END rf__max_depth=20, rf__n_estimators=200, tfidf__max_df=0.75, tfidf__min_df=1;, score=0.398 total time= 1.2min\n",
      "[CV 3/3] END rf__max_depth=20, rf__n_estimators=200, tfidf__max_df=0.75, tfidf__min_df=2;, score=0.416 total time=  59.6s\n",
      "[CV 2/3] END rf__max_depth=20, rf__n_estimators=200, tfidf__max_df=1.0, tfidf__min_df=1;, score=0.397 total time= 1.1min\n",
      "[CV 2/3] END rf__max_depth=20, rf__n_estimators=200, tfidf__max_df=1.0, tfidf__min_df=2;, score=0.417 total time= 1.0min\n",
      "[CV 2/2] END rf__max_depth=10, rf__min_samples_split=2, rf__n_estimators=100, tfidf__max_df=0.75, tfidf__min_df=2;, score=0.392 total time=  38.5s\n",
      "[CV 1/2] END rf__max_depth=10, rf__min_samples_split=2, rf__n_estimators=100, tfidf__max_df=1.0, tfidf__min_df=1;, score=0.392 total time=  38.4s\n",
      "[CV 1/2] END rf__max_depth=10, rf__min_samples_split=2, rf__n_estimators=200, tfidf__max_df=0.75, tfidf__min_df=1;, score=0.392 total time=  41.4s\n",
      "[CV 1/2] END rf__max_depth=10, rf__min_samples_split=2, rf__n_estimators=200, tfidf__max_df=1.0, tfidf__min_df=2;, score=0.392 total time=  39.4s\n",
      "[CV 1/2] END rf__max_depth=20, rf__min_samples_split=2, rf__n_estimators=100, tfidf__max_df=0.75, tfidf__min_df=2;, score=0.431 total time=  36.0s\n",
      "[CV 1/2] END rf__max_depth=20, rf__min_samples_split=2, rf__n_estimators=100, tfidf__max_df=1.0, tfidf__min_df=1;, score=0.400 total time=  53.7s\n",
      "[CV 2/2] END rf__max_depth=20, rf__min_samples_split=2, rf__n_estimators=200, tfidf__max_df=0.75, tfidf__min_df=2;, score=0.426 total time=  50.6s\n",
      "[CV 1/2] END rf__max_depth=20, rf__min_samples_split=2, rf__n_estimators=200, tfidf__max_df=1.0, tfidf__min_df=1;, score=0.400 total time= 1.4min\n",
      "[CV 2/3] END rf__max_depth=10, rf__n_estimators=100, tfidf__max_df=0.75, tfidf__min_df=1;, score=0.392 total time=  30.3s\n",
      "[CV 2/3] END rf__max_depth=10, rf__n_estimators=100, tfidf__max_df=0.75, tfidf__min_df=5;, score=0.394 total time=  19.6s\n",
      "[CV 1/3] END rf__max_depth=10, rf__n_estimators=100, tfidf__max_df=1.0, tfidf__min_df=1;, score=0.392 total time=  28.7s\n",
      "[CV 3/3] END rf__max_depth=10, rf__n_estimators=100, tfidf__max_df=1.0, tfidf__min_df=2;, score=0.392 total time=  22.9s\n",
      "[CV 2/3] END rf__max_depth=10, rf__n_estimators=200, tfidf__max_df=0.75, tfidf__min_df=1;, score=0.392 total time=  35.7s\n",
      "[CV 2/3] END rf__max_depth=10, rf__n_estimators=200, tfidf__max_df=0.75, tfidf__min_df=2;, score=0.392 total time=  38.1s\n",
      "[CV 3/3] END rf__max_depth=10, rf__n_estimators=200, tfidf__max_df=0.75, tfidf__min_df=5;, score=0.394 total time=  26.1s\n",
      "[CV 1/3] END rf__max_depth=10, rf__n_estimators=200, tfidf__max_df=1.0, tfidf__min_df=2;, score=0.392 total time=  45.5s\n",
      "[CV 2/3] END rf__max_depth=10, rf__n_estimators=200, tfidf__max_df=1.0, tfidf__min_df=5;, score=0.395 total time=  29.6s\n",
      "[CV 3/3] END rf__max_depth=20, rf__n_estimators=100, tfidf__max_df=0.75, tfidf__min_df=1;, score=0.400 total time=  50.2s\n",
      "[CV 2/3] END rf__max_depth=20, rf__n_estimators=100, tfidf__max_df=0.75, tfidf__min_df=5;, score=0.521 total time=  43.4s\n",
      "[CV 3/3] END rf__max_depth=20, rf__n_estimators=100, tfidf__max_df=1.0, tfidf__min_df=1;, score=0.399 total time=  49.3s\n",
      "[CV 1/3] END rf__max_depth=20, rf__n_estimators=100, tfidf__max_df=1.0, tfidf__min_df=5;, score=0.530 total time=  33.0s\n",
      "[CV 1/3] END rf__max_depth=20, rf__n_estimators=200, tfidf__max_df=0.75, tfidf__min_df=1;, score=0.399 total time= 1.2min\n",
      "[CV 2/3] END rf__max_depth=20, rf__n_estimators=200, tfidf__max_df=0.75, tfidf__min_df=2;, score=0.421 total time=  58.9s\n",
      "[CV 3/3] END rf__max_depth=20, rf__n_estimators=200, tfidf__max_df=0.75, tfidf__min_df=5;, score=0.516 total time=  45.9s\n",
      "[CV 1/3] END rf__max_depth=20, rf__n_estimators=200, tfidf__max_df=1.0, tfidf__min_df=2;, score=0.413 total time=  58.8s\n",
      "[CV 2/3] END rf__max_depth=20, rf__n_estimators=200, tfidf__max_df=1.0, tfidf__min_df=5;, score=0.511 total time=  42.1s\n"
     ]
    },
    {
     "name": "stdout",
     "output_type": "stream",
     "text": [
      "[CV 1/2] END rf__max_depth=10, rf__min_samples_split=2, rf__n_estimators=100, tfidf__max_df=0.75, tfidf__min_df=1;, score=0.392 total time=  45.9s\n",
      "[CV 2/2] END rf__max_depth=10, rf__min_samples_split=2, rf__n_estimators=100, tfidf__max_df=1.0, tfidf__min_df=2;, score=0.392 total time=  32.5s\n",
      "[CV 1/2] END rf__max_depth=10, rf__min_samples_split=2, rf__n_estimators=200, tfidf__max_df=0.75, tfidf__min_df=2;, score=0.392 total time=  32.6s\n",
      "[CV 1/2] END rf__max_depth=10, rf__min_samples_split=2, rf__n_estimators=200, tfidf__max_df=1.0, tfidf__min_df=1;, score=0.392 total time=  45.6s\n",
      "[CV 1/2] END rf__max_depth=20, rf__min_samples_split=2, rf__n_estimators=100, tfidf__max_df=0.75, tfidf__min_df=1;, score=0.399 total time=  44.2s\n",
      "[CV 1/2] END rf__max_depth=20, rf__min_samples_split=2, rf__n_estimators=100, tfidf__max_df=1.0, tfidf__min_df=2;, score=0.423 total time=  42.6s\n",
      "[CV 1/2] END rf__max_depth=20, rf__min_samples_split=2, rf__n_estimators=200, tfidf__max_df=0.75, tfidf__min_df=1;, score=0.400 total time= 1.1min\n",
      "[CV 1/2] END rf__max_depth=20, rf__min_samples_split=2, rf__n_estimators=200, tfidf__max_df=1.0, tfidf__min_df=2;, score=0.429 total time= 1.1min\n",
      "[CV 1/3] END rf__max_depth=10, rf__n_estimators=100, tfidf__max_df=0.75, tfidf__min_df=1;, score=0.392 total time=  29.6s\n",
      "[CV 3/3] END rf__max_depth=10, rf__n_estimators=100, tfidf__max_df=0.75, tfidf__min_df=2;, score=0.392 total time=  22.0s\n",
      "[CV 3/3] END rf__max_depth=10, rf__n_estimators=100, tfidf__max_df=1.0, tfidf__min_df=1;, score=0.392 total time=  28.3s\n",
      "[CV 1/3] END rf__max_depth=10, rf__n_estimators=100, tfidf__max_df=1.0, tfidf__min_df=5;, score=0.395 total time=  20.5s\n",
      "[CV 3/3] END rf__max_depth=10, rf__n_estimators=100, tfidf__max_df=1.0, tfidf__min_df=5;, score=0.395 total time=  19.5s\n",
      "[CV 1/3] END rf__max_depth=10, rf__n_estimators=200, tfidf__max_df=0.75, tfidf__min_df=2;, score=0.392 total time=  36.9s\n",
      "[CV 2/3] END rf__max_depth=10, rf__n_estimators=200, tfidf__max_df=0.75, tfidf__min_df=5;, score=0.394 total time=  30.0s\n",
      "[CV 3/3] END rf__max_depth=10, rf__n_estimators=200, tfidf__max_df=1.0, tfidf__min_df=1;, score=0.392 total time=  43.4s\n",
      "[CV 1/3] END rf__max_depth=10, rf__n_estimators=200, tfidf__max_df=1.0, tfidf__min_df=5;, score=0.394 total time=  36.0s\n",
      "[CV 2/3] END rf__max_depth=20, rf__n_estimators=100, tfidf__max_df=0.75, tfidf__min_df=1;, score=0.400 total time=  45.5s\n",
      "[CV 3/3] END rf__max_depth=20, rf__n_estimators=100, tfidf__max_df=0.75, tfidf__min_df=2;, score=0.416 total time=  52.1s\n",
      "[CV 1/3] END rf__max_depth=20, rf__n_estimators=100, tfidf__max_df=1.0, tfidf__min_df=1;, score=0.400 total time=  48.4s\n",
      "[CV 2/3] END rf__max_depth=20, rf__n_estimators=100, tfidf__max_df=1.0, tfidf__min_df=2;, score=0.421 total time=  39.6s\n",
      "[CV 3/3] END rf__max_depth=20, rf__n_estimators=100, tfidf__max_df=1.0, tfidf__min_df=5;, score=0.528 total time=  32.1s\n",
      "[CV 1/3] END rf__max_depth=20, rf__n_estimators=200, tfidf__max_df=0.75, tfidf__min_df=2;, score=0.417 total time=  56.6s\n",
      "[CV 2/3] END rf__max_depth=20, rf__n_estimators=200, tfidf__max_df=0.75, tfidf__min_df=5;, score=0.527 total time=  49.8s\n",
      "[CV 3/3] END rf__max_depth=20, rf__n_estimators=200, tfidf__max_df=1.0, tfidf__min_df=1;, score=0.398 total time= 1.2min\n",
      "[CV 1/3] END rf__max_depth=20, rf__n_estimators=200, tfidf__max_df=1.0, tfidf__min_df=5;, score=0.527 total time=  48.0s\n",
      "[CV 3/3] END rf__max_depth=20, rf__n_estimators=200, tfidf__max_df=1.0, tfidf__min_df=5;, score=0.523 total time=  35.7s\n"
     ]
    }
   ],
   "source": [
    "grid_search.best_estimator_"
   ]
  },
  {
   "cell_type": "code",
   "execution_count": null,
   "id": "c4f85ae5",
   "metadata": {},
   "outputs": [],
   "source": []
  }
 ],
 "metadata": {
  "kernelspec": {
   "display_name": "Python 3 (ipykernel)",
   "language": "python",
   "name": "python3"
  },
  "language_info": {
   "codemirror_mode": {
    "name": "ipython",
    "version": 3
   },
   "file_extension": ".py",
   "mimetype": "text/x-python",
   "name": "python",
   "nbconvert_exporter": "python",
   "pygments_lexer": "ipython3",
   "version": "3.10.6"
  },
  "toc": {
   "base_numbering": 1,
   "nav_menu": {},
   "number_sections": true,
   "sideBar": true,
   "skip_h1_title": false,
   "title_cell": "Table of Contents",
   "title_sidebar": "Contents",
   "toc_cell": false,
   "toc_position": {},
   "toc_section_display": true,
   "toc_window_display": false
  }
 },
 "nbformat": 4,
 "nbformat_minor": 5
}
